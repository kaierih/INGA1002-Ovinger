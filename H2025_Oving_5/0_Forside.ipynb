{
 "cells": [
  {
   "cell_type": "markdown",
   "metadata": {
    "deletable": false,
    "editable": true,
    "slideshow": {
     "slide_type": ""
    },
    "tags": []
   },
   "source": [
    "# Øving 5\n",
    "\n",
    "Hei og velkommen til femte øving i INGA1002 - Programmering, Numerikik og Sikkerhet. I denne øvingen skal vi gjøre noe litt utenom det vanlige, og ta utgangspunkt i én bestemt problemstilling som vil være fokus for alle oppgavene i øvingen. Hovedmålet for øvingen er å lære om Eulers Metode, en numerisk metode for som brukes mye for å finne tilnærmede løsninger på differensialligninger. Differensialligninger er et tema som dere kommer til å bli bedre kjent med senere i løpet av IMAA1002 - Matematikk for Ingeniørfag 1, og er utgangpsunktet til å de matematiske modellene for omtrent alt som beveger seg i den fysiske verden. I løpet av denne øvingen skal vi ta for oss et eksempel dere sikkert har regnet på før i fysikk 1 & 2 på videregående: **fritt fall**. Men denne gangen er målet å bruke numeriske metoder til å *simulerer* fritt fall når man tar med luftmotstand i beregningene.\n",
    "\n",
    "\n",
    "<!--\n",
    "Hei og velkommen til tredje øving i INGA1002 - Programmering, numerikk og sikkerhet. Et overordnet tema for denne øvingen er ***numerisk integrasjon***, som man bruker til å integrere funksjoner, datasett o.l. i Python. Av praktisk programmeringskunnskap skal vi jobbe mer med **lister** og **arrays** fra øving 2, samt lære å bruke **slicing** for å få tilgang til mange elementer i en liste/array samtidig.\n",
    "\n",
    "I dette emnet er det to viktige metoder for numerisk integrasjon som vi skal lære: [trapesmetoden] og [simpsons metode]. Kjører du kodecellen nedenfor, vil du se en interabktiv demo som illustrerer hvordan de ulike metodene for å finne en tilnærmet verdi av det bundne integralet $\\int_0^2 f(x)\\ dx$ fungerer for funksjonen $f(x) = e^x + 2\\sin(2\\pi \\cdot x)$.\n",
    "-->"
   ]
  },
  {
   "cell_type": "markdown",
   "metadata": {
    "deletable": false,
    "editable": true,
    "slideshow": {
     "slide_type": ""
    },
    "tags": []
   },
   "source": [
    "## Læringsmål\n",
    "\n",
    "**Numerikk:**\n",
    "\n",
    "- Erfare bruken av Eulers Metode til å løse fysikkproblem\n",
    "- Bygge forståelse for Eulers metode i sin generelle form\n",
    "- Erfare hvordan valg av skrittlengde har betydnign for presisjon i Eulers Metode\n",
    "  \n",
    "**Programmering:**\n",
    "  \n",
    "- Videre anvendelse av for-løkker og funksjoner\n",
    "- Bruk av lister for å føre en logg av resultater gjennom iterasjonen av en for-løkke"
   ]
  },
  {
   "cell_type": "markdown",
   "metadata": {
    "deletable": false,
    "editable": true,
    "slideshow": {
     "slide_type": ""
    },
    "tags": []
   },
   "source": [
    "\n",
    "## Fallskjermhopperen\n",
    "\n",
    "I denne øvingen skal vi se på objekter i fritt fall. Eksempelet vi tar for oss er en fallskjermhopper med masse $m$ som hopper ut av et fly i tidspunktet $t=t_{\\text{start}}$. Målet for øvingen er å kunne regne ut hvordan falskjerhopperens hastighet $v(t)$ utvikler seg over tid $t$ når luftmotstand tas med i beregningene."
   ]
  },
  {
   "cell_type": "markdown",
   "metadata": {
    "deletable": false,
    "editable": true,
    "slideshow": {
     "slide_type": ""
    },
    "tags": []
   },
   "source": [
    "### Luftmotstand og Newton's 2. lov\n",
    "\n",
    "Figuren nedenfor illustrerer de kreftene som påvirker fallskjermhopperen i fritt fall, samt definerer gjeldende referanseretning for hastigheten $v(t)$. \n",
    "\n",
    "<img\n",
    "  src=\"Figurer/fallskjermhopper.svg\"\n",
    "  alt=\"Krefter som påvirker fallskjermhopperens hastighet.\"\n",
    "  style=\"display:block; width:350px; height:auto; border-radius:8px;\"\n",
    "/>\n",
    "\n",
    "Nøkkelen til å gjøre fysikkberegninger med luftmotstand er Newton's 2. lov:\n",
    "\n",
    "$$\\sum F = m\\cdot a \\tag{1}$$\n",
    "\n",
    "Newton's 2. lov sier at akselerasjonen $a$ til en gjenstand med masse $m$ vil være gitt ved summen av alle krefter som påvirker gjenstanden. I vårt tilfelle er det totalt to krefter som påvirker fallskjermhopperen i fritt fall: *luftmotstanden* $F_d$ og *tyngdekraften* $F_g$ (merk at de peker i motsatt retning). De totale kreftene $F$ som påvirker fallskjermhopperen blir da:\n",
    "\n",
    "$$\\sum F = F_g - F_d \\tag{2}$$\n",
    "\n",
    "Videre vet vi at kreftene $F_d$ og $F_g$ kan beskrives på følgende vis:\n",
    "\n",
    "* Tyngdekraften $F_g$ er lik produktet av masse og tyngdeakselerasjon: \n",
    "  $$F_g=m\\cdot g \\tag{3}$$\n",
    "  der tyngdeakselerasjonen er antatt å være $g=9.81 \\text{ m/s}^2$.\n",
    "* Luftmotstanden $F_d$ modelleres  som en kvadratisk funksjon av hastigheten $v$:\n",
    "  $$F_d = \\beta \\cdot v^2 \\tag{4}$$\n",
    "  hvor $\\beta$ er det vi kaller en ***proporsjonalitetskonstant***.\n",
    "\n",
    "Ved å kombinere formel $1$, $2$, $3$ & $4$, kan vi komme fram til én ligning som beskriver sammenhengen mellom fallskjermhopperens hastighet $v$ og akselerasjon $a$:\n",
    "\n",
    "\n",
    "\\begin{align*}\n",
    "\\sum F &= m\\cdot a \\\\\n",
    "F_g - F_d &= m \\cdot a \\\\ \\\\\n",
    "\\Large m\\cdot g - \\beta \\cdot v^2 &= m \\cdot a \\tag{5}\n",
    "\\end{align*}\n",
    "\n",
    "\n",
    "Som formel $4$ og $5$ beskriver, vil økt hastighet føre til økt luftmotsand $F_d$, og dermed ha en dempende virkning på akselerasjonen $a$. Vi skal i løpet av de neste 7 oppgavene lære om en numerisk metode som heter Elers Metode kan brukes til å simulere fallskjermhopperens hopp."
   ]
  },
  {
   "cell_type": "markdown",
   "metadata": {
    "deletable": false,
    "editable": true,
    "slideshow": {
     "slide_type": ""
    },
    "tags": []
   },
   "source": [
    "## Om oppgavene\n",
    "\n",
    "Oppgaver markert som \"grunnleggende\" dekker tema som er regnet som kjernepensum, og er nødvendig å beherske for å gå videre med de senere øvingene. Andre oppgaver vil absolutt styrke forståelsen for faget, og kan ofte være mer spennende å jobbe med, men er i større grad frivillig å arbeide med. Er du ny til programmering, er det anbefalt å begynne med de grunnleggende oppgavene, men om du har programmert litt før, kan det være mer spennende å arbeide med de øvrige oppgavene.\n",
    "\n",
    "Alle oppgavene til sammen kan gi inntil 70 poeng. Kravet for godkjenning er 40 poeng eller mer."
   ]
  },
  {
   "cell_type": "markdown",
   "metadata": {
    "deletable": false,
    "editable": true,
    "run_control": {
     "frozen": true
    },
    "slideshow": {
     "slide_type": ""
    },
    "tags": []
   },
   "source": [
    "Oppgave | Tema | Merknad |Poeng\n",
    "--- | --- | --- | ---\n",
    "[Luftmotstand og Terminalhastighet](1_terminalhastighet.ipynb) | Hvordan modellerer vi luftmotstand, og hva er terminalhastighet? | Grunnleggende | 10\n",
    "[Betinget fritt fall](2_betinget_fritt_fall.ipynb) | Forenklet modellering av fritt fall som en betinget funksjon | Grunnleggende | 10\n",
    "[Eulers Metode](3_eulers_metode.ipynb) | Iterativ beregning av hastighet $v$ med Eulers metode| Grunnleggende | 10\n",
    "[Forløp av Eulers Metode](4_eulers_metode_logg.ipynb) | Bruk av lister til å logge alle steg i en numerisk metode | Grunnleggende | 10\n",
    "[Skrittlengde i Eulers Metode](5_eulers_metode_skrittlengde.ipynb) | Hvordan inkludere skrittlengde i Eulers Metode, og hvordan valg av skrittlengde påvirker nøyaktighet. | Grunnleggende | 10\n",
    "[Generalisering av Eulers Metode](6_eulers_metode_generalisering.ipynb) | Hva er en differensialligning, og hvordan kan fritt fall formuleres som en differensialligning. | Grunnleggende men vanskelig og noe abstrakt | 10\n",
    "[Utløsing av fallskjerm](7_utlost_fallskjerm.ipynb) | Modellering av utløst fallskjerm | Nokså vanskelig | 10 "
   ]
  },
  {
   "cell_type": "markdown",
   "metadata": {
    "deletable": false
   },
   "source": [
    "### For å generere tilbakemelding på oppgavesvar, kjør kodecellen nedenfor:\n",
    "\n",
    "*NB! Husk å lagre alle oppgavefilene før du kjører retting*"
   ]
  },
  {
   "cell_type": "code",
   "execution_count": null,
   "metadata": {
    "deletable": false,
    "editable": true,
    "execution": {
     "iopub.execute_input": "2025-10-03T07:18:25.856232Z",
     "iopub.status.busy": "2025-10-03T07:18:25.855549Z",
     "iopub.status.idle": "2025-10-03T07:18:35.437332Z",
     "shell.execute_reply": "2025-10-03T07:18:35.436095Z"
    },
    "slideshow": {
     "slide_type": ""
    },
    "tags": []
   },
   "outputs": [],
   "source": [
    "# Make sure autofeedback package is installed\n",
    "try:\n",
    "    from autofeedback import autograde_notebooks\n",
    "except ModuleNotFoundError:\n",
    "    print(\"Installing autofeedback. Please Wait...\")\n",
    "    output = !pip install git+https://github.com/kaierih/autofeedback.git\n",
    "    from autofeedback import autograde_notebooks\n",
    "    print(\"Autofeedback installed.\")\n",
    "\n",
    "# Generate feedback from grading tests\n",
    "task_files = [\"1_terminalhastighet.ipynb\",\n",
    "              \"2_betinget_fritt_fall.ipynb\",\n",
    "              \"3_eulers_metode.ipynb\",\n",
    "              \"4_eulers_metode_logg.ipynb\",\n",
    "              \"5_eulers_metode_skrittlengde.ipynb\",\n",
    "              \"6_eulers_metode_generalisering.ipynb\",\n",
    "              \"7_utlost_fallskjerm.ipynb\"]\n",
    "autograde_notebooks(task_files)"
   ]
  }
 ],
 "metadata": {
  "kernelspec": {
   "display_name": "Python 3 (ipykernel)",
   "language": "python",
   "name": "python3"
  },
  "language_info": {
   "codemirror_mode": {
    "name": "ipython",
    "version": 3
   },
   "file_extension": ".py",
   "mimetype": "text/x-python",
   "name": "python",
   "nbconvert_exporter": "python",
   "pygments_lexer": "ipython3",
   "version": "3.12.11"
  },
  "scenes_data": {
   "active_scene": "Default Scene",
   "init_scene": "",
   "scenes": [
    "Default Scene"
   ]
  },
  "toc": {
   "base_numbering": 1,
   "nav_menu": {},
   "number_sections": false,
   "sideBar": true,
   "skip_h1_title": false,
   "title_cell": "Table of Contents",
   "title_sidebar": "Contents",
   "toc_cell": false,
   "toc_position": {},
   "toc_section_display": true,
   "toc_window_display": false
  }
 },
 "nbformat": 4,
 "nbformat_minor": 4
}
