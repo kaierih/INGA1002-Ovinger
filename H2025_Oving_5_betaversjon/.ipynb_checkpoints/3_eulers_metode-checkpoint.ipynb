{
 "cells": [
  {
   "cell_type": "markdown",
   "id": "17cae6cc-0bc4-4cf4-87d0-7aab899ed0d4",
   "metadata": {
    "deletable": false,
    "editable": true,
    "slideshow": {
     "slide_type": ""
    },
    "tags": []
   },
   "source": [
    "\n",
    "<nav class=\"navbar navbar-default\">\n",
    "  <div class=\"container-fluid\">\n",
    "    <div class=\"navbar-header\" style=\"float: left\">\n",
    "        <a class=\"navbar-brand\" href=\"0_Forside.ipynb\" target=\"_self\"> <h2> &uarr; Tilbake til forsiden</h2></a>\n",
    "    </div>\n",
    "  </div>\n",
    "</nav>"
   ]
  },
  {
   "cell_type": "markdown",
   "id": "66a834c8-fc69-4c7b-8455-0d5683154b27",
   "metadata": {
    "deletable": false,
    "editable": true,
    "slideshow": {
     "slide_type": ""
    },
    "tags": []
   },
   "source": [
    "# Eulers Metode\n",
    "\n",
    "#### Introduksjon\n",
    "<!--\n",
    "* I oppgave 1 så vi på hvordan hastighet og akselerasjon påvirker hverandre vi regner på en fallskjerhopper i fritt fall. Dette kan oppsummeres i formel $1$ nedenfor:\n",
    "$$\n",
    "\\begin{align}\n",
    "F_d - F_g &= m\\cdot a \\\\ \n",
    "&\\downarrow \\\\\n",
    "\\beta \\cdot v^2 - m\\cdot g &= m\\cdot a\n",
    "\\end{align}\\tag{1}$$\n",
    "[FIGUR]\n",
    "* Men, det vi *egentlig* er interessert i er hvordan akselerasjonen $a(t)$ og hastigheten $v(t)$ utvikler seg som funksjon av tiden $t$. Dette er ikke mulig å gjøre med bare én ligning, men heldigvis kan vi introdusere en ny formel som beskriver sammenhengen mellom $v(t)$ og $a(t)$. Vi vet at akselerasjon er definert som endringsraten i hastighet, altså er $a(t)$ den deriverte av $v(t)$:\n",
    "$$ \\begin{align}\n",
    "a(t) &= \\frac{d v(t)}{dt} \\\\ \\\\\n",
    "v(t) &= \\int_{t_0}^t a(t)\\  dt + v(t_0)\n",
    "\\end{align} \\tag{2} $$\n",
    "Naturligvis betyr dette også at vi kan finne funksjonen $v(t)$ dersom vi kjenner initialverdien $v(t_0)$, og kan integrere funksjonen $a(t)$\n",
    "[FIGUR]\n",
    "* Formel $1$ og $2$ kan kombineres til å danne det vi kaller en *differensialligning*. Dette er noe dere vil lære mer om å finne eksakte løsninger til i Matematikk $1$ senere i semesteret.\n",
    "* Vi skal nå se på hvordan vi kan bruke *numerisk integrasjon* til å finne verdien til $v(t)$ for en rekke verdier av $t$. Men, det er dessverre ikke så enkelt som å bruke trapesmetoden eller simpson's metode på funksjonen $a(t)$, denne funksjonen er tross alt ukjent. \n",
    "\n",
    "1. Begynn med initialhastigheten $v(t_0)$. For at vi skal kunne komme noen som helst vei er det nødvendig at vi kjenner til hastigheten $v(t)$ for en eller annen verdi av $t$. <br>*PS: I denne oppgaven antar vi at fallskjermhopperen hopper ut av flyet i $t=0$, og at hen har en initialhastighet $v(0)=0 \\text{m/s}$ i dette tidspunktet*\n",
    "2. Finn akselerasjonen i tidspunktet $t=t_0$ ved hjelp av formel $1$.\n",
    "3. ***Anta*** at akselerasjonen $a(t)$ holder seg noenlunde konstant i tidsintervallet $t_0 \\leq t < t_0+h$ der $h$ tilsvarer skrittlengden for den numeriske integrasjonsmetoden.\n",
    "4. Integrer den *konstante* akselerasjonen i det aktuelle tidsintervallet, en regneoperasjon som tilsvarer å finne arealet av et rektangel med høyde $a(t_0)$ og bredde $h$ ($\\int_{t_0}^{t_0+h} a(t) \\ dt \\approx a(t_0) \\cdot h$)\n",
    "5. Summér initialhastigheten $v(t_0)$ og det tilnærmede integralet for å  finne $v(t_0 + h)$-->"
   ]
  },
  {
   "cell_type": "markdown",
   "id": "a093d921-e442-4c6d-9c59-cea9b9053527",
   "metadata": {
    "deletable": false,
    "editable": true,
    "slideshow": {
     "slide_type": ""
    },
    "tags": []
   },
   "source": [
    "\n",
    "Som vi har sett i de tidligere oppgavene, er det ikke så komplisert å finne hastighetsuttrykket $v(t)$ til fallskjermhopperen når man ikke tar med med luftmotstand i beregningene (altså med konstant akselerasjon $a(t)=g$). Hastigheten $v(t)$ vil i dette tilfellet øke lineært i henhold til tyngdekraftsakselerasjonen, og vi får følgende uttrykk:\n",
    "$$v(t) = a\\cdot t + v(0)\\tag{3.1}$$\n",
    "Formel $3.1$ er en lineær funksjon, som over tid vil overskride terminalhastigheten $v_{\\text{term}}$ til fallskjermhopperenen i fritt fall slik illustrert i figuren nedenfor. \n",
    "\n",
    "![](Figurer/fritt_fall.svg)\n",
    "\n",
    "Figuren viser også hvordan fallskjermhopperens hastighet i realiteten utvikler seg når luftmotstand tas med i beregningene. Som vi ser så er ikke formel $3.1$ en spesielt god matematisk modell for hvordan fallskjermhopperens hastighet $v(t)$ i realiteten utarter seg. Men, dersom vi kun konsentrerer oss om et lite tidsvindu helt til venstre i figuren, ser vi at de to kurvene for $v(t)$ med og uten luftmotstand ligger *nesten* oppå hverandre. Basert på denne observasjonen, kan vi gjøre en *antagelse* om at formel $3.1$ er *nøyaktig nok* dersom vi forholder oss til relativt små verdier for tiden $t$ (f.eks. $t \\in [0\\text{s}, 1\\text{s} )$ ). Som vi ser i figuren nedenfor stemmer dette nokså godt, da de to kurvene ikke har rukket å divergere nevneverdig i løpet av det ene sekundet vi har zoomet inn på.\n",
    "<!--kan vi gjøre en *antagelse* som vil hjelpe oss med å forenkle fysikkproblemet vårt betraktelig:\n",
    "\n",
    "### *\"For tilstrekkelig korte tidsintervall, bør vi kunne regne ut en akseptabel tilnærming til hastigheten $v(t)$ ved å anta at akselerasjonen $a(t)$ holder seg konstant innenfor samme tidsintervall.\"*\n",
    "\n",
    "En forutsetning er allikevel at vi kjenner til *initialverdien* til hastigheten $v(t)$ ved starten av tidsintervallet. I denne oppgaven skal vi se nærmere på hvordan vi kan utnytte denne antagelsen til vår fordel. -->\n",
    "\n",
    "![](Figurer/fall_1_iterasjoner.svg)\n",
    "\n",
    "I denne oppgaven skal vi lære om hvordan vi kan kombinere den lineære tilnærmingen i formel $3.1$ med evnen til å utføre mange enkle regneoperasjoner etter hverandre i en løkke til å enkelt simulere fallkjermhopperens fall mot jorden. \n",
    "Dersom det antas at akselerasjonen er ca. konstant i tidsintervallet $t\\in [0\\text{s}, 1\\text{s})$, kan vi bruke formel $3.1$ til å definere følgende tilnærming til hastigheten etter ett sekund $v(1)$:\n",
    "\n",
    "$$v(1) \\approx v(0) + a(0) \\cdot 1\\text{s}$$\n",
    "\n",
    "I tillegg etablerte vi i introduksjonen til denne øvingen at sammenhengen mellom hastighet $v$ og akselerasjon $a$ kan utledes fra Newton's 2. til å være gitt ved formel $5$ gjengitt nedenfor:\n",
    "\n",
    "$$m\\cdot g - \\beta \\cdot v^2 = m \\cdot a \\tag{5}$$\n",
    "\n",
    "Men først må vi definere de fysiske parametrene for simuleringen. Cellen nedenfor oppgir fysiske konstanter såvel som starthastigheten $v(0)$ til fallskjermhopperen. <br>**Kjør denne cellen før du går videre med oppgaven!**"
   ]
  },
  {
   "cell_type": "code",
   "execution_count": null,
   "id": "1bcb84a8-681b-45a1-a738-8e800f38ccdd",
   "metadata": {
    "autofeedback": {
     "test_code": "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"
    },
    "deletable": false,
    "editable": false,
    "execution": {
     "iopub.execute_input": "2025-09-15T12:57:25.637592Z",
     "iopub.status.busy": "2025-09-15T12:57:25.636762Z",
     "iopub.status.idle": "2025-09-15T12:57:26.368903Z",
     "shell.execute_reply": "2025-09-15T12:57:26.366960Z"
    },
    "nbgrader": {
     "cell_type": "code",
     "checksum": "6097274860a39154ff9c6937f5d54df7",
     "grade": true,
     "grade_id": "cell-4f14ee9abb596e8d",
     "locked": true,
     "points": 0,
     "schema_version": 3,
     "solution": false,
     "task": false
    },
    "slideshow": {
     "slide_type": ""
    },
    "tags": []
   },
   "outputs": [],
   "source": [
    "g = 9.81 # Tyngdeakselerasjon\n",
    "m = 70 # Fallskjermhopperens masse (Kg)\n",
    "beta = 0.23 # Proporsjonalitetskonstant for luftmotstand\n",
    "v_0 = 0.0 # Initialhastighet (m/s)"
   ]
  },
  {
   "cell_type": "markdown",
   "id": "2225f118-cf9a-4ff3-8765-accad98399b0",
   "metadata": {
    "deletable": false,
    "editable": true,
    "slideshow": {
     "slide_type": ""
    },
    "tags": []
   },
   "source": [
    "\n",
    "\n",
    "## a)\n",
    "Vi tar utganspunkt i at fallkjsermhopperen har starthastighet $v(0) = 0 \\text{m/s}$ i når de hopper ut av flyet (ved tidspunkt $t=0\\text{s}$). <br> Utfør følgende steg:\n",
    "1. Basert på initialhastigheten spesifisert ovenfor, bruk Newtons 2. lov til å finne fallskjermhopperens akselerasjon $a(t)$ i tidspunktet $t=0$\n",
    "2. Regn ut hva hastigheten $v(t)$ i tidspunktet $t=1$ vil være dersom vi antar at akselerasjonen $a(t)$ holder seg konstant i tidsintervallet $t \\in [0\\text{s}, 1\\text{s})$"
   ]
  },
  {
   "cell_type": "code",
   "execution_count": null,
   "id": "6ba137b7-309b-4159-989d-b5ffd892fa9e",
   "metadata": {
    "deletable": false,
    "execution": {
     "iopub.execute_input": "2025-09-15T12:57:26.375287Z",
     "iopub.status.busy": "2025-09-15T12:57:26.374940Z",
     "iopub.status.idle": "2025-09-15T12:57:26.385042Z",
     "shell.execute_reply": "2025-09-15T12:57:26.383370Z"
    },
    "nbgrader": {
     "cell_type": "code",
     "checksum": "b6908250be66eec5ad87afe02bdb5ad2",
     "grade": false,
     "grade_id": "cell-c9866231de6ffaf1",
     "locked": false,
     "schema_version": 3,
     "solution": true,
     "task": false
    }
   },
   "outputs": [],
   "source": [
    "a_0 = \"???\"\n",
    "v_1 = \"???\"\n",
    "#-------------------------------------\n",
    "# SKRIV DIN KODE HER!\n",
    "#-------------------------------------"
   ]
  },
  {
   "cell_type": "code",
   "execution_count": null,
   "id": "1be3f2ba-e36a-4e39-966b-a82a52292ba2",
   "metadata": {
    "autofeedback": {
     "test_code": "ZGVmIHRlc3Rfcm91dGluZSgpOgogICAgZnJvbSBhdXRvZmVlZGJhY2sgaW1wb3J0IFZhcmlhYmxlVGVzdHMKCiAgICBnID0gOS44MSAjIFR5bmdkZWFrc2VsZXJhc2pvbgogICAgbSA9IDcwICMgRmFsbHNramVybWhvcHBlcmVucyBtYXNzZSAoS2cpCiAgICBiZXRhID0gMC4yMyAjIFByb3BvcnNqb25hbGl0ZXRza29uc3RhbnQgZm9yIGx1ZnRtb3RzdGFuZAogICAgdl8wID0gMC4wICMgSW5pdGlhbGhhc3RpZ2hldCAobS9zKQogICAgYV8wX3NvbCA9IChtKmcrYmV0YSp2XzAqKjIpL20KICAgIHZfMV9zb2wgPSB2XzAgKyBhXzBfc29sKjEKICAgIHRlc3RfcmVzdWx0cyA9IFZhcmlhYmxlVGVzdHMoKQogICAgdGVzdF9yZXN1bHRzLmNvbXBhcmVfdmFsdWVzKGFfMCwgYV8wX3NvbCwgbmFtZT0iYV8wIiwgcnRvbD0xZS0zKQogICAgdGVzdF9yZXN1bHRzLmNvbXBhcmVfdmFsdWVzKHZfMSwgdl8xX3NvbCwgbmFtZT0idl8xIiwgcnRvbD0xZS0zKQogICAgICAgICAgICAKICAgIHJldHVybiByb3VuZCh0ZXN0X3Jlc3VsdHMuZ2V0X3Jlc3VsdHMoKSoyLCAyKQp0ZXN0X3JvdXRpbmUoKQ=="
    },
    "deletable": false,
    "editable": false,
    "execution": {
     "iopub.execute_input": "2025-09-15T12:57:26.390442Z",
     "iopub.status.busy": "2025-09-15T12:57:26.390181Z",
     "iopub.status.idle": "2025-09-15T12:57:28.810584Z",
     "shell.execute_reply": "2025-09-15T12:57:28.807774Z"
    },
    "nbgrader": {
     "cell_type": "code",
     "checksum": "d6dd16b1808471ce66f9bf6ccbb3d0ea",
     "grade": true,
     "grade_id": "cell-6b08f21c6b2b531c",
     "locked": true,
     "points": 2,
     "schema_version": 3,
     "solution": false,
     "task": false
    }
   },
   "outputs": [],
   "source": [
    "print(f\"{v_1 = :.3f}\")"
   ]
  },
  {
   "cell_type": "markdown",
   "id": "f3651282-d449-4062-ba78-2968b7dd4471",
   "metadata": {
    "deletable": false
   },
   "source": [
    "Så langt virker kanskje ikke dette så nyttig. Vi har funnet en brukbar tilnærming til hastigheten etter $1$ sekund, men hvordan hjelper dette oss med regne ut hastigheten etter f.eks. $10$ sekund? Svaret er at vi kan bygge videre på verdiene vi regnet ut i deloppgave $a)$, og bruke den utregnede hastigheten $v(1)$ som initialverdi for utregningene i tidsintervallet $t \\in [1\\text{s}, 2\\text{s})$. Vi kan skrive dette som:\n",
    "\n",
    "$$v(2) \\approx v(1) +  a(1) \\cdot 1\\text{s} \\tag{3.2}$$\n",
    "\n",
    "![Forklarende Figur](Figurer/fall_2_iterasjoner.svg)\n",
    "\n",
    "## b)\n",
    "Gitt løsningen du fant i deloppgave **a)**, utfør følgende:\n",
    "1. Bruk formel $2.1$ til å finne fallskjermhopperens akselerasjon $a$ i tidspunktet $t=1 \\text{s}$\n",
    "2. Regn ut hva hastigheten $v(t)$ i tidspunktet $t=2$ vil være dersom vi antar at akselerasjonen $a$ holder seg konstant i tidsintervallet $1 \\leq t \\leq 2$"
   ]
  },
  {
   "cell_type": "code",
   "execution_count": null,
   "id": "e42eba4b-d706-41c0-a1e5-9fc61035d8ba",
   "metadata": {
    "deletable": false,
    "editable": true,
    "execution": {
     "iopub.execute_input": "2025-09-15T12:57:28.819713Z",
     "iopub.status.busy": "2025-09-15T12:57:28.818345Z",
     "iopub.status.idle": "2025-09-15T12:57:28.833489Z",
     "shell.execute_reply": "2025-09-15T12:57:28.831150Z"
    },
    "nbgrader": {
     "cell_type": "code",
     "checksum": "04d189591a0998269072044d8c5689a1",
     "grade": false,
     "grade_id": "cell-7fd36d1cb7b995ba",
     "locked": false,
     "schema_version": 3,
     "solution": true,
     "task": false
    },
    "slideshow": {
     "slide_type": ""
    },
    "tags": []
   },
   "outputs": [],
   "source": [
    "v_2 = \"???\"\n",
    "#-------------------------------------\n",
    "# SKRIV DIN KODE HER!\n",
    "#-------------------------------------"
   ]
  },
  {
   "cell_type": "code",
   "execution_count": null,
   "id": "ab72516a-305b-4111-9cf6-080937bc7b01",
   "metadata": {
    "autofeedback": {
     "test_code": "ZGVmIHRlc3Rfcm91dGluZSgpOgogICAgZnJvbSBhdXRvZmVlZGJhY2sgaW1wb3J0IFZhcmlhYmxlVGVzdHMKCiAgICBnID0gOS44MSAjIFR5bmdkZWFrc2VsZXJhc2pvbgogICAgbSA9IDcwICMgRmFsbHNramVybWhvcHBlcmVucyBtYXNzZSAoS2cpCiAgICBiZXRhID0gMC4yMyAjIFByb3BvcnNqb25hbGl0ZXRza29uc3RhbnQgZm9yIGx1ZnRtb3RzdGFuZAogICAgdl8wID0gMC4wICMgSW5pdGlhbGhhc3RpZ2hldCAobS9zKQogICAgYV8wX3NvbCA9IChtKmcrYmV0YSp2XzAqKjIpL20KICAgIHZfMV9zb2wgPSB2XzAgKyBhXzBfc29sKjEKICAgIGFfMV9zb2wgPSAobSpnLWJldGEqdl8xX3NvbCoqMikvbQogICAgdl8yX3NvbCA9IHZfMV9zb2wgKyBhXzFfc29sKjEKICAgIHRlc3RfcmVzdWx0cyA9IFZhcmlhYmxlVGVzdHMoKQogICAgdGVzdF9yZXN1bHRzLmNvbXBhcmVfdmFsdWVzKHZfMiwgdl8yX3NvbCwgbmFtZT0idl8yIiwgcnRvbD0xZS0zKQogICAgICAgICAgICAKICAgIHJldHVybiByb3VuZCh0ZXN0X3Jlc3VsdHMuZ2V0X3Jlc3VsdHMoKSoyLCAyKQp0ZXN0X3JvdXRpbmUoKQ=="
    },
    "deletable": false,
    "editable": false,
    "execution": {
     "iopub.execute_input": "2025-09-15T12:57:28.840866Z",
     "iopub.status.busy": "2025-09-15T12:57:28.840170Z",
     "iopub.status.idle": "2025-09-15T12:57:28.863080Z",
     "shell.execute_reply": "2025-09-15T12:57:28.861170Z"
    },
    "nbgrader": {
     "cell_type": "code",
     "checksum": "80ac7536e4c1fd1eb5b5388d4ea7c95a",
     "grade": true,
     "grade_id": "cell-3e19d29fe99484b0",
     "locked": true,
     "points": 2,
     "schema_version": 3,
     "solution": false,
     "task": false
    }
   },
   "outputs": [],
   "source": [
    "print(f\"{v_2 = :.3f}\")"
   ]
  },
  {
   "cell_type": "markdown",
   "id": "bb695973-3407-4862-b09f-8be3a9e97772",
   "metadata": {
    "deletable": false,
    "editable": true,
    "slideshow": {
     "slide_type": ""
    },
    "tags": []
   },
   "source": [
    "I oppgave **a)** og **b)** har du nå utført to *steg* i en numerisk simulering av en fallskjermhopper i fritt fall. Forenklingen vi har gjort, der vi antar at akselerasjonen $a(t)$ holder seg tilnærmet konstant i løpet av ett sekund frem i tid, tilhører en spesifikk numerisk metode som kalles Eulers Metode. Når man utfører en numerisk simulering er det ofte ønskelig å utføre et svært stort antall slike steg etter hverandre, og til dette passer det svært godt å ta i bruk en for-løkke. \"Oppskriften\" for å utføre simuleringen av fallskjermhopperens fall blir da:\n",
    "\n",
    "1. Sett initialhastighet $v(0)$\n",
    "2. beregn akselerasjon basert på hastighet\n",
    "3. bruk akselerasjon til å finne tilnærmet hastighet etter 1 sekund\n",
    "4. gjenta steg $2$ & $3$ helt til man har utført ønsket antall utregninger.\n",
    "\n",
    "Figuren nedenfor illustrerer resultatet av en slik simulering for tidsperioden $t \\in [0\\text{s}, 10\\text{s}]$\n",
    "\n",
    "![Forklarende Figur](Figurer/fall_10_iterasjoner.svg)\n",
    "\n",
    "For hvert av \"stegene\" i simuleringen hopper vi ett sekund frem i tid, hvor hastigheten på slutten av ett steg er gitt ved hastigheten og akselerasjonen før steget utføres. Matematisk kan vi skrive dette slik:\n",
    "\n",
    "$$v(t+1) \\approx v(t) + a(t)$$\n",
    "\n",
    "Der vi starter i $t=0\\text{s}$ og gjentar utregningen i formelen for hvert simulerte sekund med nye verdier. \n",
    "\n",
    "## c) \n",
    "Fullfør `for`-løkken nedenfor slik at verdien til variabelen `v_i` er en utregnet verdi for hastigheten $v(10)$ år løkken er avsluttet,"
   ]
  },
  {
   "cell_type": "code",
   "execution_count": null,
   "id": "7e562966-4ca0-48b9-87bb-c819b1d4e9d1",
   "metadata": {
    "deletable": false,
    "editable": true,
    "execution": {
     "iopub.execute_input": "2025-09-15T12:57:28.868976Z",
     "iopub.status.busy": "2025-09-15T12:57:28.868460Z",
     "iopub.status.idle": "2025-09-15T12:57:28.877086Z",
     "shell.execute_reply": "2025-09-15T12:57:28.874591Z"
    },
    "nbgrader": {
     "cell_type": "code",
     "checksum": "f2768c451d9d8dcf95b1f5b6a3670243",
     "grade": false,
     "grade_id": "cell-6d0bf70bea897a81",
     "locked": false,
     "schema_version": 3,
     "solution": true,
     "task": false
    },
    "slideshow": {
     "slide_type": ""
    },
    "tags": []
   },
   "outputs": [],
   "source": [
    "v_i = v_0 # Initialhastighet (m/s) oppgitt i første kodecelle\n",
    "for i in range(10):\n",
    "    #-------------------------------------\n",
    "    # SKRIV DIN KODE HER!\n",
    "    #-------------------------------------"
   ]
  },
  {
   "cell_type": "code",
   "execution_count": null,
   "id": "8742efd7-772e-4d87-8050-680869899578",
   "metadata": {
    "autofeedback": {
     "test_code": "ZGVmIHRlc3Rfcm91dGluZSgpOgogICAgZnJvbSBhdXRvZmVlZGJhY2sgaW1wb3J0IFZhcmlhYmxlVGVzdHMKCiAgICBnID0gOS44MSAjIFR5bmdkZWFrc2VsZXJhc2pvbgogICAgbSA9IDcwICMgRmFsbHNramVybWhvcHBlcmVucyBtYXNzZSAoS2cpCiAgICBiZXRhID0gMC4yMyAjIFByb3BvcnNqb25hbGl0ZXRza29uc3RhbnQgZm9yIGx1ZnRtb3RzdGFuZAogICAgdl8wID0gMC4wICMgSW5pdGlhbGhhc3RpZ2hldCAobS9zKQogICAgCiAgICB2X2lfc29sID0gdl8wICMgSW5pdGlhbGhhc3RpZ2hldCAobS9zKSBvcHBnaXQgaSBmw7hyc3RlIGtvZGVjZWxsZQogICAgZm9yIGkgaW4gcmFuZ2UoMTApOgogICAgICAgIGFfaV9zb2wgPSAobSpnLWJldGEqdl9pX3NvbCoqMikvbQogICAgICAgIHZfaV9zb2wgPSB2X2lfc29sICsgYV9pX3NvbCoxCiAgICB0ZXN0X3Jlc3VsdHMgPSBWYXJpYWJsZVRlc3RzKCkKICAgIHRlc3RfcmVzdWx0cy5jb21wYXJlX3ZhbHVlcyh2X2ksIHZfaV9zb2wsIG5hbWU9InZfaSIsIHJ0b2w9MWUtMykKICAgICAgICAgICAgCiAgICByZXR1cm4gcm91bmQodGVzdF9yZXN1bHRzLmdldF9yZXN1bHRzKCkqMiwgMikKdGVzdF9yb3V0aW5lKCk="
    },
    "deletable": false,
    "editable": false,
    "execution": {
     "iopub.execute_input": "2025-09-15T12:57:28.883298Z",
     "iopub.status.busy": "2025-09-15T12:57:28.882611Z",
     "iopub.status.idle": "2025-09-15T12:57:28.903301Z",
     "shell.execute_reply": "2025-09-15T12:57:28.901252Z"
    },
    "nbgrader": {
     "cell_type": "code",
     "checksum": "78ad8250d50bb0b3780a76b4260e4a92",
     "grade": true,
     "grade_id": "cell-9b90886b868d3347",
     "locked": true,
     "points": 2,
     "schema_version": 3,
     "solution": false,
     "task": false
    },
    "slideshow": {
     "slide_type": ""
    },
    "tags": []
   },
   "outputs": [],
   "source": [
    "print(f\"Hastigheten etter {i+1} sekund er ca. lik {v_i:.3f} m/s\")"
   ]
  },
  {
   "cell_type": "markdown",
   "id": "c64638a3-a6d0-4892-b989-8fb6b790563f",
   "metadata": {
    "deletable": false,
    "editable": true,
    "slideshow": {
     "slide_type": ""
    },
    "tags": []
   },
   "source": [
    "## d) \n",
    "Bruk det du har lært i deloppgavene **a**-**c** til å fullføre funksjonen `simulert_hastighet` nedenfor. Funksjonen skal ta inn fallskjermhopperens masse `m` i $\\text{kg}$, samt en heltallsverdi `t` som angir sluttidspunktet for simuleringen i hele sekund. Vi antar fortsatt at proporsjonalitetskonstant $\\beta=0.23$ og initialhastigheten $v(0) = 0\\text{ m/s}$."
   ]
  },
  {
   "cell_type": "code",
   "execution_count": null,
   "id": "4a6b7669-daff-4185-a110-3207b57183b9",
   "metadata": {
    "deletable": false,
    "editable": true,
    "execution": {
     "iopub.execute_input": "2025-09-15T12:57:28.908611Z",
     "iopub.status.busy": "2025-09-15T12:57:28.908136Z",
     "iopub.status.idle": "2025-09-15T12:57:28.921118Z",
     "shell.execute_reply": "2025-09-15T12:57:28.918147Z"
    },
    "nbgrader": {
     "cell_type": "code",
     "checksum": "57a43a0469cf7afa674ef8f686ff1154",
     "grade": false,
     "grade_id": "cell-085b2acda17f8700",
     "locked": false,
     "schema_version": 3,
     "solution": true,
     "task": false
    },
    "slideshow": {
     "slide_type": ""
    },
    "tags": []
   },
   "outputs": [],
   "source": [
    "def simulert_hastighet(m, t):\n",
    "    beta = 0.23\n",
    "    g = 9.81\n",
    "    v_0 = 0.0\n",
    "    #-------------------------------------\n",
    "    # SKRIV DIN KODE HER!\n",
    "    #-------------------------------------\n",
    "    return v_t\n",
    "    \n",
    "simulert_hastighet(90, 20)"
   ]
  },
  {
   "cell_type": "code",
   "execution_count": null,
   "id": "cb65ff1a-036c-4eee-9ba7-975c8f0b7cf6",
   "metadata": {
    "autofeedback": {
     "test_code": "ZGVmIHRlc3Rfcm91dGluZSgpOgogICAgZnJvbSBhdXRvZmVlZGJhY2sgaW1wb3J0IEZ1bmN0aW9uVGVzdHMKICAgIGltcG9ydCBudW1weSBhcyBucAogICAgZnJvbSByYW5kb20gaW1wb3J0IHNhbXBsZSwgcmFuZGludAoKICAgIGRlZiBzaW11bGVydF9oYXN0aWdoZXRfc29sdXRpb24obSwgdCk6CiAgICAgICAgYmV0YSA9IDAuMjMKICAgICAgICBnID0gOS44MQogICAgICAgIHZfMCA9IDAuMAogICAgICAgIHZfaSA9IHZfMAogICAgICAgIGZvciBpIGluIHJhbmdlKHQpOgogICAgICAgICAgICBhX2kgPSAobSpnLWJldGEqdl9pKioyKS9tCiAgICAgICAgICAgIHZfaSA9IHZfaSArIGFfaSoxCiAgICAgICAgdl90ID0gdl9pCiAgICAgICAgcmV0dXJuIHZfdAoKICAgIGdyYWRpbmdfcmVzdWx0cyA9IEZ1bmN0aW9uVGVzdHMoc2ltdWxlcnRfaGFzdGlnaGV0X3NvbHV0aW9uLCBydG9sPTFlLTYpCiAgICB0cnk6CiAgICAgICAgZ3JhZGluZ19yZXN1bHRzLmFkZF90ZXN0X2Z1bmMoc2ltdWxlcnRfaGFzdGlnaGV0KQogICAgZXhjZXB0IEV4Y2VwdGlvbiBhcyBlOgogICAgICAgIGdyYWRpbmdfcmVzdWx0cy5sb2cuYXBwZW5kKCJDb3VsZCBub3QgcnVuIHRlc3RzLCAiK2UuYXJnc1swXSkKICAgIGVsc2U6CiAgICAgICAgTiA9IDQKICAgICAgICB0X3ZhbHVlcyA9IHNhbXBsZShsaXN0KHJhbmdlKDMsIDMwKSksIE4pCiAgICAgICAgbV92YWx1ZXMgPSBzYW1wbGUobGlzdChyYW5nZSg1MCwgOTApKSwgTikKICAgICAgICBmb3IgbSwgdCBpbiAgemlwKG1fdmFsdWVzLCB0X3ZhbHVlcyk6CiAgICAgICAgICAgIGdyYWRpbmdfcmVzdWx0cy50ZXN0X3JldHVybl92YWx1ZShtLCB0KQogICAgICAgICAgICAKICAgIHJldHVybiByb3VuZChncmFkaW5nX3Jlc3VsdHMuZ2V0X3Jlc3VsdHMoKSo0LCAyKQp0ZXN0X3JvdXRpbmUoKQ=="
    },
    "deletable": false,
    "editable": false,
    "execution": {
     "iopub.execute_input": "2025-09-15T12:57:28.929135Z",
     "iopub.status.busy": "2025-09-15T12:57:28.928273Z",
     "iopub.status.idle": "2025-09-15T12:57:28.960600Z",
     "shell.execute_reply": "2025-09-15T12:57:28.958938Z"
    },
    "nbgrader": {
     "cell_type": "code",
     "checksum": "67db121128399e7f8e6e18fa494770fd",
     "grade": true,
     "grade_id": "cell-3008186ec404f43e",
     "locked": true,
     "points": 4,
     "schema_version": 3,
     "solution": false,
     "task": false
    },
    "slideshow": {
     "slide_type": ""
    },
    "tags": []
   },
   "outputs": [],
   "source": [
    "# Denne cellen brukes under retting. La stå!"
   ]
  },
  {
   "cell_type": "markdown",
   "id": "5a620073-a874-4298-a86e-f127931b792e",
   "metadata": {
    "deletable": false,
    "editable": false,
    "slideshow": {
     "slide_type": ""
    },
    "tags": []
   },
   "source": [
    "<br>\n",
    "<nav class=\"navbar navbar-default\">\n",
    "        <div class=\"container-fluid\">\n",
    "            <div class=\"navbar-header\" style=\"float: left\">\n",
    "                <a class=\"navbar-brand\" href=\"2_betinget_fritt_fall.ipynb\" target=\"_self\">&lt; Forrige side: <i>Betinget fritt fall</i></a>\n",
    "                </div>\n",
    "            <div class=\"navbar-header\" style=\"float: right\">\n",
    "                <a class=\"navbar-brand\" href=\"4_eulers_metode_logg.ipynb\" target=\"_self\">Neste side: <i>Eulers Metode med logging</i> &gt;</a>\n",
    "            </div>\n",
    "        </div>\n",
    "</nav>"
   ]
  }
 ],
 "metadata": {
  "kernelspec": {
   "display_name": "Python 3 (ipykernel)",
   "language": "python",
   "name": "python3"
  },
  "language_info": {
   "codemirror_mode": {
    "name": "ipython",
    "version": 3
   },
   "file_extension": ".py",
   "mimetype": "text/x-python",
   "name": "python",
   "nbconvert_exporter": "python",
   "pygments_lexer": "ipython3",
   "version": "3.12.11"
  },
  "toc": {
   "base_numbering": 1
  }
 },
 "nbformat": 4,
 "nbformat_minor": 5
}
