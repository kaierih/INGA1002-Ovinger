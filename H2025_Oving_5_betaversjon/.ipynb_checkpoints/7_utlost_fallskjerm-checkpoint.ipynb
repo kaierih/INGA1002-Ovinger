{
 "cells": [
  {
   "cell_type": "markdown",
   "id": "62f9d73a-41b3-4d8c-aacf-ae4ef223a0ba",
   "metadata": {
    "deletable": false,
    "editable": true,
    "slideshow": {
     "slide_type": ""
    },
    "tags": []
   },
   "source": [
    "\n",
    "<nav class=\"navbar navbar-default\">\n",
    "  <div class=\"container-fluid\">\n",
    "    <div class=\"navbar-header\" style=\"float: left\">\n",
    "        <a class=\"navbar-brand\" href=\"0_Forside.ipynb\" target=\"_self\"> <h2> &uarr; Tilbake til forsiden</h2></a>\n",
    "    </div>\n",
    "  </div>\n",
    "</nav>"
   ]
  },
  {
   "cell_type": "markdown",
   "id": "e5eb15e0-9e3a-4ffc-bd0d-923c8ad071c0",
   "metadata": {
    "deletable": false,
    "editable": true,
    "slideshow": {
     "slide_type": ""
    },
    "tags": []
   },
   "source": [
    "# Utløsing av fallskjerm\n",
    "\n",
    "Vi har i løpet av de siste 6 oppgavene lært om hvordan vi kan bruke Newton's 2. lov i kombinasjon med Eulers Metode til å simulere fritt fall for en fallskjermhopper over tid. Resultatet av metoden er en sekvens med hastighetsverdier $v_n = v(t_n)$ der $t_n$ er en sekvens med tidsstempel. Neste steg er å kartlegge funksjonen $y(t)$ som beskriver fallskjermhopperens høyde som funksjon av tid. Starthastigheten når fallskjermhopperen hopper ut av flyet regner vi med er $y(0) = 3\\ 000 \\text{moh}$, noe som betyr at vi får følgende funksjon for høyde over tid $y(t)$:\n",
    "\n",
    "$$y(t) = y(0) - \\int_0^{t} v(t) dt \\tag{7.1}$$\n",
    "\n",
    "Formel $7.1$ kan ikke løses eksakt med mindre vi kjenner til funksjonen $v(t)$, men vi kan ta i bruk *trapesintegrasjon* på hastighetsverdiene $v_n$ slik vi lærte om i øving 3. Å kominere fromel $7.1$ med uttrykket for trapesintegrasjon gir en sekvens $y_n$ som beskriver fallskjermhopperens høyde ved tidspunktene $t_n$, som kan beregnes med formel $7.2$.\n",
    "\n",
    "$$y_n = y(0) - \\frac{h}{2} \\cdot \\left( v_0 + 2\\cdot \\sum_{k=1}^{n-1} v_k + v_n \\right) \\tag{7.2}$$\n",
    "\n",
    "der $h$ er skrittlengden brukt i numerisk integrasjon.  Vi kan også utføre trapesintegrasjon iterativt underveis i utregnignen av eulers metode. Uttrykket blir da:\n",
    "\n",
    "$$y_n = y_{n-1} - \\frac{h}{2} \\cdot \\left(v_{n-1} + v_n \\right) \\tag{7.3} $$\n",
    "\n",
    "\n",
    "\n",
    "<!--Gitt en sekvens med hastighetsverdier $v_n$ som er beregnet med Eulers metode hvor en steglengde $h$ er benyttet, vil \n",
    "\n",
    "\n",
    "\\begin{align}\n",
    "T_n &= \\frac{h}{2} \\cdot \\left(f(x_0) + 2\\cdot f(x_1) + 2\\cdot f(x_2) + \\ldots + 2\\cdot f(x_{n-1}) + f(x_n)\\right) \\\\ \\\\\n",
    "&= \\frac{h}{2} \\cdot \\left( f(x_0) + 2\\cdot \\sum_{k=1}^{n-1} f(x_k) + f(x_n) \\right)\n",
    "\\end{align}-->\n",
    "\n",
    "**Kodecellen nedenfor oppgir verdier for konstanter som benyttes gjennom oppgaven:**"
   ]
  },
  {
   "cell_type": "code",
   "execution_count": null,
   "id": "886e3b62-9fdf-456e-b2c5-8d5f65e3219e",
   "metadata": {
    "deletable": false,
    "editable": true,
    "execution": {
     "iopub.execute_input": "2025-09-15T12:57:52.321157Z",
     "iopub.status.busy": "2025-09-15T12:57:52.320495Z",
     "iopub.status.idle": "2025-09-15T12:57:52.332019Z",
     "shell.execute_reply": "2025-09-15T12:57:52.329599Z"
    },
    "slideshow": {
     "slide_type": ""
    },
    "tags": []
   },
   "outputs": [],
   "source": [
    "g = 9.81 # Tyngdeakselerasjon\n",
    "m = 70 # Fallskjermhopperens masse (Kg)\n",
    "v_0 = 0.0 # Initialhastighet (m/s)\n",
    "y_0 = 3_000.0 # Initialhøyde "
   ]
  },
  {
   "cell_type": "markdown",
   "id": "0f9d4023-34af-4bbf-9c3a-13c138e1aebd",
   "metadata": {
    "deletable": false,
    "editable": true,
    "slideshow": {
     "slide_type": ""
    },
    "tags": []
   },
   "source": [
    "## a)\n",
    "\n",
    "Ta i bruk trapesintegrasjon slik oppgitt i formel $7.2$, og lag et plott av høydekurven $y(t)$ i tidsrommet $t \\in [0\\text{s}, 60\\text{s}]$. Skrittlegnden skal være $h=0.1$ for både Eulers Metode og Trapesmetodenm, og vi regner fortsatt med at proporsjonalitetskonstanten er lik $\\beta=0.23$ for denne oppgaven."
   ]
  },
  {
   "cell_type": "code",
   "execution_count": null,
   "id": "ad2b8939-1162-4d91-afd8-31b156f5531f",
   "metadata": {
    "autofeedback": {
     "plot_task": true
    },
    "deletable": false,
    "editable": true,
    "execution": {
     "iopub.execute_input": "2025-09-15T12:57:52.337937Z",
     "iopub.status.busy": "2025-09-15T12:57:52.337149Z",
     "iopub.status.idle": "2025-09-15T12:57:53.024581Z",
     "shell.execute_reply": "2025-09-15T12:57:53.023293Z"
    },
    "nbgrader": {
     "cell_type": "code",
     "checksum": "12679e87c7dd525f5e1fd3f916a04178",
     "grade": false,
     "grade_id": "cell-df1cf4dfd5997395",
     "locked": false,
     "schema_version": 3,
     "solution": true,
     "task": false
    },
    "slideshow": {
     "slide_type": ""
    },
    "tags": []
   },
   "outputs": [],
   "source": [
    "h = 0.1\n",
    "T = 60.0\n",
    "beta = 0.23\n",
    "#-------------------------------------\n",
    "# SKRIV DIN KODE HER!\n",
    "#-------------------------------------"
   ]
  },
  {
   "cell_type": "markdown",
   "id": "fe44d404-7c75-4f08-a9bd-d802f0b82c5a",
   "metadata": {
    "deletable": false
   },
   "source": [
    "Har du løst oppgaven riktig, burde plottet se noe [slik](Figurer/oppg7a_lf.svg) ut. "
   ]
  },
  {
   "cell_type": "code",
   "execution_count": null,
   "id": "bf28e258-0303-41d4-ab3d-03e853335cd1",
   "metadata": {
    "autofeedback": {
     "test_code": "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"
    },
    "deletable": false,
    "editable": false,
    "execution": {
     "iopub.execute_input": "2025-09-15T12:57:53.031459Z",
     "iopub.status.busy": "2025-09-15T12:57:53.031112Z",
     "iopub.status.idle": "2025-09-15T12:57:54.978236Z",
     "shell.execute_reply": "2025-09-15T12:57:54.977607Z"
    },
    "nbgrader": {
     "cell_type": "code",
     "checksum": "9e5212a1385499c17d49a5b5ac393b53",
     "grade": true,
     "grade_id": "cell-9094727bce41aaff",
     "locked": true,
     "points": 5,
     "schema_version": 3,
     "solution": false,
     "task": false
    }
   },
   "outputs": [],
   "source": []
  },
  {
   "cell_type": "markdown",
   "id": "6277c517-5817-47a7-9ba5-64107c49b453",
   "metadata": {
    "deletable": false,
    "editable": true,
    "slideshow": {
     "slide_type": ""
    },
    "tags": []
   },
   "source": [
    "Som vi ser i plottet tar det ca. ett minutt for fallskjermhopperen å nå bakken. Men, nå har vi ikke tatt med i beregningene at fallskjermen skal utløses lenge før fallskjermhopperen når bakken. Anta at fallskjermen er innstilt til å utløses når høyden over bakken er $y(t)= 1\\ 000 \\text{moh}$. Vi modellerer utløsningen av fallskjermen som en endring i proporsjonalitetskonstanten $\\beta$, slik at den nå er avhengig av fallskjermhopperens høyde $y$ over bakken:\n",
    "\n",
    "$$\n",
    "\\beta(y) = \\begin{cases} 0.23, & y > 1\\ 000 \\text{ moh} \\\\ 12.0, & y \\leq 1\\ 000 \\text{ moh} \\end{cases}\n",
    "$$\n",
    "\n",
    "## b) \n",
    "\n",
    "\n",
    "\n",
    "Benytt den iterative tilnærmingen i formel $7.3$ til utregning av høydeverdiene $y_n = y(t_n)$, og lag et plott av høydekurven til fallskjermhopperen i tidsintervallet $t \\in [0 \\text{s}, 170 \\text{s}]$ når vi tar med i beregningene at fallskjermen utløses ved $1\\ 000 \\text{ moh}$. \n",
    "<!--\n",
    "Anta videre at fallskjermhopperen utløser fallskjermen etter $t=40\\text{ s}$ og luftmotstanden øker gradvis mellom $t=40 \\text{ s}$ og $t= 50 \\text{s}$ før den stabiliserer seg. Proporsjonalitetskonstanten $\\beta$ som avgjør luftmotstanden vil da være en betinget funksjon basert på tiden $t$:\n",
    "\n",
    "$$\\beta(t) = \\begin{cases} 0.227, & t < 40 \\\\ 0.227 + 1.2\\cdot (t-40) , & 40 \\leq t < 50 \\\\ 12.227, & t \\geq 50 \\end{cases}$$\n",
    "\n",
    "-->"
   ]
  },
  {
   "cell_type": "code",
   "execution_count": null,
   "id": "64da2185-efbe-4f21-9db7-aa9e6562ff67",
   "metadata": {
    "autofeedback": {
     "plot_task": true
    },
    "deletable": false,
    "editable": true,
    "execution": {
     "iopub.execute_input": "2025-09-15T12:57:54.983771Z",
     "iopub.status.busy": "2025-09-15T12:57:54.983474Z",
     "iopub.status.idle": "2025-09-15T12:57:55.105334Z",
     "shell.execute_reply": "2025-09-15T12:57:55.103516Z"
    },
    "nbgrader": {
     "cell_type": "code",
     "checksum": "8bf2471ddf4d0c7e266dacfc59259a08",
     "grade": false,
     "grade_id": "cell-15e40798fe91a17e",
     "locked": false,
     "schema_version": 3,
     "solution": true,
     "task": false
    },
    "slideshow": {
     "slide_type": ""
    },
    "tags": []
   },
   "outputs": [],
   "source": [
    "h = 0.1 # Skrittlengde\n",
    "T = 170.0 # Sluttid for simulering\n",
    "#-------------------------------------\n",
    "# SKRIV DIN KODE HER!\n",
    "#-------------------------------------"
   ]
  },
  {
   "cell_type": "markdown",
   "id": "749b3790-e1e8-4a76-bdd3-43e0895c6e08",
   "metadata": {
    "deletable": false
   },
   "source": [
    "Har du løst oppgaven riktig, burde plottet se noe [slik](Figurer/oppg7b_lf.svg) ut."
   ]
  },
  {
   "cell_type": "code",
   "execution_count": null,
   "id": "9dc68e24-484a-4cb7-9a8b-b86ca5f9b486",
   "metadata": {
    "autofeedback": {
     "test_code": "ZnJvbSBhdXRvZmVlZGJhY2sgaW1wb3J0IFRlc3RDbGFzcywgUGxvdENoZWNrZXIsIGdldF9kZXZpYXRpb24KaW1wb3J0IG51bXB5IGFzIG5wCmRlZiB0ZXN0X3JvdXRpbmUoKToKICAgIHRlc3RfcmVzdWx0cyA9IFBsb3RDaGVja2VyKGZpZz1maWcpCiAgICAKICAgIGlmIHRlc3RfcmVzdWx0cy5jaGVja19udW1fbGluZXMoZXhwZWN0ZWRfbnVtX2xpbmVzPTEsIHdndD0xLjApOgoKICAgICAgICAjIENhbGN1bGF0ZSBTb2x0dWlvbgogICAgICAgIGcgPSA5LjgxICMgVHluZ2RlYWtzZWxlcmFzam9uCiAgICAgICAgbSA9IDcwICMgRmFsbHNramVybWhvcHBlcmVucyBtYXNzZSAoS2cpCiAgICAgICAgdl8wID0gMC4wICMgSW5pdGlhbGhhc3RpZ2hldCAobS9zKQogICAgICAgIAogICAgICAgIGRlZiBiZXRhKHkpOgogICAgICAgICAgICBpZiB5ID4gMTAwMDoKICAgICAgICAgICAgICAgIHJldHVybiAwLjIzCiAgICAgICAgICAgIGVsc2U6CiAgICAgICAgICAgICAgICByZXR1cm4gMTIuMAogICAgICAgIAogICAgICAgIHkgPSBbeV8wXQogICAgICAgIHYgPSBbdl8wXQogICAgICAgIGggPSAwLjEKICAgICAgICBUID0gMTcwLjAKICAgICAgICBOID0gaW50KFQvaCkKICAgICAgICBmb3IgbiBpbiByYW5nZShOKToKICAgICAgICAgICAgYV9pID0gKG0qZy1iZXRhKHlbLTFdKSp2Wy0xXSoqMikvbQogICAgICAgICAgICB2LmFwcGVuZCh2Wy0xXSArIGFfaSpoKQogICAgICAgICAgICB5LmFwcGVuZCh5Wy0xXSAtIGgvMioodlstMV0gKyB2Wy0yXSkpCgoKICAgICAgICBsYXN0X3ggPSBmaWcuYXhlc1stMV0ubGluZXNbLTFdLmdldF94ZGF0YSgpWy0xXQogICAgICAgIGxhc3RfeSA9IGZpZy5heGVzWy0xXS5saW5lc1stMV0uZ2V0X3lkYXRhKClbLTFdCiAgICAgICAgCiAgICAgICAgaWYgbnAuaXNjbG9zZShsYXN0X3gsIFQsIGF0b2w9MWUtNiwgcnRvbD0xZS0zKToKICAgICAgICAgICAgdGVzdF9yZXN1bHRzLmFkZF9yZXN1bHQoVHJ1ZSwgZiJQbG90IGVuZHMgYXQgdD17VDouMWZ9LiIsIHdndD0xLjApCiAgICAgICAgZWxzZToKICAgICAgICAgICAgdGVzdF9yZXN1bHRzLmFkZF9yZXN1bHQoRmFsc2UsIGYiTGFzdCBkYXRhcG9pbnQgaW4gcGxvdCBub3QgbG9jYXRlZCBhdCB0PXtUOi4xZn0iLCB3Z3Q9MS4wKQoKICAgICAgICAKICAgICAgICBpZiBucC5pc2Nsb3NlKGxhc3RfeSwgeVstMV0sIGF0b2w9MWUtNiwgcnRvbD0xZS0zKToKICAgICAgICAgICAgdGVzdF9yZXN1bHRzLmFkZF9yZXN1bHQoVHJ1ZSwgZiJDb3JyZWN0IHZhbHVlIGNhbGN1YXRlZCBmb3IgeSh7VDouMWZ9KS4iLCB3Z3Q9NS4wKQogICAgICAgIGVsc2U6CiAgICAgICAgICAgIG1heF9lcnIsIHJlbF9lcnIgPSBnZXRfZGV2aWF0aW9uKGxhc3RfeSwgeVstMV0pCiAgICAgICAgICAgIHRlc3RfcmVzdWx0cy5hZGRfcmVzdWx0KEZhbHNlLCBmIkluY29ycmVjdCB2YWx1ZSBjYWxjdWxhdGVkIGZvciB5KHtUOi4xZn0pLiBBYnNvbHV0ZSBlcnJvcjoge21heF9lcnI6LjNmfSwgcmVsYXRpdmUgZXJyb3I6IHtyZWxfZXJyOi4zZn0iLCB3Z3Q9NS4wKQoKICAgIHJldHVybiByb3VuZCh0ZXN0X3Jlc3VsdHMuZ2V0X3Jlc3VsdHMoKSo1LCAyKQp0ZXN0X3JvdXRpbmUoKQ=="
    },
    "deletable": false,
    "editable": false,
    "execution": {
     "iopub.execute_input": "2025-09-15T12:57:55.111522Z",
     "iopub.status.busy": "2025-09-15T12:57:55.111275Z",
     "iopub.status.idle": "2025-09-15T12:57:55.129937Z",
     "shell.execute_reply": "2025-09-15T12:57:55.128604Z"
    },
    "nbgrader": {
     "cell_type": "code",
     "checksum": "e1ec4c51f618a363f0322570f49842fa",
     "grade": true,
     "grade_id": "cell-13c52a901a42ba96",
     "locked": true,
     "points": 5,
     "schema_version": 3,
     "solution": false,
     "task": false
    }
   },
   "outputs": [],
   "source": []
  }
 ],
 "metadata": {
  "kernelspec": {
   "display_name": "Python 3 (ipykernel)",
   "language": "python",
   "name": "python3"
  },
  "language_info": {
   "codemirror_mode": {
    "name": "ipython",
    "version": 3
   },
   "file_extension": ".py",
   "mimetype": "text/x-python",
   "name": "python",
   "nbconvert_exporter": "python",
   "pygments_lexer": "ipython3",
   "version": "3.11.5"
  }
 },
 "nbformat": 4,
 "nbformat_minor": 5
}
