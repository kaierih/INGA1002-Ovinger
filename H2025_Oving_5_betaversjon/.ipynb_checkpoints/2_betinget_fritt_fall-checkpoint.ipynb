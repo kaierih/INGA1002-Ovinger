{
 "cells": [
  {
   "cell_type": "markdown",
   "id": "597d4f91",
   "metadata": {
    "deletable": false,
    "editable": true,
    "slideshow": {
     "slide_type": ""
    },
    "tags": []
   },
   "source": [
    "\n",
    "<nav class=\"navbar navbar-default\">\n",
    "  <div class=\"container-fluid\">\n",
    "    <div class=\"navbar-header\" style=\"float: left\">\n",
    "        <a class=\"navbar-brand\" href=\"0_Forside.ipynb\" target=\"_self\"> <h2> &uarr; Tilbake til forsiden</h2></a>\n",
    "    </div>\n",
    "  </div>\n",
    "</nav>"
   ]
  },
  {
   "cell_type": "markdown",
   "id": "quantitative-retrieval",
   "metadata": {
    "deletable": false,
    "editable": true,
    "slideshow": {
     "slide_type": ""
    },
    "tags": []
   },
   "source": [
    "# Betinget fritt fall\n",
    "\n",
    "**Læringsmål:**\n",
    "\n",
    "- Betingelser\n",
    "- For-løkker\n",
    "- Elementvise operasjoner med arrays/lister\n",
    "- Bruk av listemetoden `append`\n",
    "\n",
    "### Introduksjon: \n",
    "Vi fortsetter å se på fallskjermhopperen med i fritt fall. I oppgave $1$ introduserte vi konseptet *terminalhastighet* som er den maksimale hastigheten det er mulig å oppnå i fritt fall, og defineres som hastigheten $v$ der luftmotstanden og tyngdekraften utligner hverandre. I denne oppgaven skal vi ta for oss en litt forenklet matematisk modell for hvordan hastigheten utvikler seg over tid. Vi antar at det er to distinkte tilfeller:\n",
    "\n",
    "1. Perioden før hopperen når sin terminalfart\n",
    "2. Perioden når hopperen beveger seg i terminalfart\n",
    "\n",
    "**Perioden før terminalfart:**<br>\n",
    "Ved $t=0$ antar vi at farten er 0. Deretter er det en lineær sammenheng mellom tiden og hastigheten, denne sammenhengen er gitt ved forenklede ligningen:\n",
    "\n",
    "$ v(t) = t \\cdot g$\n",
    "\n",
    "Der $g = 9.81$ er tyngdeakselerasjonen og $t$ er tiden siden hoppet startet.\n",
    "\n",
    "**Perioden etter terminalhastighet er oppnådd:**<br>\n",
    "For enkelhets skyld antar vi at alle hoppere, uavhengig av vekt, har en terminalhastighet $v_{\\text{term}} = 50 \\text{ m/s}$. Terminalhastigheten oppnås på et tisplunkt $t=t_a$, hvorpå hastigheten til hopperen etter dette tidspunktet holder seg konstant, og er gitt ved ligningen:\n",
    "\n",
    "$v(t) = 50$\n",
    "\n",
    "Ved å kombinere disse to overnevnte tilfellene, kan vi skrive hastigheten matematisk som en *betinget funksjon*:\n",
    "\n",
    "$$v(t) = \\begin{cases} g\\cdot t, & t \\leq t_a \\\\ 50\\text{ m/s}, & t > t_a \\end{cases} \\tag{2.1}$$\n",
    "\n",
    "hvor tidspunktet $t_a = \\frac{50 \\text{ m/s}}{g} \\approx 5.1 \\text{ s}$.\n",
    "### Betingede funksjoner i `Python`\n",
    "\n",
    "I øving 4 så vi på bruk av if-setinger til å regne på betingede funksjoner (som f.eks. `abs(x)`). Absoluttverdi-funksjonen  $\\text{abs}(x)$ kan skrives som en betinget funksjon som følger:\n",
    "\n",
    "$ \\text{abs}(x) = \\begin{cases} x, \\text{ if } x \\geq 0\\\\ -x, \\text{ if } x < 0 \\end{cases}$\n",
    "\n",
    "I Python kan vi håndtere dette ved å undersøke hvilken input som gis til funksjonen, og returnere den riktige verdien, slik det er gjort i eksempelet nedenfor."
   ]
  },
  {
   "cell_type": "code",
   "execution_count": null,
   "id": "comprehensive-queue",
   "metadata": {
    "deletable": false,
    "execution": {
     "iopub.execute_input": "2025-09-15T12:57:18.927476Z",
     "iopub.status.busy": "2025-09-15T12:57:18.926424Z",
     "iopub.status.idle": "2025-09-15T12:57:18.942538Z",
     "shell.execute_reply": "2025-09-15T12:57:18.940262Z"
    }
   },
   "outputs": [],
   "source": [
    "def abs_tall(x):\n",
    "    if x > 0:\n",
    "        return x\n",
    "    else:\n",
    "        return -x\n",
    "        \n",
    "# Dersom vi gir en positiv verdi som input, forventer samme positive verdi som output\n",
    "print(f\"{abs_tall(2) = }\")\n",
    "# Dersom vi gir en negativ verdi som input, forventer vi at fortenget er blitt omgjort\n",
    "print(f\"{abs_tall(-2) = }\")"
   ]
  },
  {
   "cell_type": "markdown",
   "id": "a93f482c-8c0d-479b-a0aa-0ba304cc0976",
   "metadata": {
    "deletable": false,
    "editable": true,
    "slideshow": {
     "slide_type": ""
    },
    "tags": []
   },
   "source": [
    "## a) \n",
    "Fullfør funksjonen `v_tall(t)` som tar inn en ett enkelt tidspunkt $t$ og returnerer hastigheten ved det tidspunktet i henhold til formel $2.1$ ovenfor."
   ]
  },
  {
   "cell_type": "code",
   "execution_count": null,
   "id": "7bbf137c-4ddd-4306-a0a3-078458f06199",
   "metadata": {
    "deletable": false,
    "execution": {
     "iopub.execute_input": "2025-09-15T12:57:18.951472Z",
     "iopub.status.busy": "2025-09-15T12:57:18.950574Z",
     "iopub.status.idle": "2025-09-15T12:57:18.960816Z",
     "shell.execute_reply": "2025-09-15T12:57:18.957861Z"
    },
    "nbgrader": {
     "cell_type": "code",
     "checksum": "74766cbfc563f4865e1f3d5fdf752955",
     "grade": false,
     "grade_id": "cell-9366236bd1b3214f",
     "locked": false,
     "schema_version": 3,
     "solution": true,
     "task": false
    }
   },
   "outputs": [],
   "source": [
    "def v_tall(t):\n",
    "    g = 9.81\n",
    "    v_term = 50\n",
    "    #-------------------------------------\n",
    "    # SKRIV DIN KODE HER!\n",
    "    #-------------------------------------"
   ]
  },
  {
   "cell_type": "code",
   "execution_count": null,
   "id": "72dcdd90-ba7c-48d9-8f12-4b875c23b8c1",
   "metadata": {
    "autofeedback": {
     "test_code": "ZnJvbSBhdXRvZmVlZGJhY2sgaW1wb3J0IEZ1bmN0aW9uVGVzdHMKZnJvbSByYW5kb20gaW1wb3J0IHNhbXBsZQpmcm9tIG51bXB5IGltcG9ydCBsaW5zcGFjZQoKZGVmIHZfdGFsbF9zb2x1dGlvbih0KToKICAgIGcgPSA5LjgxCiAgICB2X3Rlcm0gPSA1MAogICAgdF9hID0gdl90ZXJtL2cKICAgIGlmIHQgPiB0X2E6CiAgICAgICAgcmV0dXJuIHZfdGVybQogICAgZWxzZToKICAgICAgICByZXR1cm4gZyp0CgpncmFkaW5nX3Jlc3VsdHMgPSBGdW5jdGlvblRlc3RzKHZfdGFsbF9zb2x1dGlvbikKdHJ5OgogICAgZ3JhZGluZ19yZXN1bHRzLmFkZF90ZXN0X2Z1bmModl90YWxsKQpleGNlcHQgRXhjZXB0aW9uIGFzIGU6CiAgICBncmFkaW5nX3Jlc3VsdHMubG9nLmFwcGVuZCgiQ291bGQgbm90IHJ1biB0ZXN0cywgIitlLmFyZ3NbMF0pCmVsc2U6CiAgICBOID0gMgogICAgVF92YWxzID0gc2FtcGxlKGxpc3QocmFuZ2UoMCwgNikpLCBOKQogICAgcmVzX3ZhbHMgPSBzYW1wbGUobGlzdChyYW5nZSg0MCwgMTEwLCAxMCkpLCBOKQoKICAgICMgVGVzdCBmb3IgdGltZSBpbnRlcnZhbCBiZWZvcmUgdGVybWluYWwgdmVsb2NpdHkKICAgIGZvciBUIGluIHNhbXBsZShsaXN0KHJhbmdlKDAsIDYpKSxOKToKICAgICAgICBncmFkaW5nX3Jlc3VsdHMudGVzdF9yZXR1cm5fdmFsdWUoVCkKICAgICMgVGVzdCBmb3IgdGltZSBpbnRlcnZhbCBhZnRlciB0ZXJtaW5hbCB2ZWxvY2l0eQogICAgZm9yIFQgaW4gc2FtcGxlKGxpc3QocmFuZ2UoNiwxMikpLE4pOgogICAgICAgIGdyYWRpbmdfcmVzdWx0cy50ZXN0X3JldHVybl92YWx1ZShUKQoKcm91bmQoZ3JhZGluZ19yZXN1bHRzLmdldF9yZXN1bHRzKCkqNSwgMyk="
    },
    "deletable": false,
    "editable": false,
    "execution": {
     "iopub.execute_input": "2025-09-15T12:57:18.968834Z",
     "iopub.status.busy": "2025-09-15T12:57:18.967873Z",
     "iopub.status.idle": "2025-09-15T12:57:22.038391Z",
     "shell.execute_reply": "2025-09-15T12:57:22.036027Z"
    },
    "nbgrader": {
     "cell_type": "code",
     "checksum": "e9b65e1dd67758c6978b19649ee9f69c",
     "grade": true,
     "grade_id": "cell-0a03c007df63e495",
     "locked": true,
     "points": 5,
     "schema_version": 3,
     "solution": false,
     "task": false
    },
    "slideshow": {
     "slide_type": ""
    },
    "tags": []
   },
   "outputs": [],
   "source": [
    "# Denne cellen brukes under retting. La stå!"
   ]
  },
  {
   "cell_type": "markdown",
   "id": "81b3040f-d9e7-4355-b030-b18d0d56fffc",
   "metadata": {
    "deletable": false,
    "editable": true,
    "slideshow": {
     "slide_type": ""
    },
    "tags": []
   },
   "source": [
    "### Betingede funksjoner med liste/array som input\n",
    "\n",
    "Som kjent er **if**-setninger dårlig egnet til å håndtere arrays, og dersom vi ønsker å benytte funksjonen over til å regne ut $\\text{abs}(x)$ for alle verdiene i en array må, vi benytte en løkke. Nedenfor ser du funksjonen `abs_liste` som kan brukes med lister/arrays som input.\n",
    "\n",
    "<!--*PS: koden* `: np.ndarray` *i første linjen er det vi kaller et [type hint](https://www.geeksforgeeks.org/type-hints-in-python/), og der for å fortelle hva slags data som skal sendes til funksjonen `g(x)`. Når man programmerer matematiske uttrykk i python, kan dette være et svært nyttig verktøy for å oppklare hva funksjonen gjør.*-->"
   ]
  },
  {
   "cell_type": "code",
   "execution_count": null,
   "id": "e40838e0-3b53-4139-b1e5-d698e4e46625",
   "metadata": {
    "deletable": false,
    "execution": {
     "iopub.execute_input": "2025-09-15T12:57:22.046988Z",
     "iopub.status.busy": "2025-09-15T12:57:22.045807Z",
     "iopub.status.idle": "2025-09-15T12:57:22.055922Z",
     "shell.execute_reply": "2025-09-15T12:57:22.053782Z"
    },
    "tags": []
   },
   "outputs": [],
   "source": [
    "def abs_liste(x_values):\n",
    "    y_values = []  # Forbered en tom liste som skal holde alle verdiene y = |x|\n",
    "    for x in x_values:\n",
    "        y = abs_tall(x)\n",
    "        y_values.append(y)\n",
    "    return y_values"
   ]
  },
  {
   "cell_type": "markdown",
   "id": "863a9cd5-a619-49c8-a140-8b126ee786ed",
   "metadata": {
    "deletable": false,
    "editable": true,
    "slideshow": {
     "slide_type": ""
    },
    "tags": []
   },
   "source": [
    "Forklaringen av funksjonens innhold er som følger:\n",
    "1. Lag en \"tom\" liste `y_list`. Denne skal etter hvert inneholde funksjonsverdiene $f(x)$ for alle verdiene i `x_array` når løkken er ferdig.\n",
    "    * Vi bruker en liste og ikke en array for å kunne dra nytte av muligheten til å legge til elementer underveis.\n",
    "3. Begynn en for-løkke som itererer over alle elementer i arrayen `x_array`. \n",
    "    * For hver av verdiene `x`, finner vi den riktige utgangsverdien `y` ved å kalle den tidligere funksjonen `abs_tall`.\n",
    "    * Vi skal dog ikke returnere utregnede verdier `y`, men istedenfor skrive de til listen vi lagde i steg 1.\n",
    "4. Returner til slutt hele listen `y_list` konvertert til en numpy-array."
   ]
  },
  {
   "cell_type": "markdown",
   "id": "focused-secondary",
   "metadata": {
    "deletable": false,
    "editable": true,
    "slideshow": {
     "slide_type": ""
    },
    "tags": []
   },
   "source": [
    "## b)\n",
    "\n",
    "Du skal skrive en funksjon som tar inn en array med tidspunkt, og returnerer hastigheten til hopperen på de ulike tidspunktene basert på den betingede funksjonen i formel $2.1$\n",
    "\n",
    "**Skriv koden din her:**"
   ]
  },
  {
   "cell_type": "code",
   "execution_count": null,
   "id": "altered-symphony",
   "metadata": {
    "deletable": false,
    "editable": true,
    "execution": {
     "iopub.execute_input": "2025-09-15T12:57:22.062734Z",
     "iopub.status.busy": "2025-09-15T12:57:22.062164Z",
     "iopub.status.idle": "2025-09-15T12:57:22.071243Z",
     "shell.execute_reply": "2025-09-15T12:57:22.069431Z"
    },
    "nbgrader": {
     "cell_type": "code",
     "checksum": "d46a248e401f0d63204c0e0f3f39b23c",
     "grade": false,
     "grade_id": "cell-edacc9ae90a1005a",
     "locked": false,
     "schema_version": 3,
     "solution": true,
     "task": false
    },
    "slideshow": {
     "slide_type": ""
    },
    "tags": []
   },
   "outputs": [],
   "source": [
    "def v_liste(t):\n",
    "    g = 9.81\n",
    "    v_term = 50\n",
    "    #-------------------------------------\n",
    "    # SKRIV DIN KODE HER!\n",
    "    #-------------------------------------"
   ]
  },
  {
   "cell_type": "markdown",
   "id": "leading-depth",
   "metadata": {
    "deletable": false,
    "editable": true,
    "slideshow": {
     "slide_type": ""
    },
    "tags": []
   },
   "source": [
    "Vi kan lage et plot av hastighet over tid for å sjekke at funksjonen fungerer slik den skal. Har du løst oppgaven riktig bør plottet se noe [slik](Figurer/oppg2b_lf.svg) ut."
   ]
  },
  {
   "cell_type": "code",
   "execution_count": null,
   "id": "portable-serum",
   "metadata": {
    "autofeedback": {
     "test_code": "I3BsdC5zYXZlZmlnKCJGaWd1cmVyL29wcGcyYl9sZi5zdmciKQpmcm9tIGF1dG9mZWVkYmFjayBpbXBvcnQgRnVuY3Rpb25UZXN0cwpmcm9tIHJhbmRvbSBpbXBvcnQgc2FtcGxlCmZyb20gbnVtcHkgaW1wb3J0IGxpbnNwYWNlCgpkZWYgaGFzdGlnaGV0X3NvbHV0aW9uKHQpOgogICAgZyA9IDkuODEKICAgIHZfdGVybSA9IDUwCiAgICB0X2EgPSB2X3Rlcm0vZwogICAgeSA9IFtdCiAgICBmb3IgaSBpbiByYW5nZShsZW4odCkpOgogICAgICAgIGlmIHRbaV0gPj0gdF9hOgogICAgICAgICAgICB5LmFwcGVuZCh2X3Rlcm0pCiAgICAgICAgZWxzZToKICAgICAgICAgICAgeS5hcHBlbmQodFtpXSpnKQogICAgcmV0dXJuIHkKCmdyYWRpbmdfcmVzdWx0cyA9IEZ1bmN0aW9uVGVzdHMoaGFzdGlnaGV0X3NvbHV0aW9uKQp0cnk6CiAgICBncmFkaW5nX3Jlc3VsdHMuYWRkX3Rlc3RfZnVuYyh2X2xpc3RlKQpleGNlcHQgRXhjZXB0aW9uIGFzIGU6CiAgICBncmFkaW5nX3Jlc3VsdHMubG9nLmFwcGVuZCgiQ291bGQgbm90IHJ1biB0ZXN0cywgIitlLmFyZ3NbMF0pCmVsc2U6CiAgICBOID0gMwogICAgVF92YWxzID0gc2FtcGxlKGxpc3QocmFuZ2UoMTIsIDMwKSksIE4pCiAgICByZXNfdmFscyA9IHNhbXBsZShsaXN0KHJhbmdlKDQwLCAxMTAsIDEwKSksIE4pCgogICAgIyBUZXN0IG5vbi1wcmltZXMKICAgIGZvciBULCByZXMgaW4gemlwKFRfdmFscywgcmVzX3ZhbHMpOgogICAgICAgIGdyYWRpbmdfcmVzdWx0cy50ZXN0X3JldHVybl92YWx1ZShsaW5zcGFjZSgwLCBULCByZXMpKQoKcm91bmQoZ3JhZGluZ19yZXN1bHRzLmdldF9yZXN1bHRzKCkqNSwgMyk="
    },
    "deletable": false,
    "editable": false,
    "execution": {
     "iopub.execute_input": "2025-09-15T12:57:22.077896Z",
     "iopub.status.busy": "2025-09-15T12:57:22.077251Z",
     "iopub.status.idle": "2025-09-15T12:57:22.266650Z",
     "shell.execute_reply": "2025-09-15T12:57:22.265406Z"
    },
    "nbgrader": {
     "cell_type": "code",
     "checksum": "a62857c2cd43b1d15bb60f3a89617a14",
     "grade": true,
     "grade_id": "cell-429d9839ffba84c9",
     "locked": true,
     "points": 5,
     "schema_version": 3,
     "solution": false,
     "task": false
    },
    "slideshow": {
     "slide_type": ""
    },
    "tags": []
   },
   "outputs": [],
   "source": [
    "import matplotlib.pyplot as plt\n",
    "import numpy as np\n",
    "\n",
    "t = np.linspace(0, 20, 501)\n",
    "\n",
    "plt.plot(t, v_liste(t))\n",
    "plt.xlabel(\"Tid (sekund)\")\n",
    "plt.ylabel(\"Hastighet (m/s)\")\n",
    "plt.grid(True)"
   ]
  },
  {
   "cell_type": "markdown",
   "id": "bbfc4680",
   "metadata": {
    "deletable": false,
    "editable": false,
    "slideshow": {
     "slide_type": ""
    },
    "tags": []
   },
   "source": [
    "<br>\n",
    "<nav class=\"navbar navbar-default\">\n",
    "        <div class=\"container-fluid\">\n",
    "            <div class=\"navbar-header\" style=\"float: left\">\n",
    "                <a class=\"navbar-brand\" href=\"1_terminalhastighet.ipynb\" target=\"_self\">&lt; Forrige side: <i>Terminalhastighet</i></a>\n",
    "                </div>\n",
    "            <div class=\"navbar-header\" style=\"float: right\">\n",
    "                <a class=\"navbar-brand\" href=\"3_eulers_metode.ipynb\" target=\"_self\">Neste side: <i>Eulers Metode</i> &gt;</a>\n",
    "            </div>\n",
    "        </div>\n",
    "</nav>"
   ]
  }
 ],
 "metadata": {
  "kernelspec": {
   "display_name": "Python 3 (ipykernel)",
   "language": "python",
   "name": "python3"
  },
  "language_info": {
   "codemirror_mode": {
    "name": "ipython",
    "version": 3
   },
   "file_extension": ".py",
   "mimetype": "text/x-python",
   "name": "python",
   "nbconvert_exporter": "python",
   "pygments_lexer": "ipython3",
   "version": "3.12.11"
  },
  "toc": {
   "base_numbering": 1
  }
 },
 "nbformat": 4,
 "nbformat_minor": 5
}
