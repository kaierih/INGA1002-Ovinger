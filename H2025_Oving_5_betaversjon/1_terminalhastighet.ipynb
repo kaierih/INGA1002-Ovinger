{
 "cells": [
  {
   "cell_type": "markdown",
   "id": "fd23ce5a-b624-4da7-9b9b-14ff21312dd9",
   "metadata": {
    "deletable": false,
    "editable": true,
    "slideshow": {
     "slide_type": ""
    },
    "tags": []
   },
   "source": [
    "\n",
    "<nav class=\"navbar navbar-default\">\n",
    "  <div class=\"container-fluid\">\n",
    "    <div class=\"navbar-header\" style=\"float: left\">\n",
    "        <a class=\"navbar-brand\" href=\"0_Forside.ipynb\" target=\"_self\"> <h2> &uarr; Tilbake til forsiden</h2></a>\n",
    "    </div>\n",
    "  </div>\n",
    "</nav>"
   ]
  },
  {
   "cell_type": "markdown",
   "id": "57f6ec23-d5e5-4aa1-a3f0-2943a9975268",
   "metadata": {
    "deletable": false,
    "editable": true,
    "slideshow": {
     "slide_type": ""
    },
    "tags": []
   },
   "source": [
    "# Fallskjermhopper I - *Intro til luftmotstand og terminalhastighet*\n",
    "\n",
    "#### Læringsmål:\n",
    "* Oppfriskning i Newtonsk Fysikk\n",
    "* Bruk av Python til fysikkberegninger\n",
    "* Plotting og grafisk ligningsløsning\n",
    "\n",
    "### Introduksjon:\n",
    "<!--![](Figurer/fallskjermhopper.svg)\n",
    "\n",
    "I denne oppgaven skal vi se på objekter i fritt fall. Eksempelet vi tar for oss er en fallskjermhopper med masse $m=70 \\text{Kg}$ som hopper ut av et fly i tidspunktet $t=0$. Du har kanskje regnet på fritt fall uten luftmotstand i fysikk på videregående allerede, men i denne øvingsoppgaven vil vi ta med luftmotstand i beregningene, og utforske hvordan  er at vi skal ta med *luftmotstand* i beregningene.\n",
    "\n",
    "Nøkkelen til å gjøre fysikkberegninger med luftmotstand er Newton's 2. lov:\n",
    "$$\\sum F = m\\cdot a \\tag{1.1}$$\n",
    "Newton's 2. lov sier at akselerasjonen $a$ til en gjenstand med masse $m$ vil være gitt ved summen av alle krefter som påvirker gjenstanden. I vårt tilfelle er det totalt to krefter som påvirker fallskjermhopperen i fritt fall: *luftmotstanden* $F_d$ og *tyngdekraften* $F_g$ (merk at de peker i motsatt retning). De totale kreftene $F$ som påvirker fallskjermhopperen blir da:\n",
    "$$\\sum F = F_g - F_d \\tag{1.2}$$\n",
    "Videre ved vi at kreftene $F_d$ og $F_g$ kan beskrives på følgende vis:\n",
    "* Tyngdekraften $F_g$ er lik produktet av masse og tyngdeakselerasjon:\n",
    "$$F_g=m\\cdot g \\tag{1.3}$$der tyngdeakselerasjonen er antatt å være $g=9.81 \\text{ m/s}^2$.\n",
    "* Luftmotstanden $F_d$ modelleres  som en kvadratisk funksjon av hastigheten $v$:\n",
    "$$F_d = \\beta \\cdot v^2 \\tag{1.4}$$hvor $beta$ er det vi kaller en *proporsjonalitetskonstant*. I denne oppgaven antar vi at proporsjonalitetskonstanten $\\beta = 0.227$.\n",
    "\n",
    "I cellen nedenfor deklareres konstantene som er relevante for oppgaven\n",
    "-->\n",
    "I denne oppgaven skal vi se på objekter i fritt fall. Eksempelet vi tar for oss er en fallskjermhopper med masse $m=70 \\text{Kg}$ som hopper ut av et fly i tidspunktet $t=0$. Før vi begynner å regne med luftmotstand, skal vi ta en kort oppfriskning i hvordan hastighet $v(t)$ og horisontal posisjon $h(t)$ endrer seg for en gjenstand med **konstant** akselerasjon $a(t) = g$ (altså uten luftmotstand). Når akselerasjonen er konstant vil hastigheten $v(t)$ øke i en lineær kurve slik som gitt i formelen nedenfor, og uttrykket for horisontal posisjon $h(t)$ blir en kvadratisk funksjon:\n",
    "$$\n",
    "\\begin{align*}\n",
    "v(t) &= v(0) + g \\cdot t \\\\\n",
    "h(t) &= h(0) - \\frac{1}{2} \\cdot g\\cdot t^2\n",
    "\\end{align*}\n",
    "$$\n",
    "\n",
    "Funksjonsverdiene $v(0)$ og $h(0)$ er det vi kaller *initialverdier*, og representerer hastigheten $v$ og høyden $h$ fallskjermhopperen har i det eksakte øyeblikket de hopper ut av flyet.\n",
    "<!--\n",
    "Du har kanskje regnet på fritt fall uten luftmotstand i fysikk på videregående allerede, men i denne øvingsoppgaven vil vi ta med luftmotstand i beregningene, og utforske hvordan  er at vi skal ta med <i>luftmotstand</i> i beregningene.</p>\n",
    "\n",
    "#### Luftmotstand og Newton's 2. Lov\n",
    "\n",
    "<div style=\"width: 100%;\">\n",
    "    <img src=\"Figurer/fallskjermhopper.svg\" width=\"400px\" align=\"right\" style=\"margin-left: 30px\"/>\n",
    "    <div align=\"left\">\n",
    "        <p>Nøkkelen til å gjøre fysikkberegninger med luftmotstand er Newton's 2. lov:<br>\n",
    "        $$\\sum F = m\\cdot a \\tag{1.1}$$</p>\n",
    "        <p>Newton's 2. lov sier at akselerasjonen $a$ til en gjenstand med masse $m$ vil være gitt ved summen av alle krefter som påvirker gjenstanden. I vårt tilfelle er det totalt to krefter som påvirker fallskjermhopperen i fritt fall: <i>luftmotstanden</i> $F_d$ og <i>tyngdekraften</i> $F_g$ (merk at de peker i motsatt retning). De totale kreftene $F$ som påvirker fallskjermhopperen blir da:<br>\n",
    "$$\\sum F = F_g - F_d \\tag{1.2}$$</p>\n",
    "        \n",
    "Videre vet vi at kreftene $F_d$ og $F_g$ kan beskrives på følgende vis:\n",
    "        <ul>\n",
    "            <li>Tyngdekraften $F_g$ er lik produktet av masse og tyngdeakselerasjon: \n",
    "            $$F_g=m\\cdot g \\tag{1.3}$$der tyngdeakselerasjonen er antatt å være $g=9.81 \\text{ m/s}^2$.</li>\n",
    "            <li>Luftmotstanden $F_d$ modelleres  som en kvadratisk funksjon av hastigheten $v$:\n",
    "$$F_d = \\beta \\cdot v^2 \\tag{1.4}$$hvor $\\beta$ er det vi kaller en <i>proporsjonalitetskonstant</i>. I denne oppgaven antar vi at proporsjonalitetskonstanten $\\beta = 0.227$.</li>\n",
    "        </ul>\n",
    "    </div>\n",
    "</div> \n",
    "\n",
    "Ved å kombinere formel $1.1$, $1.2$, $1.3$ & $1.4$, kan vi komme fram til én ligning som beskriver sammenhengen mellom hastighet $v$ og akselerasjon $a$:\n",
    "\n",
    "$$m\\cdot g - \\beta \\cdot v^2(t) = m \\cdot a(t) \\tag{1.5}$$\n",
    "-->"
   ]
  },
  {
   "cell_type": "markdown",
   "id": "2da02790-4356-4c40-b521-ecead1efb0a1",
   "metadata": {
    "deletable": false,
    "editable": true,
    "slideshow": {
     "slide_type": ""
    },
    "tags": []
   },
   "source": [
    "<!--#### Oppfriskning bevegelse med konstant akselerasjon\n",
    "\n",
    "Før vi begynner å regne med luftmotstand, skal vi ta en kort oppfriskning i hvordan hastighet $v(t)$ og horisontal posisjon $h(t)$ endrer seg for en gjenstand med **konstant** akselerasjon $a(t) = g$. Når akselerasjonen er konstant vil hastigheten vokse lineært slik som gitt i formelen nedenfor, og vi får også et nokså greit uttrykk for å regne ut horisontal posisjon:\n",
    "$$\n",
    "\\begin{align*}\n",
    "v(t) &= v(0) + g \\cdot t \\\\\n",
    "h(t) &= h(0) - \\frac{1}{2} \\cdot g\\cdot t^2\n",
    "\\end{align*}\n",
    "$$ -->\n",
    "## a) \n",
    "Gitt at fallskjermhopperen hopper ut av et fly i tidspunktet $t=0$ som holder en høyde $h(0) = 3000 \\text{ m}$ og fallskjermhopperens initialhastighet $v(0) = 0 \\text{ m/s}$, regn ut både hastighet $v(t)$ og høyde over bakken $h(t)$ etter $t=10$ sekund."
   ]
  },
  {
   "cell_type": "code",
   "execution_count": null,
   "id": "8d0f8724-b650-483d-a208-34cefcd721f4",
   "metadata": {
    "deletable": false,
    "editable": true,
    "execution": {
     "iopub.execute_input": "2025-09-15T12:57:11.646476Z",
     "iopub.status.busy": "2025-09-15T12:57:11.645804Z",
     "iopub.status.idle": "2025-09-15T12:57:11.668103Z",
     "shell.execute_reply": "2025-09-15T12:57:11.665183Z"
    },
    "nbgrader": {
     "cell_type": "code",
     "checksum": "45a1497fcb5cf1432692f26167e8d8e9",
     "grade": false,
     "grade_id": "cell-e601de384ec3fa4e",
     "locked": false,
     "schema_version": 3,
     "solution": true,
     "task": false
    },
    "slideshow": {
     "slide_type": ""
    },
    "tags": []
   },
   "outputs": [],
   "source": [
    "g = 9.81 # Tyngdeakselerasjon gitt i m/s^2\n",
    "h_0 = 3_000 # Initialverdi for høyde over bakken i meter\n",
    "\n",
    "v_10 = \"???\"\n",
    "h_10 = \"???\"\n",
    "#-------------------------------------\n",
    "# SKRIV DIN KODE HER!\n",
    "#-------------------------------------\n",
    "print(f\"Etter 10 sekund med konstant akselerasjon har fallskjermhopperen en hastighet på v={v_10:.2f} m/s, og en høyde over bakken på h={h_10:.0f} meter\")"
   ]
  },
  {
   "cell_type": "code",
   "execution_count": null,
   "id": "24168613-279e-4b0e-87fc-91872daafcf1",
   "metadata": {
    "autofeedback": {
     "test_code": "ZGVmIHRlc3Rfcm91dGluZSgpOgogICAgZnJvbSBhdXRvZmVlZGJhY2sgaW1wb3J0IFZhcmlhYmxlVGVzdHMKCiAgICBnID0gOS44MSAjIFR5bmdkZWFrc2VsZXJhc2pvbiBnaXR0IGkgbS9zXjIKICAgIGhfMCA9IDNfMDAwICMgSW5pdGlhbHZlcmRpIGZvciBow7h5ZGUgb3ZlciBiYWtrZW4gaSBtZXRlcgogICAgCiAgICB0ID0gMTAKICAgIHZfMTBfc29sID0gMCArIGcqdAogICAgaF8xMF9zb2wgPSAzMDAwIC0gMC41KmcqdCoqMgoKICAgIHRlc3RfcmVzdWx0cyA9IFZhcmlhYmxlVGVzdHMoKQogICAgdGVzdF9yZXN1bHRzLmNvbXBhcmVfdmFsdWVzKHZfMTAsIHZfMTBfc29sLCBuYW1lPSJ2XzEwIiwgcnRvbD0xZS0zKQogICAgdGVzdF9yZXN1bHRzLmNvbXBhcmVfdmFsdWVzKGhfMTAsIGhfMTBfc29sLCBuYW1lPSJoXzEwIiwgcnRvbD0xZS0zKQogICAgICAgICAgICAKICAgIHJldHVybiByb3VuZCh0ZXN0X3Jlc3VsdHMuZ2V0X3Jlc3VsdHMoKSoyLCAyKQp0ZXN0X3JvdXRpbmUoKQ=="
    },
    "deletable": false,
    "editable": false,
    "execution": {
     "iopub.execute_input": "2025-09-15T12:57:11.673486Z",
     "iopub.status.busy": "2025-09-15T12:57:11.672845Z",
     "iopub.status.idle": "2025-09-15T12:57:14.677017Z",
     "shell.execute_reply": "2025-09-15T12:57:14.675311Z"
    },
    "nbgrader": {
     "cell_type": "code",
     "checksum": "6e44c6cea9199c69ec81c67844b6c4ea",
     "grade": true,
     "grade_id": "cell-740429d107dd06b7",
     "locked": true,
     "points": 2,
     "schema_version": 3,
     "solution": false,
     "task": false
    },
    "slideshow": {
     "slide_type": ""
    },
    "tags": []
   },
   "outputs": [],
   "source": [
    "# Denne cellen brukes under retting. La stå!"
   ]
  },
  {
   "cell_type": "markdown",
   "id": "4cff4572-a62b-4a87-802f-1738efc711d6",
   "metadata": {
    "deletable": false,
    "editable": true,
    "slideshow": {
     "slide_type": ""
    },
    "tags": []
   },
   "source": [
    "\n",
    "Utregningene i deloppgave **a)** skal være ganske rett fram, men tar som kjent ikke høyde for luftmotstand. For å ta luftmotstand med i beregningene, må vi ta i bruk Newton's 2. Lov slik som beskrevet i øvingens [forside](0_Forside.ipynb). Slik formel $4$ og $5$ beskriver, vil økt hastighet $v$ føre til økt luftmotstand $F_d$, noe som igjen vil påvirke fallskjermhopperens akselerasjon $a$. Formlene er gjengitt nedenfor:\n",
    "\n",
    "\\begin{align}\n",
    "F_d &= \\beta \\cdot v^2 \\tag{4} \\\\ \\\\\n",
    "m\\cdot g - \\beta \\cdot v^2 &= m \\cdot a \\tag{5} \n",
    "\\end{align}\n",
    "\n",
    "I denne oppgaven regner vi med at proporsjonalitetskonstanten $\\beta = 0.23$."
   ]
  },
  {
   "cell_type": "markdown",
   "id": "6eccbc5b-060d-4712-b634-fad9e493f2d2",
   "metadata": {
    "deletable": false
   },
   "source": [
    "## b) \n",
    "Gitt en hastighet $v=25 \\text{m/s}$ og $m = 70 \\text{ kg}$, bruk formel $4$ til å regne ut luftmotstanden $F_d$, og løs ligning $5$ for å finne akselerasjonen $a$."
   ]
  },
  {
   "cell_type": "code",
   "execution_count": null,
   "id": "6a5a81a1-4390-4c77-8ed4-87a7bf6d06d7",
   "metadata": {
    "deletable": false,
    "execution": {
     "iopub.execute_input": "2025-09-15T12:57:14.683907Z",
     "iopub.status.busy": "2025-09-15T12:57:14.683359Z",
     "iopub.status.idle": "2025-09-15T12:57:14.691205Z",
     "shell.execute_reply": "2025-09-15T12:57:14.689401Z"
    },
    "nbgrader": {
     "cell_type": "code",
     "checksum": "1b2664d82c130d22fdd77b0ec5ab3a17",
     "grade": false,
     "grade_id": "cell-8e0c2fd9483e6d4e",
     "locked": false,
     "schema_version": 3,
     "solution": true,
     "task": false
    }
   },
   "outputs": [],
   "source": [
    "# Oppgaveparametre\n",
    "g = 9.81 # Tyngdeakselerasjon gitt i m/s^2\n",
    "v = 25 # m/s\n",
    "m = 70 # kg\n",
    "beta = 0.23 # Proporsjonalitetskonstant\n",
    "\n",
    "# Utregninger\n",
    "F_d = \"???\"\n",
    "a = \"???\"\n",
    "#-------------------------------------\n",
    "# SKRIV DIN KODE HER!\n",
    "#-------------------------------------\n",
    "\n",
    "# Foreslått formatert utskrift av utregnede verdier\n",
    "print(f\"Luftmotstanden ved en hastighet på {v} m/s er {F_d:.2f} Newton\")\n",
    "print(f\"Fallskjermhopperens akselerasjon er nå {a:.2f} m/s^2\")"
   ]
  },
  {
   "cell_type": "code",
   "execution_count": null,
   "id": "9fa99516-5fd3-41ab-ba62-15c053304eba",
   "metadata": {
    "autofeedback": {
     "test_code": "ZGVmIHRlc3Rfcm91dGluZSgpOgogICAgZnJvbSBhdXRvZmVlZGJhY2sgaW1wb3J0IFZhcmlhYmxlVGVzdHMKICAgIGcgPSA5LjgxICMgVHluZ2RlYWtzZWxlcmFzam9uIGdpdHQgaSBtL3NeMgogICAgdiA9IDI1ICMgbS9zCiAgICBtID0gNzAgIyBrZwogICAgYmV0YSA9IDAuMjMgIyBQcm9wb3Jzam9uYWxpdGV0c2tvbnN0YW50CiAgICAKICAgIEZfZF9zb2wgPSB2KioyKmJldGEKICAgIEZfZ19zb2wgPSBtKmcKICAgIGFfc29sID0gKEZfZ19zb2wtRl9kX3NvbCkvbQoKICAgIHRlc3RfcmVzdWx0cyA9IFZhcmlhYmxlVGVzdHMoKQogICAgdGVzdF9yZXN1bHRzLmNvbXBhcmVfdmFsdWVzKEZfZCwgRl9kX3NvbCwgbmFtZT0iRl9kIiwgcnRvbD0xZS0zKQogICAgdGVzdF9yZXN1bHRzLmNvbXBhcmVfdmFsdWVzKGEsIGFfc29sLCBuYW1lPSJhIiwgcnRvbD0xZS0zKQogICAgICAgICAgICAKICAgIHJldHVybiByb3VuZCh0ZXN0X3Jlc3VsdHMuZ2V0X3Jlc3VsdHMoKSoyLCAyKQp0ZXN0X3JvdXRpbmUoKQ=="
    },
    "deletable": false,
    "editable": false,
    "execution": {
     "iopub.execute_input": "2025-09-15T12:57:14.696863Z",
     "iopub.status.busy": "2025-09-15T12:57:14.696574Z",
     "iopub.status.idle": "2025-09-15T12:57:14.708121Z",
     "shell.execute_reply": "2025-09-15T12:57:14.706600Z"
    },
    "nbgrader": {
     "cell_type": "code",
     "checksum": "258a7747eac81c130465625940700219",
     "grade": true,
     "grade_id": "cell-ec7d62537f407a5e",
     "locked": true,
     "points": 2,
     "schema_version": 3,
     "solution": false,
     "task": false
    }
   },
   "outputs": [],
   "source": [
    "# Denne cellen brukes under retting. La stå!"
   ]
  },
  {
   "cell_type": "markdown",
   "id": "6de5285f-7406-455a-bcfb-8719bcc46983",
   "metadata": {
    "deletable": false
   },
   "source": [
    "## c) \n",
    "Bygg videre på svaret i deloppgave **b)**, og fullfør funksjonen `calculate_acceleration` som returnerer akselerasjon ved en gitt hastighet og masse.<br>*PS: Legg merket til at vi regner tyngdeakselerasjon `g` og proporsjonalitetskonstant `beta` som konstante verdier heller enn parametres som kan variere over tid eller mellom hopp. Defor fastsettes disse inni funksjonen heller enn å tas med som input-parametre.*"
   ]
  },
  {
   "cell_type": "code",
   "execution_count": null,
   "id": "8fc71861-2069-424c-a9f9-1b27a17dc431",
   "metadata": {
    "deletable": false,
    "editable": true,
    "execution": {
     "iopub.execute_input": "2025-09-15T12:57:14.713407Z",
     "iopub.status.busy": "2025-09-15T12:57:14.713042Z",
     "iopub.status.idle": "2025-09-15T12:57:14.722318Z",
     "shell.execute_reply": "2025-09-15T12:57:14.719736Z"
    },
    "nbgrader": {
     "cell_type": "code",
     "checksum": "742fa08a40684b096cc5840cd327bd57",
     "grade": false,
     "grade_id": "cell-3f0b66afe06ceeb0",
     "locked": false,
     "schema_version": 3,
     "solution": true,
     "task": false
    },
    "slideshow": {
     "slide_type": ""
    },
    "tags": []
   },
   "outputs": [],
   "source": [
    "def calculate_acceleration(m, v):\n",
    "    g = 9.81\n",
    "    beta = 0.23\n",
    "    #-------------------------------------\n",
    "    # SKRIV DIN KODE HER!\n",
    "    #-------------------------------------\n",
    "    return a\n",
    "\n",
    "# Foreslåtte funksjonstester\n",
    "print(f\"Ved hastighet v=30 m/s, så er akselerasjonen til fallskjermhopperen a={calculate_acceleration(70, 30):.2f} m/s^2.\")\n",
    "print(f\"Ved hastighet v=40 m/s, så er akselerasjonen til fallskjermhopperen a={calculate_acceleration(70, 40):.2f} m/s^2.\")"
   ]
  },
  {
   "cell_type": "code",
   "execution_count": null,
   "id": "386375eb-3bb9-408e-aa30-373421186fc2",
   "metadata": {
    "autofeedback": {
     "test_code": "ZGVmIHRlc3Rfcm91dGluZSgpOgogICAgZnJvbSBhdXRvZmVlZGJhY2sgaW1wb3J0IEZ1bmN0aW9uVGVzdHMKICAgIGltcG9ydCBudW1weSBhcyBucAogICAgZnJvbSByYW5kb20gaW1wb3J0IHNhbXBsZSwgcmFuZGludAoKICAgIGRlZiBjYWxjdWxhdGVfYWNjZWxlcmF0aW9uX3NvbHV0aW9uKG0sIHYpOgogICAgICAgIGcgPSA5LjgxCiAgICAgICAgYmV0YSA9IDAuMjMKICAgICAgICBGX2QgPSB2KioyKmJldGEKICAgICAgICBGX2cgPSBtKmcKICAgICAgICBhID0gKEZfZy1GX2QpL20KICAgICAgICByZXR1cm4gYQoKCiAgICBncmFkaW5nX3Jlc3VsdHMgPSBGdW5jdGlvblRlc3RzKGNhbGN1bGF0ZV9hY2NlbGVyYXRpb25fc29sdXRpb24sIHJ0b2w9MWUtNikKICAgIHRyeToKICAgICAgICBncmFkaW5nX3Jlc3VsdHMuYWRkX3Rlc3RfZnVuYyhjYWxjdWxhdGVfYWNjZWxlcmF0aW9uKQogICAgZXhjZXB0IEV4Y2VwdGlvbiBhcyBlOgogICAgICAgIGdyYWRpbmdfcmVzdWx0cy5sb2cuYXBwZW5kKCJDb3VsZCBub3QgcnVuIHRlc3RzLCAiK2UuYXJnc1swXSkKICAgIGVsc2U6CiAgICAgICAgTiA9IDMKICAgICAgICB2X3ZhbHVlcyA9IHNhbXBsZShsaXN0KHJhbmdlKDIsIDUwKSksIE4pCiAgICAgICAgbV92YWx1ZXMgPSBzYW1wbGUobGlzdChyYW5nZSg1MCwgOTApKSwgTikKICAgICAgICBmb3IgdiwgbSBpbiAgemlwKHZfdmFsdWVzLCBtX3ZhbHVlcyk6CiAgICAgICAgICAgIGdyYWRpbmdfcmVzdWx0cy50ZXN0X3JldHVybl92YWx1ZSh2LCBtKQogICAgICAgICAgICAKICAgIHJldHVybiByb3VuZChncmFkaW5nX3Jlc3VsdHMuZ2V0X3Jlc3VsdHMoKSoyLCAyKQp0ZXN0X3JvdXRpbmUoKQ=="
    },
    "deletable": false,
    "editable": false,
    "execution": {
     "iopub.execute_input": "2025-09-15T12:57:14.728705Z",
     "iopub.status.busy": "2025-09-15T12:57:14.728002Z",
     "iopub.status.idle": "2025-09-15T12:57:14.755461Z",
     "shell.execute_reply": "2025-09-15T12:57:14.753113Z"
    },
    "nbgrader": {
     "cell_type": "code",
     "checksum": "83679454a526cc291ad00faef8277350",
     "grade": true,
     "grade_id": "cell-840ad09316c0e0d9",
     "locked": true,
     "points": 2,
     "schema_version": 3,
     "solution": false,
     "task": false
    },
    "slideshow": {
     "slide_type": ""
    },
    "tags": []
   },
   "outputs": [],
   "source": [
    "# Denne cellen brukes under retting. La stå!"
   ]
  },
  {
   "cell_type": "markdown",
   "id": "e91b1fee-2c32-4522-8481-ac51777a2ceb",
   "metadata": {
    "deletable": false
   },
   "source": [
    "Dersom du har løst oppgaven riktig vil funksjonstestene ovenfor gi følgende utskrift:\n",
    "> `Ved hastighet v=30 m/s, så er akselerasjonen til fallskjermhopperen a=6.85 m/s^2.`<br>\n",
    "> `Ved hastighet v=40 m/s, så er akselerasjonen til fallskjermhopperen a=4.55 m/s^2.`\n",
    "\n",
    "### Terminalhastighet\n",
    "Noe som kommer frem fra deloppgave **b)** og **c)**, er at fallskjermhopperens akselerasjon blir mindre desto større hastigheten $v$ er. Dette antyder at fallskjermhopperen etter hvert vil nå en hastighet $v$ der akselerasjonsuttrykket $a(t) \\rightarrow 0 \\text{m/s}^2$, og hastigheten forblir konstant. Dette er illustrert i figuren nedenfor.\n",
    "\n",
    "\n",
    "![](Figurer/terminalhastighet.svg)\n",
    "\n",
    "Denne konstante hastigheten er det vi kaller *terminalhastighet*, og oppstår når tyngdekraften $F_g$ og luftmotstanden $F_d$ utligner hverandre. Det vil si at $\\sum F = F_g - F_d = 0 $ Newton. Når summen av krefter som påvirker fallskjermhopperen er lik $0$, så må da også akselerasjonen være lik $0 \\text{ m/s}^2$ i henhold til formel $1$ i øvingens [forside](0_Forside.ipynb)."
   ]
  },
  {
   "cell_type": "markdown",
   "id": "9ea22e95-a16e-48aa-b6ae-825374e31720",
   "metadata": {
    "deletable": false
   },
   "source": [
    "## d)\n",
    "Vi skal nå ta i bruk plotting slik at vi kan identifisere grafisk hva terminalhastigheten er. Bruk en [array](https://numpy.org/doc/stable/reference/generated/numpy.ndarray.html) med mange hastighetsverdier $v$ til å plotte luftmotstanden $F_d$ som funksjon av hastighet $v$, for hastighetsverdier $v \\in [0, 100]$. Lag så en ny kurve i plottet som viser tyngdekraften $F_g$ for alle hastighetsverdiene $v$. Terminalhastigheten til fallskjermhopperen vil være punktet der de to linjene krysser hverandre.\n",
    "\n",
    "Gjeldende fysiske parametre:\n",
    "\\begin{align}\n",
    "g &= 9.81 \\text{ m/s}^2 \\\\\n",
    "m &= 70 \\text{ kg} \\\\\n",
    "\\beta &= 0.23 \n",
    "\\end{align}"
   ]
  },
  {
   "cell_type": "code",
   "execution_count": null,
   "id": "d3de1fec-4c51-4d96-a4e7-247bdde63c21",
   "metadata": {
    "autofeedback": {
     "plot_task": true
    },
    "deletable": false,
    "editable": true,
    "execution": {
     "iopub.execute_input": "2025-09-15T12:57:14.762054Z",
     "iopub.status.busy": "2025-09-15T12:57:14.761525Z",
     "iopub.status.idle": "2025-09-15T12:57:15.048264Z",
     "shell.execute_reply": "2025-09-15T12:57:15.046481Z"
    },
    "nbgrader": {
     "cell_type": "code",
     "checksum": "6772c8c4d578fe90324184c3f7f55011",
     "grade": false,
     "grade_id": "cell-98ca3bff866d448b",
     "locked": false,
     "schema_version": 3,
     "solution": true,
     "task": false
    },
    "slideshow": {
     "slide_type": ""
    },
    "tags": []
   },
   "outputs": [],
   "source": [
    "import numpy as np\n",
    "import matplotlib.pyplot as plt\n",
    "\n",
    "# Ippgaveparametre\n",
    "v = np.linspace(0, 100, 101)\n",
    "g = 9.81 # Tyngdeakselerasjon gitt i m/s^2\n",
    "m = 70 # kg\n",
    "beta = 0.23 # Proporsjonalitetskonstant\n",
    "\n",
    "# Utregninger og plotting.\n",
    "#-------------------------------------\n",
    "# SKRIV DIN KODE HER!\n",
    "#-------------------------------------"
   ]
  },
  {
   "cell_type": "markdown",
   "id": "ac644eb7-c278-4dd1-aa34-0d00ace583c9",
   "metadata": {
    "deletable": false
   },
   "source": [
    "Dersom du har løst deloppgave **d)** riktig, burde figuren din ligne litt på [denne](Figurer/oppg1c_lf.svg). *PS: det er ikke nødvendig å redigere aksene slik at figuren din blir identisk med bildet.*<br>\n"
   ]
  },
  {
   "cell_type": "code",
   "execution_count": null,
   "id": "1cf0885b-7872-498b-ba3a-b46e7aa2e67e",
   "metadata": {
    "autofeedback": {
     "test_code": "ZnJvbSBhdXRvZmVlZGJhY2sgaW1wb3J0IFRlc3RDbGFzcywgUGxvdENoZWNrZXIKaW1wb3J0IG51bXB5IGFzIG5wCmRlZiB0ZXN0X3JvdXRpbmUoKToKICAgIHRlc3RfcmVzdWx0cyA9IFBsb3RDaGVja2VyKGZpZz1maWcpCiAgICBpZiB0ZXN0X3Jlc3VsdHMuY2hlY2tfbnVtX2xpbmVzKGV4cGVjdGVkX251bV9saW5lcz0yLCB3Z3Q9MS4wKToKICAgICAgICAKICAgICAgICBkZWYgY2FsY19GZCh2KToKICAgICAgICAgICAgZyA9IDkuODEKICAgICAgICAgICAgYmV0YSA9IDAuMjMKICAgICAgICAgICAgRl9kID0gdioqMipiZXRhCiAgICAgICAgICAgIHJldHVybiBGX2QKCiAgICAgICAgZGVmIGNhbGNfRmcodik6CiAgICAgICAgICAgIG0gPSA3MAogICAgICAgICAgICBnID0gOS44MQogICAgICAgICAgICByZXR1cm4gbSpnKm5wLm9uZXMobGVuKHYpKQogICAgICAgIAogICAgICAgIAogICAgICAgIHRlc3RfcmVzdWx0cy50ZXN0X2Z1bmN0aW9uX3NldChbY2FsY19GZCwgY2FsY19GZ10sCiAgICAgICAgICAgICAgICAgICAgICAgICAgICAgICAgICAgICAgICBbIkx1ZnRtb3RzdGFuZCIsICJUeW5nZGVrcmFmdCJdLAogICAgICAgICAgICAgICAgICAgICAgICAgICAgICAgICAgICAgICAgYXRvbD0xZS02LCBydG9sPTFlLTMsIHdndD0yLjApCgogICAgcmV0dXJuIHJvdW5kKHRlc3RfcmVzdWx0cy5nZXRfcmVzdWx0cygpKjIsIDIpCnRlc3Rfcm91dGluZSgp"
    },
    "deletable": false,
    "editable": false,
    "execution": {
     "iopub.execute_input": "2025-09-15T12:57:15.054753Z",
     "iopub.status.busy": "2025-09-15T12:57:15.054334Z",
     "iopub.status.idle": "2025-09-15T12:57:15.071595Z",
     "shell.execute_reply": "2025-09-15T12:57:15.070010Z"
    },
    "nbgrader": {
     "cell_type": "code",
     "checksum": "215ae7b72bbc2002570e47793a397330",
     "grade": true,
     "grade_id": "cell-bff01786a8eb0093",
     "locked": true,
     "points": 2,
     "schema_version": 3,
     "solution": false,
     "task": false
    },
    "slideshow": {
     "slide_type": ""
    },
    "tags": []
   },
   "outputs": [],
   "source": []
  },
  {
   "cell_type": "markdown",
   "id": "34dc2315-0655-44b8-893f-2fae98f852ca",
   "metadata": {
    "deletable": false,
    "editable": true,
    "slideshow": {
     "slide_type": ""
    },
    "tags": []
   },
   "source": [
    "\n",
    "\n",
    "## e)\n",
    "For å oppsummere, så er terminalhastigheten til fallksjermhopperen den hastigheten hvor tyngdekraft og luftmotstand utligner hverandre, altså er $F_d = F_g$. Ta utganspunkt i formlene $1.1$, $1.2$, $1.3$ & $1.4$ og bruk algebraiske metoder til å finne et uttrykk for hva terminalhastigheten er (gitt en masse `m`). Fullfør så funksjonen `terminal_velocity` som regner ut terminalhastigheten til en gjenstand basert på masse $m$ og proporsjonalitetskonstant $\\beta$.\n",
    "\n",
    "*Hint: dersom du er usikker på om du har gjort utregningen riktig, kan du sammenligne den utregnede terminalhastigheten med krysningspunktet vist i grafen fra oppgave **d)***"
   ]
  },
  {
   "cell_type": "code",
   "execution_count": null,
   "id": "8c43e80c-3fe2-4a52-b847-e000639abf90",
   "metadata": {
    "deletable": false,
    "editable": true,
    "execution": {
     "iopub.execute_input": "2025-09-15T12:57:15.077278Z",
     "iopub.status.busy": "2025-09-15T12:57:15.077029Z",
     "iopub.status.idle": "2025-09-15T12:57:15.084560Z",
     "shell.execute_reply": "2025-09-15T12:57:15.082720Z"
    },
    "nbgrader": {
     "cell_type": "code",
     "checksum": "946b096efff1c53a933118b8c3b5aa19",
     "grade": false,
     "grade_id": "cell-237d6f7df1a351cc",
     "locked": false,
     "schema_version": 3,
     "solution": true,
     "task": false
    },
    "slideshow": {
     "slide_type": ""
    },
    "tags": []
   },
   "outputs": [],
   "source": [
    "def terminal_velocity(m, beta):\n",
    "    g = 9.81 # Tyngdeakselerasjon\n",
    "    #-------------------------------------\n",
    "    # SKRIV DIN KODE HER!\n",
    "    #-------------------------------------\n",
    "    return v_term\n",
    "\n",
    "# Foreslåtte testkall for funksjonen:\n",
    "print(f\"{terminal_velocity(m=70, beta=0.23) = }\")"
   ]
  },
  {
   "cell_type": "code",
   "execution_count": null,
   "id": "0662f92c-b908-46f8-9c74-f8ef199e6dc3",
   "metadata": {
    "autofeedback": {
     "test_code": "ZGVmIHRlc3Rfcm91dGluZSgpOgogICAgZnJvbSBhdXRvZmVlZGJhY2sgaW1wb3J0IEZ1bmN0aW9uVGVzdHMKICAgIGltcG9ydCBudW1weSBhcyBucAogICAgZnJvbSByYW5kb20gaW1wb3J0IHNhbXBsZSwgcmFuZGludAoKICAgIGRlZiB0ZXJtaW5hbF92ZWxvY2l0eV9zb2x1dGlvbihtLCBiZXRhKToKICAgICAgICBnID0gOS44MSAjIFR5bmdkZWFrc2VsZXJhc2pvbgogICAgICAgIHZfdGVybSA9IChtKmcvYmV0YSkqKjAuNQogICAgICAgIHJldHVybiB2X3Rlcm0KCiAgICBncmFkaW5nX3Jlc3VsdHMgPSBGdW5jdGlvblRlc3RzKHRlcm1pbmFsX3ZlbG9jaXR5X3NvbHV0aW9uLCBydG9sPTFlLTYpCiAgICB0cnk6CiAgICAgICAgZ3JhZGluZ19yZXN1bHRzLmFkZF90ZXN0X2Z1bmModGVybWluYWxfdmVsb2NpdHkpCiAgICBleGNlcHQgRXhjZXB0aW9uIGFzIGU6CiAgICAgICAgZ3JhZGluZ19yZXN1bHRzLmxvZy5hcHBlbmQoIkNvdWxkIG5vdCBydW4gdGVzdHMsICIrZS5hcmdzWzBdKQogICAgZWxzZToKICAgICAgICBOID0gMwogICAgICAgIGJldGFfdmFsdWVzID0gc2FtcGxlKGxpc3QobnAubGluc3BhY2UoMC4yLCAwLjQsIDIwKSksIE4pCiAgICAgICAgbV92YWx1ZXMgPSBzYW1wbGUobGlzdChyYW5nZSg1MCwgOTApKSwgTikKICAgICAgICBmb3IgbSwgYmV0YSBpbiAgemlwKG1fdmFsdWVzLCBiZXRhX3ZhbHVlcyk6CiAgICAgICAgICAgIGdyYWRpbmdfcmVzdWx0cy50ZXN0X3JldHVybl92YWx1ZSh2LCBtKQogICAgICAgICAgICAKICAgIHJldHVybiByb3VuZChncmFkaW5nX3Jlc3VsdHMuZ2V0X3Jlc3VsdHMoKSoyLCAyKQp0ZXN0X3JvdXRpbmUoKQ=="
    },
    "deletable": false,
    "editable": false,
    "execution": {
     "iopub.execute_input": "2025-09-15T12:57:15.090479Z",
     "iopub.status.busy": "2025-09-15T12:57:15.090181Z",
     "iopub.status.idle": "2025-09-15T12:57:15.111394Z",
     "shell.execute_reply": "2025-09-15T12:57:15.109005Z"
    },
    "nbgrader": {
     "cell_type": "code",
     "checksum": "e056fbd12560426ed517e962dac486ff",
     "grade": true,
     "grade_id": "cell-191c0b9c8c9bb604",
     "locked": true,
     "points": 2,
     "schema_version": 3,
     "solution": false,
     "task": false
    },
    "slideshow": {
     "slide_type": ""
    },
    "tags": []
   },
   "outputs": [],
   "source": [
    "# Denne cellen brukes under retting. La stå!"
   ]
  },
  {
   "cell_type": "markdown",
   "id": "86c677e4-84eb-4306-aa21-859719e56478",
   "metadata": {
    "deletable": false,
    "editable": false,
    "slideshow": {
     "slide_type": ""
    },
    "tags": []
   },
   "source": [
    "<br>\n",
    "<nav class=\"navbar navbar-default\">\n",
    "        <div class=\"container-fluid\">\n",
    "            <div class=\"navbar-header\" style=\"float: right\">\n",
    "                <a class=\"navbar-brand\" href=\"2_betinget_fritt_fall.ipynb\" target=\"_self\">Neste side: <i>Betinget fritt fall</i> &gt;</a>\n",
    "            </div>\n",
    "        </div>\n",
    "</nav>"
   ]
  }
 ],
 "metadata": {
  "kernelspec": {
   "display_name": "Python 3 (ipykernel)",
   "language": "python",
   "name": "python3"
  },
  "language_info": {
   "codemirror_mode": {
    "name": "ipython",
    "version": 3
   },
   "file_extension": ".py",
   "mimetype": "text/x-python",
   "name": "python",
   "nbconvert_exporter": "python",
   "pygments_lexer": "ipython3",
   "version": "3.12.11"
  },
  "toc": {
   "base_numbering": 1
  }
 },
 "nbformat": 4,
 "nbformat_minor": 5
}
