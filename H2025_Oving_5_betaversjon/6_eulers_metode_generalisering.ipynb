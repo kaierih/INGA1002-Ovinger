{
 "cells": [
  {
   "cell_type": "markdown",
   "id": "f86056e0-5f35-4561-87b6-0086de6efded",
   "metadata": {
    "deletable": false,
    "editable": true,
    "slideshow": {
     "slide_type": ""
    },
    "tags": []
   },
   "source": [
    "\n",
    "<nav class=\"navbar navbar-default\">\n",
    "  <div class=\"container-fluid\">\n",
    "    <div class=\"navbar-header\" style=\"float: left\">\n",
    "        <a class=\"navbar-brand\" href=\"0_Forside.ipynb\" target=\"_self\"> <h2> &uarr; Tilbake til forsiden</h2></a>\n",
    "    </div>\n",
    "  </div>\n",
    "</nav>"
   ]
  },
  {
   "cell_type": "markdown",
   "id": "0636dfb3-6a03-431d-ba14-29ab7d284e67",
   "metadata": {
    "deletable": false,
    "editable": true,
    "slideshow": {
     "slide_type": ""
    },
    "tags": []
   },
   "source": [
    "# Generell formulering av Eulers Metode\n",
    "<!--\n",
    "### Intro kladd a:\n",
    "\n",
    "Hittil i denne øvingen har vi konsentrert oss om å løse et bestemt fysikkproblem, altså hastighetsberegning på en fallskjermhopper i fritt fall. Vi har brukt en numerisk metode ved navnet Eulers Metode til å simulere fritt fall, og løsningsmetoden kan oppsummeres som følger:\n",
    "\n",
    "1. Begynn med å sette en initial hastighet $v(t_0) = 0 \\text{m/s}$\n",
    "2. Bruk Newton's 2. Lov til å avgjøre hva akselerasjonen $a(t_0)$ må være, gitt hastigheten $v(t_0)$\n",
    "3. Basert på akselerasjonen $a(t_0)$ vet vi hvor raskt hastigheten $v(t)$ endrer seg i tidspunktet $t=t_0$. Basert på dette kan vi finne en tilnærming til hva hastigheten vil være etter $h$ sekund:\n",
    "$$v(t_1) = v(t_0) + h \\cdot a(t_0), \\ \\ \\ t_1 = t_0 + h$$\n",
    "4. Gjenta trinn nr. $2$ & $3$ for tidssteget $t_1\\rightarrow t_2$, deretter $t_2 \\rightarrow t_3$ osv...\n",
    "\n",
    "\n",
    "### Intro kladd b:\n",
    "-->\n",
    "### Introduksjon\n",
    "I den matematiske modellen for fritt fall med luftmotstand så vil akselerasjonen $a$ avhenge av hastigheten $v$, gitt at andre parametre som masse $m$ holder seg konstant. Vi kan da si at akselerasjonen $a$ kan defineres som en *funksjon* av hastigheten $v$:\n",
    "$$ a = f(v)$$\n",
    "Ettersom akselerasjon $a$ ganske enkelt er det samme som *endringsraten* til hastigheten $v$, altså den tidsderiverte $\\frac{d v }{dt} = v´$, kan uttrykket omskrives til:\n",
    "$$v´ = f(v)$$\n",
    "Denne formelen vil dog kun gjelde for hele positive verdier av $t$ (etter at fallskjermhopperen har hoppet ut av flyet). Men dersom vi for eksempel ønsker å lage en generell definisjon, som også gjelder for negative verdier av $t$, vil akselerasjonen $a=v´$ måtte være en funksjon av *både* hastighet $v$ og tid $t$ ettersom $a=0$ i tiden før hoppet:\n",
    "$$v´ = f(t, v)$$\n"
   ]
  },
  {
   "cell_type": "markdown",
   "id": "e23ae9ac-6772-49c9-8c65-19ddf8422911",
   "metadata": {
    "deletable": false,
    "editable": true,
    "slideshow": {
     "slide_type": ""
    },
    "tags": []
   },
   "source": [
    "## a)\n",
    "Fullfør funksjonen `f` nedenfor slik at den oppfyller likheten $v´= f(t, v)$, og også returnerer gyldig akselerasjonsverdi $a=v´=0 \\text{ m/s}^2$ for $t < 0$. Relevante oppgaveparametre er:\n",
    "* $g = 9.81 \\text{ m/s}^2$\n",
    "* $\\beta = 0.23$\n",
    "* $m = 70 \\text{ kg}$\n",
    "\n",
    "*PS: Det er ikke nødvendig å skrive et program som håndterer lister som input.*<br>\n",
    "*Hint: Dersom du sitter fast kan det være lurt å ta utgangspunkt i oppgave **1c***"
   ]
  },
  {
   "cell_type": "code",
   "execution_count": null,
   "id": "2a24e974-468b-44b7-8727-40cec942fd56",
   "metadata": {
    "deletable": false,
    "editable": true,
    "execution": {
     "iopub.execute_input": "2025-09-15T12:57:46.931058Z",
     "iopub.status.busy": "2025-09-15T12:57:46.930322Z",
     "iopub.status.idle": "2025-09-15T12:57:46.941925Z",
     "shell.execute_reply": "2025-09-15T12:57:46.939966Z"
    },
    "nbgrader": {
     "cell_type": "code",
     "checksum": "07b311cc2d7af5efbddb64fc292c3857",
     "grade": false,
     "grade_id": "cell-6a31926323359401",
     "locked": false,
     "schema_version": 3,
     "solution": true,
     "task": false
    },
    "slideshow": {
     "slide_type": ""
    },
    "tags": []
   },
   "outputs": [],
   "source": [
    "def f(t, v):\n",
    "    g = 9.81\n",
    "    beta = 0.23\n",
    "    m = 70\n",
    "    #-------------------------------------\n",
    "    # SKRIV DIN KODE HER!\n",
    "    #-------------------------------------\n",
    "    return v_diff"
   ]
  },
  {
   "cell_type": "code",
   "execution_count": null,
   "id": "0f05a6b6-c28d-4ff2-a5f0-8eba0c3753c3",
   "metadata": {
    "autofeedback": {
     "test_code": "CmRlZiB0ZXN0X3JvdXRpbmUoKToKICAgIGZyb20gYXV0b2ZlZWRiYWNrIGltcG9ydCBGdW5jdGlvblRlc3RzCiAgICBpbXBvcnQgbnVtcHkgYXMgbnAKICAgIGZyb20gcmFuZG9tIGltcG9ydCBzYW1wbGUsIHJhbmRpbnQKCiAgICBkZWYgZl9zb2wodCwgdik6CiAgICAgICAgZyA9IDkuODEKICAgICAgICBiZXRhID0gMC4yMwogICAgICAgIG0gPSA3MAogICAgICAgIGlmIHQgPCAwOgogICAgICAgICAgICB2X2RpZmYgPSAwLjAKICAgICAgICBlbHNlOgogICAgICAgICAgICB2X2RpZmYgPSBnIC0gYmV0YSp2KioyL20KICAgICAgICByZXR1cm4gdl9kaWZmCgogICAgZ3JhZGluZ19yZXN1bHRzID0gRnVuY3Rpb25UZXN0cyhmX3NvbCwgcnRvbD0xZS0zKQogICAgdHJ5OgogICAgICAgIGdyYWRpbmdfcmVzdWx0cy5hZGRfdGVzdF9mdW5jKGYpCiAgICBleGNlcHQgRXhjZXB0aW9uIGFzIGU6CiAgICAgICAgZ3JhZGluZ19yZXN1bHRzLmxvZy5hcHBlbmQoIkNvdWxkIG5vdCBydW4gdGVzdHMsICIrZS5hcmdzWzBdKQogICAgZWxzZToKICAgICAgICBOID0gMgogICAgICAgIHRfdmFsdWVzID0gc2FtcGxlKGxpc3QocmFuZ2UoLTEwLCAwKSksIE4vLzIpICsgc2FtcGxlKGxpc3QocmFuZ2UoMCwgMzApKSwgTi8vMikKICAgICAgICB2X3ZhbHVlcyA9IHNhbXBsZShsaXN0KHJhbmdlKDAsIDUwKSksIE4pCiAgICAgICAgCiAgICAgICAgZm9yIHQsIHYgaW4gIHppcCh0X3ZhbHVlcywgdl92YWx1ZXMpOgogICAgICAgICAgICBncmFkaW5nX3Jlc3VsdHMudGVzdF9yZXR1cm5fdmFsdWUodCwgdikKICAgICAgICAgICAgCiAgICByZXR1cm4gcm91bmQoZ3JhZGluZ19yZXN1bHRzLmdldF9yZXN1bHRzKCkqNSwgMikKdGVzdF9yb3V0aW5lKCk="
    },
    "deletable": false,
    "editable": false,
    "execution": {
     "iopub.execute_input": "2025-09-15T12:57:46.947507Z",
     "iopub.status.busy": "2025-09-15T12:57:46.947002Z",
     "iopub.status.idle": "2025-09-15T12:57:49.336965Z",
     "shell.execute_reply": "2025-09-15T12:57:49.335256Z"
    },
    "nbgrader": {
     "cell_type": "code",
     "checksum": "04fb53470db4a3c8f2893e7ac5e0e5fe",
     "grade": true,
     "grade_id": "cell-91d672bce78659a7",
     "locked": true,
     "points": 5,
     "schema_version": 3,
     "solution": false,
     "task": false
    },
    "slideshow": {
     "slide_type": ""
    },
    "tags": []
   },
   "outputs": [],
   "source": [
    "# Denne cellen brukes under retting. La stå!"
   ]
  },
  {
   "cell_type": "markdown",
   "id": "760f8511-b32f-4672-b5a9-f4a2e5a2788d",
   "metadata": {
    "deletable": false,
    "editable": true,
    "slideshow": {
     "slide_type": ""
    },
    "tags": []
   },
   "source": [
    "Ligningen $v´=f(t, v)$ er det vi kaller for en *differensialligning*, og er noe dere vil lære mer om i Matematikk for Ingeniørfag 1 senere i semesteret. Differensialligninger er essensielle for å kunne beskrive utrolig mye av fysikken rundt oss til daglig, fra radiobølger til disser på en lekeplass. Og selv om vi har konsentrert oss om hastighet og akselerasjon til en gjenstand i fritt fall i denne oppgaven, så er differensialligninger et meget generelt verktøy som kan beskrive oppførselen til et stort utvalg av fysiske størrelser. Da er det nyttig å kunne etablere en *generell* og *enhetsløs* form på differensialligninger, og dermed også Eulers Metode, som kan anvendes til enhver aktuell situasjon.\n",
    "\n",
    "### Generell form for differensialligninger\n",
    "\n",
    "Gitt en ukjent funksjon $y(x)$ som avhenger av variabelen $x$, kan egenskapene til $y$ beksrives med en differensialligning dersom det finnes en funksjon $f(x, y)$ slik at:\n",
    "\n",
    "$$y´=f(x, y)$$\n",
    "\n",
    "\n",
    "Den generelle formen for Eulers Metode for å beregne tilnærminger til funksjonen $y(x)$ blir da:\n",
    "$$y_{n+1} = y_n + h\\cdot f(x_n, y_n)$$\n",
    "der $y_n = y(x_n)$ og $x_n = x_0 + n\\cdot h$.\n",
    "\n",
    "I [denne jupyter notebook-filen](eulers_metode_demo) kan du eksperimentere med en interaktiv demo som viser hvordan Eulers Metode fungerer ved ulike steg i prosessen med ulike skrittlengder."
   ]
  },
  {
   "cell_type": "markdown",
   "id": "87ef5858-1954-4c92-8d23-b2e6f6b6098e",
   "metadata": {
    "deletable": false,
    "editable": true,
    "slideshow": {
     "slide_type": ""
    },
    "tags": []
   },
   "source": [
    "I kodecellen nedenfor ser du en ferdig og generell implementasjon av Eulers metode, som er basert på en generell notasjon der $y(x)$ er en ukjent matematisk funksjon som skal tilnærmes numerisk gitt initialverdiproblemet $$y´=f(x, y), \\ \\ \\ y(x_0) = y_0$$ der initialverdiene $x_0$ og $y_0=y(x_0)$ er kjent."
   ]
  },
  {
   "cell_type": "code",
   "execution_count": null,
   "id": "9f9e0d1c-a26a-473b-9be5-3dfd8453c0bd",
   "metadata": {
    "deletable": false,
    "editable": false,
    "execution": {
     "iopub.execute_input": "2025-09-15T12:57:49.343400Z",
     "iopub.status.busy": "2025-09-15T12:57:49.342866Z",
     "iopub.status.idle": "2025-09-15T12:57:49.349838Z",
     "shell.execute_reply": "2025-09-15T12:57:49.348112Z"
    },
    "slideshow": {
     "slide_type": ""
    },
    "tags": []
   },
   "outputs": [],
   "source": [
    "import numpy as np\n",
    "\n",
    "\n",
    "def generell_eulers_metode(f: callable,  # Python-funksjon for f(x, y)\n",
    "                           N: int,       # Antall iterasjoner (må være heltall)\n",
    "                           h: float,     # Skrittlengde\n",
    "                           x0: float,    # Initialverdi for x\n",
    "                           y0: float):   # Initialverdi for y: y0 = y(x0)\n",
    "\n",
    "    # Lag en array 'x' som inneholder verdiene x0, x0 + h, x0 + 2h osv...\n",
    "    xN = x0 + N*h  # Sluttverdi for 'x'\n",
    "    x = np.linspace(x0, xN, N + 1)\n",
    "\n",
    "    # Lag en array 'y' som inneholder verdiene y(x0), y(x1), y(x2) osv...\n",
    "    y = np.zeros(N+1)  # Begynn med tom array med riktig lengde\n",
    "    y[0] = y0  # Sett inn initialverdien y[0] = y(x0) = y0\n",
    "    for n in range(N):\n",
    "        y[n+1] = y[n] + h*f(x[n], y[n])  # Eulers metode!\n",
    "\n",
    "    # Numerisk beregning er nå komplett. Vi kan returnere x og y\n",
    "    return x, y"
   ]
  },
  {
   "cell_type": "markdown",
   "id": "94d277d5-1e09-4f2b-a029-90565b68a8fe",
   "metadata": {
    "deletable": false,
    "editable": true,
    "slideshow": {
     "slide_type": ""
    },
    "tags": []
   },
   "source": [
    "## b)\n",
    "Studer koden i cellen ovenfor. Bruk så funksjonen `f` fra deloppgave **a)** sammen med den ferdige funksjonen `generell_eulers_metode` til å finne hastigheten $v$ til fallskjermhopperen i tidsintervallet $t \\in [-10, 30]$ med skrittlengde $h=0.1\\text{ s}$, og presenter hastigheten som funksjon av tid i et plott. Initialverdiene blir nå $v(-10) = 0.0 \\text{ m/s}$."
   ]
  },
  {
   "cell_type": "code",
   "execution_count": null,
   "id": "63b85348-e4a3-4670-846b-e3940c2d005b",
   "metadata": {
    "autofeedback": {
     "plot_task": true
    },
    "deletable": false,
    "editable": true,
    "execution": {
     "iopub.execute_input": "2025-09-15T12:57:49.357984Z",
     "iopub.status.busy": "2025-09-15T12:57:49.357082Z",
     "iopub.status.idle": "2025-09-15T12:57:49.598876Z",
     "shell.execute_reply": "2025-09-15T12:57:49.597748Z"
    },
    "nbgrader": {
     "cell_type": "code",
     "checksum": "8ec49f5502be29a3caa817018d0046df",
     "grade": false,
     "grade_id": "cell-a3d2c991064cb80a",
     "locked": false,
     "schema_version": 3,
     "solution": true,
     "task": false
    },
    "slideshow": {
     "slide_type": ""
    },
    "tags": []
   },
   "outputs": [],
   "source": [
    "import matplotlib.pyplot as plt\n",
    "\n",
    "t_start = -10    # Starttid for simulering\n",
    "t_slutt = 30     # Sluttid for simulering\n",
    "h = 0.1          # Skrittlengd\n",
    "\n",
    "#-------------------------------------\n",
    "# SKRIV DIN KODE HER!\n",
    "#-------------------------------------"
   ]
  },
  {
   "cell_type": "markdown",
   "id": "8a08c7d5-b130-40ae-b9c4-626f01b77d70",
   "metadata": {
    "deletable": false,
    "editable": true,
    "slideshow": {
     "slide_type": ""
    },
    "tags": []
   },
   "source": [
    "Har du besvart oppgaven riktig burde plottet se noe [slik](Figurer/oppg6b_lf.svg) ut."
   ]
  },
  {
   "cell_type": "code",
   "execution_count": null,
   "id": "109856d6-dcb3-45ae-aa74-58d2b518ce98",
   "metadata": {
    "autofeedback": {
     "test_code": "ZnJvbSB1bml0dGVzdC5tb2NrIGltcG9ydCBwYXRjaApmcm9tIGF1dG9mZWVkYmFjayBpbXBvcnQgQ3VzdG9tVGVzdHMKCmFuc3dlcl9jZWxsX2luZGV4ID0gbGVuKEluKS0yCmFuc3dlcl9jZWxsX2NvbnRlbnRzID0gSW5bYW5zd2VyX2NlbGxfaW5kZXhdCgpncmFkaW5nX3Jlc3VsdHMgPSBDdXN0b21UZXN0cygpCgp0cnk6CiAgICB3aXRoIHBhdGNoKGYie19fbmFtZV9ffS5nZW5lcmVsbF9ldWxlcnNfbWV0b2RlIikgYXMgbW9ja19ldWxlcnM6CiAgICAgICAgbW9ja19ldWxlcnMucmV0dXJuX3ZhbHVlID0gKFswLCAxXSwgWzAsIDEwXSkKICAgICAgICBleGVjKGFuc3dlcl9jZWxsX2NvbnRlbnRzKQpleGNlcHQgRXhjZXB0aW9uIGFzIGU6CiAgICBncmFkaW5nX3Jlc3VsdHMuYWRkX3Jlc3VsdChGYWxzZSwgImNvdWxkIG5vdCBydW4gYW5zd2VyIGNlbGw6ICIgKyBlLmFyZ3NbMF0pCmVsc2U6CiAgICB0X3N0YXJ0ID0gLTEwICAgICMgU3RhcnR0aWQgZm9yIHNpbXVsZXJpbmcKICAgIHRfc2x1dHQgPSAzMCAgICAgIyBTbHV0dGlkIGZvciBzaW11bGVyaW5nCiAgICBoID0gMC4xICAgICAgICAgICMgU2tyaXR0bGVuZ2QKICAgIAogICAgTiA9IGludCgodF9zbHV0dCAtIHRfc3RhcnQpL2gpCiAgICAKICAgIHNvbHV0aW9uX2FyZ3NfbGlzdCA9IFtmLCBOLCBoLCB0X3N0YXJ0LCAwXQogICAgYXJnc19uYW1lcyA9IFsiZiIsICJOIiwgImgiLCAieF8wIiwgInlfMCJdCiAgICBmb3IgaSwgY2FsbF9hcmcgaW4gZW51bWVyYXRlKG1vY2tfZXVsZXJzLmNhbGxfYXJncy5hcmdzKToKICAgICAgICBncmFkaW5nX3Jlc3VsdHMudGVzdChjYWxsX2FyZyA9PSBzb2x1dGlvbl9hcmdzX2xpc3RbaV0sCiAgICAgICAgICAgICAgICAgICAgICAgICAgICAgZiJDb3JyZWN0IHZhbHVlIGZvciBhcmd1bWVudCB7YXJnc19uYW1lc1tpXX0gaW4gZnVuY3Rpb24gY2FsbCB0byAnZ2VuZXJlbGxfZXVsZXJzX21ldG9kZSciLAogICAgICAgICAgICAgICAgICAgICAgICAgICAgIGYiSW5jb3JyZWN0IHZhbHVlIGZvciBhcmd1bWVudCB7YXJnc19uYW1lc1tpXX0gaW4gZnVuY3Rpb24gY2FsbCB0byAnZ2VuZXJlbGxfZXVsZXJzX21ldG9kZSciKQogICAgcGx0LmNsZigpOwpyb3VuZChncmFkaW5nX3Jlc3VsdHMuZ2V0X3Jlc3VsdHMoKSo1LCAyKQ=="
    },
    "deletable": false,
    "editable": false,
    "execution": {
     "iopub.execute_input": "2025-09-15T12:57:49.605449Z",
     "iopub.status.busy": "2025-09-15T12:57:49.605125Z",
     "iopub.status.idle": "2025-09-15T12:57:49.643975Z",
     "shell.execute_reply": "2025-09-15T12:57:49.642227Z"
    },
    "nbgrader": {
     "cell_type": "code",
     "checksum": "3b149d6cfac6b4376e072bf89b76677c",
     "grade": true,
     "grade_id": "cell-18c5c498de93452f",
     "locked": true,
     "points": 5,
     "schema_version": 3,
     "solution": false,
     "task": false
    },
    "slideshow": {
     "slide_type": ""
    },
    "tags": []
   },
   "outputs": [],
   "source": [
    "# Denne cellen brukes under retting. La stå!"
   ]
  },
  {
   "cell_type": "markdown",
   "id": "0bf2445b-e4b6-4d14-b749-597f033454e0",
   "metadata": {
    "deletable": false,
    "editable": true,
    "slideshow": {
     "slide_type": ""
    },
    "tags": []
   },
   "source": [
    "<br>\n",
    "<nav class=\"navbar navbar-default\">\n",
    "        <div class=\"container-fluid\">\n",
    "            <div class=\"navbar-header\" style=\"float: left\">\n",
    "                <a class=\"navbar-brand\" href=\"5_eulers_metode_skrittlengde.ipynb\" target=\"_self\">&lt; Forrige side: <i>Justerbar Skrittlengde</i></a>\n",
    "                </div>\n",
    "            <div class=\"navbar-header\" style=\"float: right\">\n",
    "                <a class=\"navbar-brand\" href=\"7_utlost_fallskjerm.ipynb\" target=\"_self\">Neste side: <i>Utløsing av Fallskjerm</i> &gt;</a>\n",
    "            </div>\n",
    "        </div>\n",
    "</nav>"
   ]
  }
 ],
 "metadata": {
  "kernelspec": {
   "display_name": "Python 3 (ipykernel)",
   "language": "python",
   "name": "python3"
  },
  "language_info": {
   "codemirror_mode": {
    "name": "ipython",
    "version": 3
   },
   "file_extension": ".py",
   "mimetype": "text/x-python",
   "name": "python",
   "nbconvert_exporter": "python",
   "pygments_lexer": "ipython3",
   "version": "3.12.11"
  }
 },
 "nbformat": 4,
 "nbformat_minor": 5
}
