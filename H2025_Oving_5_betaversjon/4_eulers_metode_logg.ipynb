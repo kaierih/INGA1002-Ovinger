{
 "cells": [
  {
   "cell_type": "markdown",
   "id": "c752e499-31c2-4c9f-9293-db95e249debc",
   "metadata": {
    "deletable": false,
    "editable": true,
    "slideshow": {
     "slide_type": ""
    },
    "tags": []
   },
   "source": [
    "\n",
    "<nav class=\"navbar navbar-default\">\n",
    "  <div class=\"container-fluid\">\n",
    "    <div class=\"navbar-header\" style=\"float: left\">\n",
    "        <a class=\"navbar-brand\" href=\"0_Forside.ipynb\" target=\"_self\"> <h2> &uarr; Tilbake til forsiden</h2></a>\n",
    "    </div>\n",
    "  </div>\n",
    "</nav>"
   ]
  },
  {
   "cell_type": "markdown",
   "id": "dbfa3d8a-084e-4ccb-b0a8-42d83b11fbd0",
   "metadata": {
    "deletable": false,
    "editable": true,
    "slideshow": {
     "slide_type": ""
    },
    "tags": []
   },
   "source": [
    "# Eulers Metode med logging\n",
    "\n",
    "#### Læringsmål:\n",
    "* Grunnleggende forståelse for iterative metoder\n",
    "* Logging av individuelle steg i en iterativ metode\n",
    "\n",
    "***NB! Dersom du ikke allerede har utført oppgave 3: Eulers Metode, er det *sterkt* anbefalt før man begynner på denne oppgaven!***\n",
    "\n",
    "\n",
    "### Introduksjon\n",
    "I oppgave 3 laget vi et python-program, som kunne regne ut en tilnærming hastigheten til en fallksjermhopper etter $T$ antall hele sekund. Programmet delte opp hele simulseringsperioden på $T$ sekund i mange små steg på $1$ sekund hver, og brukte en variant av en oppsamlingsløkke til å finne hastigheten når alle stegene er ferdig simulert. Men, dette programmet gir oss bare en sluttverdi, og forteller lite om hvordan hastighetsuttrykket $v(t)$ kan se ut. \n",
    "\n",
    "For å få innsyn i hvordan funksjonen $v(t)$ utvikler seg over tid, må vi kunne loggføre resultatet fra hver av tidsstegene i en sekvenstype som f.eks. en liste. Python-lister har en svært nyttig metode som heter `append`, som lar oss legge til en verdi bakerst i listen hver gang den brukes. Reslutatet blir en slags oppsamlingsløkke der vi tilføyer ny data til en liste istedenfor å overskrive verdien i en oppsamlingsvariabel hver gang.\n",
    "\n",
    "#### Eksempel:\n",
    "> Et enkelt eksempel på en oppsamlingsløkke fra øving 4, er et program som summerer alle tallene i en tallrekke $x_i$ med lengde $n$. Matematisk skriver vi dette med et summasjonstegn:\n",
    ">\n",
    ">$$\\sum_{i=0}^{n} x_i  = x_0 + x_1 + x_2 + \\cdots + x_{n}$$\n",
    ">\n",
    "> La oss nå si at vi vil lage et program som finner rekken\n",
    ">\n",
    "> $$y_n = \\sum_{i=0}^{n} x_i $$\n",
    "> for alle gyldige verdier av $n$. Hver av elementene i tallrekken $y_n$ vil da være det vi kaller en [*løpende sum*](https://en.wikipedia.org/wiki/Running_total) av alle verdiene $x_0, x_1, \\ldots , x_{n-1}$.<br>\n",
    "> Nedenfor ser du hvordan denne utrengingen kan utføres i Python:"
   ]
  },
  {
   "cell_type": "code",
   "execution_count": null,
   "id": "03d6dbef-36a7-409a-afc5-7cb5e1cf5d37",
   "metadata": {
    "deletable": false,
    "editable": true,
    "execution": {
     "iopub.execute_input": "2025-09-15T12:57:33.020036Z",
     "iopub.status.busy": "2025-09-15T12:57:33.019338Z",
     "iopub.status.idle": "2025-09-15T12:57:33.034726Z",
     "shell.execute_reply": "2025-09-15T12:57:33.031791Z"
    },
    "slideshow": {
     "slide_type": ""
    },
    "tags": []
   },
   "outputs": [],
   "source": [
    "x_verdier = [4,1,6,3,9,2,1,7]\n",
    "y_verdier = []\n",
    "y_n = 0\n",
    "for x in x_verdier:\n",
    "    y_n += x \n",
    "    y_verdier.append(y_n)\n",
    "print(f\"Tallserie   x_i = {x_verdier} \\nLøpende sum y_n = {y_verdier}\")"
   ]
  },
  {
   "cell_type": "markdown",
   "id": "c8578d5d-896b-4f9e-b9bd-acf0d5ffbd0a",
   "metadata": {
    "deletable": false,
    "editable": true,
    "slideshow": {
     "slide_type": ""
    },
    "tags": []
   },
   "source": [
    "> Som vi ser fra kodeeksempelet, så er `y_verdier[0]` lik det første elementet i `x_verdier`, `y_verdier[1]` er lik summen av de to første elementene i `x_verdier` osv... Nøkkelen til å få til dette er å lage en tom liste som kan brukes til å logge verdier, og bruke `append` til å legge til en ny verdi i listen etter hvert steg i oppsamlingsløkken.\n",
    "\n",
    "I denne oppgaven skal vi lister i kombinasjon med for-løkker til å generere en \"logg\" der resultatet av hvert steg vi har utført med Eulers Metode er lagret. \n",
    "\n",
    "Fysiske parametre for oppgaven:"
   ]
  },
  {
   "cell_type": "code",
   "execution_count": null,
   "id": "bdd41090-6f6e-4b54-8634-f978cf2f6d31",
   "metadata": {
    "deletable": false,
    "editable": true,
    "execution": {
     "iopub.execute_input": "2025-09-15T12:57:33.042903Z",
     "iopub.status.busy": "2025-09-15T12:57:33.042168Z",
     "iopub.status.idle": "2025-09-15T12:57:33.050540Z",
     "shell.execute_reply": "2025-09-15T12:57:33.048334Z"
    },
    "slideshow": {
     "slide_type": ""
    },
    "tags": []
   },
   "outputs": [],
   "source": [
    "g = 9.81 # Tyngdeakselerasjon\n",
    "m = 70 # Fallskjermhopperens masse (Kg)\n",
    "beta = 0.23 # Proporsjonalitetskonstant for luftmotstand\n",
    "v_0 = 0.0 # Initialhastighet (m/s)"
   ]
  },
  {
   "cell_type": "markdown",
   "id": "6cf9f003-b4ad-4a56-b213-892a9f9bbfc6",
   "metadata": {
    "deletable": false,
    "editable": true,
    "slideshow": {
     "slide_type": ""
    },
    "tags": []
   },
   "source": [
    "## a) \n",
    "\n",
    "Ta utgangspunkt i det du lærte i oppgave $4$, og fullfør programkoden slik at kodecellen listen `v` er en liste med beregnede hastigheter $\\{v(0), v(1), \\ldots, v(9), v(10) \\}$. Koden skal til slutt produsere et plot som viser hvordan den simulerte hastigheten $v(t)$ endrer seg over $10$ sekund. "
   ]
  },
  {
   "cell_type": "code",
   "execution_count": null,
   "id": "e18b114d-d0a9-4aac-b2e4-7f91db5a3ecf",
   "metadata": {
    "deletable": false,
    "editable": true,
    "execution": {
     "iopub.execute_input": "2025-09-15T12:57:33.057508Z",
     "iopub.status.busy": "2025-09-15T12:57:33.056766Z",
     "iopub.status.idle": "2025-09-15T12:57:33.066696Z",
     "shell.execute_reply": "2025-09-15T12:57:33.064441Z"
    },
    "nbgrader": {
     "cell_type": "code",
     "checksum": "3b049ee0a1cbc8f7623c61013537917c",
     "grade": false,
     "grade_id": "cell-563e945bc1e1a8f9",
     "locked": false,
     "schema_version": 3,
     "solution": true,
     "task": false
    },
    "slideshow": {
     "slide_type": ""
    },
    "tags": []
   },
   "outputs": [],
   "source": [
    "v_i = v_0\n",
    "v = [v_0]\n",
    "for i in range(10):\n",
    "    #-------------------------------------\n",
    "    # SKRIV DIN KODE HER!\n",
    "    #-------------------------------------\n",
    "\n"
   ]
  },
  {
   "cell_type": "code",
   "execution_count": null,
   "id": "62ad0edd-fcbe-4dcc-a9bb-5c77cbcb293a",
   "metadata": {
    "autofeedback": {
     "test_code": "ZGVmIHRlc3Rfcm91dGluZSgpOgogICAgZnJvbSBhdXRvZmVlZGJhY2sgaW1wb3J0IFZhcmlhYmxlVGVzdHMKICAgIGcgPSA5LjgxICMgVHluZ2RlYWtzZWxlcmFzam9uCiAgICBtID0gNzAgIyBGYWxsc2tqZXJtaG9wcGVyZW5zIG1hc3NlIChLZykKICAgIGJldGEgPSAwLjIzICMgUHJvcG9yc2pvbmFsaXRldHNrb25zdGFudCBmb3IgbHVmdG1vdHN0YW5kCiAgICB2XzAgPSAwLjAgIyBJbml0aWFsaGFzdGlnaGV0IChtL3MpCiAgICAKICAgIHZfaV9zb2wgPSB2XzAKICAgIHZfc29sID0gW3ZfMF0KICAgIGZvciBpIGluIHJhbmdlKDEwKToKICAgICAgICBhX2lfc29sID0gKG0qZy1iZXRhKnZfaV9zb2wqKjIpL20KICAgICAgICB2X2lfc29sID0gdl9pX3NvbCArIGFfaV9zb2wqMQogICAgICAgIHZfc29sLmFwcGVuZCh2X2lfc29sKQogICAgICAgIAogICAgdGVzdF9yZXN1bHRzID0gVmFyaWFibGVUZXN0cygpCiAgICB0ZXN0X3Jlc3VsdHMuY29tcGFyZV92YWx1ZXModiwgdl9zb2wsIG5hbWU9InYiLCBydG9sPTFlLTMpCiAgICAgICAgICAgIAogICAgcmV0dXJuIHJvdW5kKHRlc3RfcmVzdWx0cy5nZXRfcmVzdWx0cygpKjIsIDIpCnRlc3Rfcm91dGluZSgp"
    },
    "deletable": false,
    "editable": false,
    "execution": {
     "iopub.execute_input": "2025-09-15T12:57:33.073913Z",
     "iopub.status.busy": "2025-09-15T12:57:33.073153Z",
     "iopub.status.idle": "2025-09-15T12:57:36.267599Z",
     "shell.execute_reply": "2025-09-15T12:57:36.266230Z"
    },
    "nbgrader": {
     "cell_type": "code",
     "checksum": "db674253d161fd059c3a2fd12ab9f507",
     "grade": true,
     "grade_id": "cell-fd047160c13d6f93",
     "locked": true,
     "points": 2,
     "schema_version": 3,
     "solution": false,
     "task": false
    }
   },
   "outputs": [],
   "source": [
    "# Visualisering av listen 'v'\n",
    "import matplotlib.pyplot as plt\n",
    "plt.plot(v, '-o')\n",
    "plt.xlabel(\"Tid $t$ (sekund)\")"
   ]
  },
  {
   "cell_type": "markdown",
   "id": "6e6012ca-7661-4e4f-9d10-53c7b81cc130",
   "metadata": {
    "deletable": false
   },
   "source": [
    "## b)\n",
    "\n",
    "Vi er nå interessert i å studere hvordan fallskjermhopperens masse påvirker hastighetsuttrykket $v(t)$. Fullfør funksjonen `beregn_hastigheter(m, T)` nedenfor, slik at den returnerer en liste med hastighetsverdier for de første `T` sekundene, utregnet basert på massen `m` som tas inn av funksjonen samt konstantene $g$ og $\\beta$."
   ]
  },
  {
   "cell_type": "code",
   "execution_count": null,
   "id": "c9b67c71-3428-4108-bbda-48d506415bba",
   "metadata": {
    "deletable": false,
    "editable": true,
    "execution": {
     "iopub.execute_input": "2025-09-15T12:57:36.273878Z",
     "iopub.status.busy": "2025-09-15T12:57:36.273331Z",
     "iopub.status.idle": "2025-09-15T12:57:36.280051Z",
     "shell.execute_reply": "2025-09-15T12:57:36.278569Z"
    },
    "nbgrader": {
     "cell_type": "code",
     "checksum": "7dc170737baa4412d29fb90a93e9b550",
     "grade": false,
     "grade_id": "cell-7fd7eba7761579d1",
     "locked": false,
     "schema_version": 3,
     "solution": true,
     "task": false
    },
    "slideshow": {
     "slide_type": ""
    },
    "tags": []
   },
   "outputs": [],
   "source": [
    "def beregn_hastigheter(m, T):\n",
    "    #-------------------------------------\n",
    "    # SKRIV DIN KODE HER!\n",
    "    #-------------------------------------"
   ]
  },
  {
   "cell_type": "code",
   "execution_count": null,
   "id": "6aa347ff-ed12-40a3-a47e-5304654d2ae0",
   "metadata": {
    "autofeedback": {
     "test_code": "ZGVmIHRlc3Rfcm91dGluZSgpOgogICAgZnJvbSBhdXRvZmVlZGJhY2sgaW1wb3J0IEZ1bmN0aW9uVGVzdHMKICAgIGltcG9ydCBudW1weSBhcyBucAogICAgZnJvbSByYW5kb20gaW1wb3J0IHNhbXBsZSwgcmFuZGludAoKICAgIGRlZiBiZXJlZ25faGFzdGlnaGV0ZXJfc29sdXRpb24obSwgVCk6CiAgICAgICAgZyA9IDkuODEgIyBUeW5nZGVha3NlbGVyYXNqb24KICAgICAgICBiZXRhID0gMC4yMyAjIFByb3BvcnNqb25hbGl0ZXRza29uc3RhbnQgZm9yIGx1ZnRtb3RzdGFuZAogICAgICAgIHZfMCA9IDAuMCAjIEluaXRpYWxoYXN0aWdoZXQgKG0vcykKICAgICAgICAKICAgICAgICB2X2kgPSAwLjAKICAgICAgICB2ID0gW3ZfaV0KICAgICAgICBmb3IgdCBpbiByYW5nZShUKToKICAgICAgICAgICAgYV9pID0gKG0qZy1iZXRhKnZfaSoqMikvbQogICAgICAgICAgICB2X2kgPSB2X2kgKyBhX2kqMQogICAgICAgICAgICB2LmFwcGVuZCh2X2kpCiAgICAgICAgcmV0dXJuIHYKCiAgICBncmFkaW5nX3Jlc3VsdHMgPSBGdW5jdGlvblRlc3RzKGJlcmVnbl9oYXN0aWdoZXRlcl9zb2x1dGlvbiwgcnRvbD0xZS02KQogICAgdHJ5OgogICAgICAgIGdyYWRpbmdfcmVzdWx0cy5hZGRfdGVzdF9mdW5jKGJlcmVnbl9oYXN0aWdoZXRlcikKICAgIGV4Y2VwdCBFeGNlcHRpb24gYXMgZToKICAgICAgICBncmFkaW5nX3Jlc3VsdHMubG9nLmFwcGVuZCgiQ291bGQgbm90IHJ1biB0ZXN0cywgIitlLmFyZ3NbMF0pCiAgICBlbHNlOgogICAgICAgIE4gPSA0CiAgICAgICAgdF92YWx1ZXMgPSBzYW1wbGUobGlzdChyYW5nZSgzLCAzMCkpLCBOKQogICAgICAgIG1fdmFsdWVzID0gc2FtcGxlKGxpc3QocmFuZ2UoNTAsIDkwKSksIE4pCiAgICAgICAgZm9yIG0sIHQgaW4gIHppcChtX3ZhbHVlcywgdF92YWx1ZXMpOgogICAgICAgICAgICBncmFkaW5nX3Jlc3VsdHMudGVzdF9yZXR1cm5fdmFsdWUobSwgdCkKICAgICAgICAgICAgCiAgICByZXR1cm4gcm91bmQoZ3JhZGluZ19yZXN1bHRzLmdldF9yZXN1bHRzKCkqNCwgMikKdGVzdF9yb3V0aW5lKCk="
    },
    "deletable": false,
    "editable": false,
    "execution": {
     "iopub.execute_input": "2025-09-15T12:57:36.283668Z",
     "iopub.status.busy": "2025-09-15T12:57:36.283364Z",
     "iopub.status.idle": "2025-09-15T12:57:36.412683Z",
     "shell.execute_reply": "2025-09-15T12:57:36.411475Z"
    },
    "nbgrader": {
     "cell_type": "code",
     "checksum": "daaf7391f58a11965265b8dcf1c8cd34",
     "grade": true,
     "grade_id": "cell-3831a38cd3fe4ade",
     "locked": true,
     "points": 4,
     "schema_version": 3,
     "solution": false,
     "task": false
    }
   },
   "outputs": [],
   "source": [
    "# Plotting av returverdier for m=70 og T = 10. Skal gi samme resultat som i a)\n",
    "import matplotlib.pyplot as plt\n",
    "plt.plot(beregn_hastigheter(70, 10), '-o')\n",
    "plt.xlabel(\"Tid $t$ (sekund)\")"
   ]
  },
  {
   "cell_type": "markdown",
   "id": "30745665-86d2-4899-98b4-ab8275aca633",
   "metadata": {
    "deletable": false
   },
   "source": [
    "## c)\n",
    "\n",
    "For å kunne sammenligne ulike funksjonskurver og analysere hvordan fallskjermhopperens masse påvirker hastighetskurven, er det ønskelig å plotte $v(t)$ for massene $m=50\\text{ kg}$ og $m=\\text{ 80}$ kg. Bruk funksjonen `plot` fra biblioteket `matplotlib.pyplot` til å plotte de to funksjonskurvene for tidsintervallet $t \\in [0\\text{s}, 15\\text{s}]$."
   ]
  },
  {
   "cell_type": "code",
   "execution_count": null,
   "id": "b0d6b7ba-9064-4424-b924-e51f0086b6c4",
   "metadata": {
    "autofeedback": {
     "plot_task": true
    },
    "deletable": false,
    "execution": {
     "iopub.execute_input": "2025-09-15T12:57:36.418513Z",
     "iopub.status.busy": "2025-09-15T12:57:36.418254Z",
     "iopub.status.idle": "2025-09-15T12:57:36.671899Z",
     "shell.execute_reply": "2025-09-15T12:57:36.670261Z"
    },
    "nbgrader": {
     "cell_type": "code",
     "checksum": "2abec6bd1a202cbeb2b19dc250636e7d",
     "grade": false,
     "grade_id": "cell-8d8fbdd77ea5a762",
     "locked": false,
     "schema_version": 3,
     "solution": true,
     "task": false
    }
   },
   "outputs": [],
   "source": [
    "import matplotlib.pyplot as plt\n",
    "\n",
    "#-------------------------------------\n",
    "# SKRIV DIN KODE HER!\n",
    "#-------------------------------------"
   ]
  },
  {
   "cell_type": "markdown",
   "id": "929660d0-9654-403a-af24-db9f4fbafbea",
   "metadata": {
    "deletable": false
   },
   "source": [
    "Har du løst oppgaven riktig, burde plottet se noe [slik](Figurer/oppg4c_lf.svg) ut."
   ]
  },
  {
   "cell_type": "code",
   "execution_count": null,
   "id": "04d44125-9582-492e-bf03-8971c314a942",
   "metadata": {
    "autofeedback": {
     "test_code": "ZnJvbSBhdXRvZmVlZGJhY2sgaW1wb3J0IFRlc3RDbGFzcywgUGxvdENoZWNrZXIKaW1wb3J0IG51bXB5IGFzIG5wCmRlZiB0ZXN0X3JvdXRpbmUoKToKICAgIHRlc3RfcmVzdWx0cyA9IFBsb3RDaGVja2VyKGZpZz1maWcpCiAgICBpZiB0ZXN0X3Jlc3VsdHMuY2hlY2tfbnVtX2xpbmVzKGV4cGVjdGVkX251bV9saW5lcz0yLCB3Z3Q9MS4wKToKCiAgICAgICAgZGVmIHNpbXVsZXJ0X2hhc3RpZ2hldChtLCB0KToKICAgICAgICAgICAgYmV0YSA9IDAuMjMKICAgICAgICAgICAgZyA9IDkuODEKICAgICAgICAgICAgdl8wID0gMC4wCiAgICAgICAgICAgIHZfaSA9IHZfMAogICAgICAgICAgICBmb3IgaSBpbiByYW5nZSh0KToKICAgICAgICAgICAgICAgIGFfaSA9IChtKmctYmV0YSp2X2kqKjIpL20KICAgICAgICAgICAgICAgIHZfaSA9IHZfaSArIGFfaSoxCiAgICAgICAgICAgIHZfdCA9IHZfaQogICAgICAgICAgICByZXR1cm4gdl90CgogICAgICAgIGxhc3RfeCA9IFtmaWcuYXhlc1stMV0ubGluZXNbMF0uZ2V0X3hkYXRhKClbLTFdLAogICAgICAgICAgICAgICAgICBmaWcuYXhlc1stMV0ubGluZXNbMV0uZ2V0X3hkYXRhKClbLTFdXQogICAgICAgIAogICAgICAgIGlmIG5wLmFsbGNsb3NlKGxhc3RfeCwgMTUpOgogICAgICAgICAgICB0ZXN0X3Jlc3VsdHMuYWRkX3Jlc3VsdChUcnVlLCAiQm90aCBwbG90cyBlbmQgYXQgdD0xNS4iKQogICAgICAgIGVsc2U6CiAgICAgICAgICAgIHRlc3RfcmVzdWx0cy5hZGRfcmVzdWx0KEZhbHNlLCAiTGFzdCBkYXRhcG9pbnQgaW4gcGxvdCBub3QgbG9jYXRlZCBhdCB0PTE1IikKCiAgICAgICAgbGFzdF95ID0gW2ZpZy5heGVzWy0xXS5saW5lc1swXS5nZXRfeWRhdGEoKVstMV0sCiAgICAgICAgICAgICAgICAgIGZpZy5heGVzWy0xXS5saW5lc1sxXS5nZXRfeWRhdGEoKVstMV1dCiAgICAgICAgbGFzdF95LnNvcnQoKQogICAgICAgIAogICAgICAgIG1hc3NlcyA9IFs1MCwgODBdCgogICAgICAgIGZvciBpLCBtIGluIGVudW1lcmF0ZShtYXNzZXMpOgogICAgICAgICAgICB5X3NvbCA9IHNpbXVsZXJ0X2hhc3RpZ2hldChtLCAxNSkKICAgICAgICAgICAgaWYgbnAuaXNjbG9zZShsYXN0X3lbaV0sIHlfc29sLCBhdG9sPTFlLTYsIHJ0b2w9MWUtMyk6CiAgICAgICAgICAgICAgICB0ZXN0X3Jlc3VsdHMuYWRkX3Jlc3VsdChUcnVlLCBmIlRoZSBkaXNwbGF5ZWQgdmVsb2NpdHkgY3VydmUgcmVhY2hlcyB0aGUgY29ycmVjdCBsZXZlbCBmb3Ige20gPSB9IikgCiAgICAgICAgICAgIGVsc2U6CiAgICAgICAgICAgICAgICB0ZXN0X3Jlc3VsdHMuYWRkX3Jlc3VsdChGYWxzZSwgZiJUaGUgZGlzcGxheWVkIHZlbG9jaXR5IGN1cnZlIGRvZXMgbm90IHJlYWNoIHRoZSBjb3JyZWN0IGxldmVsIGZvciB7bSA9IH0iKSAKCiAgICByZXR1cm4gcm91bmQodGVzdF9yZXN1bHRzLmdldF9yZXN1bHRzKCkqNCwgMikKdGVzdF9yb3V0aW5lKCk="
    },
    "deletable": false,
    "editable": false,
    "execution": {
     "iopub.execute_input": "2025-09-15T12:57:36.677848Z",
     "iopub.status.busy": "2025-09-15T12:57:36.677563Z",
     "iopub.status.idle": "2025-09-15T12:57:36.695168Z",
     "shell.execute_reply": "2025-09-15T12:57:36.692576Z"
    },
    "nbgrader": {
     "cell_type": "code",
     "checksum": "1bf094fb5b4760236b022c259b2bf1b4",
     "grade": true,
     "grade_id": "cell-36af624f66cb50cb",
     "locked": true,
     "points": 4,
     "schema_version": 3,
     "solution": false,
     "task": false
    },
    "slideshow": {
     "slide_type": ""
    },
    "tags": []
   },
   "outputs": [],
   "source": []
  },
  {
   "cell_type": "markdown",
   "id": "3f0a329c-88fe-46ee-8227-95f816d783da",
   "metadata": {
    "deletable": false,
    "editable": false,
    "slideshow": {
     "slide_type": ""
    },
    "tags": []
   },
   "source": [
    "<br>\n",
    "<nav class=\"navbar navbar-default\">\n",
    "        <div class=\"container-fluid\">\n",
    "            <div class=\"navbar-header\" style=\"float: left\">\n",
    "                <a class=\"navbar-brand\" href=\"3_eulers_metode.ipynb\" target=\"_self\">&lt; Forrige side: <i>Eulers Metode</i></a>\n",
    "                </div>\n",
    "            <div class=\"navbar-header\" style=\"float: right\">\n",
    "                <a class=\"navbar-brand\" href=\"5_eulers_metode_skrittlengde.ipynb\" target=\"_self\">Neste side: <i>Justerbar Skrittlengde</i> &gt;</a>\n",
    "            </div>\n",
    "        </div>\n",
    "</nav>"
   ]
  }
 ],
 "metadata": {
  "kernelspec": {
   "display_name": "Python 3 (ipykernel)",
   "language": "python",
   "name": "python3"
  },
  "language_info": {
   "codemirror_mode": {
    "name": "ipython",
    "version": 3
   },
   "file_extension": ".py",
   "mimetype": "text/x-python",
   "name": "python",
   "nbconvert_exporter": "python",
   "pygments_lexer": "ipython3",
   "version": "3.12.11"
  },
  "toc": {
   "base_numbering": 1
  }
 },
 "nbformat": 4,
 "nbformat_minor": 5
}
