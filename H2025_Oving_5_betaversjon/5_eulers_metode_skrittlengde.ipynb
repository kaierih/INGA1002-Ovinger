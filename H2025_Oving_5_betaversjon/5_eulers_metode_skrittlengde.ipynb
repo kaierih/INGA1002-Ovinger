{
 "cells": [
  {
   "cell_type": "markdown",
   "id": "90a326df-ba08-42e8-85ab-b077d02b8479",
   "metadata": {
    "deletable": false,
    "editable": true,
    "slideshow": {
     "slide_type": ""
    },
    "tags": []
   },
   "source": [
    "\n",
    "<nav class=\"navbar navbar-default\">\n",
    "  <div class=\"container-fluid\">\n",
    "    <div class=\"navbar-header\" style=\"float: left\">\n",
    "        <a class=\"navbar-brand\" href=\"0_Forside.ipynb\" target=\"_self\"> <h2> &uarr; Tilbake til forsiden</h2></a>\n",
    "    </div>\n",
    "  </div>\n",
    "</nav>"
   ]
  },
  {
   "cell_type": "markdown",
   "id": "d4072423-0812-4b6b-bee9-0e7620a8a176",
   "metadata": {
    "deletable": false
   },
   "source": [
    "# Justerbar skrittlengde\n",
    "\n",
    "Hittil i øvingen har vi konsentrert oss om å beregne fallskjermhopperens hastighet $v$ med en avstand på $1$ sekund mellom datapunktene. Dette er ikke nødvendigvis alltid en god idé, og i mange tilfeller vil det lønne seg å svært annerledes avstand, eller *skrittlengde* $h$, mellom datapunktene i den numeriske beregningen.\n",
    "\n",
    "Dette betyr at vi nå trenger å bearbeide metoden vi bruker for simulering av fallskjermhopper til å inkludere en justerbar skrittlengde $h$. Aller først må vi da definere en tallfølge med tidspunkt $t_n$ som inneholder alle tidspunktene der en verdi for hastigheten $v$ må beregnes:\n",
    "\n",
    "$$\\Large t_n = t_0 + n\\cdot h, \\ \\ \\ n \\in \\mathbb{Z}$$\n",
    "\n",
    "Her er $t_0$ lik *starttidspunktet* for simuleringen, $h$ er skrittlengden, og notasjonen $n \\in \\mathbb{Z}$ betyr at $n$ er et vilkårlig heltall."
   ]
  },
  {
   "cell_type": "markdown",
   "id": "2b7bd3c0-460b-4734-87a2-6115eec8114e",
   "metadata": {
    "deletable": false
   },
   "source": [
    "## a) \n",
    "\n",
    "Gitt et starttidspunkt $t_0=0\\text{s}$, et sluttidspunkt $t_N=15\\text{s}$ og en skrittlengde $h$, avgjør hvor mange iterasjoner `N` som må utføres, og generer en array `t_n` som inneholder tidspunktene som brukes i den numeriske simuleringen (du skal ikke regne ut hastighetene $v(t)$ enda.<br>\n",
    "*NB! Pass på at arrayen `t_n` skal starte i $t=0$ og slutte i $t=15$.*"
   ]
  },
  {
   "cell_type": "code",
   "execution_count": null,
   "id": "67b23406-c85f-4963-83b3-b3f5cd1963f3",
   "metadata": {
    "deletable": false,
    "editable": true,
    "execution": {
     "iopub.execute_input": "2025-09-15T12:57:40.402987Z",
     "iopub.status.busy": "2025-09-15T12:57:40.402196Z",
     "iopub.status.idle": "2025-09-15T12:57:40.699485Z",
     "shell.execute_reply": "2025-09-15T12:57:40.697539Z"
    },
    "nbgrader": {
     "cell_type": "code",
     "checksum": "2ffa8e74615dafa77defc9d32bec55fc",
     "grade": false,
     "grade_id": "cell-4c8ee051eb706897",
     "locked": false,
     "schema_version": 3,
     "solution": true,
     "task": false
    },
    "slideshow": {
     "slide_type": ""
    },
    "tags": []
   },
   "outputs": [],
   "source": [
    "import numpy as np\n",
    "\n",
    "t_0 = 0\n",
    "t_N = 15\n",
    "h = 0.1\n",
    "\n",
    "N = \"???\"\n",
    "t_n = \"???\"\n",
    "#-------------------------------------\n",
    "# SKRIV DIN KODE HER!\n",
    "#-------------------------------------\n"
   ]
  },
  {
   "cell_type": "code",
   "execution_count": null,
   "id": "d5c0c974-85b3-4d53-b9ff-71278cde7204",
   "metadata": {
    "autofeedback": {
     "test_code": "ZGVmIHRlc3Rfcm91dGluZSgpOgogICAgZnJvbSBhdXRvZmVlZGJhY2sgaW1wb3J0IFZhcmlhYmxlVGVzdHMKCiAgICB0XzAgPSAwCiAgICB0X04gPSAxNQogICAgaCA9IDAuMQogICAgTl9zb2wgPSBpbnQoKHRfTiAtIHRfMCkvaCkKICAgIHRfbl9zb2wgPSBucC5saW5zcGFjZSgwLCB0X04sIE4rMSkKICAgIAogICAgdGVzdF9yZXN1bHRzID0gVmFyaWFibGVUZXN0cygpCiAgICB0ZXN0X3Jlc3VsdHMuY29tcGFyZV92YWx1ZXMoTiwgTl9zb2wsIG5hbWU9Ik4iLCBydG9sPTFlLTYpCiAgICB0ZXN0X3Jlc3VsdHMuY29tcGFyZV92YWx1ZXModF9uLCB0X25fc29sLCBuYW1lPSJ0X24iLCBydG9sPTFlLTQpCiAgICAgICAgICAgIAogICAgcmV0dXJuIHJvdW5kKHRlc3RfcmVzdWx0cy5nZXRfcmVzdWx0cygpKjMsIDIpCnRlc3Rfcm91dGluZSgp"
    },
    "deletable": false,
    "editable": false,
    "execution": {
     "iopub.execute_input": "2025-09-15T12:57:40.704848Z",
     "iopub.status.busy": "2025-09-15T12:57:40.704169Z",
     "iopub.status.idle": "2025-09-15T12:57:43.513938Z",
     "shell.execute_reply": "2025-09-15T12:57:43.511824Z"
    },
    "nbgrader": {
     "cell_type": "code",
     "checksum": "8689bbd7539bd887f0e949bef9f9576c",
     "grade": true,
     "grade_id": "cell-c007f48123916e62",
     "locked": true,
     "points": 3,
     "schema_version": 3,
     "solution": false,
     "task": false
    },
    "slideshow": {
     "slide_type": ""
    },
    "tags": []
   },
   "outputs": [],
   "source": [
    "# Denne cellen brukes under retting. La stå!"
   ]
  },
  {
   "cell_type": "markdown",
   "id": "e2b131ab-a32f-41a0-a740-dc3124adbd0c",
   "metadata": {
    "deletable": false
   },
   "source": [
    "\n",
    "Neste steg er å faktisk beregne hastighetsverdiene $v(t_n)$. Her bruker vi en tilsvarende metode som i oppgave $3$ og $4$, og finner en formel som kan brukes for å utføre ett simuleringssteg av gangen. Uttrykket blir:\n",
    "\n",
    "$$\\Large v(t_{n+1}) \\approx v(t_n) + h\\cdot a(t_n)$$\n",
    "\n",
    "Med andre ord må vi lage et program som itererer over veridene i tallfølgen $t_n$, og for hvert steg finner en tilnærmet verdi for hastigheten ved i neste tidssteg (dvs. $v(t_{n+1})$) basert på hastighets- og akselerasjonsverdier i \"nåværende\" tidssteg (dvs. $v(t_n)$ og $a(t_n)$) .\n",
    "\n",
    "## b) \n",
    "Basert på antallet steg $N$ beregnet i deloppgave **a)**, fullfør programmet nedenfor slik at vi får en array `v_n` som inneholder alle hastighetsverdiene $v_n = v(t_n)$. Med andre ord skal vi fortsatt ha følgende parametre: $t_0 = 0\\text{s}$, $t_N = 15\\text{s}$, $h=0.1\\text{s}$. Bruk koden i slutten av cellen til å plotte kurven til $v(t)$.\n"
   ]
  },
  {
   "cell_type": "code",
   "execution_count": null,
   "id": "b53db517-2e82-498b-8579-3d202923c6dc",
   "metadata": {
    "deletable": false,
    "editable": true,
    "execution": {
     "iopub.execute_input": "2025-09-15T12:57:43.522767Z",
     "iopub.status.busy": "2025-09-15T12:57:43.521589Z",
     "iopub.status.idle": "2025-09-15T12:57:43.534290Z",
     "shell.execute_reply": "2025-09-15T12:57:43.532056Z"
    },
    "nbgrader": {
     "cell_type": "code",
     "checksum": "8e251c73ab371ed023573c6ce0c6820b",
     "grade": false,
     "grade_id": "cell-f8e238398889eedc",
     "locked": false,
     "schema_version": 3,
     "solution": true,
     "task": false
    },
    "slideshow": {
     "slide_type": ""
    },
    "tags": []
   },
   "outputs": [],
   "source": [
    "v_0 = 0.0\n",
    "m = 70\n",
    "g = 9.81\n",
    "beta = 0.23\n",
    "\n",
    "v_n = [v_0]\n",
    "for i in range(N):\n",
    "    #-------------------------------------\n",
    "    # SKRIV DIN KODE HER!\n",
    "    #-------------------------------------"
   ]
  },
  {
   "cell_type": "code",
   "execution_count": null,
   "id": "9afd9908-48c6-4a27-a674-511c2c23a5b4",
   "metadata": {
    "autofeedback": {
     "test_code": "IyBwbHQuc2F2ZWZpZygiRmlndXJlci9vcHBnNWJfbGYuc3ZnIikKCmRlZiB0ZXN0X3JvdXRpbmUoKToKICAgIGZyb20gYXV0b2ZlZWRiYWNrIGltcG9ydCBWYXJpYWJsZVRlc3RzCgogICAgdl8wID0gMC4wCiAgICBtID0gNzAKICAgIGcgPSA5LjgxCiAgICBiZXRhID0gMC4yMwogICAgdl9uX3NvbCA9IFt2XzBdCiAgICBoID0gMC4xCiAgICBmb3IgaSBpbiByYW5nZShOKToKICAgICAgICBhX2kgPSAobSpnLWJldGEqdl9uX3NvbFstMV0qKjIpL20KICAgICAgICB2X25fc29sLmFwcGVuZCh2X25fc29sWy0xXSArIGFfaSpoKQoKICAgIAogICAgdGVzdF9yZXN1bHRzID0gVmFyaWFibGVUZXN0cygpCiAgICB0ZXN0X3Jlc3VsdHMuY29tcGFyZV92YWx1ZXModl9uLCB2X25fc29sLCBuYW1lPSJ2X24iLCBydG9sPTFlLTQpCiAgICAgICAgICAgIAogICAgcmV0dXJuIHJvdW5kKHRlc3RfcmVzdWx0cy5nZXRfcmVzdWx0cygpKjMsIDIpCnRlc3Rfcm91dGluZSgp"
    },
    "deletable": false,
    "editable": false,
    "execution": {
     "iopub.execute_input": "2025-09-15T12:57:43.541498Z",
     "iopub.status.busy": "2025-09-15T12:57:43.540596Z",
     "iopub.status.idle": "2025-09-15T12:57:43.793730Z",
     "shell.execute_reply": "2025-09-15T12:57:43.792218Z"
    },
    "nbgrader": {
     "cell_type": "code",
     "checksum": "f68f016be82257d49e95bd4c75fd6650",
     "grade": true,
     "grade_id": "cell-c861b0c1d036ca7f",
     "locked": true,
     "points": 3,
     "schema_version": 3,
     "solution": false,
     "task": false
    }
   },
   "outputs": [],
   "source": [
    "import matplotlib.pyplot as plt\n",
    "plt.plot(t_n, v_n)\n",
    "plt.xlabel(\"Tid $t$ (sekund)\")\n",
    "plt.ylabel(\"Hastighet $v(t)$\")"
   ]
  },
  {
   "cell_type": "markdown",
   "id": "26c6651c-d5dc-49bd-b766-3eafa03e69bc",
   "metadata": {
    "deletable": false,
    "editable": true,
    "slideshow": {
     "slide_type": ""
    },
    "tags": []
   },
   "source": [
    "Har du besvart oppgaven riktig burde plottet se noe [slik](Figurer/oppg5b_lf.svg) ut."
   ]
  },
  {
   "cell_type": "markdown",
   "id": "740ea8a5-970e-4dab-96c7-9be071575730",
   "metadata": {
    "deletable": false,
    "editable": true,
    "slideshow": {
     "slide_type": ""
    },
    "tags": []
   },
   "source": [
    "## c)\n",
    "Vi skal nå studerer hvordan ulike verdier for skrittlengden $h$ påvirker simuleringen vår. For å gjøre dette, er det lurt å lage en funksjon, som kan utføre én full simulering med bestemte parametre for hvert funksjonskall. \n",
    "\n",
    "Fullfør funksjonen `fallskjermsimulering` som tar inn fallskjermhopperens masse `m`, sluttid `t_n` og skrittlengde `h`. Funksjonen skal returnere *både* en array/liste med tidspunkt $t_n$ *og* en array/liste med hastighetsverdier $v_n$. Funksjonen antar at starttidspunkt alltid er $t=0$, og initialhastigheten alltid er $v(0) = 0 \\text{ m/s}$.\n"
   ]
  },
  {
   "cell_type": "code",
   "execution_count": null,
   "id": "05154d43-30ca-402b-afa8-65db9319b28f",
   "metadata": {
    "deletable": false,
    "execution": {
     "iopub.execute_input": "2025-09-15T12:57:43.799552Z",
     "iopub.status.busy": "2025-09-15T12:57:43.799272Z",
     "iopub.status.idle": "2025-09-15T12:57:43.805827Z",
     "shell.execute_reply": "2025-09-15T12:57:43.804436Z"
    },
    "nbgrader": {
     "cell_type": "code",
     "checksum": "65cd6f82924227479c935fb259653f21",
     "grade": false,
     "grade_id": "cell-00b32708f83bae24",
     "locked": false,
     "schema_version": 3,
     "solution": true,
     "task": false
    }
   },
   "outputs": [],
   "source": [
    "def fallskjermsimulering(m, T, h):\n",
    "    t_0 = 0.0 # For enkelhets skyld regner vi alltid hopp-øyeblikket som t=0\n",
    "    v_0 = 0.0 # Vi opererer med antagelse om at initialhastighet = 0.0 m/s\n",
    "    beta = 0.227\n",
    "    g = 9.81\n",
    "    #-------------------------------------\n",
    "    # SKRIV DIN KODE HER!\n",
    "    #-------------------------------------\n",
    "    return t, v\n",
    "\n"
   ]
  },
  {
   "cell_type": "code",
   "execution_count": null,
   "id": "a349d141-d7f2-4cf4-b272-f96484f71e8b",
   "metadata": {
    "autofeedback": {
     "test_code": "IyBwbHQuc2F2ZWZpZygiRmlndXJlci9vcHBnNWNfbGYuc3ZnIikKCmRlZiB0ZXN0X3JvdXRpbmUoKToKICAgIGZyb20gYXV0b2ZlZWRiYWNrIGltcG9ydCBGdW5jdGlvblRlc3RzCiAgICBpbXBvcnQgbnVtcHkgYXMgbnAKICAgIGZyb20gcmFuZG9tIGltcG9ydCBzYW1wbGUsIHJhbmRpbnQKCiAgICBkZWYgZmFsbHNramVybXNpbXVsZXJpbmdfc29sdXRpb24obSwgVCwgaCk6CiAgICAgICAgdF8wID0gMC4wICMgRm9yIGVua2VsaGV0cyBza3lsZCByZWduZXIgdmkgYWxsdGlkIGhvcHAtw7h5ZWJsaWtrZXQgc29tIHQ9MAogICAgICAgIHZfMCA9IDAuMCAjIFZpIG9wZXJlcmVyIG1lZCBhbnRhZ2Vsc2Ugb20gYXQgaW5pdGlhbGhhc3RpZ2hldCA9IDAuMCBtL3MKICAgICAgICBiZXRhID0gMC4yMjcKICAgICAgICBnID0gOS44MQogICAgICAgIE4gPSBpbnQoVC9oKQogICAgICAgIHQgPSBucC5saW5zcGFjZSgwLCBULCBOKzEpCiAgICAKICAgICAgICB2X2kgPSB2XzAKICAgICAgICB2ID0gW3ZfaV0KICAgICAgICBmb3IgaSBpbiByYW5nZShOKToKICAgICAgICAgICAgYV9pID0gKG0qZy1iZXRhKnZfaSoqMikvbQogICAgICAgICAgICB2X2kgPSB2X2kgKyBhX2kqaAogICAgICAgICAgICB2LmFwcGVuZCh2X2kpCiAgICAgICAgcmV0dXJuIHQsIHYKCiAgICBncmFkaW5nX3Jlc3VsdHMgPSBGdW5jdGlvblRlc3RzKGZhbGxza2plcm1zaW11bGVyaW5nX3NvbHV0aW9uLCBydG9sPTFlLTMpCiAgICB0cnk6CiAgICAgICAgZ3JhZGluZ19yZXN1bHRzLmFkZF90ZXN0X2Z1bmMoZmFsbHNramVybXNpbXVsZXJpbmcpCiAgICBleGNlcHQgRXhjZXB0aW9uIGFzIGU6CiAgICAgICAgZ3JhZGluZ19yZXN1bHRzLmxvZy5hcHBlbmQoIkNvdWxkIG5vdCBydW4gdGVzdHMsICIrZS5hcmdzWzBdKQogICAgZWxzZToKICAgICAgICBOID0gNAogICAgICAgIHRfdmFsdWVzID0gc2FtcGxlKGxpc3QocmFuZ2UoMywgMzApKSwgTikKICAgICAgICBtX3ZhbHVlcyA9IHNhbXBsZShsaXN0KHJhbmdlKDUwLCA5MCkpLCBOKQogICAgICAgIGhfdmFsdWVzID0gc2FtcGxlKGxpc3QobnAubGluc3BhY2UoMC4xLCAxLCAxMCkpLE4pCiAgICAgICAgZm9yIG0sIHQsIGggaW4gIHppcChtX3ZhbHVlcywgdF92YWx1ZXMsIGhfdmFsdWVzKToKICAgICAgICAgICAgZ3JhZGluZ19yZXN1bHRzLnRlc3RfcmV0dXJuX3ZhbHVlKG0sIHQsIGgpCiAgICAgICAgICAgIAogICAgcmV0dXJuIHJvdW5kKGdyYWRpbmdfcmVzdWx0cy5nZXRfcmVzdWx0cygpKjQsIDIpCnRlc3Rfcm91dGluZSgp"
    },
    "deletable": false,
    "editable": false,
    "execution": {
     "iopub.execute_input": "2025-09-15T12:57:43.812381Z",
     "iopub.status.busy": "2025-09-15T12:57:43.811684Z",
     "iopub.status.idle": "2025-09-15T12:57:44.033995Z",
     "shell.execute_reply": "2025-09-15T12:57:44.032596Z"
    },
    "nbgrader": {
     "cell_type": "code",
     "checksum": "0a3ef0be8fd8b33bdbc84a37e7ce519f",
     "grade": true,
     "grade_id": "cell-715dd1a00c7ed4d1",
     "locked": true,
     "points": 4,
     "schema_version": 3,
     "solution": false,
     "task": false
    },
    "slideshow": {
     "slide_type": ""
    },
    "tags": []
   },
   "outputs": [],
   "source": [
    "# Her kan vi vise plot av simuleringer for skrittlengder h=0.1 og h=2.0\n",
    "\n",
    "import matplotlib.pyplot as plt\n",
    "t, v = fallskjermsimulering(70, 12, 0.1)\n",
    "plt.plot(t, v, label=\"h=0.1\")\n",
    "t, v = fallskjermsimulering(70, 12, 2)\n",
    "plt.plot(t, v, label=\"h=2.0\")\n",
    "plt.legend()\n",
    "plt.xlabel(\"Tid $t$ (sekund)\")\n",
    "plt.ylabel(\"Hastighet $v(t)$\")"
   ]
  },
  {
   "cell_type": "markdown",
   "id": "1c00a2a0-983b-48d8-90a9-5bc2c85eb356",
   "metadata": {
    "deletable": false,
    "editable": true,
    "slideshow": {
     "slide_type": ""
    },
    "tags": []
   },
   "source": [
    "Har du besvart oppgaven riktig burde plottet se noe [slik](Figurer/oppg5c_lf.svg) ut."
   ]
  },
  {
   "cell_type": "markdown",
   "id": "657e800d-a768-4250-9181-519f84883090",
   "metadata": {
    "deletable": false,
    "editable": false,
    "slideshow": {
     "slide_type": ""
    },
    "tags": []
   },
   "source": [
    "<br>\n",
    "<nav class=\"navbar navbar-default\">\n",
    "        <div class=\"container-fluid\">\n",
    "            <div class=\"navbar-header\" style=\"float: left\">\n",
    "                <a class=\"navbar-brand\" href=\"4_eulers_metode_logg.ipynb\" target=\"_self\">&lt; Forrige side: <i>Eulers Metode med logging</i></a>\n",
    "                </div>\n",
    "            <div class=\"navbar-header\" style=\"float: right\">\n",
    "                <a class=\"navbar-brand\" href=\"6_eulers_metode_generalisering.ipynb\" target=\"_self\">Neste side: <i>Generalisering</i> &gt;</a>\n",
    "            </div>\n",
    "        </div>\n",
    "</nav>"
   ]
  }
 ],
 "metadata": {
  "kernelspec": {
   "display_name": "Python 3 (ipykernel)",
   "language": "python",
   "name": "python3"
  },
  "language_info": {
   "codemirror_mode": {
    "name": "ipython",
    "version": 3
   },
   "file_extension": ".py",
   "mimetype": "text/x-python",
   "name": "python",
   "nbconvert_exporter": "python",
   "pygments_lexer": "ipython3",
   "version": "3.12.11"
  }
 },
 "nbformat": 4,
 "nbformat_minor": 5
}
