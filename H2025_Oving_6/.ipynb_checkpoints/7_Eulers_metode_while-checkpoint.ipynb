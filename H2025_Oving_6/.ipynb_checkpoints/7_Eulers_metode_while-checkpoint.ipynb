{
 "cells": [
  {
   "cell_type": "markdown",
   "id": "27de9ec4-6323-4b9c-9732-ed7c6e0ff8f2",
   "metadata": {
    "deletable": false,
    "editable": false,
    "slideshow": {
     "slide_type": ""
    },
    "tags": []
   },
   "source": [
    "\n",
    "<nav class=\"navbar navbar-default\">\n",
    "  <div class=\"container-fluid\">\n",
    "    <div class=\"navbar-header\" style=\"float: left\">\n",
    "        <a class=\"navbar-brand\" href=\"0_Forside.ipynb\" target=\"_self\"> <h2> &uarr; Tilbake til forsiden</h2></a>\n",
    "    </div>\n",
    "  </div>\n",
    "</nav>"
   ]
  },
  {
   "cell_type": "markdown",
   "id": "8988fba0-828d-430b-a314-b08aa8acde13",
   "metadata": {
    "deletable": false
   },
   "source": [
    "# Tømming av badestamp\n",
    "\n",
    "#### Læringsmål:\n",
    "* Repetisjon Eulers metode\n",
    "* Anvendelse av Eulers metode på nytt problem\n",
    "* Bruk av while-løkker når antall steg i simuleringen ikke er forhåndsbestemt\n",
    "\n",
    "### Introduksjon:\n",
    "\n",
    "I øving 5 lærte vi om Eulers Metode, og hvordan det kan brukes til å finne numeriske løsninger til fysikk-problem som f.eks. fritt fall med luftmotstand. I denne oppgaven skal vi plukke opp igjen Eulers Metode, og bruke den til å finne svaret på et hel nytt fysikkspørsmål: ***\"Hvor lang tid tar det å tømme ut alt vannet i en badestamp?\"***\n",
    "\n",
    "\n",
    "La oss ta for oss en sylinderformet badestamp med diameter $d_S = 2\\text{m}$, som tømmes gjennom et avløpsrør  i bunnen av tanken med diameter $d_A=3\\text{cm}$. Vannstanden over tid modelleres som en ukjent funksjon $y(t)$, og tanken regnes som tom når vannstanden $y(t) \\leq 5 \\text{mm}$. \n",
    "\n",
    "\n",
    "<img src=\"Figurer/badestamp.png\"  style=\"width: 700px; margin-left: 100px\" />\n",
    "\n",
    "Selv om vi ikke kjenner til funksjonen $h(t)$, kan vi bruke fysikkens lover til å sette opp et uttrykk for hvor raskt vannet renner ut av avløpsrøret som funksjon av vannstand. Og siden endringsrate i vannstand ($h'(t)$) er direkte avhengig av hvor raskt vannet renner ut, kan alt kombineres i differensialligningen i formel $7.1$ der $g$ er tyngdeakselerasjonen $g = 9.81 \\text{m/s}^2$. Dersom du er dreven i fysikk og har lyst på en utfordring kan du forsøke å utlede differensialligningen i formel $7.1$ selv. \n",
    "\n",
    "$$\\Large y'(t) = -\\sqrt{2\\cdot g} \\cdot \\left(\\frac{d_A}{d_S} \\right) ^2\\cdot \\sqrt{y(t)}$$ \n",
    "\n",
    "Kodecellen nedenfor oppgir de relevante fysiske målene for badestampen, samt tyngdeakselerasjonem, og lagrer de i variablene `d_A`, `d_S` og `g`. Disse variablene skal benyttes i løsningen av på oppgaven."
   ]
  },
  {
   "cell_type": "code",
   "execution_count": null,
   "id": "b170ee8d-247e-4b24-a8ee-474ff082af06",
   "metadata": {
    "autofeedback": {
     "test_code": "IyBPdmVyc2tyaXZlciBtYXRyaXNlbmUgQSBvZyBiIG1lZCBueWUgdmVyZGllciBmb3IgYnJ1ayB1bmRlciB0ZXN0aW5nCmZyb20gSVB5dGhvbi5kaXNwbGF5IGltcG9ydCBIVE1MCmltcG9ydCBudW1weSBhcyBucAoKZF9TID0gcm91bmQobnAucmFuZG9tLnVuaWZvcm0oMS4yLCA0KSwyKQpkX0EgPSByb3VuZChucC5yYW5kb20udW5pZm9ybSgxLjVlLTIsIDVlLTIpLCAzKQoKZF9TX3JlZmVyZW5jZSA9IGRfUwpkX0FfcmVmZXJlbmNlID0gZF9BCgpIVE1MKGYiIiI8ZGl2IGNsYXNzID0gImFsZXJ0IGFsZXJ0LWluZm8iPgpOZXcgdmFsdWVzIGFzc2lnbmVkIHRvICdkX1MnIGFuZCAnZF9BJyBmb3IgdGVzdGluZy4gTmV3IHZhbHVlczo8YnI+CjxkaXYgc3R5bGU9Im1hcmdpbi1sZWZ0OjIwcHgiPmRfUyA9IHtkX1M6LjJmfSA8YnI+ZF9BID0ge2RfQTouM2Z9ICA8L2Rpdj48YnI+ClN1YnNlcXVlbnQgdGVzdHMgd2lsbCBmYWlsIGlmIGNvZGUgc29sdXRpb25zIGRvIG5vdCB1c2UgdXBkYXRlZCB2YWx1ZXMuCjwvZGl2PiIiIik="
    },
    "deletable": false,
    "editable": false,
    "execution": {
     "iopub.execute_input": "2025-10-01T08:36:13.121552Z",
     "iopub.status.busy": "2025-10-01T08:36:13.120788Z",
     "iopub.status.idle": "2025-10-01T08:36:13.400765Z",
     "shell.execute_reply": "2025-10-01T08:36:13.399493Z"
    },
    "nbgrader": {
     "cell_type": "code",
     "checksum": "b52317ad8cbb6dde351371d5dec46fed",
     "grade": true,
     "grade_id": "cell-3811d93b8481fb99",
     "locked": true,
     "points": 0,
     "schema_version": 3,
     "solution": false,
     "task": false
    }
   },
   "outputs": [],
   "source": [
    "d_A = 0.03 # Diameter på avløpsrør i meter\n",
    "d_S = 2 # Diameter på badestamp i meter\n",
    "g = 9.81 # Tyngdeakselerasjon (m/s^2)"
   ]
  },
  {
   "cell_type": "markdown",
   "id": "6bfd3aee-5687-455f-9624-77908214624a",
   "metadata": {
    "deletable": false
   },
   "source": [
    "## a)\n",
    "Gitt at tanken har vannstanden $y(0) = 1\\text{m}$ når vi begynner å tømme tanken, bruk Eulers Metode med skrittlengde $h=1\\text{s}$ i en `while`-løkke til å finne ut *hvor lang tid det tar å tømme tanken*. Med andre ord, hva er verdien til $t$ når $y(t) \\leq 5 \\text{mm}$?"
   ]
  },
  {
   "cell_type": "code",
   "execution_count": null,
   "id": "2410b207-1517-4a7f-94b6-71a3bbf21c80",
   "metadata": {
    "deletable": false,
    "execution": {
     "iopub.execute_input": "2025-10-01T08:36:13.407154Z",
     "iopub.status.busy": "2025-10-01T08:36:13.406805Z",
     "iopub.status.idle": "2025-10-01T08:36:13.420736Z",
     "shell.execute_reply": "2025-10-01T08:36:13.419534Z"
    },
    "nbgrader": {
     "cell_type": "code",
     "checksum": "2c444450827fd947afbb4fdaee354f70",
     "grade": false,
     "grade_id": "cell-8e73019b4b973ef3",
     "locked": false,
     "schema_version": 3,
     "solution": true,
     "task": false
    }
   },
   "outputs": [],
   "source": [
    "y_0 = 1.0 # meter\n",
    "h = 1.0 # sekund\n",
    "varighet = \"???\" # Regn ut korrekt verdi\n",
    "#-------------------------------------\n",
    "# SKRIV DIN KODE HER!\n",
    "#-------------------------------------\n",
    "type(y[-1])"
   ]
  },
  {
   "cell_type": "code",
   "execution_count": null,
   "id": "7ff3188d-ad15-482b-a27e-685b0bc20685",
   "metadata": {
    "autofeedback": {
     "test_code": "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"
    },
    "deletable": false,
    "editable": false,
    "execution": {
     "iopub.execute_input": "2025-10-01T08:36:13.426784Z",
     "iopub.status.busy": "2025-10-01T08:36:13.426492Z",
     "iopub.status.idle": "2025-10-01T08:36:16.044195Z",
     "shell.execute_reply": "2025-10-01T08:36:16.042542Z"
    },
    "nbgrader": {
     "cell_type": "code",
     "checksum": "d544f48ba847825e79434f312969bc81",
     "grade": true,
     "grade_id": "cell-e96328446be34256",
     "locked": true,
     "points": 10,
     "schema_version": 3,
     "solution": false,
     "task": false
    },
    "slideshow": {
     "slide_type": ""
    },
    "tags": []
   },
   "outputs": [],
   "source": [
    "print(f\"Det tar {varighet} sekund å tømme badestampen\")"
   ]
  },
  {
   "cell_type": "markdown",
   "id": "78fa406a-6123-44a3-b901-0aadf1e336bf",
   "metadata": {
    "deletable": false,
    "editable": false,
    "slideshow": {
     "slide_type": ""
    },
    "tags": []
   },
   "source": [
    "<br>\n",
    "<nav class=\"navbar navbar-default\">\n",
    "        <div class=\"container-fluid\">\n",
    "            <div class=\"navbar-header\" style=\"float: left\">\n",
    "                <a class=\"navbar-brand\" href=\"6_Fikspunkt_konvergens.ipynb\" target=\"_self\">&lt; Neste side: <i>konvergens med fikspunktiterasjon</i></a>\n",
    "            </div> \n",
    "        </div>\n",
    "</nav>"
   ]
  }
 ],
 "metadata": {
  "kernelspec": {
   "display_name": "Python 3 (ipykernel)",
   "language": "python",
   "name": "python3"
  },
  "language_info": {
   "codemirror_mode": {
    "name": "ipython",
    "version": 3
   },
   "file_extension": ".py",
   "mimetype": "text/x-python",
   "name": "python",
   "nbconvert_exporter": "python",
   "pygments_lexer": "ipython3",
   "version": "3.12.11"
  }
 },
 "nbformat": 4,
 "nbformat_minor": 5
}
