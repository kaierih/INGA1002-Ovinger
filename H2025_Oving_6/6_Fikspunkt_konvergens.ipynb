{
 "cells": [
  {
   "cell_type": "markdown",
   "id": "826d4787-a74e-4a77-bdae-87df37c84218",
   "metadata": {
    "deletable": false,
    "editable": false,
    "slideshow": {
     "slide_type": ""
    },
    "tags": []
   },
   "source": [
    "\n",
    "<nav class=\"navbar navbar-default\">\n",
    "  <div class=\"container-fluid\">\n",
    "    <div class=\"navbar-header\" style=\"float: left\">\n",
    "        <a class=\"navbar-brand\" href=\"0_Forside.ipynb\" target=\"_self\"> <h2> &uarr; Tilbake til forsiden</h2></a>\n",
    "    </div>\n",
    "  </div>\n",
    "</nav>"
   ]
  },
  {
   "cell_type": "markdown",
   "id": "a6a57798-a826-4e83-bce5-f3ffb4c762d4",
   "metadata": {
    "deletable": false
   },
   "source": [
    "# Fikspunktiterasjon og konvergens\n",
    "\n",
    "#### Læringsmål\n",
    "* Forstå kriteriene som må ligget til rette for at fikspunktiterasjon skal konvergere mot en løsning\n",
    "\n",
    "### Introduksjon\n",
    "Hittil har vi jobbet med antagelsen om at fikspunktiterasjon vil kunne komme frem til løsningen på en ligning skrevet på formen $x = g(x)$ bare vi lar programmet kjøre lenge nok. Men, dette kan vi ikke alltid regne med vil være tilfellet. I denne oppgaven skal vi utforske hvilke type ligninger og/eller startpunkt for algoritmen som kan føre til at den *divergerer* fra løsningen. "
   ]
  },
  {
   "cell_type": "markdown",
   "id": "6416ad10-f4a8-42b1-93bd-1591b023e6b9",
   "metadata": {
    "deletable": false
   },
   "source": [
    "\n",
    "\n",
    "## a)\n",
    "\n",
    "Gitt følgende ligning:\n",
    "\n",
    "$$ \\large x = \\frac{2x^2 + 2}{4} = g(x)$$\n",
    "\n",
    "Du skal nok en gang bruke fikspunktiterasjon slik du lærte i oppgave $1$ og $5$ til å finne løsningen på ligningen. Denne gang er vi interessert i å kartlegge hvor raskt python-programmet \"peiler seg inn\" på løsningen, alstå *konvergerer* mot fikspunktet til funksjonen $g(x)$. Derfor skal du samle data fra hver iterasjon, og plotte en kurve som viser *differansen* $| x_n - g(x_n) |$ for hver iterasjon. Metoden skal starte med initialverdi $x_0$ = 0, og programmet skal utføre $N=20$ iterasjoner."
   ]
  },
  {
   "cell_type": "code",
   "execution_count": null,
   "id": "7a023af8-f027-4b02-bdfb-b55e6dcb488c",
   "metadata": {
    "autofeedback": {
     "plot_task": true
    },
    "deletable": false,
    "editable": true,
    "execution": {
     "iopub.execute_input": "2025-10-01T08:36:06.308798Z",
     "iopub.status.busy": "2025-10-01T08:36:06.308107Z",
     "iopub.status.idle": "2025-10-01T08:36:07.314508Z",
     "shell.execute_reply": "2025-10-01T08:36:07.312130Z"
    },
    "nbgrader": {
     "cell_type": "code",
     "checksum": "05369cc35f0995e7359db7852fdffeb8",
     "grade": false,
     "grade_id": "cell-44242b8f7b19adcc",
     "locked": false,
     "schema_version": 3,
     "solution": true,
     "task": false
    },
    "slideshow": {
     "slide_type": ""
    },
    "tags": []
   },
   "outputs": [],
   "source": [
    "import numpy as np\n",
    "import matplotlib.pyplot as plt\n",
    "\n",
    "def g(x):\n",
    "    return (2*x**2+2)/4\n",
    "\n",
    "x_0 = 0\n",
    "#-------------------------------------\n",
    "# SKRIV DIN KODE HER!\n",
    "#-------------------------------------"
   ]
  },
  {
   "cell_type": "code",
   "execution_count": null,
   "id": "801a841e-7006-4431-9981-0d5c3c63e5ac",
   "metadata": {
    "autofeedback": {
     "test_code": "ZnJvbSBhdXRvZmVlZGJhY2sgaW1wb3J0IFRlc3RDbGFzcywgUGxvdENoZWNrZXIKaW1wb3J0IG51bXB5IGFzIG5wCmRlZiB0ZXN0X3JvdXRpbmUoKToKICAgIHRlc3RfcmVzdWx0cyA9IFBsb3RDaGVja2VyKGZpZz1maWcpCiAgICBpZiB0ZXN0X3Jlc3VsdHMuY2hlY2tfbnVtX2xpbmVzKGV4cGVjdGVkX251bV9saW5lcz0xLCB3Z3Q9MS4wKToKCiAgICAgICAgZGVmIGdfZGlmZih4KTogICAgICAgICAgICAKICAgICAgICAgICAgcmV0dXJuIG5wLmFicygoMip4KioyKzIpLzQgLSB4KQoKICAgICAgICBpZiBucC5pc2Nsb3NlKGdfZGlmZigwKSwgZmlnLmF4ZXNbLTFdLmxpbmVzWy0xXS5nZXRfeWRhdGEoKVswXSk6CiAgICAgICAgICAgIHRlc3RfcmVzdWx0cy5hZGRfcmVzdWx0KFRydWUsICJDb3JyZWN0IGluaXRpYWwgdmFsdWUgbWFya2VkIGluIHBsb3QuIikKICAgICAgICBlbHNlOgogICAgICAgICAgICB0ZXN0X3Jlc3VsdHMuYWRkX3Jlc3VsdChGYWxzZSwgIkluaXRpYWwgdmFsdWUgaW4gcGxvdCBpcyBpbmNvcnJlY3QuIikKICAgICAgICAgICAgCiAgICAgICAgaWYgbnAuaXNjbG9zZSgyMCwgZmlnLmF4ZXNbLTFdLmxpbmVzWy0xXS5nZXRfeGRhdGEoKVstMV0pOgogICAgICAgICAgICB0ZXN0X3Jlc3VsdHMuYWRkX3Jlc3VsdChUcnVlLCAiQ29ycmVjdCBudW1iZXIgb2YgaXRlcmF0aW9ucy4iKQogICAgICAgIGVsc2U6CiAgICAgICAgICAgIHRlc3RfcmVzdWx0cy5hZGRfcmVzdWx0KEZhbHNlLCAiSW5jb3JyZWN0IG51bWJlciBvZiBpdGVyYXRpb25zLiIpCgogICAgICAgIGlmIG5wLmlzY2xvc2UoMC4wMDMyMDkwMTA2NzY1MDY4MDcsIGZpZy5heGVzWy0xXS5saW5lc1stMV0uZ2V0X3lkYXRhKClbLTFdKToKICAgICAgICAgICAgdGVzdF9yZXN1bHRzLmFkZF9yZXN1bHQoVHJ1ZSwgIkRpZmZlcmVuY2UgYWZ0ZXIgMjAgaXRlcmF0aW9ucyBpcyBjb3JyZWN0LiIpCiAgICAgICAgZWxzZToKICAgICAgICAgICAgdGVzdF9yZXN1bHRzLmFkZF9yZXN1bHQoRmFsc2UsICJEaWZmZXJlbmNlIGFmdGVyIDIwIGl0ZXJhdGlvbnMgaXMgaW5jb3JyZWN0LiIpCiAgICAgICAgCiAgICByZXR1cm4gcm91bmQodGVzdF9yZXN1bHRzLmdldF9yZXN1bHRzKCkqMiwgMikKdGVzdF9yb3V0aW5lKCk="
    },
    "deletable": false,
    "editable": false,
    "execution": {
     "iopub.execute_input": "2025-10-01T08:36:07.322765Z",
     "iopub.status.busy": "2025-10-01T08:36:07.321742Z",
     "iopub.status.idle": "2025-10-01T08:36:09.577167Z",
     "shell.execute_reply": "2025-10-01T08:36:09.575027Z"
    },
    "nbgrader": {
     "cell_type": "code",
     "checksum": "b7ba3bd94ce39cf1f6688362d6a9ae8c",
     "grade": true,
     "grade_id": "cell-1b86e0a11be9f083",
     "locked": true,
     "points": 2,
     "schema_version": 3,
     "solution": false,
     "task": false
    },
    "slideshow": {
     "slide_type": ""
    },
    "tags": []
   },
   "outputs": [],
   "source": [
    "# Denne cellen brukes under retting. La stå!"
   ]
  },
  {
   "cell_type": "markdown",
   "id": "4ceb16ec-aea5-410d-924e-2e2a566602fa",
   "metadata": {
    "deletable": false
   },
   "source": [
    "Har du løst oppgaven riktig skal plottet se noe [slik](Figurer/oppg6a_lf.svg) ut, der vi tydelig ser at avviket blir mindre og mindre for hver iterasjon. I bildet har det blitt brukt logaritmisk skala for y-aksen slik at de små forskjellene fra steg til steg skal bli lettere å se.\n",
    "\n",
    "Men, denne oppførselen er ikke nødvendigvis garantert. Dersom vi gir algoritmen et annent startpunkt, for eksempel $x_0 = 1.1$, vil vi få et nokså annet resultat.\n",
    "\n",
    "## b)\n",
    "\n",
    "Gjenta beregningen fra deloppgave **a)**, men denne gangen med en startverdi $x_0 = 1.1$, og lag et nytt plott som viser hvordan avviket $|x - g(x)|$ utvikler seg."
   ]
  },
  {
   "cell_type": "code",
   "execution_count": null,
   "id": "f0f86e1c-c7a3-4501-abb8-3e90dee827e9",
   "metadata": {
    "autofeedback": {
     "plot_task": true
    },
    "deletable": false,
    "execution": {
     "iopub.execute_input": "2025-10-01T08:36:09.583421Z",
     "iopub.status.busy": "2025-10-01T08:36:09.582890Z",
     "iopub.status.idle": "2025-10-01T08:36:09.855137Z",
     "shell.execute_reply": "2025-10-01T08:36:09.854149Z"
    },
    "nbgrader": {
     "cell_type": "code",
     "checksum": "83a8660fc3fbf59be613de17a6c56636",
     "grade": false,
     "grade_id": "cell-ffdfdf96441be7e6",
     "locked": false,
     "schema_version": 3,
     "solution": true,
     "task": false
    }
   },
   "outputs": [],
   "source": [
    "import numpy as np\n",
    "import matplotlib.pyplot as plt\n",
    "\n",
    "def g(x):\n",
    "    return (2*x**2+2)/4\n",
    "\n",
    "x_0 = 1.1\n",
    "#-------------------------------------\n",
    "# SKRIV DIN KODE HER!\n",
    "#-------------------------------------"
   ]
  },
  {
   "cell_type": "code",
   "execution_count": null,
   "id": "25ba05c7-816c-4a11-9993-89bad0f6bd65",
   "metadata": {
    "autofeedback": {
     "test_code": "ZnJvbSBhdXRvZmVlZGJhY2sgaW1wb3J0IFRlc3RDbGFzcywgUGxvdENoZWNrZXIKaW1wb3J0IG51bXB5IGFzIG5wCmRlZiB0ZXN0X3JvdXRpbmUoKToKICAgIHRlc3RfcmVzdWx0cyA9IFBsb3RDaGVja2VyKGZpZz1maWcpCiAgICBpZiB0ZXN0X3Jlc3VsdHMuY2hlY2tfbnVtX2xpbmVzKGV4cGVjdGVkX251bV9saW5lcz0xLCB3Z3Q9MS4wKToKCiAgICAgICAgZGVmIGdfZGlmZih4KTogICAgICAgICAgICAKICAgICAgICAgICAgcmV0dXJuIG5wLmFicygoMip4KioyKzIpLzQgLSB4KQoKICAgICAgICBpZiBucC5pc2Nsb3NlKGdfZGlmZigxLjEpLCBmaWcuYXhlc1stMV0ubGluZXNbLTFdLmdldF95ZGF0YSgpWzBdKToKICAgICAgICAgICAgdGVzdF9yZXN1bHRzLmFkZF9yZXN1bHQoVHJ1ZSwgIkNvcnJlY3QgaW5pdGlhbCB2YWx1ZSBtYXJrZWQgaW4gcGxvdC4iKQogICAgICAgIGVsc2U6CiAgICAgICAgICAgIHRlc3RfcmVzdWx0cy5hZGRfcmVzdWx0KEZhbHNlLCAiSW5pdGlhbCB2YWx1ZSBpbiBwbG90IGlzIGluY29ycmVjdC4iKQogICAgICAgICAgICAKICAgICAgICBpZiBucC5pc2Nsb3NlKDIwLCBmaWcuYXhlc1stMV0ubGluZXNbLTFdLmdldF94ZGF0YSgpWy0xXSk6CiAgICAgICAgICAgIHRlc3RfcmVzdWx0cy5hZGRfcmVzdWx0KFRydWUsICJDb3JyZWN0IG51bWJlciBvZiBpdGVyYXRpb25zIGRldGVjdGVkIGluIHBsb3QuIikKICAgICAgICBlbHNlOgogICAgICAgICAgICB0ZXN0X3Jlc3VsdHMuYWRkX3Jlc3VsdChGYWxzZSwgIkluY29ycmVjdCBudW1iZXIgb2YgaXRlcmF0aW9ucyBkZXRlY3RlZCBpbiBwbG90LiIpCgogICAgICAgIGlmIG5wLmlzY2xvc2UoMC40NTYyNjczMzE1OTYyMDI3LCBmaWcuYXhlc1stMV0ubGluZXNbLTFdLmdldF95ZGF0YSgpWy0xXSk6CiAgICAgICAgICAgIHRlc3RfcmVzdWx0cy5hZGRfcmVzdWx0KFRydWUsICJEaWZmZXJlbmNlIGN1cnZlIHx4LWcoeCl8IGFmdGVyIDIwIGl0ZXJhdGlvbnMgaXMgY29ycmVjdC4iKQogICAgICAgIGVsc2U6CiAgICAgICAgICAgIHRlc3RfcmVzdWx0cy5hZGRfcmVzdWx0KEZhbHNlLCAiRGlmZmVyZW5jZSBjdXJ2ZSB8eC1nKHgpfCBhZnRlciAyMCBpdGVyYXRpb25zIGlzIGluY29ycmVjdC4iKQogICAgICAgIAogICAgcmV0dXJuIHJvdW5kKHRlc3RfcmVzdWx0cy5nZXRfcmVzdWx0cygpKjIsIDIpCnRlc3Rfcm91dGluZSgp"
    },
    "deletable": false,
    "editable": false,
    "execution": {
     "iopub.execute_input": "2025-10-01T08:36:09.863907Z",
     "iopub.status.busy": "2025-10-01T08:36:09.863503Z",
     "iopub.status.idle": "2025-10-01T08:36:09.879098Z",
     "shell.execute_reply": "2025-10-01T08:36:09.876686Z"
    },
    "nbgrader": {
     "cell_type": "code",
     "checksum": "d810578fdd67f820f76c0a4f5cf4ffe7",
     "grade": true,
     "grade_id": "cell-1cd239e5d5704fe8",
     "locked": true,
     "points": 2,
     "schema_version": 3,
     "solution": false,
     "task": false
    },
    "slideshow": {
     "slide_type": ""
    },
    "tags": []
   },
   "outputs": [],
   "source": [
    "# Denne cellen brukes under retting. La stå!"
   ]
  },
  {
   "cell_type": "markdown",
   "id": "0aba5d70-e138-4136-b234-1fbffa5e3d2f",
   "metadata": {
    "deletable": false
   },
   "source": [
    "Har du løst oppgaven riktig skal plottet se noe [slik](Figurer/oppg6b_lf.svg) ut, der vi tydelig ser at avviket blir større og større for hver iterasjon. Årsaken til at dette skjer blir tydelig når vi studerer kurven til $x$ og $g(x)$ punktene $x_0$, $x_1$, $x_2$ osv..\n",
    "\n",
    "<img src=\"Figurer/fixpoint_divergent.gif\"  style=\"width: 800px; margin-left: 10%\" />\n",
    "\n",
    "Her ser vi at når kurven $y = g(x)$ er *brattere* enn kurven $y=x$, så vil fikspunktiterasjon divergere vekk fra fikspunktet. Med andre ord kan vi si at fikspunktiterasjon ikke vil konvergere dersom algoritmen befinner seg i et område hvor $|g'(x)| \\geq 1$. Denne definisjonen kan vi benytte i programmet vårt til å avbryte fikspunktiterasjonen dersom vi oppdager at differansen $|x - g(x)|$ divergerer. Hver gang vi utfører én iterasjon kan vi bruke *numerisk derivasjon* til å tilnærme $g'(x)$ i punktet $x=x_n$:\n",
    "\n",
    "$$\\Large g'(x_n) \\approx \\frac{g(x_n) - g(x_{n-1})}{x_n - x_{n-1}} \\tag{6.1}$$"
   ]
  },
  {
   "cell_type": "markdown",
   "id": "a74a8927-cb88-4273-a4e6-48dc98c8fa48",
   "metadata": {
    "deletable": false
   },
   "source": [
    "## c) \n",
    "Ta utgangspunkt i formel $6.1$, og fullfør funksjonsbeskrivelsen `fikspunkt` som tar inn funksjonen `g`, startpunktet `x0` og toleranse `tol` og forsøker å finne løsningen på ligningen $x = g(x)$ ved hjelp av fikspunktiterasjon. Funksjonen skal være i stand til å oppdage når metoden divergerer, og avslutte løkken dersom dette skjer. Funksjonen skal også avslutte løkkken dersom antall iterasjoner overskrider en maksverdi `Nmax`. Returverdier vil være sist utregnede verdi for $x$, samt avviket $|g(x)-x|$ i det punktet.\n",
    "\n",
    "Funksjonen har altså tre mulige utfall:\n",
    "1. Den finner løsningen, og avviket er mindre enn grenseverdien `tol`.\n",
    "2. Metoden konvergerer, men det går sakte. Løkken avsluttes etter `Nmax` iterasjoner.\n",
    "3. Metoden divergerer, og løkken avlsuttes umiddelbart.\n",
    "\n",
    "**Eksempel på kjøring:**\n",
    "\n",
    "> ```Python\n",
    "> import numpy as np\n",
    "> \n",
    "> def g(x):\n",
    ">     return np.cos(x)\n",
    ">     \n",
    "> x, avvik = fikspunkt(g, x0=0, tol=1e-6, Nmax=1000)\n",
    "> print(\"Løser ligningen x = cos(x) med fikspunktiterasjon og startverdi x0 = 0:\")\n",
    "> print(f\"Løsning: {x = :.3f} --- Avvik: |g(x)-x| = {avvik:.3e}\")\n",
    "> ```\n",
    " \n",
    "> `Løser ligningen x = cos(x) med fikspunktiterasjon og startverdi x0 = 0:`<br>\n",
    "> `Løsning: x = 0.739 --- Avvik: |g(x)-x| = 9.768e-07`"
   ]
  },
  {
   "cell_type": "code",
   "execution_count": null,
   "id": "fc783e5a-17a4-4387-991d-03e5f4b5e631",
   "metadata": {
    "deletable": false,
    "execution": {
     "iopub.execute_input": "2025-10-01T08:36:09.886698Z",
     "iopub.status.busy": "2025-10-01T08:36:09.885920Z",
     "iopub.status.idle": "2025-10-01T08:36:09.914030Z",
     "shell.execute_reply": "2025-10-01T08:36:09.912371Z"
    },
    "nbgrader": {
     "cell_type": "code",
     "checksum": "0729fb144f6fc600a3ca36ee2570520e",
     "grade": false,
     "grade_id": "cell-1a56b0f2b6c08171",
     "locked": false,
     "schema_version": 3,
     "solution": true,
     "task": false
    }
   },
   "outputs": [],
   "source": [
    "def fikspunkt(g, x0, tol, Nmax):\n",
    "    #-------------------------------------\n",
    "    # SKRIV DIN KODE HER!\n",
    "    #-------------------------------------\n",
    "    return x_n, gx_diff\n",
    "\n",
    "# Legg inn testkall til funksjonen her for å se at den fungerre slik vi forventer\n",
    "#-------------------------------------\n",
    "# SKRIV DIN KODE HER!\n",
    "#-------------------------------------"
   ]
  },
  {
   "cell_type": "markdown",
   "id": "ecfcfed7-c51d-4dc7-a750-e8fc9538abac",
   "metadata": {
    "deletable": false
   },
   "source": [
    "Her er noen forslag til ligninger du kan bruke til å teste de ulike utfallene.\n",
    "\n",
    "\\begin{align*}\n",
    "x &= \\cos(x) & \\text{Konvergerer raskt} \\tag{6.2}\\\\ \\\\\n",
    "x &= \\frac{\\pi}{2} - \\cos(x) &  \\text{Konvergerer sakte} \\tag{6.3}\\\\ \\\\\n",
    "x &= 2\\cdot x - 1 & \\text{Divergerer for alle } x_0 \\neq 1.0 \\tag{6.4}\n",
    "\\end{align*}"
   ]
  },
  {
   "cell_type": "code",
   "execution_count": null,
   "id": "0f05a6b6-c28d-4ff2-a5f0-8eba0c3753c3",
   "metadata": {
    "autofeedback": {
     "test_code": "CmRlZiB0ZXN0X3JvdXRpbmUoKToKICAgIGZyb20gYXV0b2ZlZWRiYWNrIGltcG9ydCBDdXN0b21UZXN0cwogICAgaW1wb3J0IG51bXB5IGFzIG5wCiAgICBmcm9tIHJhbmRvbSBpbXBvcnQgc2FtcGxlLCByYW5kaW50CgogICAgZ3JhZGluZ19yZXN1bHRzID0gQ3VzdG9tVGVzdHMoKQogICAgdHJ5OgogICAgICAgIGZpa3NwdW5rdChsYW1iZGEgeDogeC8yLTEsIHgwPTAsIHRvbD0xZS0zLCBObWF4PTEwMCkKICAgIGV4Y2VwdCBFeGNlcHRpb24gYXMgZToKICAgICAgICBncmFkaW5nX3Jlc3VsdHMuYWRkX3Jlc3VsdChGYWxzZSwgIkNvdWxkIG5vdCBydW4gdGVzdHMsICIrZS5hcmdzWzBdKQogICAgZWxzZToKCiAgICAgICAgIyBUZXN0IHJhcGlkIGNvbnZlcmdlbmNlCiAgICAgICAgZGVmIGcxKHgpOgogICAgICAgICAgICByZXR1cm4gbnAuY29zKHgpCgogICAgICAgIHgxLCBkaWZmMSA9IGZpa3NwdW5rdChnMSwgMCwgdG9sPTFlLTYsIE5tYXg9MTAwMCkKCiAgICAgICAgZ3JhZGluZ19yZXN1bHRzLnRlc3QobnAuaXNjbG9zZSgwLjczOTA4NDU0OTU3NTIxMjYzNDg0LCB4MSwgYXRvbD0xZS0zKSwKICAgICAgICAgICAgICAgICAgICAgICAgICAgICAiY29udmVyZ2VkIG9uIHNvbHV0aW9uIGZvciAneD1jb3MoeCknIGdpdmVuIHgwPTAsIHRvbD0xZS02LCBObWF4PTEwMDAiLAogICAgICAgICAgICAgICAgICAgICAgICAgICAgICJkaWQgbm90IGNvbnZlcmdlIG9uIHNvbHV0aW9uIGZvciAneD1jb3MoeCknIGdpdmVuIHgwPTAsIHRvbD0xZS02LCBObWF4PTEwMDAiKQogICAgICAgIGdyYWRpbmdfcmVzdWx0cy50ZXN0KGRpZmYxIDwgMWUtNiwKICAgICAgICAgICAgICAgICAgICAgICAgICAgICBmInJlbWFpbmluZyBkaWZmZXJlbmNlIHxnKHgpIC0geHw9e2RpZmYxOi4zZX0gd2l0aGluIHRvbGVyYW5jZSB3aGVuIHNvbHZpbmcgJ3g9Y29zKHgpJyIsCiAgICAgICAgICAgICAgICAgICAgICAgICAgICAgZiJyZW1haW5pbmcgZGlmZmVyZW5jZSB8Zyh4KSAtIHh8PXtkaWZmMTouM2V9IG91dHNpZGUgdG9sZXJhbmNlIHdoZW4gc29sdmluZyAneD1jb3MoeCknIikKICAgICAgICAKICAgICAgICAjIFRlc3QgaXRlcmF0aW9uIGNhcCBmb3Igc2xvdyBjb252ZXJnZW5jZQogICAgICAgIGRlZiBnMih4KToKICAgICAgICAgICAgcmV0dXJuIG5wLnBpLzIgLSBucC5jb3MoeCkKCiAgICAgICAgeDIsIGRpZmYyID0gZmlrc3B1bmt0KGcyLCAwLCB0b2w9MWUtNiwgTm1heD0xMDAwKQoKICAgICAgICBncmFkaW5nX3Jlc3VsdHMudGVzdChucC5pc2Nsb3NlKDEuNTE2MjAzMzU1Mjg0Njg3NjM3MTksIHgyLCBhdG9sPTFlLTMpLAogICAgICAgICAgICAgICAgICAgICAgICAgICAgICJhcHByb2FjaGVkIHNvbHV0aW9uIGZvciAneCA9IHBpLzIgLSBjb3MoeCknIGdpdmVuIHgwPTAsIHRvbD0xZS02LCBObWF4PTEwMDAiLAogICAgICAgICAgICAgICAgICAgICAgICAgICAgICJkaWQgbm90IGNvbnZlcmdlIHRvd2FyZHMgc29sdXRpb24gZm9yICd4ID0gcGkvMiAtIGNvcyh4KScgZ2l2ZW4geDA9MCwgdG9sPTFlLTYsIE5tYXg9MTAwMCIpCiAgICAgICAgZ3JhZGluZ19yZXN1bHRzLnRlc3QoZGlmZjIgPiAxZS02LAogICAgICAgICAgICAgICAgICAgICAgICAgICAgIGYiZml4cG9pbnQgZXhpdGVkIHdoaWxlIGRpZmZlcmVuY2UgfGcoeCkgLSB4fD17ZGlmZjI6LjNlfSB3YXMgZ3JlYXRlZCB0aGFuIHRvbGVyYW5jZSIsCiAgICAgICAgICAgICAgICAgICAgICAgICAgICAgZiJmaXhwb2ludCBkaWQgbm90IGV4aXQgd2hpbGUgZGlmZmVyZW5jZSB8Zyh4KSAtIHh8PXtkaWZmMjouM2V9IHdhcyBncmVhdGVkIHRoYW4gdG9sZXJhbmNlIikKICAgICAgICAKICAgICAgICAjIFRlc3QgZGl2ZXJnZW5jZSBjaGVjawogICAgICAgIGRlZiBnMyh4KToKICAgICAgICAgICAgcmV0dXJuIDIqeCAtIDEKICAgICAgICAgICAgCiAgICAgICAgeDMsIGRpZmYzID0gZmlrc3B1bmt0KGczLCAwLCB0b2w9MWUtNiwgTm1heD0xMDAwKQogICAgICAgIGdyYWRpbmdfcmVzdWx0cy50ZXN0KC0xMCA8IHgzIDwgMCwgIyBDaGVjayB0aGF0IHRoZSBmdW5jdGlvbiBleGl0cyBsb29wIGJlZm9yIHgxIGJlY29tZXMgYSB2ZXJ5IHZlcnkgbGFyZ2UgbmVnYXRpdmUgbnVtYmVyCiAgICAgICAgICAgICAgICAgICAgICAgICAgICAgInN1Y2Nlc3NmeWxseSBpZGVudGlmaWVkIGRpdmVyZ2luZyBzb2x1dGlvbiBmb3IgJ3ggPSAyeCAtIDEnIGdpdmVuIHgwPTAsIHRvbD0xZS02LCBObWF4PTEwMDAiLAogICAgICAgICAgICAgICAgICAgICAgICAgICAgIGYiZGlkIG5vdCBpZGVudGlmeSBkaXZlcmdpbmcgc29sdXRpb24gZm9yICd4ID0gMnggLSAxJyBnaXZlbiB4MD0wLCB0b2w9MWUtNiwgTm1heD0xMDAwLiByZXR1cm5lZCB4X24gPSB7eDN9Iiwgd2d0PTYuMCkKCiAgICAgICAgCiAgICAgICAgICAgIAogICAgcmV0dXJuIHJvdW5kKGdyYWRpbmdfcmVzdWx0cy5nZXRfcmVzdWx0cygpKjYsIDIpCnRlc3Rfcm91dGluZSgp"
    },
    "deletable": false,
    "editable": false,
    "execution": {
     "iopub.execute_input": "2025-10-01T08:36:09.920245Z",
     "iopub.status.busy": "2025-10-01T08:36:09.919642Z",
     "iopub.status.idle": "2025-10-01T08:36:09.960445Z",
     "shell.execute_reply": "2025-10-01T08:36:09.958334Z"
    },
    "nbgrader": {
     "cell_type": "code",
     "checksum": "09649f85e2e24afdf655ee7f53dd7434",
     "grade": true,
     "grade_id": "cell-91d672bce78659a7",
     "locked": true,
     "points": 6,
     "schema_version": 3,
     "solution": false,
     "task": false
    },
    "slideshow": {
     "slide_type": ""
    },
    "tags": []
   },
   "outputs": [],
   "source": [
    "# Denne cellen brukes under retting. La stå!"
   ]
  },
  {
   "cell_type": "markdown",
   "id": "a7943a60-3af4-4e5d-bd6b-4e55ef5305b3",
   "metadata": {
    "deletable": false,
    "editable": false,
    "slideshow": {
     "slide_type": ""
    },
    "tags": []
   },
   "source": [
    "<br>\n",
    "<nav class=\"navbar navbar-default\">\n",
    "        <div class=\"container-fluid\">\n",
    "            <div class=\"navbar-header\" style=\"float: left\">\n",
    "                <a class=\"navbar-brand\" href=\"5_Fikspunkt_while.ipynb\" target=\"_self\">&lt; Neste side: <i>fikspunktiterasjon med while-løkker</i></a>\n",
    "            </div> \n",
    "            <div class=\"navbar-header\" style=\"float: right\">\n",
    "                <a class=\"navbar-brand\" href=\"7_Eulers_metode_while.ipynb\" target=\"_self\">Neste side: <i>Euler's metode med while-løkke</i> &gt;</a>\n",
    "            </div>\n",
    "        </div>\n",
    "</nav>"
   ]
  }
 ],
 "metadata": {
  "kernelspec": {
   "display_name": "Python 3 (ipykernel)",
   "language": "python",
   "name": "python3"
  },
  "language_info": {
   "codemirror_mode": {
    "name": "ipython",
    "version": 3
   },
   "file_extension": ".py",
   "mimetype": "text/x-python",
   "name": "python",
   "nbconvert_exporter": "python",
   "pygments_lexer": "ipython3",
   "version": "3.12.11"
  }
 },
 "nbformat": 4,
 "nbformat_minor": 5
}
