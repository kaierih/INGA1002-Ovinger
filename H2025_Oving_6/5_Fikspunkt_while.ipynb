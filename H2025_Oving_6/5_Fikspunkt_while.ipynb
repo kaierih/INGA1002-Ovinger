{
 "cells": [
  {
   "cell_type": "markdown",
   "id": "30aa8dc9-2241-4550-b382-094c222e1708",
   "metadata": {
    "deletable": false,
    "editable": false,
    "slideshow": {
     "slide_type": ""
    },
    "tags": []
   },
   "source": [
    "\n",
    "<nav class=\"navbar navbar-default\">\n",
    "  <div class=\"container-fluid\">\n",
    "    <div class=\"navbar-header\" style=\"float: left\">\n",
    "        <a class=\"navbar-brand\" href=\"0_Forside.ipynb\" target=\"_self\"> <h2> &uarr; Tilbake til forsiden</h2></a>\n",
    "    </div>\n",
    "  </div>\n",
    "</nav>"
   ]
  },
  {
   "cell_type": "markdown",
   "id": "da6136e0-b1f7-4f45-8dd6-00444454ec22",
   "metadata": {
    "deletable": false
   },
   "source": [
    "# Fikspunkt med `while`"
   ]
  },
  {
   "cell_type": "markdown",
   "id": "740b4ee0-0416-4468-b060-34244bdca671",
   "metadata": {
    "deletable": false
   },
   "source": [
    "#### Læringsmål:\n",
    "\n",
    "* Anvendelse av while-løkker i numerikk\n"
   ]
  },
  {
   "cell_type": "markdown",
   "id": "3bd3917c-20d0-4af4-b85f-00d4b67426d3",
   "metadata": {
    "deletable": false
   },
   "source": [
    "Nå som vi har lært om while-løkker i oppgave $2$, $3$ og $4$, skal vi se på hvordan de kan brukes til å løse ligninger. I oppgave $1$ erfarte vi at enkelte ligninger kan løses raskt, imens andre ligninger kan ta svært mange repetisjoner før vi kommer tilstrekkelig nære en eksakt løsning. Vi ønsker derfor å lage et program som utøfrer følgende steg:\n",
    "\n",
    "> 1. Sett initialverdi for $x$\n",
    "> 2. Så lenge vi ikke har funnet fikspunktet ($x \\neq r$):\n",
    ">     - Utfør gjentatte iterasjoner $x_{n+1} = g(x_n)$\n",
    "> 3. Når løkken er avsltutet ***må*** det bety at vi har funnet riktig verdi for $x$.\n",
    "\n",
    "Men, det er nok unødvendig å regne ut fikspunktet som løser lignignen $x = g(x)$ med uendelig høy nøyaktighet. Som regel vil definere en *toleranse*, altså en tillatt feilmargin hvor vi sier at den tilnærmede løsningen er \"god nok\" dersom den ligger innenfor denne feilmarginen. \n",
    "\n",
    "\n",
    "Ligningen vi skal arbeide med i denne oppgaven er andregradsligningen som er oppgitt i formel $3.1$ nedenfor. Dette er som kjent en ligning det går helt fint å løse uten numeriske metoder, men fungerer som et nyttig utgangspuinkt for å lære om hvordan numeriske metoder fungerer.\n",
    "\n",
    "$$\\large 2x^2 - 4x + 2 = 0 \\tag{5.1}$$\n"
   ]
  },
  {
   "cell_type": "markdown",
   "id": "08186fc2-943f-47ff-90e2-02a48ab99472",
   "metadata": {
    "deletable": false
   },
   "source": [
    "## a)\n",
    "\n",
    "Vi skal i de neste deloppgavene programmere en numerisk metode som anser en ligning som løst når den har funnet en verdi $x \\approx r$  med så stor nøyaktighet at den absolutte feilen $|x - g(x)| < 10^{-6}$. Første steg er å definere en funksjon `fixpoint_found(x, g_x)` som returnerer `True` dersom den utregnede verdien av $x$ ligger innenfor feilmarginen, og `False` ellers."
   ]
  },
  {
   "cell_type": "code",
   "execution_count": null,
   "id": "81de8b12-f6a9-42c4-aba1-06f4cc19d5a4",
   "metadata": {
    "deletable": false,
    "execution": {
     "iopub.execute_input": "2025-10-01T08:35:58.180831Z",
     "iopub.status.busy": "2025-10-01T08:35:58.180197Z",
     "iopub.status.idle": "2025-10-01T08:35:58.190899Z",
     "shell.execute_reply": "2025-10-01T08:35:58.188083Z"
    },
    "nbgrader": {
     "cell_type": "code",
     "checksum": "ce5efae522dcfe10a2044df2c0ba2daf",
     "grade": false,
     "grade_id": "cell-e86d9023780b0398",
     "locked": false,
     "schema_version": 3,
     "solution": true,
     "task": false
    }
   },
   "outputs": [],
   "source": [
    "def fixpoint_found(x, g_x):\n",
    "    #-------------------------------------\n",
    "    # SKRIV DIN KODE HER!\n",
    "    #-------------------------------------"
   ]
  },
  {
   "cell_type": "code",
   "execution_count": null,
   "id": "29828d7e-0290-40ad-b264-cb0263e2a89f",
   "metadata": {
    "autofeedback": {
     "test_code": "ZGVmIHRlc3Rfcm91dGluZSgpOgogICAgZnJvbSBhdXRvZmVlZGJhY2sgaW1wb3J0IEZ1bmN0aW9uVGVzdHMKICAgIGltcG9ydCBudW1weSBhcyBucAogICAgZnJvbSByYW5kb20gaW1wb3J0IHNhbXBsZSwgcmFuZGludAogICAgCiAgICBkZWYgZml4cG9pbnRfZm91bmRfc29sdXRpb24oeCwgZ194KToKICAgICAgICByZXR1cm4gYWJzKHggLSBnX3gpIDwgMWUtNgoKICAgIGdyYWRpbmdfcmVzdWx0cyA9IEZ1bmN0aW9uVGVzdHMoZml4cG9pbnRfZm91bmRfc29sdXRpb24sIHJ0b2w9MWUtMykKICAgIHRyeToKICAgICAgICBncmFkaW5nX3Jlc3VsdHMuYWRkX3Rlc3RfZnVuYyhmaXhwb2ludF9mb3VuZCkKICAgIGV4Y2VwdCBFeGNlcHRpb24gYXMgZToKICAgICAgICBncmFkaW5nX3Jlc3VsdHMubG9nLmFwcGVuZCgiQ291bGQgbm90IHJ1biB0ZXN0cywgIitlLmFyZ3NbMF0pCiAgICBlbHNlOgogICAgICAgIE4gPSA0CiAgICAgICAgdG1wX2xpc3QgPSBzYW1wbGUobGlzdChucC5saW5zcGFjZSgwLCAxLCAyMDEpKSwgTioyKQogICAgICAgIHhfdmFsdWVzID0gdG1wX2xpc3RbOjoyXQogICAgICAgIGdfdmFsdWVzID0gdG1wX2xpc3RbMTo6Ml0KCiAgICAgICAgdG1wX3ZhbCA9IHJhbmRpbnQoLTk5LCA5OSkKICAgICAgICB4X3ZhbHVlcy5hcHBlbmQodG1wX3ZhbCkKICAgICAgICBnX3ZhbHVlcy5hcHBlbmQodG1wX3ZhbCArIDVlLTcpCiAgICAgICAgCiAgICAgICAgZm9yIHgsIGdfeCBpbiAgemlwKHhfdmFsdWVzLCBnX3ZhbHVlcyk6CiAgICAgICAgICAgIGdyYWRpbmdfcmVzdWx0cy50ZXN0X3JldHVybl92YWx1ZSh4LCBnX3gpCiAgICAgICAgICAgIAogICAgcmV0dXJuIHJvdW5kKGdyYWRpbmdfcmVzdWx0cy5nZXRfcmVzdWx0cygpKjMsIDIpCnRlc3Rfcm91dGluZSgp"
    },
    "deletable": false,
    "editable": false,
    "execution": {
     "iopub.execute_input": "2025-10-01T08:35:58.198208Z",
     "iopub.status.busy": "2025-10-01T08:35:58.197571Z",
     "iopub.status.idle": "2025-10-01T08:36:00.968104Z",
     "shell.execute_reply": "2025-10-01T08:36:00.966424Z"
    },
    "nbgrader": {
     "cell_type": "code",
     "checksum": "073cc1a825748e9f9ac8989dec05c749",
     "grade": true,
     "grade_id": "cell-a43282afeb8aeb02",
     "locked": true,
     "points": 3,
     "schema_version": 3,
     "solution": false,
     "task": false
    }
   },
   "outputs": [],
   "source": [
    "# Denne cellen brukes under retting. La Stå!"
   ]
  },
  {
   "cell_type": "markdown",
   "id": "59c1d964-22fe-49d8-b237-80b893486e42",
   "metadata": {
    "deletable": false
   },
   "source": [
    "## b)\n",
    "\n",
    "Bruk funksjonen `fixpoint_found` fra deloppgave **a)** til å avgjøre avlsutningsbetingelsen for fikspunktiterasjon med wile-løkke. I kodemalen nedenfor er betingelsen for while-løkka oppsaatt, men det er opp til deg å lage funksjonsbeskrivelsen $g(x)$ basert på formel $5.1$, og avgjøre innholdet i while-løkka."
   ]
  },
  {
   "cell_type": "code",
   "execution_count": null,
   "id": "c037d236-f5fb-4259-aec2-eedc85e3cdc2",
   "metadata": {
    "deletable": false,
    "execution": {
     "iopub.execute_input": "2025-10-01T08:36:00.974143Z",
     "iopub.status.busy": "2025-10-01T08:36:00.973686Z",
     "iopub.status.idle": "2025-10-01T08:36:00.981526Z",
     "shell.execute_reply": "2025-10-01T08:36:00.979917Z"
    },
    "nbgrader": {
     "cell_type": "code",
     "checksum": "d26bc50e10e47f5ce0ef2e258b148969",
     "grade": false,
     "grade_id": "cell-b8a764dc4380ef39",
     "locked": false,
     "schema_version": 3,
     "solution": true,
     "task": false
    }
   },
   "outputs": [],
   "source": [
    "x_n = 0 # Initialverdi\n",
    "#-------------------------------------\n",
    "# SKRIV DIN KODE HER!\n",
    "#-------------------------------------\n",
    "while not fixpoint_found(x_n, g(x_n)):\n",
    "    #-------------------------------------\n",
    "    # SKRIV DIN KODE HER!\n",
    "    #-------------------------------------\n",
    "\n",
    "# Foreslått utskrift avhengig av utfall:\n",
    "print(f\"Fixpoint found in {x_n = :.3f}\")"
   ]
  },
  {
   "cell_type": "markdown",
   "id": "75b4b45a-28a8-4458-a8b1-5ab70d2a20b4",
   "metadata": {
    "deletable": false
   },
   "source": [
    "NB! Retteprogrammet vil sjekke verdien til variabelen `x_n`, så det er essensielt at løsningen blir lagret til dette variabelnavnet."
   ]
  },
  {
   "cell_type": "code",
   "execution_count": null,
   "id": "62bb6a80-9c70-4579-a4ed-a41c303d0c9d",
   "metadata": {
    "autofeedback": {
     "test_code": "ZGVmIHRlc3Rfcm91dGluZSgpOgogICAgZnJvbSBhdXRvZmVlZGJhY2sgaW1wb3J0IFZhcmlhYmxlVGVzdHMKICAgIHhfc29sID0gMC45OTg1ODY1OTQ5NTM3NjQ4OTQ0NgogICAgdGVzdF9yZXN1bHRzID0gVmFyaWFibGVUZXN0cygpCiAgICB0ZXN0X3Jlc3VsdHMuY29tcGFyZV92YWx1ZXMoeF9uLCB4X3NvbCwgbmFtZT0ieCIsIHJ0b2w9MWUtNiwgYXRvbD0xZS04KQogICAgcmV0dXJuIHJvdW5kKHRlc3RfcmVzdWx0cy5nZXRfcmVzdWx0cygpKjMsIDIpCiAgICAKdGVzdF9yb3V0aW5lKCk="
    },
    "deletable": false,
    "editable": false,
    "execution": {
     "iopub.execute_input": "2025-10-01T08:36:00.986525Z",
     "iopub.status.busy": "2025-10-01T08:36:00.986247Z",
     "iopub.status.idle": "2025-10-01T08:36:00.995813Z",
     "shell.execute_reply": "2025-10-01T08:36:00.994685Z"
    },
    "nbgrader": {
     "cell_type": "code",
     "checksum": "480769dcaf24064bb83d5856870d511c",
     "grade": true,
     "grade_id": "cell-685b57d2a3f4ab32",
     "locked": true,
     "points": 3,
     "schema_version": 3,
     "solution": false,
     "task": false
    }
   },
   "outputs": [],
   "source": [
    "# Denne cellen brukes under retting. La Stå!"
   ]
  },
  {
   "cell_type": "markdown",
   "id": "2ca8e84f-1822-498e-92c1-1536cc965dc1",
   "metadata": {
    "deletable": false
   },
   "source": [
    "## c)\n",
    "Noen ganger kan det hende at en ligning gankse enkelt ikke har en løsning. Da vil det være en fordel at programmet ikke låser seg fast i en \"evig løkke\". Ta utganspunkt i løsningen fra deloppgave **b)**, og implementer en \"timeout\" funksjonalitet hvor algoritmen avbryter løkken uansett avvik mellom $x$ og $g(x)$ dersom det har blitt kjørt $1\\ 000$ iterasjoner eller mer. Ligningen som skal løses er fortsatt $2x^2 - 4x + 2 = 0$, og du skal bruke initalverdien $x_0 = 0$. <br>\n",
    "*Hint: Her må vi lage en variabel som holder styr på antall iterasjoner $n$ som er blitt gjennomført, og sjekke verdien til denne variabelen som en del av betingelsen i `while`-løkka. Nedenfor er en mal som gir noen hint til hvordan denne løsningen vil se ut*"
   ]
  },
  {
   "cell_type": "code",
   "execution_count": null,
   "id": "8782f928-e694-4f53-b9dd-0a204fc67d2e",
   "metadata": {
    "deletable": false,
    "execution": {
     "iopub.execute_input": "2025-10-01T08:36:01.002662Z",
     "iopub.status.busy": "2025-10-01T08:36:01.001991Z",
     "iopub.status.idle": "2025-10-01T08:36:01.017090Z",
     "shell.execute_reply": "2025-10-01T08:36:01.015444Z"
    },
    "nbgrader": {
     "cell_type": "code",
     "checksum": "f71df68628650b288bb800431959f0e3",
     "grade": false,
     "grade_id": "cell-8abda522f8f98871",
     "locked": false,
     "schema_version": 3,
     "solution": true,
     "task": false
    }
   },
   "outputs": [],
   "source": [
    "x_n = 0 # Initialverdi.\n",
    "#-------------------------------------\n",
    "# SKRIV DIN KODE HER!\n",
    "#-------------------------------------\n",
    "while not fixpoint_found(x_n, g(x_n)) and n < 1_000:\n",
    "    #-------------------------------------\n",
    "    # SKRIV DIN KODE HER!\n",
    "    #-------------------------------------\n",
    "    \n",
    "# Foreslått utskrift avhengig av utfall:\n",
    "if n >= 1_000:\n",
    "    print(f\"Fixpoint not found after {n} iterations. Program ended on {x_n = :.3f}\")\n",
    "else:\n",
    "    print(f\"Fixpoint found in {x_n = :.3f} after {n} iterations.\")"
   ]
  },
  {
   "cell_type": "markdown",
   "id": "3e4d78ae-ac3b-41c1-94c3-238e5f41a714",
   "metadata": {
    "deletable": false
   },
   "source": [
    "NB! Retteprogrammet vil sjekke verdien til variabelen `x_n`, så det er essensielt at løsningen blir lagret til dette variabelnavnet."
   ]
  },
  {
   "cell_type": "code",
   "execution_count": null,
   "id": "b0ee06fa-3a93-4f70-a2e6-61ea36565ff2",
   "metadata": {
    "autofeedback": {
     "test_code": "ZGVmIHRlc3Rfcm91dGluZSgpOgogICAgZnJvbSBhdXRvZmVlZGJhY2sgaW1wb3J0IFZhcmlhYmxlVGVzdHMKICAgIHhfc29sID0gMC45OTgwMTcyMTgyNzcxMjA1MzI0OAogICAgdGVzdF9yZXN1bHRzID0gVmFyaWFibGVUZXN0cygpCiAgICB0ZXN0X3Jlc3VsdHMuY29tcGFyZV92YWx1ZXMoeF9uLCB4X3NvbCwgbmFtZT0ieCIsIHJ0b2w9MWUtNiwgYXRvbD0xZS04KQogICAgcmV0dXJuIHJvdW5kKHRlc3RfcmVzdWx0cy5nZXRfcmVzdWx0cygpKjQsIDIpCiAgICAKdGVzdF9yb3V0aW5lKCk="
    },
    "deletable": false,
    "editable": false,
    "execution": {
     "iopub.execute_input": "2025-10-01T08:36:01.023968Z",
     "iopub.status.busy": "2025-10-01T08:36:01.023350Z",
     "iopub.status.idle": "2025-10-01T08:36:01.040690Z",
     "shell.execute_reply": "2025-10-01T08:36:01.038107Z"
    },
    "nbgrader": {
     "cell_type": "code",
     "checksum": "57e8f778fdb5de802a47b1572f231705",
     "grade": true,
     "grade_id": "cell-8a7a889cd7252bf8",
     "locked": true,
     "points": 4,
     "schema_version": 3,
     "solution": false,
     "task": false
    },
    "slideshow": {
     "slide_type": ""
    },
    "tags": []
   },
   "outputs": [],
   "source": [
    "# Denne cellen brukes under retting. La stå!"
   ]
  },
  {
   "cell_type": "markdown",
   "id": "9c651d96-6c2b-4301-9509-8e25687759a7",
   "metadata": {
    "deletable": false,
    "editable": false,
    "slideshow": {
     "slide_type": ""
    },
    "tags": []
   },
   "source": [
    "<br>\n",
    "<nav class=\"navbar navbar-default\">\n",
    "        <div class=\"container-fluid\">\n",
    "            <div class=\"navbar-header\" style=\"float: left\">\n",
    "                <a class=\"navbar-brand\" href=\"4_Nedbetaling_av_laan.ipynb\" target=\"_self\">&lt; Neste side: <i>nedbetaling av lån</i></a>\n",
    "            </div> \n",
    "            <div class=\"navbar-header\" style=\"float: right\">\n",
    "                <a class=\"navbar-brand\" href=\"6_Fikspunkt_konvergens.ipynb\" target=\"_self\">Neste side: <i>konvergens med fikspunktiterasjon</i> &gt;</a>\n",
    "            </div>\n",
    "        </div>\n",
    "</nav>"
   ]
  }
 ],
 "metadata": {
  "kernelspec": {
   "display_name": "Python 3 (ipykernel)",
   "language": "python",
   "name": "python3"
  },
  "language_info": {
   "codemirror_mode": {
    "name": "ipython",
    "version": 3
   },
   "file_extension": ".py",
   "mimetype": "text/x-python",
   "name": "python",
   "nbconvert_exporter": "python",
   "pygments_lexer": "ipython3",
   "version": "3.12.11"
  }
 },
 "nbformat": 4,
 "nbformat_minor": 5
}
