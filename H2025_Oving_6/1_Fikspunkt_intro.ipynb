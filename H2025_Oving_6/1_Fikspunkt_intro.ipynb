{
 "cells": [
  {
   "cell_type": "markdown",
   "id": "faa5a18f-4717-4bf3-849c-c2043761943f",
   "metadata": {
    "deletable": false,
    "editable": false,
    "slideshow": {
     "slide_type": ""
    },
    "tags": []
   },
   "source": [
    "\n",
    "<nav class=\"navbar navbar-default\">\n",
    "  <div class=\"container-fluid\">\n",
    "    <div class=\"navbar-header\" style=\"float: left\">\n",
    "        <a class=\"navbar-brand\" href=\"0_Forside.ipynb\" target=\"_self\"> <h2> &uarr; Tilbake til forsiden</h2></a>\n",
    "    </div>\n",
    "  </div>\n",
    "</nav>"
   ]
  },
  {
   "cell_type": "markdown",
   "id": "ebbe3da5-d8a0-47ef-9481-8ccea78d6a90",
   "metadata": {
    "deletable": false
   },
   "source": [
    "# Introduksjon til fikspunktiterasjon: *gjensyn med andregradsligning*\n",
    "\n",
    "**Læringsmål:**\n",
    "\n",
    "* Intro til iterativ ligningsløsning med fikspunktiterasjon\n",
    "\n",
    "### Intro til løsning av andregradsligning med iterativ metode\n",
    "\n",
    "I Øving 4 skrev vi et program for å løse en andregradsligning analytisk med bruk av andregradsformelen. Andregradslignigner er som kjent ligninger på formen $a\\cdot x^2 + b\\cdot x + c = 0$, og utfordringen vår er å finne verdien til løsningen $x$ i ligningen. I denne oppgaven skal vi introduseres for en enkel iterativ metode kjent som for å løse ligninger. Iterative metoder er svært nyttige algoritmer for å løse vanskelige matematiske problemer med bruk av strategisk gjetting. \n",
    "<!--\n",
    "Typisk forløper fikspunktiterason seg som følger:\n",
    "1. Velg en initiell verdi for $x=x_0$ å bruke som startpunkt.\n",
    "2. Regn ut $f(x_0)$, som i dette tilfellet blir $a\\cdot x_0^2 + b\\cdot x_0 + c$\n",
    "3. Bruk resultatet fra $f(x_0)$ til å bestemme en ny *neste estimat* for $x=x_1$. Gå gå så tilbake til steg 2 og gjenta utregningen.\n",
    "\n",
    "Over mange iterasjoner så skal estimatene $x_n$ for $x$ konvergere mot ligningens løsning når $n \\rightarrow \\infty$.\n",
    "-->\n",
    "Den enkleste varianten av en iterativ metode vi kan bruke er fikspunktiterasjon. For å løse en andregradsligning med fikspunktiterasjon er første steg å skrive om selve andregradsligningen for å finne en \"oppdateringsfunksjon\" for $x$.\n",
    "\n",
    "\n",
    "\\begin{align*}\n",
    "a \\cdot x^2 + b \\cdot x + c &= 0 \\\\\n",
    "b \\cdot x &= -a \\cdot x^2 - c \\\\\n",
    "x &= -\\frac{a\\cdot x^2 + c}{b} \\tag{1.1}\n",
    "\\end{align*}\n",
    "\n",
    "Her har vi gjort noe så uintuitivt som å skrive $x$ som en funksjon av $x$. Men, nøkkelen til den iterative metoden er at $x$'en på venstresiden av likhetstegnet er det *neste* estimatet vårt for $x$ som vi regner ut basert på estimatet allerede har. Oppdateringsfunksjonen vår blir da:\n",
    "\n",
    "$$ x_{n+1} = -\\frac{a \\cdot x_{n}^2 + c}{b} \\tag{1.2}$$\n",
    "\n",
    "Hvor heltallet $n$ representerer *antallet iterajoner*. For å gjøre denne prosessen litt tydeligere, kan vi ta et eksempel og gå gjennom iterasjonene steg for steg for andregradsligningen $2x^2 - 5x + 2 = 0$. Oppdateringsfunksjonen blir da $x_{n+1} = \\frac{2x_n^2+2}{5}$. Vi kan starte enkelt med et initielt estimat for $x$: $x_0 = 0$.\n",
    "\n",
    "\n",
    "|Iterasjon nr. | Nåværende estimat $x_n$ | Neste estimat $x_{n+1}$ |\n",
    "|---|---|---|\n",
    "| $$0$$ | $$0$$ | $$\\frac{2\\cdot 0^2 + 2}{5} = 0.4$$ |\n",
    "| $$1$$ | $$0.4$$ | $$\\frac{2\\cdot 0.4^2 + 2}{5} = 0.464$$ |\n",
    "| $$2$$ | $$0.465$$ | $$\\frac{2\\cdot 0.464^2 + 2}{5} = 0.48612$$ |\n",
    "| $$3$$ | $$0.48612$$ | $$\\frac{2\\cdot 0.48612^2 + 2}{5} = 0.49452$$|\n",
    "| $$4$$ | $$0.49452$$ | $$\\frac{2\\cdot 0.49452^2 + 2}{5} = 0.49782$$ |\n",
    "| $$5$$ | $$0.49782$$ | $$\\frac{2\\cdot 0.49782^2 + 2}{5} = 0.49913$$ |\n",
    "\n",
    "På dette stadiet kan vi røpe at $x=0.5$ er én av løsningene til andregradsligningen $2x^2 - 5x + 2 = 0$. Som vi ser kommer estimatet vårt nærmere og nærmere $x=0.5$ for hvert steg, og differansen mellom $x_{n+1}$ og $x_n$ blir mindre og mindre. Som du ser i tabellen gjennomfører vi en serie med repetitive regneoperasjoner, hvor resultatet fra ett steg blir input til neste steg. I python er dette et klassisk eksempel på en metode vi kan implementere med en **løkke**.\n",
    "\n",
    "## a)\n",
    "\n",
    "Bruk en **for**-løkke til å skrive ferdig programmet nedenfor, som skal utføre nøyaktig `10` iterasjoner av metoden beskrevet ovenfor, og lagre resultatet i variabelen `x_est`. Initialverdi for $x$ skal være $x_0 = 0$.<br>\n",
    "*NB! Pass på at du ikke runder av verdien til variabelen `x_est`. Den eksakte verdien til `x_est` skal være noe **litt** annet enn $0.5$*"
   ]
  },
  {
   "cell_type": "code",
   "execution_count": null,
   "id": "73a10fed-174e-49c5-a737-0dd059f36b9d",
   "metadata": {
    "deletable": false,
    "editable": true,
    "execution": {
     "iopub.execute_input": "2025-10-01T08:35:29.250074Z",
     "iopub.status.busy": "2025-10-01T08:35:29.249242Z",
     "iopub.status.idle": "2025-10-01T08:35:29.263731Z",
     "shell.execute_reply": "2025-10-01T08:35:29.261368Z"
    },
    "nbgrader": {
     "cell_type": "code",
     "checksum": "a2a79b29812488d30626bc14b9eac06e",
     "grade": false,
     "grade_id": "cell-3f16889679c12732",
     "locked": false,
     "schema_version": 3,
     "solution": true,
     "task": false
    },
    "slideshow": {
     "slide_type": ""
    },
    "tags": []
   },
   "outputs": [],
   "source": [
    "a, b, c = 2, -5, 2 # Koeffisienter i Andregradsligning\n",
    "x_est = 0 # Initialverdi\n",
    "for i in range(10):\n",
    "    #-------------------------------------\n",
    "    # SKRIV DIN KODE HER!\n",
    "    #-------------------------------------\n",
    "\n",
    "\n",
    "print(f\"Løsningen på ligningen {a}x^2 + {b}x + {c} = 0 er:\")\n",
    "print(f\"x = {x_est :.3f}\")"
   ]
  },
  {
   "cell_type": "code",
   "execution_count": null,
   "id": "384ad2f2-3d7a-4ad7-a474-657ce2894a95",
   "metadata": {
    "autofeedback": {
     "test_code": "ZGVmIHRlc3Rfcm91dGluZSgpOgogICAgZnJvbSBhdXRvZmVlZGJhY2sgaW1wb3J0IFZhcmlhYmxlVGVzdHMKICAgIGEsIGIsIGMgPSAyLCAtNSwgMiAjIEtvZWZmaXNpZW50ZXIgaSBBbmRyZWdyYWRzbGlnbmluZwogICAgeF9lc3Rfc29sID0gMCAjIEluaXRpYWx2ZXJkaQogICAgZm9yIGkgaW4gcmFuZ2UoMTApOgogICAgICAgIHhfZXN0X3NvbCA9IC0oYSp4X2VzdF9zb2wqKjIrYykvYgoKICAgIHRlc3RfcmVzdWx0cyA9IFZhcmlhYmxlVGVzdHMoKQogICAgdGVzdF9yZXN1bHRzLmNvbXBhcmVfdmFsdWVzKHhfZXN0LCB4X2VzdF9zb2wsIG5hbWU9InhfZXN0IiwgcnRvbD0xZS02LCBhdG9sPTFlLTgpCiAgICByZXR1cm4gcm91bmQodGVzdF9yZXN1bHRzLmdldF9yZXN1bHRzKCkqMiwgMikKICAgIAp0ZXN0X3JvdXRpbmUoKQ=="
    },
    "deletable": false,
    "editable": false,
    "execution": {
     "iopub.execute_input": "2025-10-01T08:35:29.271170Z",
     "iopub.status.busy": "2025-10-01T08:35:29.270551Z",
     "iopub.status.idle": "2025-10-01T08:35:32.088570Z",
     "shell.execute_reply": "2025-10-01T08:35:32.087222Z"
    },
    "nbgrader": {
     "cell_type": "code",
     "checksum": "a1feecb5b869bf67536c31c892f3031c",
     "grade": true,
     "grade_id": "cell-eb2677002e4b24ac",
     "locked": true,
     "points": 2,
     "schema_version": 3,
     "solution": false,
     "task": false
    },
    "slideshow": {
     "slide_type": ""
    },
    "tags": []
   },
   "outputs": [],
   "source": [
    "# Denne cellen brukes under retting. La stå!"
   ]
  },
  {
   "cell_type": "markdown",
   "id": "0ff8860c-6372-40af-b46c-dd646985cf8c",
   "metadata": {
    "deletable": false
   },
   "source": [
    "Vi har nå sett at vi kan skrive om en ligning på en bestemt måte, repetere utregningene i ligningen mange ganger, og vipps så har datamaskinen kommet frem til løsningen. Er dette svart magi?\n",
    "\n",
    "Navntet på metoden vi brukte til å løse andregradsligningen er [*fikspunktiterasjon*](https://github.com/imfdrift/INGX1002H24/blob/01d7838a7c89b45b0fe2686cb70275ddab1b9bc9//2_lignlos/2_lignlos_fikspunkt.ipynb), og metoden er designet for å finne det vi kaller *fikspunktet* til en funksjon.\n",
    "\n",
    "**Definisjon:**\n",
    "> Vi sier at $r$ er et fikspunkt til funksjonen $g(x)$ dersom $g(r) = r$\n",
    "\n",
    "Det vi gjorde med andregradsligningen var altså å omskrive andregradsligningen til vi får en funksjon $g(x)$ på én side av likhetstegnet og $x$ på den andre slik at fikspunktet til $g(x)$ vil være lik en av løsningene på andregradsligningen. Når vi videre velger en startverdi $x_0=0$ og utfører gjentatte iterasjoner, vil den numeriske metoden gradvis peile seg innn på fikspunktet slik illustrert nedenfor.\n",
    "\n",
    "<img src=\"Figurer/fixpoint_abc.gif\"  style=\"width: 800px; margin-left: 10%\" />\n",
    "\n",
    "## b)\n",
    "\n",
    "I deloppgave **a)** fant vi altså *fikspunktet* til en funksjon $g(x)$. Gitt andregradsligningen $2x^2 - 5x + 2 = 0$, fyll inn uttrykket for denne funksjonen i kodecellen nedenfor."
   ]
  },
  {
   "cell_type": "code",
   "execution_count": null,
   "id": "9bb8740f-0480-454a-ad3f-fac4dd30c88a",
   "metadata": {
    "deletable": false,
    "execution": {
     "iopub.execute_input": "2025-10-01T08:35:32.095795Z",
     "iopub.status.busy": "2025-10-01T08:35:32.095292Z",
     "iopub.status.idle": "2025-10-01T08:35:32.102690Z",
     "shell.execute_reply": "2025-10-01T08:35:32.100583Z"
    },
    "nbgrader": {
     "cell_type": "code",
     "checksum": "a0159793250d653ca22f91cbec9b4f25",
     "grade": false,
     "grade_id": "cell-a4f1a8dd201da152",
     "locked": false,
     "schema_version": 3,
     "solution": true,
     "task": false
    }
   },
   "outputs": [],
   "source": [
    "def g(x):\n",
    "    #-------------------------------------\n",
    "    # SKRIV DIN KODE HER!\n",
    "    #-------------------------------------"
   ]
  },
  {
   "cell_type": "code",
   "execution_count": null,
   "id": "7f29c4f1-758d-460d-94a0-b5933ba2b2d7",
   "metadata": {
    "autofeedback": {
     "test_code": "ZGVmIHRlc3Rfcm91dGluZSgpOgogICAgZnJvbSBhdXRvZmVlZGJhY2sgaW1wb3J0IEZ1bmN0aW9uVGVzdHMKICAgIGltcG9ydCBudW1weSBhcyBucAogICAgZnJvbSByYW5kb20gaW1wb3J0IHNhbXBsZSwgcmFuZGludAoKICAgIGRlZiBnX3NvbCh4KToKICAgICAgICByZXR1cm4gKDIqeCoqMiArIDIpLzUKCiAgICBncmFkaW5nX3Jlc3VsdHMgPSBGdW5jdGlvblRlc3RzKGdfc29sLCBydG9sPTFlLTMpCiAgICB0cnk6CiAgICAgICAgZ3JhZGluZ19yZXN1bHRzLmFkZF90ZXN0X2Z1bmMoZykKICAgIGV4Y2VwdCBFeGNlcHRpb24gYXMgZToKICAgICAgICBncmFkaW5nX3Jlc3VsdHMubG9nLmFwcGVuZCgiQ291bGQgbm90IHJ1biB0ZXN0cywgIitlLmFyZ3NbMF0pCiAgICBlbHNlOgogICAgICAgIE4gPSAzCiAgICAgICAgeF92YWx1ZXMgPSBzYW1wbGUobGlzdChyYW5nZSgtMTAsIDEwKSksIE4pCiAgICAgICAgCiAgICAgICAgZm9yIHggaW4geF92YWx1ZXM6CiAgICAgICAgICAgIGdyYWRpbmdfcmVzdWx0cy50ZXN0X3JldHVybl92YWx1ZSh4KQogICAgICAgICAgICAKICAgIHJldHVybiByb3VuZChncmFkaW5nX3Jlc3VsdHMuZ2V0X3Jlc3VsdHMoKSoyLCAyKQp0ZXN0X3JvdXRpbmUoKQ=="
    },
    "deletable": false,
    "editable": false,
    "execution": {
     "iopub.execute_input": "2025-10-01T08:35:32.109892Z",
     "iopub.status.busy": "2025-10-01T08:35:32.109060Z",
     "iopub.status.idle": "2025-10-01T08:35:32.136527Z",
     "shell.execute_reply": "2025-10-01T08:35:32.133651Z"
    },
    "nbgrader": {
     "cell_type": "code",
     "checksum": "bf231792b4acb53cbd18eccd99de199d",
     "grade": true,
     "grade_id": "cell-4d8b39bf42c7cdcb",
     "locked": true,
     "points": 2,
     "schema_version": 3,
     "solution": false,
     "task": false
    },
    "slideshow": {
     "slide_type": ""
    },
    "tags": []
   },
   "outputs": [],
   "source": [
    "# Denne cellen brukes under retting. La stå!"
   ]
  },
  {
   "cell_type": "markdown",
   "id": "57232d18-7fba-4c1c-a86b-9052a0db2bf1",
   "metadata": {
    "deletable": false
   },
   "source": [
    "## c)\n",
    "Bruk nå gjentatte funksjonskall til funksjonen `g(x)` som du lagde i deloppgave **b)** til å finne fikspunktet til $g(x)$ med $10$ iterasjoner. Resultatet skal bli samme utskrift som i deloppgave **a)**.<br>\n",
    "*NB! Pass på at du bruker funksjonen `g(x)` fra kodecellen over, og ikke deklarerer en ny funksjon `g(x)`.*"
   ]
  },
  {
   "cell_type": "code",
   "execution_count": null,
   "id": "172958b5-10b6-429c-b630-175c5bdbfbaf",
   "metadata": {
    "deletable": false,
    "editable": true,
    "execution": {
     "iopub.execute_input": "2025-10-01T08:35:32.143046Z",
     "iopub.status.busy": "2025-10-01T08:35:32.142579Z",
     "iopub.status.idle": "2025-10-01T08:35:32.151247Z",
     "shell.execute_reply": "2025-10-01T08:35:32.149603Z"
    },
    "nbgrader": {
     "cell_type": "code",
     "checksum": "0973035340c2fe225395401a12668516",
     "grade": false,
     "grade_id": "cell-e36a38b2afe4b8d7",
     "locked": false,
     "schema_version": 3,
     "solution": true,
     "task": false
    },
    "slideshow": {
     "slide_type": ""
    },
    "tags": []
   },
   "outputs": [],
   "source": [
    "x_est = 0\n",
    "for i in range(10):\n",
    "    #-------------------------------------\n",
    "    # SKRIV DIN KODE HER!\n",
    "    #-------------------------------------\n",
    "print(f\"Løsningen på ligningen g(x) = x er:\")\n",
    "print(f\"x = {x_est :.3f}\")"
   ]
  },
  {
   "cell_type": "code",
   "execution_count": null,
   "id": "b39b750f-2b66-4727-bdca-3d33bf384c7a",
   "metadata": {
    "autofeedback": {
     "test_code": "ZGVmIHRlc3Rfcm91dGluZSgpOgogICAgZnJvbSBhdXRvZmVlZGJhY2sgaW1wb3J0IEN1c3RvbVRlc3RzCiAgICBmcm9tIHVuaXR0ZXN0Lm1vY2sgaW1wb3J0IHBhdGNoCiAgICBhbnN3ZXJfY2VsbF9pbmRleCA9IGxlbihJbiktMgogICAgYW5zd2VyX2NlbGxfY29udGVudHMgPSBJblthbnN3ZXJfY2VsbF9pbmRleF0KICAgIGdyYWRpbmdfcmVzdWx0cyA9IEN1c3RvbVRlc3RzKCkKICAgIAogICAgdHJ5OgogICAgICAgIHdpdGggcGF0Y2goZiJ7X19uYW1lX199LmciKSBhcyBtb2NrX2V1bGVyczoKICAgICAgICAgICAgbW9ja19ldWxlcnMucmV0dXJuX3ZhbHVlID0gMC40CiAgICAgICAgICAgIGV4ZWMoYW5zd2VyX2NlbGxfY29udGVudHMpCiAgICBleGNlcHQgRXhjZXB0aW9uIGFzIGU6CiAgICAgICAgZ3JhZGluZ19yZXN1bHRzLmFkZF9yZXN1bHQoRmFsc2UsICJjb3VsZCBub3QgcnVuIGFuc3dlciBjZWxsOiAiICsgZS5hcmdzWzBdKQogICAgZWxzZToKICAgICAgICBuX2NhbGxzID0gbGVuKG1vY2tfZXVsZXJzLmNhbGxfYXJnc19saXN0KQogICAgICAgIGdyYWRpbmdfcmVzdWx0cy50ZXN0KG5fY2FsbHMgPT0gMTAsCiAgICAgICAgICAgICAgICAgICAgICAgICAgICAgInJlZ2lzdGVyZWQgMTAgY2FsbHMgdG8gZnVuY3Rpb24gJ2coeCknLiIsCiAgICAgICAgICAgICAgICAgICAgICAgICAgICAgZiJyZWdpc3RlcmVkIHtuX2NhbGxzfSBjYWxscyB0byBmdW5jdGlvbiAnZyh4KScuIEV4cGVjdGVkIDEwIikKICAgICAgICBjYWxsX3ZhbCA9IG1vY2tfZXVsZXJzLmNhbGxfYXJnc19saXN0Wy0xXS5hcmdzWzBdCiAgICAgICAgZ3JhZGluZ19yZXN1bHRzLnRlc3QoY2FsbF92YWwgPT0gMC40LAogICAgICAgICAgICAgICAgICAgICAgICAgICAgICJpbnB1dCBhcmd1bWVudCB0byBmdW5jdGlvbiAnZyh4KScgaXMgY29ycmVjdCIsCiAgICAgICAgICAgICAgICAgICAgICAgICAgICAgInByZXZpb3VzIHJldHVybiB2YWx1ZSBmb3IgJ2coeCknIGRvZXMgbm90IGFwcGVhciB0byBlcXVhbCBpbnB1dCBhcmd1bWVudCBmb3IgbGFzdCBmdW5jdGlvbiBjYWxsIikKICAgICAgICAjZm9yIGksIGNhbGxfYXJnIGluIGVudW1lcmF0ZShtb2NrX2V1bGVycy5jYWxsX2FyZ3NfbGlzdCk6CiAgICAgICAgIyAgICBwcmludChjYWxsX2FyZy5hcmdzWzBdKQogICAgcmV0dXJuIHJvdW5kKGdyYWRpbmdfcmVzdWx0cy5nZXRfcmVzdWx0cygpKjMsIDIpCgp0ZXN0X3JvdXRpbmUoKQ=="
    },
    "deletable": false,
    "editable": false,
    "execution": {
     "iopub.execute_input": "2025-10-01T08:35:32.158486Z",
     "iopub.status.busy": "2025-10-01T08:35:32.157984Z",
     "iopub.status.idle": "2025-10-01T08:35:32.184043Z",
     "shell.execute_reply": "2025-10-01T08:35:32.182089Z"
    },
    "nbgrader": {
     "cell_type": "code",
     "checksum": "e81005181e1f1240ba2674b60c777882",
     "grade": true,
     "grade_id": "cell-1ed200a1507b94f6",
     "locked": true,
     "points": 3,
     "schema_version": 3,
     "solution": false,
     "task": false
    },
    "slideshow": {
     "slide_type": ""
    },
    "tags": []
   },
   "outputs": [],
   "source": [
    "# Denne cellen brukes under retting. La stå!"
   ]
  },
  {
   "cell_type": "markdown",
   "id": "cae7ff59-065d-4b10-926f-65dc80071dd3",
   "metadata": {
    "deletable": false
   },
   "source": [
    "Så langt fungerer dette veldig bra for å finne løsningen på ligninger, men innenfor numeriske metoder finnes det alltid begrensninger. Vi skal nå gjøre en liten endring på ligningen som løses. Ny ligning er:\n",
    "\n",
    "$$ 2 x^2 - 4 x + 2 = 0 \\tag{1.3}$$\n",
    "\n",
    "Den eksakte løsningen på ligning $1.3$ er $x = 1$. Vi skal nå se hvordan fikspunktiterasjon håndterer denne ligningen.\n",
    "\n",
    "# d)\n",
    "\n",
    "Bruk samme løsningsmetode som i deloppgavene **b)** og **c)** til å utføre `10` iterasjoner med fikspunktiterasjon for å løse ligning $1.3$."
   ]
  },
  {
   "cell_type": "code",
   "execution_count": null,
   "id": "e217bab0-c9f2-4a4e-94e9-df4370ffdb9a",
   "metadata": {
    "deletable": false,
    "editable": true,
    "execution": {
     "iopub.execute_input": "2025-10-01T08:35:32.191970Z",
     "iopub.status.busy": "2025-10-01T08:35:32.191021Z",
     "iopub.status.idle": "2025-10-01T08:35:32.203450Z",
     "shell.execute_reply": "2025-10-01T08:35:32.201569Z"
    },
    "nbgrader": {
     "cell_type": "code",
     "checksum": "305166ebc1d9bde822e8d27df7ef95ed",
     "grade": false,
     "grade_id": "cell-e8a0cdb38cf12166",
     "locked": false,
     "schema_version": 3,
     "solution": true,
     "task": false
    },
    "slideshow": {
     "slide_type": ""
    },
    "tags": []
   },
   "outputs": [],
   "source": [
    "def g(x):\n",
    "    #-------------------------------------\n",
    "    # SKRIV DIN KODE HER!\n",
    "    #-------------------------------------\n",
    "\n",
    "x_est = 0.0 # Initialverdi\n",
    "\n",
    "for n in range(10):\n",
    "    #-------------------------------------\n",
    "    # SKRIV DIN KODE HER!\n",
    "    #-------------------------------------\n",
    "\n",
    "print(f\"Løsningen på ligningen g(x) = x er:\")\n",
    "print(f\"x = {x_est :.20f}\")"
   ]
  },
  {
   "cell_type": "code",
   "execution_count": null,
   "id": "7a40b388-b17f-4470-960f-9d30efd7fb9d",
   "metadata": {
    "autofeedback": {
     "test_code": "ZGVmIHRlc3Rfcm91dGluZSgpOgogICAgZnJvbSBhdXRvZmVlZGJhY2sgaW1wb3J0IFZhcmlhYmxlVGVzdHMKICAgIAogICAgdGVzdF9yZXN1bHRzID0gVmFyaWFibGVUZXN0cygpCiAgICB0ZXN0X3Jlc3VsdHMuY29tcGFyZV92YWx1ZXMoeF9lc3QsIDAuODYxMDk4MjEyMjA1NzEyMDMyNDksIG5hbWU9InhfZXN0IiwgcnRvbD0xZS02LCBhdG9sPTFlLTgpCiAgICByZXR1cm4gcm91bmQodGVzdF9yZXN1bHRzLmdldF9yZXN1bHRzKCkqMywgMikKICAgIAp0ZXN0X3JvdXRpbmUoKQ=="
    },
    "deletable": false,
    "editable": false,
    "execution": {
     "iopub.execute_input": "2025-10-01T08:35:32.211243Z",
     "iopub.status.busy": "2025-10-01T08:35:32.210657Z",
     "iopub.status.idle": "2025-10-01T08:35:32.224987Z",
     "shell.execute_reply": "2025-10-01T08:35:32.223296Z"
    },
    "nbgrader": {
     "cell_type": "code",
     "checksum": "1798aa7233ced0625572e6f787ef23f4",
     "grade": true,
     "grade_id": "cell-bcf147961ad995e9",
     "locked": true,
     "points": 3,
     "schema_version": 3,
     "solution": false,
     "task": false
    },
    "slideshow": {
     "slide_type": ""
    },
    "tags": []
   },
   "outputs": [],
   "source": [
    "# Denne cellen brukes under retting. La stå!"
   ]
  },
  {
   "cell_type": "markdown",
   "id": "f74c0e36-c92a-465c-8556-406c277093e7",
   "metadata": {
    "deletable": false,
    "editable": false,
    "slideshow": {
     "slide_type": ""
    },
    "tags": []
   },
   "source": [
    "Denne gangen vil du se på utskriften at løsningen som er funnet med fikspunktiterasjon avviker betydelig fra den eksakte løsningen, alstå $x=1$. I dette tilfellet var ikke $N=10$ iterasjoner nok repetisjoner for å komme tilstrekkelig nært riktig løsning, og hvis vi prøver ut $N=1\\ 000$ iterasjoner vil vi se at vi fortsatt ikke er *helt* i mål. Med andre ord har vi klart å finne en numerisk metode for å løse ligninger, men vi har ikke noen måte å vite *hvor mange* iterasjoner som trengs, noe som gjør for-løkker uegnet for denne typen problem. Det vi trenger er å lage et program som kan utføre fikspunktiterasjoner så lenge som nødvendig helt frem til løsningen er funnet, altså en **while-løkke!**. "
   ]
  },
  {
   "cell_type": "markdown",
   "id": "6547051a-bda1-4964-9ace-ee928489db85",
   "metadata": {
    "deletable": false,
    "editable": false,
    "slideshow": {
     "slide_type": ""
    },
    "tags": []
   },
   "source": [
    "<br>\n",
    "<nav class=\"navbar navbar-default\">\n",
    "        <div class=\"container-fluid\">\n",
    "            <div class=\"navbar-header\" style=\"float: right\">\n",
    "                <a class=\"navbar-brand\" href=\"2_while_intro.ipynb\" target=\"_self\">Neste side: <i>intro til while-løkker</i> &gt;</a>\n",
    "            </div>\n",
    "        </div>\n",
    "</nav>"
   ]
  }
 ],
 "metadata": {
  "kernelspec": {
   "display_name": "Python 3 (ipykernel)",
   "language": "python",
   "name": "python3"
  },
  "language_info": {
   "codemirror_mode": {
    "name": "ipython",
    "version": 3
   },
   "file_extension": ".py",
   "mimetype": "text/x-python",
   "name": "python",
   "nbconvert_exporter": "python",
   "pygments_lexer": "ipython3",
   "version": "3.12.11"
  }
 },
 "nbformat": 4,
 "nbformat_minor": 5
}
