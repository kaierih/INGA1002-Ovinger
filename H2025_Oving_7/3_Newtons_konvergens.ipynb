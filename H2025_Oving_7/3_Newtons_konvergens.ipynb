{
 "cells": [
  {
   "cell_type": "markdown",
   "id": "db5ee01d-dec3-4307-aeb7-c0d7ca9ea213",
   "metadata": {
    "deletable": false,
    "editable": false
   },
   "source": [
    "\n",
    "<nav class=\"navbar navbar-default\">\n",
    "  <div class=\"container-fluid\">\n",
    "    <div class=\"navbar-header\" style=\"float: left\">\n",
    "        <a class=\"navbar-brand\" href=\"0_Forside.ipynb\" target=\"_self\"> <h2> &uarr; Tilbake til forsiden</h2></a>\n",
    "    </div>\n",
    "  </div>\n",
    "</nav>"
   ]
  },
  {
   "cell_type": "markdown",
   "id": "36f618f6-bba4-4819-a619-8cdf4da1d6ea",
   "metadata": {
    "deletable": false,
    "editable": true,
    "slideshow": {
     "slide_type": ""
    },
    "tags": []
   },
   "source": [
    "# Newton's Metode og Konvergens\n",
    "\n",
    "#### Læringsmål\n",
    "* Begrensninger i bruk av Newton's Metode til å løse ligninger"
   ]
  },
  {
   "cell_type": "markdown",
   "id": "d4243f35-8721-47d4-bddd-fdd1f23b09ab",
   "metadata": {
    "deletable": false
   },
   "source": [
    "### Introduksjon\n",
    "\n",
    "Vi har til nå i øvingen fokusert på den typen problem hvor Newton's Metode vil konvergere mot riktig løsning nokså raskt. Men, dersom ligningen rett og slett ikke har en løsning så vil dette kunne føre til at Newton's Metode fortsetter i en uendelig løkke. Og for å gjøre ting enda værre, så er det enkelte typer ligninger hvor metoden kan \"sette seg fast\" og ikke komme fram til løsningen. I denne oppgaven skal vi ta for oss ligningen i formel $3.1$ nedenfor. Det er en tredjegradsligning og har nøyaktig én løsning.\n",
    "\n",
    "$$\\Large x^3 - 2x + 2 = 0 \\tag{3.1}$$"
   ]
  },
  {
   "cell_type": "markdown",
   "id": "49feffec-9ec4-42a8-a129-67d3aa70e0c9",
   "metadata": {
    "deletable": false,
    "editable": true,
    "slideshow": {
     "slide_type": ""
    },
    "tags": []
   },
   "source": [
    "## a)\n",
    "\n",
    "Utfør $10$ iterasjoner av Newton's Metode i kodecellen nedenfor, lagre resultatet for hver iterasjon i listen `x_n`, og skriv ut hvert iterasjonssteg (et forslag til hvordan skrive ut hvert element i listen `x_n` er oppgitt). Startverdien skal være $x_0 = 0.0$"
   ]
  },
  {
   "cell_type": "code",
   "execution_count": null,
   "id": "97d2c5f7-063f-4ba4-912f-c766631d3f9c",
   "metadata": {
    "deletable": false,
    "editable": true,
    "execution": {
     "iopub.execute_input": "2025-10-08T11:32:06.857582Z",
     "iopub.status.busy": "2025-10-08T11:32:06.857375Z",
     "iopub.status.idle": "2025-10-08T11:32:06.861882Z",
     "shell.execute_reply": "2025-10-08T11:32:06.861414Z"
    },
    "nbgrader": {
     "cell_type": "code",
     "checksum": "465f044c02eb49aeb1551fa051ccb2d5",
     "grade": false,
     "grade_id": "cell-8be0ebf7e6590b0e",
     "locked": false,
     "schema_version": 3,
     "solution": true,
     "task": false
    },
    "slideshow": {
     "slide_type": ""
    },
    "tags": []
   },
   "outputs": [],
   "source": [
    "x_0 = 0.0 # Startverdi\n",
    "#-------------------------------------\n",
    "# SKRIV DIN KODE HER!\n",
    "#-------------------------------------\n",
    "               \n",
    "# Foreslått kode for utskrift av løsning:\n",
    "for n, x in enumerate(x_n):\n",
    "    print(f\"x_{n} = {x}\") "
   ]
  },
  {
   "cell_type": "markdown",
   "id": "12ad7508-94e2-4f88-98d5-90272b63066e",
   "metadata": {
    "deletable": false,
    "editable": true,
    "slideshow": {
     "slide_type": ""
    },
    "tags": []
   },
   "source": [
    "Har du løst oppgaven riktig vil du se at stegene i Newton's Metode veksler frem og tilbake mellom verdiene $x_n = 0$  og $x_n = 1$. Dette er fordi metoden har \"kjørt seg fast\" i et lokalt bunnpunkt. Dette kan vi også verifisere ved å lage et plott av funksjonen $f(x) = x^3 - 2x + 2$ slik du ser i kodecellen nedenfor."
   ]
  },
  {
   "cell_type": "code",
   "execution_count": null,
   "id": "8b9a86cc-22a8-4bb6-9f5d-200c94df1aae",
   "metadata": {
    "autofeedback": {
     "test_code": "ZGVmIHRlc3Rfcm91dGluZSgpOgogICAgZnJvbSBhdXRvZmVlZGJhY2sgaW1wb3J0IFZhcmlhYmxlVGVzdHMKICAgIGltcG9ydCBudW1weSBhcyBucAoKICAgIHhfbl9zb2wgPSBbMC4wIGlmIG4lMj09MCBlbHNlIDEuMCBmb3IgbiBpbiByYW5nZSgxMSldCgogICAgdGVzdF9yZXN1bHRzID0gVmFyaWFibGVUZXN0cygpCiAgICB0ZXN0X3Jlc3VsdHMuY29tcGFyZV92YWx1ZXMoeF9uLCB4X25fc29sLCBuYW1lPSJ4X24iLCAgYXRvbD0xZS0zKQogICAgcmV0dXJuIHJvdW5kKHRlc3RfcmVzdWx0cy5nZXRfcmVzdWx0cygpKjQsIDIpCnRlc3Rfcm91dGluZSgp"
    },
    "deletable": false,
    "editable": false,
    "execution": {
     "iopub.execute_input": "2025-10-08T11:32:06.863213Z",
     "iopub.status.busy": "2025-10-08T11:32:06.863085Z",
     "iopub.status.idle": "2025-10-08T11:32:09.029217Z",
     "shell.execute_reply": "2025-10-08T11:32:09.028746Z"
    },
    "nbgrader": {
     "cell_type": "code",
     "checksum": "4f7b4b04b3a007f1382098777b1eeb05",
     "grade": true,
     "grade_id": "cell-d7b7e01aedb347b3",
     "locked": true,
     "points": 4,
     "schema_version": 3,
     "solution": false,
     "task": false
    }
   },
   "outputs": [],
   "source": [
    "import matplotlib.pyplot as plt\n",
    "import numpy as np\n",
    "\n",
    "x = np.linspace(-2, 2, 201)\n",
    "\n",
    "plt.plot(x, x**3 - 2*x + 2, label=\"$f(x) = x^3 - 2x + 2$\")\n",
    "plt.grid(True)\n",
    "plt.legend()"
   ]
  },
  {
   "cell_type": "markdown",
   "id": "b792d409-98d1-42a3-bb49-cc5199b5884e",
   "metadata": {
    "deletable": false,
    "editable": true,
    "slideshow": {
     "slide_type": ""
    },
    "tags": []
   },
   "source": [
    "Som vi ser i figuren har kurven til $f(x)$ et lokalt bunnpunkt i $x \\approx 0.81$, men bunnpunktet når ikke helt ned til $0$. Konsekvensen i dette tilfellet er at programmet vårt hopper frem og tilbake over bunnpunktet, og lander på samme sted hver gang."
   ]
  },
  {
   "cell_type": "markdown",
   "id": "485d34b6-7b3c-4cc1-83e1-619194762875",
   "metadata": {
    "deletable": false,
    "editable": true,
    "slideshow": {
     "slide_type": ""
    },
    "tags": []
   },
   "source": [
    "## b) \n",
    "\n",
    "Basert på det du har lært om Newton's Metode, foreslå en startverdi $x_0$ som ***vil*** resultere i at Newton's Metode konvergerer mot løsningen på ligning $3.1$. Finn så løsningen på ligningen som oppfyller kriteriet $|f(x)| < 10^{-6}$ ved hjelp av Newton's Metode, og lagre svaret i variabelen `x_n`."
   ]
  },
  {
   "cell_type": "code",
   "execution_count": null,
   "id": "c071779b-78bc-4768-9cae-01c42d0e4b24",
   "metadata": {
    "deletable": false,
    "execution": {
     "iopub.execute_input": "2025-10-08T11:32:09.031252Z",
     "iopub.status.busy": "2025-10-08T11:32:09.030946Z",
     "iopub.status.idle": "2025-10-08T11:32:09.035163Z",
     "shell.execute_reply": "2025-10-08T11:32:09.034646Z"
    },
    "nbgrader": {
     "cell_type": "code",
     "checksum": "f88b71f1c6059129197a0b025d7e7c12",
     "grade": false,
     "grade_id": "cell-7510709ae8bad2a2",
     "locked": false,
     "schema_version": 3,
     "solution": true,
     "task": false
    }
   },
   "outputs": [],
   "source": [
    "x_0 = \"???\" # Bestem en initialverdi\n",
    "#-------------------------------------\n",
    "# SKRIV DIN KODE HER!\n",
    "#-------------------------------------\n",
    "\n",
    "# Foreslått kode for å skrive ut løsning:\n",
    "print(f\"f({x_n:.3f}) = {f(x_n):.3e}\") "
   ]
  },
  {
   "cell_type": "code",
   "execution_count": null,
   "id": "e910ccc2-a63b-4527-94e3-247c89bf94f6",
   "metadata": {
    "autofeedback": {
     "test_code": "ZGVmIHRlc3Rfcm91dGluZSgpOgogICAgZnJvbSBhdXRvZmVlZGJhY2sgaW1wb3J0IFZhcmlhYmxlVGVzdHMKICAgIGltcG9ydCBudW1weSBhcyBucAoKICAgIGRlZiBmX3Rlc3QoeCk6CiAgICAgICAgcmV0dXJuIHgqKjMgLSAyKnggKyAyCgogICAgdGVzdF9yZXN1bHRzID0gVmFyaWFibGVUZXN0cygpCgogICAgZGVmIG5ld3Rvbl9zb2x2ZSh4KToKICAgICAgICBuID0gMAogICAgICAgIGZfeCA9IHgqKjMgLSAyKnggKyAyCiAgICAgICAgd2hpbGUgYWJzKGZfeCkgPiAxZS02IGFuZCBuIDwgMTAwOgogICAgICAgICAgICB4ID0geCAtIGZfeC8oMyp4KioyLTIpCiAgICAgICAgICAgIGZfeCA9IHgqKjMgLSAyKnggKyAyCiAgICAgICAgcmV0dXJuIHgKICAgIAogICAgaWYgbnAuaXNjbG9zZShuZXd0b25fc29sdmUoeF8wKSwgLTEuNzY5MjkyMzU0Mjk3MzU5NTM3NDQsIGF0b2w9MWUtNCk6CiAgICAgICAgdGVzdF9yZXN1bHRzLmFkZF9yZXN1bHQoVHJ1ZSwgZiJJaW5pdGFsIHZhbHVlIHt4XzAgPSA6LjJmfSBjb252ZXJnZWQgd2l0aCByb290IG9mIGYoeCkiKQogICAgZWxzZToKICAgICAgICB0ZXN0X3Jlc3VsdHMuYWRkX3Jlc3VsdChGYWxzZSwgZiJJaW5pdGFsIHZhbHVlIHt4XzAgPSA6LjNmfSBkaWQgbm90IGNvbnZlcmdlIHdpdGggcm9vdCBvZiBmKHgpIikKICAgIHRlc3RfcmVzdWx0cy5jb21wYXJlX3ZhbHVlcyh4X24sIC0xLjc2OTI5MjM1NDI5NzM1OTUzNzQ0LCBuYW1lPSJ4X24iLCBhdG9sPTFlLTQpCiAgICBpZiBucC5pc2Nsb3NlKGZfdGVzdCh4X24pLCAwLCBhdG9sPTFlLTYpOgogICAgICAgIHRlc3RfcmVzdWx0cy5hZGRfcmVzdWx0KFRydWUsIGYiRnVuY3Rpb24gY2FsbCAnZih7eF9ufSknIHJldHVybmVkIDAiKQogICAgZWxzZToKICAgICAgICB0ZXN0X3Jlc3VsdHMuYWRkX3Jlc3VsdChGYWxzZSwgZiJGdW5jdGlvbiBjYWxsICdmKHt4X259KScgZGlkIG5vdCByZXR1cm4gYSB2YWx1ZSBzdWZmaWNpZW50bHkgY2xvc2UgdG8gMCIpCiAgICAKICAgIHJldHVybiByb3VuZCh0ZXN0X3Jlc3VsdHMuZ2V0X3Jlc3VsdHMoKSo2LCAyKQp0ZXN0X3JvdXRpbmUoKQ=="
    },
    "deletable": false,
    "editable": false,
    "execution": {
     "iopub.execute_input": "2025-10-08T11:32:09.037327Z",
     "iopub.status.busy": "2025-10-08T11:32:09.037157Z",
     "iopub.status.idle": "2025-10-08T11:32:09.043120Z",
     "shell.execute_reply": "2025-10-08T11:32:09.042719Z"
    },
    "nbgrader": {
     "cell_type": "code",
     "checksum": "6dd05415593b90d997164d2787c418fd",
     "grade": true,
     "grade_id": "cell-f82563512a833c91",
     "locked": true,
     "points": 6,
     "schema_version": 3,
     "solution": false,
     "task": false
    },
    "slideshow": {
     "slide_type": ""
    },
    "tags": []
   },
   "outputs": [],
   "source": [
    "# Denne cellen brukes under retting. La Stå!"
   ]
  },
  {
   "cell_type": "markdown",
   "id": "93342ba4-7b15-42d3-a080-787fbb0c0633",
   "metadata": {
    "deletable": false,
    "editable": true,
    "slideshow": {
     "slide_type": ""
    },
    "tags": []
   },
   "source": [
    "<br>\n",
    "<nav class=\"navbar navbar-default\">\n",
    "        <div class=\"container-fluid\">\n",
    "            <div class=\"navbar-header\" style=\"float: left\">\n",
    "                <a class=\"navbar-brand\" href=\"2_Min_sqrt.ipynb\" target=\"_self\">&lt; Forrige side: <i>numerisk kvadratrot</a>\n",
    "                </div>\n",
    "            <div class=\"navbar-header\" style=\"float: right\">\n",
    "                <a class=\"navbar-brand\" href=\"4_matriser_intro.ipynb\" target=\"_self\">Neste side: <i>intro til matriser</i> &gt;</a>\n",
    "            </div>\n",
    "        </div>\n",
    "</nav>"
   ]
  }
 ],
 "metadata": {
  "kernelspec": {
   "display_name": "Python 3 (ipykernel)",
   "language": "python",
   "name": "python3"
  },
  "language_info": {
   "codemirror_mode": {
    "name": "ipython",
    "version": 3
   },
   "file_extension": ".py",
   "mimetype": "text/x-python",
   "name": "python",
   "nbconvert_exporter": "python",
   "pygments_lexer": "ipython3",
   "version": "3.12.11"
  }
 },
 "nbformat": 4,
 "nbformat_minor": 5
}
