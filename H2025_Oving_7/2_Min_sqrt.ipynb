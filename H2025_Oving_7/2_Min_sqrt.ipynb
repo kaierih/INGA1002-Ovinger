{
 "cells": [
  {
   "cell_type": "markdown",
   "id": "0a961b33-860b-4be9-a8d5-e1bc65cc06a3",
   "metadata": {
    "deletable": false,
    "editable": false
   },
   "source": [
    "\n",
    "<nav class=\"navbar navbar-default\">\n",
    "  <div class=\"container-fluid\">\n",
    "    <div class=\"navbar-header\" style=\"float: left\">\n",
    "        <a class=\"navbar-brand\" href=\"0_Forside.ipynb\" target=\"_self\"> <h2> &uarr; Tilbake til forsiden</h2></a>\n",
    "    </div>\n",
    "  </div>\n",
    "</nav>"
   ]
  },
  {
   "cell_type": "markdown",
   "id": "315175bd-c646-4b9d-8a09-29ce598962c8",
   "metadata": {
    "deletable": false,
    "editable": true,
    "slideshow": {
     "slide_type": ""
    },
    "tags": []
   },
   "source": [
    "# Numerisk metode for å beregne kvadratrot"
   ]
  },
  {
   "cell_type": "markdown",
   "id": "66a427f3-db5e-4c7c-92f0-0cf053c9e232",
   "metadata": {
    "deletable": false,
    "editable": true,
    "slideshow": {
     "slide_type": ""
    },
    "tags": []
   },
   "source": [
    "#### Læringsmål:\n",
    "* Omformulering av velkjent problem til en form som kan løses med Newton's Metode\n",
    "* Newton's Metode fallgruver: *divisjon på $0$*\n",
    "\n",
    "### Introduksjon\n",
    "\n",
    "Har du noen gang lurt på hvordan kalkulatorer og datamaskiner regner ut matematiske uttrykk som  $\\sqrt{a}$, $\\cos(a)$, $\\sin(a)$ og liknende? Hvis man begynner å grave i slike funksjoner vil man se at det i bunn koker ned til en serie med addisjoner og multiplikasjoner, som følger en bestemt oppskrift for å systematisk tilnærme seg det nøyaktige resultatet.\n",
    "\n",
    "I denne oppgaven skal vi skrive en funksjon som kan regne ut kvadratroten til et tall `a` med bruk av Newtons Metode. Dette gjør vi ved å sette opp en ligning $2.1$ der $\\sqrt{a}$ er den ukjente. Kvadrerer vi uttrykkene på begge sidene av likhetstegnet får en andregradsligning ($2.2$). \n",
    "\n",
    "\\begin{align*}\n",
    "x &= \\sqrt{a} \\tag{2.1}\\\\\n",
    "x^2 &= a  \\\\\n",
    "x^2 - a&= 0 \\tag{2.2}\\\\\n",
    "\\end{align*}\n",
    "\n",
    "Løsningen til andregradsligningen vil som kjent befinne seg i røttene til funksjonen $f(x)=x^2-a$, og vi kan dermed bruke Newton's Metode slik definert i formel $2.3$ til å nærme oss løsningen iterativt.\n",
    "\n",
    "$$x_{n+1} = x_n - \\frac{f(x_n)}{f'(x_n)} \\tag{2.3}$$\n",
    "\n",
    "Figuren nedenfor viser kurven til $f(x)$, og illustrerer hvordan røttene til $f(x)$ befinner seg i punktene $\\pm \\sqrt{a}$.\n",
    "\n",
    "<img\n",
    "  src=\"Figurer/sqrt_illustration.svg\"\n",
    "  alt=\"Plot av f(x).\"\n",
    "  style=\"display:block; width:600px; height:auto; border-radius:8px; margin-left:50px\"\n",
    "/>"
   ]
  },
  {
   "cell_type": "markdown",
   "id": "dc055b0d-3583-4ab2-b3f1-ee3f851ed777",
   "metadata": {
    "deletable": false,
    "editable": true,
    "slideshow": {
     "slide_type": ""
    },
    "tags": []
   },
   "source": [
    "## a)\n",
    "Én av fallgruvene i Newton's Metode er at dersom $f'(x)=0$ for en av veriene i rekken $x_n$ vil metoden mislykkes. Når vi veger initialverdi $x_0$ for Newton's Metode er det derfor viktig at vi velger en verdi som sikrer at vi ikke får nulldivisjon. \n",
    "\n",
    "Gitt at vi har et positivt tall `a` som vi skal finne kvadratroten til, foreslå en initialverdi $x_0$, som sikrer at vi:\n",
    "\n",
    "1. Er garantert å unngå verdien $x$ der $f'(x)= 0$<br>*Hint: for hvilken verdi av $x$ er $f'(x)=0$ i figuren ovenfor?*\n",
    "3. Newton's metode vil konvergere mot den *positive roten* til funksjonen $f(x)$\n",
    "\n"
   ]
  },
  {
   "cell_type": "code",
   "execution_count": null,
   "id": "86c82bad-8ffe-4392-8c6a-1763fc09d315",
   "metadata": {
    "deletable": false,
    "editable": true,
    "execution": {
     "iopub.execute_input": "2025-10-08T11:32:02.598530Z",
     "iopub.status.busy": "2025-10-08T11:32:02.598328Z",
     "iopub.status.idle": "2025-10-08T11:32:02.601314Z",
     "shell.execute_reply": "2025-10-08T11:32:02.600880Z"
    },
    "nbgrader": {
     "cell_type": "code",
     "checksum": "51bc35606604ea91677c8d004d614043",
     "grade": false,
     "grade_id": "cell-b48f7663d146aa16",
     "locked": false,
     "schema_version": 3,
     "solution": true,
     "task": false
    },
    "slideshow": {
     "slide_type": ""
    },
    "tags": []
   },
   "outputs": [],
   "source": [
    "#-------------------------------------\n",
    "# SKRIV DIN KODE HER!\n",
    "#-------------------------------------"
   ]
  },
  {
   "cell_type": "code",
   "execution_count": null,
   "id": "064484a9-5eff-433c-8c8e-d8a46e966018",
   "metadata": {
    "autofeedback": {
     "test_code": "ZGVmIHRlc3Rfcm91dGluZSgpOgogICAgZnJvbSBhdXRvZmVlZGJhY2sgaW1wb3J0IEN1c3RvbVRlc3RzCiAgICBpbXBvcnQgbnVtcHkgYXMgbnAKICAgIGZyb20gcmFuZG9tIGltcG9ydCBzYW1wbGUsIHJhbmRpbnQKCiAgICBncmFkaW5nX3Jlc3VsdHMgPSBDdXN0b21UZXN0cygpCgogICAgaWYgaXNpbnN0YW5jZSh4XzAsIChzdHIpKToKICAgICAgICBncmFkaW5nX3Jlc3VsdHMuYWRkX3Jlc3VsdChGYWxzZSwgIlF1ZXN0aW9uIHVuYW5zd2VyZWQhIikKICAgIGVsc2U6CiAgICAgICAgaWYgeF8wID09IDAuMDoKICAgICAgICAgICAgZ3JhZGluZ19yZXN1bHRzLmFkZF9yZXN1bHQoRmFsc2UsICJJbml0aWFsIHZhbHVlICd4XzAgPSAwJyB3aWxsIHByb3Zva2UgemVybyBkaXZpc2lvbiBlcnJvciIpCiAgICAgICAgZWxpZiB4XzAgPCAwLjA6CiAgICAgICAgICAgIGdyYWRpbmdfcmVzdWx0cy5hZGRfcmVzdWx0KEZhbHNlLCAiSW5pdGlhbCB2YWx1ZSAneF8wIDwgMCcgd2lsbCBjb252ZXJnZSB0b3dhcmQgbmVnYXRpdmUgcm9vdCIpCiAgICAgICAgZWxzZToKICAgICAgICAgICAgZ3JhZGluZ19yZXN1bHRzLmFkZF9yZXN1bHQoVHJ1ZSwgIkEgaW5pdGlhbCB2YWx1ZSAneF8wID4gMCcgd2lsbCBjb252ZXJnZSB0b3dhcmQgcG9zaXRpdmUgcm9vdCIpCiAgICAgICAgICAgIAogICAgcmV0dXJuIHJvdW5kKGdyYWRpbmdfcmVzdWx0cy5nZXRfcmVzdWx0cygpKjQsIDIpCnRlc3Rfcm91dGluZSgp"
    },
    "deletable": false,
    "editable": false,
    "execution": {
     "iopub.execute_input": "2025-10-08T11:32:02.603071Z",
     "iopub.status.busy": "2025-10-08T11:32:02.602898Z",
     "iopub.status.idle": "2025-10-08T11:32:04.631940Z",
     "shell.execute_reply": "2025-10-08T11:32:04.631460Z"
    },
    "nbgrader": {
     "cell_type": "code",
     "checksum": "9f38326bcb1256b19937cf72c1fb12d3",
     "grade": true,
     "grade_id": "cell-b9f467a2ef8c9413",
     "locked": true,
     "points": 4,
     "schema_version": 3,
     "solution": false,
     "task": false
    },
    "slideshow": {
     "slide_type": ""
    },
    "tags": []
   },
   "outputs": [],
   "source": [
    "# Denne cellen brukes under retting. La Stå!"
   ]
  },
  {
   "cell_type": "markdown",
   "id": "3ff5bb70-619c-4f83-b39e-fd512dc3a24c",
   "metadata": {
    "deletable": false
   },
   "source": [
    "## b)\n",
    "\n",
    "Nå som vi har funnet en passende initialverdi, fullfør funksjonen `min_sqrt(a)` nedenfor. Funksjonen repetere newton's metode helt frem til $|f(x)| < \\text{tol}$, og den skal returnere en **liste** med alle de utregnede verdiene i tallrekken $x_n$ fra initialverdi til endelig resultat:"
   ]
  },
  {
   "cell_type": "code",
   "execution_count": null,
   "id": "f745c078-3033-4272-a838-a985595432d2",
   "metadata": {
    "deletable": false,
    "editable": true,
    "execution": {
     "iopub.execute_input": "2025-10-08T11:32:04.633636Z",
     "iopub.status.busy": "2025-10-08T11:32:04.633359Z",
     "iopub.status.idle": "2025-10-08T11:32:04.636722Z",
     "shell.execute_reply": "2025-10-08T11:32:04.636301Z"
    },
    "nbgrader": {
     "cell_type": "code",
     "checksum": "7df1779b7867346743ae0958818404ff",
     "grade": false,
     "grade_id": "cell-a087b9aae7f32a81",
     "locked": false,
     "schema_version": 3,
     "solution": true,
     "task": false
    },
    "slideshow": {
     "slide_type": ""
    },
    "tags": []
   },
   "outputs": [],
   "source": [
    "def min_sqrt(a, tol=1e-8):\n",
    "    #-------------------------------------\n",
    "    # SKRIV DIN KODE HER!\n",
    "    #-------------------------------------\n",
    "\n",
    "y = min_sqrt(15)\n",
    "\n",
    "print(len(y), y[-1])"
   ]
  },
  {
   "cell_type": "code",
   "execution_count": null,
   "id": "e3f56f5f-f9b9-4c43-a235-0807cb0f5277",
   "metadata": {
    "autofeedback": {
     "test_code": "ZGVmIHRlc3Rfcm91dGluZSgpOgogICAgZnJvbSBhdXRvZmVlZGJhY2sgaW1wb3J0IEN1c3RvbVRlc3RzCiAgICBpbXBvcnQgbnVtcHkgYXMgbnAKICAgIGZyb20gcmFuZG9tIGltcG9ydCBzYW1wbGUsIHJhbmRpbnQKICAgIAogICAgZGVmIG1pbl9zcXJ0X3NvbChhLCB4XzAsIHRvbD0xZS04KToKICAgICAgICB4XzEgPSB4XzAgLSAoeF8wKioyLWEpLygyKnhfMCkKICAgICAgICB4ID0gW3hfMCwgeF8xXQogICAgICAgIHdoaWxlIGFicyh4Wy0xXSoqMiAtIGEpID4gdG9sOgogICAgICAgICAgICB4LmFwcGVuZCh4Wy0xXSAtICh4Wy0xXSoqMiAtIGEpLygyKnhbLTFdKSkKICAgICAgICByZXR1cm4geAogICAgdGVzdF9yZXN1bHRzID0gQ3VzdG9tVGVzdHMoKQogICAgdHJ5OgogICAgICAgIGFzc2VydCBjYWxsYWJsZShtaW5fc3FydCksICInbWluX3NxcnQnIGlzIG5vdCBpZGVudGlmaWVkIGFzIGEgY2FsbGFibGUgZnVuY3Rpb24uIgogICAgICAgIGFzc2VydCBpc2luc3RhbmNlKG1pbl9zcXJ0KDEpLCAobGlzdCwgbnAubmRhcnJheSkpLCAiZnVuY3Rpb24gY2FsbCAnbWluX3NxcnQoMSknIGRpZCBub3QgcmV0dXJuIGxpc3Qgb3IgYXJyYXkiCiAgICBleGNlcHQgRXhjZXB0aW9uIGFzIGU6CiAgICAgICAgdGVzdF9yZXN1bHRzLmxvZy5hcHBlbmQoIkNvdWxkIG5vdCBydW4gdGVzdHMsICIrZS5hcmdzWzBdKQogICAgZWxzZToKICAgICAgICBOID0gMgogICAgICAgIGFfdmFsdWVzID0gc2FtcGxlKGxpc3QocmFuZ2UoMiwgMTAwKSksIE4pCiAgICAgICAgYV92YWx1ZXMgKz0gWzEveCBmb3IgeCBpbiBzYW1wbGUobGlzdChyYW5nZSgyLCAxMDApKSwgTildCgogICAgICAgIGZvciBhIGluIGFfdmFsdWVzOgogICAgICAgICAgICB4X3N0dWQgPSBtaW5fc3FydChhKQogICAgICAgICAgICB4X3NvbCA9IG1pbl9zcXJ0X3NvbChhLCB4X3N0dWRbMF0pCiAgICAgICAgICAgIAogICAgICAgICAgICB0ZXN0X3Jlc3VsdHMudGVzdChucC5hbGxjbG9zZSh4X3N0dWQsIHhfc29sLCBhdG9sPTFlLTMpLAogICAgICAgICAgICAgICAgICAgICAgICAgICAgICAgIGYiZnVuY3Rpb24gY2FsbCAnbWluX3NxcnQoe2F9KScgcmV0dXJuZWQgZXhwZWN0ZWQgc2VxdWVuY2UiLAogICAgICAgICAgICAgICAgICAgICAgICAgICAgICAgIGYiZnVuY3Rpb24gY2FsbCAnbWluX3NxcnQoe2F9KScgZGlkIG5vdCByZXR1cm4gZXhwZWN0ZWQgc2VxdWVuY2UiKQogICAgICAgICAgICAKICAgIHJldHVybiByb3VuZCh0ZXN0X3Jlc3VsdHMuZ2V0X3Jlc3VsdHMoKSo2LCAyKQp0ZXN0X3JvdXRpbmUoKQ=="
    },
    "deletable": false,
    "editable": false,
    "execution": {
     "iopub.execute_input": "2025-10-08T11:32:04.638322Z",
     "iopub.status.busy": "2025-10-08T11:32:04.638183Z",
     "iopub.status.idle": "2025-10-08T11:32:04.644062Z",
     "shell.execute_reply": "2025-10-08T11:32:04.643718Z"
    },
    "nbgrader": {
     "cell_type": "code",
     "checksum": "fa3bcdb6026fcbcbd6e0772b1fa2fd93",
     "grade": true,
     "grade_id": "cell-354444126ffc9c73",
     "locked": true,
     "points": 6,
     "schema_version": 3,
     "solution": false,
     "task": false
    },
    "slideshow": {
     "slide_type": ""
    },
    "tags": []
   },
   "outputs": [],
   "source": [
    "# Denne cellen brukes under retting. La stå!"
   ]
  },
  {
   "cell_type": "markdown",
   "id": "472e14b2-af15-44a2-a100-2a214300d37e",
   "metadata": {
    "deletable": false,
    "editable": false,
    "slideshow": {
     "slide_type": ""
    },
    "tags": []
   },
   "source": [
    "<br>\n",
    "<nav class=\"navbar navbar-default\">\n",
    "        <div class=\"container-fluid\">\n",
    "            <div class=\"navbar-header\" style=\"float: left\">\n",
    "                <a class=\"navbar-brand\" href=\"1_Newtons_intro.ipynb\" target=\"_self\">&lt; Forrige side: <i>intro til Newton's metode</i></a>\n",
    "                </div>\n",
    "            <div class=\"navbar-header\" style=\"float: right\">\n",
    "                <a class=\"navbar-brand\" href=\"3_Newtons_konvergens.ipynb\" target=\"_self\">Neste side: <i>Newton's metode og konvergens</i> &gt;</a>\n",
    "            </div>\n",
    "        </div>\n",
    "</nav>"
   ]
  }
 ],
 "metadata": {
  "kernelspec": {
   "display_name": "Python 3 (ipykernel)",
   "language": "python",
   "name": "python3"
  },
  "language_info": {
   "codemirror_mode": {
    "name": "ipython",
    "version": 3
   },
   "file_extension": ".py",
   "mimetype": "text/x-python",
   "name": "python",
   "nbconvert_exporter": "python",
   "pygments_lexer": "ipython3",
   "version": "3.12.11"
  }
 },
 "nbformat": 4,
 "nbformat_minor": 5
}
