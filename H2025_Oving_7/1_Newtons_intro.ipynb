{
 "cells": [
  {
   "cell_type": "markdown",
   "id": "9261dcdd-c7b2-4139-bd68-224dd9200d7a",
   "metadata": {
    "deletable": false,
    "editable": false
   },
   "source": [
    "\n",
    "<nav class=\"navbar navbar-default\">\n",
    "  <div class=\"container-fluid\">\n",
    "    <div class=\"navbar-header\" style=\"float: left\">\n",
    "        <a class=\"navbar-brand\" href=\"0_Forside.ipynb\" target=\"_self\"> <h2> &uarr; Tilbake til forsiden</h2></a>\n",
    "    </div>\n",
    "  </div>\n",
    "</nav>"
   ]
  },
  {
   "cell_type": "markdown",
   "id": "0081e425-ab1d-415e-bc88-1b35546a4a0b",
   "metadata": {
    "deletable": false,
    "editable": true,
    "slideshow": {
     "slide_type": ""
    },
    "tags": []
   },
   "source": [
    "# Introduksjon til Newton's Metode\n",
    "\n",
    "#### Læringsmål:\n",
    "- Hvordan bruke Newton's Metode for å finne én løsning i en ligning\n",
    "\n",
    "### Introduksjon:\n",
    "\n",
    "\n",
    "Vi har tidligere sett på fikspunktitereasjon som algoritme for å løse ligninger med én variabel. Nå skal vi se på en annen og mye mer velkjent algoritme, som tilbyr betydelig raskere gonvergensegenskaper enn fikspunktiterasjon: Newton's metode. Newton's metode vil kunne finne røttene hvor $f(x) = 0$ til en funksjon $f(x)$ så lenge den er deriverbar, og bruker som andre iterative metoder et initielt estimat $x=x_0$ som utgangspunkt.\n",
    "\n",
    "Metoden baserer seg på at hvis man starter med en verdi $x_n$, så kan man bruke funksjonsuttrykket $f(x)$ og funksjonens deriverte $f'(x)$ til å finne en ny verdi $x_{n+1}$ som vil være nærmere nullpunktet til $f(x)$:\n",
    "\n",
    "$$\\Large x_{n+1} = x_n - \\frac{f(x_n)}{f'(x_n)} \\tag{1.1}$$\n",
    "\n",
    "Hvis man gjentar denne prosessen et tilstrekkelig antall ganger, så vil $x_n$ konvergere med nullpunktet, og differansen mellom $x_n$ og $x_{n+1}$ vil minke for hver iterasjon. Vanligvis avslutter man prosessen når differansen feilen $|f(x_n)|$ er mindre enn en fastsatt verdi (f.eks. $10^{-4}$). Du kan lese mer om Newton's metode [her](https://github.com/imfdrift/INGX1002H24/blob/01d7838a7c89b45b0fe2686cb70275ddab1b9bc9//2_lignlos/2_lignlos_newton.ipynb).\n",
    "\n",
    "En interaktiv visualisering av newtons metode kan du se ved  å kjøre kodecellen nedenfor. Du kan prøve deg frem med ulike startverdier $x_0$ ved å klikke og dra på markøren for $x_0$:"
   ]
  },
  {
   "cell_type": "code",
   "execution_count": null,
   "id": "6e713c27-848e-4e50-926d-e39e432164f0",
   "metadata": {
    "deletable": false,
    "execution": {
     "iopub.execute_input": "2025-10-08T11:31:58.503169Z",
     "iopub.status.busy": "2025-10-08T11:31:58.503036Z",
     "iopub.status.idle": "2025-10-08T11:31:58.508533Z",
     "shell.execute_reply": "2025-10-08T11:31:58.508019Z"
    }
   },
   "outputs": [],
   "source": [
    "%%html\n",
    "<iframe src=\"https://folk.ntnu.no/jonajh/jsx/newtonsmetode.html\" height=600 width=800></iframe> "
   ]
  },
  {
   "cell_type": "markdown",
   "id": "8af1723d-2394-474c-8e60-c796d1396449",
   "metadata": {
    "deletable": false,
    "editable": true,
    "slideshow": {
     "slide_type": ""
    },
    "tags": []
   },
   "source": [
    "Men hva gjør vi dersom vi har en ligning, og ikke en enkel funksjon å finne røttene til? Da må vi ty til god gammel algebra for å omsrkive ligningen til en form $f(x) = 0$, slik at vi løser ligningen ved å finne *roten* til $f(x)$.\n",
    "\n",
    "La oss si vi har en ligning vi ikke klarer løse analytisk: $\\cos{x} = x$.\n",
    "For alle ligninger vi er kjente med, kan vi flytte alle leddene over på en side av likhetstegnet slik at vi får feks:\n",
    "$$\n",
    "\\cos{x} -x = 0\n",
    "$$\n",
    "Å løse ligningen betyr av vi vil finne en $x$ slik at $\\cos{x} -x = 0$, problemet blir altså det samme som å\n",
    "finne roten til funksjonen:\n",
    "$$\n",
    "f(x) = \\cos{x}-x\n",
    "$$"
   ]
  },
  {
   "cell_type": "markdown",
   "id": "45bef141-d18c-454e-9a78-07a8d430f4c7",
   "metadata": {
    "deletable": false,
    "editable": true,
    "slideshow": {
     "slide_type": ""
    },
    "tags": []
   },
   "source": [
    "## a) \n",
    "\n",
    "\n",
    "Gitt ligningen i formel $1.2$ nedenfor, definer funksjonen $f(x)$ som har sine *røtter* (dvs. $f(x) = 0$) i verdien av $x$ som løser ligningen.\n",
    "\n",
    "$$\\Large e^x = x^2 + 4 \\tag{1.2}$$"
   ]
  },
  {
   "cell_type": "code",
   "execution_count": null,
   "id": "d1abb3ce-f607-4dd2-9743-604df5dd1408",
   "metadata": {
    "deletable": false,
    "execution": {
     "iopub.execute_input": "2025-10-08T11:31:58.510117Z",
     "iopub.status.busy": "2025-10-08T11:31:58.509961Z",
     "iopub.status.idle": "2025-10-08T11:31:58.688333Z",
     "shell.execute_reply": "2025-10-08T11:31:58.687777Z"
    },
    "nbgrader": {
     "cell_type": "code",
     "checksum": "8e6b6f2212ace748376bf2078b6dd67a",
     "grade": false,
     "grade_id": "cell-8c527cf13882d48e",
     "locked": false,
     "schema_version": 3,
     "solution": true,
     "task": false
    }
   },
   "outputs": [],
   "source": [
    "import numpy as np\n",
    "def f(x):\n",
    "    #-------------------------------------\n",
    "    # SKRIV DIN KODE HER!\n",
    "    #-------------------------------------"
   ]
  },
  {
   "cell_type": "code",
   "execution_count": null,
   "id": "9d716f34-a3ae-42bb-a82e-1ebe9431f793",
   "metadata": {
    "autofeedback": {
     "test_code": "ZGVmIHRlc3Rfcm91dGluZSgpOgogICAgZnJvbSBhdXRvZmVlZGJhY2sgaW1wb3J0IEN1c3RvbVRlc3RzCiAgICBpbXBvcnQgbnVtcHkgYXMgbnAKCiAgICBncmFkaW5nX3Jlc3VsdHMgPSBDdXN0b21UZXN0cygpCiAgICB0cnk6CiAgICAgICAgYXNzZXJ0IGYoMCkgaXMgbm90IE5vbmUsICJGdW5jdGlvbiAnZih4KScgZGlkIG5vdCByZXR1cm4gYW55IHZhbHVlIgogICAgZXhjZXB0IEV4Y2VwdGlvbiBhcyBlOgogICAgICAgIGdyYWRpbmdfcmVzdWx0cy5hZGRfcmVzdWx0KEZhbHNlLCAiQ291bGQgbm90IHJ1biB0ZXN0cywgIitlLmFyZ3NbMF0pCiAgICBlbHNlOgoKICAgICAgICBncmFkaW5nX3Jlc3VsdHMudGVzdChucC5pc2Nsb3NlKGYoMi4xNTg3MjYwNjQ0ODEyMjQ1KSwgMCksCiAgICAgICAgICAgICAgICAgICAgICAgICAgICAgIkZ1bmN0aW9uICdmKHgpJyBoYXMgcm9vdCBpbiB0aGUgZXhwZWN0ZWQgdmFsdWUgb2YgJ3gnIiwKICAgICAgICAgICAgICAgICAgICAgICAgICAgICAiRnVuY3Rpb24gJ2YoeCknIGRvZXMgbm90IGhhdmUgYSByb290IGluIHRoZSBleHBlY3RlZCB2YWx1ZSBvZiAneCciLAogICAgICAgICAgICAgICAgICAgICAgICAgICAgd2d0PTMpCgogICAgICAgIGZvciB4IGluIG5wLnJhbmRvbS51bmlmb3JtKDMsIDYsIDMpOgogICAgICAgICAgICBncmFkaW5nX3Jlc3VsdHMudGVzdChub3QgbnAuaXNjbG9zZShmKHgpLCAwKSwKICAgICAgICAgICAgICAgICAgICAgICAgICAgICAgICAgZiJGdW5jdGlvbiBjYWxsICdmKHt4Oi4zZn0pJyByZXR1cm5lZCBub256ZXJvIHZhbHVlIGFzIGV4cGVjdGVkIiwKICAgICAgICAgICAgICAgICAgICAgICAgICAgICAgICAgZiJGdW5jdGlvbiBjYWxsICdmKHt4Oi4zZn0pJyByZXR1cm5lZCB6ZXJvLCBidXQgeyB4ID0gOi4zZn0gaXMgbm90IGEgcm9vdCBvZiB0aGUgZnVuY3Rpb24gZih4KS4iKQogICAgICAgIAogICAgICAgICAgICAKICAgIHJldHVybiByb3VuZChncmFkaW5nX3Jlc3VsdHMuZ2V0X3Jlc3VsdHMoKSoyLCAyKQp0ZXN0X3JvdXRpbmUoKQ=="
    },
    "deletable": false,
    "editable": false,
    "execution": {
     "iopub.execute_input": "2025-10-08T11:31:58.690370Z",
     "iopub.status.busy": "2025-10-08T11:31:58.690184Z",
     "iopub.status.idle": "2025-10-08T11:32:00.638367Z",
     "shell.execute_reply": "2025-10-08T11:32:00.637773Z"
    },
    "nbgrader": {
     "cell_type": "code",
     "checksum": "a5d60de8009fa0a210e05aa637a319da",
     "grade": true,
     "grade_id": "cell-f26d4a0ceb7e6b78",
     "locked": true,
     "points": 2,
     "schema_version": 3,
     "solution": false,
     "task": false
    },
    "slideshow": {
     "slide_type": ""
    },
    "tags": []
   },
   "outputs": [],
   "source": [
    "# Denne cellen brukes under retting. La stå!"
   ]
  },
  {
   "cell_type": "markdown",
   "id": "5a9922da-00fa-49f6-9c75-e97dede0b7fe",
   "metadata": {
    "deletable": false
   },
   "source": [
    "## b)\n",
    "\n",
    "Bruk løsningen din i deloppgave **a)** til å finne et uttrykk for den deriverte $f'(x) = \\frac{df(x)}{dx}$, og skriv det inn i definisjonen av funksjonen `df_dx`."
   ]
  },
  {
   "cell_type": "code",
   "execution_count": null,
   "id": "93dc3672-9594-409e-97de-2e23fecde89c",
   "metadata": {
    "deletable": false,
    "execution": {
     "iopub.execute_input": "2025-10-08T11:32:00.640553Z",
     "iopub.status.busy": "2025-10-08T11:32:00.640208Z",
     "iopub.status.idle": "2025-10-08T11:32:00.642874Z",
     "shell.execute_reply": "2025-10-08T11:32:00.642391Z"
    },
    "nbgrader": {
     "cell_type": "code",
     "checksum": "cc2d0fc43d8fd6cdeb90624b472a69bb",
     "grade": false,
     "grade_id": "cell-ff4aeb21dccaea6b",
     "locked": false,
     "schema_version": 3,
     "solution": true,
     "task": false
    }
   },
   "outputs": [],
   "source": [
    "def df_dx(x):\n",
    "    #-------------------------------------\n",
    "    # SKRIV DIN KODE HER!\n",
    "    #-------------------------------------"
   ]
  },
  {
   "cell_type": "code",
   "execution_count": null,
   "id": "a71fb20a-888c-48b2-b627-c59681ce8c58",
   "metadata": {
    "autofeedback": {
     "test_code": "ZGVmIHRlc3Rfcm91dGluZSgpOgogICAgZnJvbSBhdXRvZmVlZGJhY2sgaW1wb3J0IEZ1bmN0aW9uVGVzdHMKICAgIGltcG9ydCBudW1weSBhcyBucAogICAgZnJvbSByYW5kb20gaW1wb3J0IHNhbXBsZSwgcmFuZGludAoKICAgIHRyeToKICAgICAgICBhc3NlcnQgZigwKSBpcyBub3QgTm9uZSwgIkZ1bmN0aW9uICdmKHgpJyBkaWQgbm90IHJldHVybiBhbnkgdmFsdWUiCiAgICBleGNlcHQgRXhjZXB0aW9uIGFzIGU6CiAgICAgICAgZ3JhZGluZ19yZXN1bHRzLmFkZF9yZXN1bHQoRmFsc2UsICJQcm9ibGVtIGEpIG11c3QgYmUgY29tcGxldGVkIGZpcnN0LiAiK2UuYXJnc1swXSkKICAgIGVsc2U6CiAgICAgICAgCiAgICAgICAgZGVmIGRmX2R4X3NvbHV0aW9uKHgpOgogICAgICAgICAgICBoID0gMioqLTE0CiAgICAgICAgICAgIHJldHVybiAoZih4K2gpIC0gZih4LWgpKS8oMipoKQogICAgCiAgICAgICAgZ3JhZGluZ19yZXN1bHRzID0gRnVuY3Rpb25UZXN0cyhkZl9keF9zb2x1dGlvbiwgcnRvbD0xZS0zKQogICAgICAgIHRyeToKICAgICAgICAgICAgZ3JhZGluZ19yZXN1bHRzLmFkZF90ZXN0X2Z1bmMoZGZfZHgpCiAgICAgICAgZXhjZXB0IEV4Y2VwdGlvbiBhcyBlOgogICAgICAgICAgICBncmFkaW5nX3Jlc3VsdHMubG9nLmFwcGVuZCgiQ291bGQgbm90IHJ1biB0ZXN0cywgIitlLmFyZ3NbMF0pCiAgICAgICAgZWxzZToKICAgICAgICAgICAgTiA9IDQKICAgICAgICAgICAgeF92YWx1ZXMgPSBzYW1wbGUobGlzdChucC5saW5zcGFjZSgtMywgNSwgMjAxKSksIE4pCiAgICAgICAgICAgIAogICAgICAgICAgICBmb3IgeCBpbiB4X3ZhbHVlczoKICAgICAgICAgICAgICAgIGdyYWRpbmdfcmVzdWx0cy50ZXN0X3JldHVybl92YWx1ZSh4KQogICAgICAgICAgICAKICAgIHJldHVybiByb3VuZChncmFkaW5nX3Jlc3VsdHMuZ2V0X3Jlc3VsdHMoKSoyLCAyKQp0ZXN0X3JvdXRpbmUoKQ=="
    },
    "deletable": false,
    "editable": false,
    "execution": {
     "iopub.execute_input": "2025-10-08T11:32:00.644340Z",
     "iopub.status.busy": "2025-10-08T11:32:00.644188Z",
     "iopub.status.idle": "2025-10-08T11:32:00.654033Z",
     "shell.execute_reply": "2025-10-08T11:32:00.653485Z"
    },
    "nbgrader": {
     "cell_type": "code",
     "checksum": "8299774deeef07ca91b71c53dee8f57d",
     "grade": true,
     "grade_id": "cell-986f77898bd248cb",
     "locked": true,
     "points": 2,
     "schema_version": 3,
     "solution": false,
     "task": false
    }
   },
   "outputs": [],
   "source": [
    "# Denne cellen brukes under retting. La Stå!"
   ]
  },
  {
   "cell_type": "markdown",
   "id": "533b9f27-ed86-48f3-ad40-9799f0410087",
   "metadata": {
    "deletable": false
   },
   "source": [
    "## c)\n",
    "\n",
    "Vi vil nå finne en verdi av $x$ som tilfredsstiller kravet $|f(x)| < 10^{-6}$. Bruk Newton's metode med en `while`-løkke til å finne en tilnærmet løsning for ligning $1.2$ som tilfredsstiller dette kravet. Startverdien for metoden skal være $x_0 = 0.0$"
   ]
  },
  {
   "cell_type": "code",
   "execution_count": null,
   "id": "decddcaf-554a-426c-b33f-59044ef13866",
   "metadata": {
    "deletable": false,
    "editable": true,
    "execution": {
     "iopub.execute_input": "2025-10-08T11:32:00.656609Z",
     "iopub.status.busy": "2025-10-08T11:32:00.656418Z",
     "iopub.status.idle": "2025-10-08T11:32:00.660181Z",
     "shell.execute_reply": "2025-10-08T11:32:00.659585Z"
    },
    "nbgrader": {
     "cell_type": "code",
     "checksum": "f358815f81c83687f318d78c9a94f83a",
     "grade": false,
     "grade_id": "cell-937b63f070a5be5f",
     "locked": false,
     "schema_version": 3,
     "solution": true,
     "task": false
    },
    "slideshow": {
     "slide_type": ""
    },
    "tags": []
   },
   "outputs": [],
   "source": [
    "x_0 = 0.0 # Startgjett\n",
    "\n",
    "#-------------------------------------\n",
    "# SKRIV DIN KODE HER!\n",
    "#-------------------------------------\n",
    "\n",
    "# Utskrift av løsning:\n",
    "print(f\"f({x_n:.3f}) = {f(x_n):.3e}\") "
   ]
  },
  {
   "cell_type": "code",
   "execution_count": null,
   "id": "bf9168a3-a223-4bb5-8e3f-3a79d290a2df",
   "metadata": {
    "autofeedback": {
     "test_code": "ZGVmIHRlc3Rfcm91dGluZSgpOgogICAgZnJvbSBhdXRvZmVlZGJhY2sgaW1wb3J0IFZhcmlhYmxlVGVzdHMKICAgIGltcG9ydCBudW1weSBhcyBucAoKICAgIGRlZiBmX3Rlc3QoeCk6CiAgICAgICAgcmV0dXJuIG5wLmV4cCh4KSAtIHgqKjIgLSA0CgogICAgdGVzdF9yZXN1bHRzID0gVmFyaWFibGVUZXN0cygpCiAgICB0ZXN0X3Jlc3VsdHMuY29tcGFyZV92YWx1ZXMoeF9uLCAyLjE1ODcyNjA2NDQ4MTIyNDUsIGF0b2w9MWUtNCkKICAgIGlmIG5wLmlzY2xvc2UoZl90ZXN0KHhfbiksIDAsIGF0b2w9MWUtNik6CiAgICAgICAgdGVzdF9yZXN1bHRzLmFkZF9yZXN1bHQoVHJ1ZSwgZiJGdW5jdGlvbiBjYWxsICdmKHt4X259KScgcmV0dXJuZWQgMCIpCiAgICBlbHNlOgogICAgICAgIHRlc3RfcmVzdWx0cy5hZGRfcmVzdWx0KEZhbHNlLCBmIkZ1bmN0aW9uIGNhbGwgJ2Yoe3hfbn0pJyBkaWQgbm90IHJldHVybiAwIikKICAgIAogICAgcmV0dXJuIHJvdW5kKHRlc3RfcmVzdWx0cy5nZXRfcmVzdWx0cygpKjMsIDIpCnRlc3Rfcm91dGluZSgp"
    },
    "deletable": false,
    "editable": false,
    "execution": {
     "iopub.execute_input": "2025-10-08T11:32:00.661956Z",
     "iopub.status.busy": "2025-10-08T11:32:00.661776Z",
     "iopub.status.idle": "2025-10-08T11:32:00.667038Z",
     "shell.execute_reply": "2025-10-08T11:32:00.666412Z"
    },
    "nbgrader": {
     "cell_type": "code",
     "checksum": "1f216c55b481a44480fc6189cf9f2867",
     "grade": true,
     "grade_id": "cell-3b5a4bb25573b4b7",
     "locked": true,
     "points": 3,
     "schema_version": 3,
     "solution": false,
     "task": false
    },
    "slideshow": {
     "slide_type": ""
    },
    "tags": []
   },
   "outputs": [],
   "source": [
    "# Denne cellen brukes under retting. La Stå!"
   ]
  },
  {
   "cell_type": "markdown",
   "id": "b361ce9a-467f-4b3e-8987-0c6e0459519b",
   "metadata": {
    "deletable": false
   },
   "source": [
    "## d)\n",
    "\n",
    "Vi ønsker nå å få litt innsyn i antall steg som ble brukt og hva verdien var ved hvert steg. Modifiser koden fra deloppgave **c)** slik at vi nå har en **liste** `x_n` med tallverdier som inneholder alle stegene fra og med $x_0$ frem til kravet $|f(x)| < 10^{-6}$ ble oppfylt."
   ]
  },
  {
   "cell_type": "code",
   "execution_count": null,
   "id": "54c7765d-6aa0-4357-bf2e-6cc79295fdf2",
   "metadata": {
    "deletable": false,
    "editable": true,
    "execution": {
     "iopub.execute_input": "2025-10-08T11:32:00.668882Z",
     "iopub.status.busy": "2025-10-08T11:32:00.668672Z",
     "iopub.status.idle": "2025-10-08T11:32:00.672223Z",
     "shell.execute_reply": "2025-10-08T11:32:00.671723Z"
    },
    "nbgrader": {
     "cell_type": "code",
     "checksum": "84662ecf28f423f310405ac9120686cb",
     "grade": false,
     "grade_id": "cell-f0d4a45510a19f6f",
     "locked": false,
     "schema_version": 3,
     "solution": true,
     "task": false
    },
    "slideshow": {
     "slide_type": ""
    },
    "tags": []
   },
   "outputs": [],
   "source": [
    "x_0 =  0.0 # Startgjett\n",
    "\n",
    "#-------------------------------------\n",
    "# SKRIV DIN KODE HER!\n",
    "#-------------------------------------\n",
    "\n",
    "# Utskrift av løsning:\n",
    "for n, x in enumerate(x_n):\n",
    "    print(f\"x_{n} = {x}\") "
   ]
  },
  {
   "cell_type": "code",
   "execution_count": null,
   "id": "c054d88f-16e2-4dce-afe3-9029b4fdb068",
   "metadata": {
    "autofeedback": {
     "test_code": "ZGVmIHRlc3Rfcm91dGluZSgpOgogICAgZnJvbSBhdXRvZmVlZGJhY2sgaW1wb3J0IFZhcmlhYmxlVGVzdHMKICAgIGltcG9ydCBudW1weSBhcyBucAoKICAgIGRlZiBmX3Rlc3QoeCk6CiAgICAgICAgcmV0dXJuIG5wLmV4cCh4KSAtIHgqKjIgLSA0CiAgICAgICAgCiAgICBkZWYgZGZfdGVzdCh4KToKICAgICAgICByZXR1cm4gbnAuZXhwKHgpIC0gMip4CiAgICAgICAgCiAgICB4X3NvbCA9IFswLjBdCiAgICB3aGlsZSBucC5hYnMoZl90ZXN0KHhfc29sWy0xXSkpID4gMWUtNjogIyBFcnN0YXR0IG1lZCBlbiBwYXNzZW5kZSBiZXRpbmdlbHNlCiAgICAgICAgeF9zb2wuYXBwZW5kKHhfc29sWy0xXSAtIGZfdGVzdCh4X3NvbFstMV0pL2RmX3Rlc3QoeF9zb2xbLTFdKSkKCiAgICB0ZXN0X3Jlc3VsdHMgPSBWYXJpYWJsZVRlc3RzKCkKICAgIHRlc3RfcmVzdWx0cy5jb21wYXJlX3ZhbHVlcyh4X24sIHhfc29sLCBuYW1lPSJ4X24iLCAgYXRvbD0xZS0zKQogICAgcmV0dXJuIHJvdW5kKHRlc3RfcmVzdWx0cy5nZXRfcmVzdWx0cygpKjMsIDIpCnRlc3Rfcm91dGluZSgp"
    },
    "deletable": false,
    "editable": false,
    "execution": {
     "iopub.execute_input": "2025-10-08T11:32:00.673811Z",
     "iopub.status.busy": "2025-10-08T11:32:00.673656Z",
     "iopub.status.idle": "2025-10-08T11:32:00.678793Z",
     "shell.execute_reply": "2025-10-08T11:32:00.678310Z"
    },
    "nbgrader": {
     "cell_type": "code",
     "checksum": "e5e760fdae2e6bd4658b553c6eff7fd8",
     "grade": true,
     "grade_id": "cell-6405306f0c6340b1",
     "locked": true,
     "points": 3,
     "schema_version": 3,
     "solution": false,
     "task": false
    },
    "slideshow": {
     "slide_type": ""
    },
    "tags": []
   },
   "outputs": [],
   "source": [
    "# Denne cellen brukes under retting. La Stå!"
   ]
  },
  {
   "cell_type": "markdown",
   "id": "16e0f029-b2f4-410d-ba18-b81a052d8730",
   "metadata": {
    "deletable": false,
    "editable": true,
    "slideshow": {
     "slide_type": ""
    },
    "tags": []
   },
   "source": [
    "Om du har løst oppgaven riktig, vil det være tydelig at det i dette tilfellet ikke krever mer enn $6$ iterasjoner å komme frem til riktig løsning. Dersom vi velger et \"bedre\" startgjett som f.eks. $x_0 = 3.8$, så vil vi se at det ikke kreves mer enn $2$ iterasjoner å komme fram til riktig svar. Med andre ord kan det være besparende med tanke på dataressurser å finne et godt estimat til å begynne med som ligger noenlunde i nærheten av den riktige løsningen."
   ]
  },
  {
   "cell_type": "markdown",
   "id": "0f3d0885-52a3-4e2f-bd3d-f4c60067430a",
   "metadata": {
    "deletable": false,
    "editable": false,
    "slideshow": {
     "slide_type": ""
    },
    "tags": []
   },
   "source": [
    "<br>\n",
    "<nav class=\"navbar navbar-default\">\n",
    "        <div class=\"container-fluid\">\n",
    "            <div class=\"navbar-header\" style=\"float: right\">\n",
    "                <a class=\"navbar-brand\" href=\"2_Min_sqrt.ipynb\" target=\"_self\">Neste side: <i>numerisk kvadratrot</i> &gt;</a>\n",
    "            </div>\n",
    "        </div>\n",
    "</nav>"
   ]
  }
 ],
 "metadata": {
  "kernelspec": {
   "display_name": "Python 3 (ipykernel)",
   "language": "python",
   "name": "python3"
  },
  "language_info": {
   "codemirror_mode": {
    "name": "ipython",
    "version": 3
   },
   "file_extension": ".py",
   "mimetype": "text/x-python",
   "name": "python",
   "nbconvert_exporter": "python",
   "pygments_lexer": "ipython3",
   "version": "3.12.11"
  }
 },
 "nbformat": 4,
 "nbformat_minor": 5
}
