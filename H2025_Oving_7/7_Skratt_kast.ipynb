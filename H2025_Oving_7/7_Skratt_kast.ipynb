{
 "cells": [
  {
   "cell_type": "markdown",
   "id": "8bc39f4f-66bb-4679-9401-ac56a4cbce6c",
   "metadata": {
    "deletable": false,
    "editable": false,
    "slideshow": {
     "slide_type": ""
    },
    "tags": []
   },
   "source": [
    "\n",
    "<nav class=\"navbar navbar-default\">\n",
    "  <div class=\"container-fluid\">\n",
    "    <div class=\"navbar-header\" style=\"float: left\">\n",
    "        <a class=\"navbar-brand\" href=\"0_Forside.ipynb\" target=\"_self\"> <h2> &uarr; Tilbake til forsiden</h2></a>\n",
    "    </div>\n",
    "  </div>\n",
    "</nav>"
   ]
  },
  {
   "cell_type": "markdown",
   "id": "a380d922",
   "metadata": {
    "deletable": false,
    "editable": true,
    "slideshow": {
     "slide_type": ""
    },
    "tags": []
   },
   "source": [
    "\n",
    "# Skrått kast\n",
    "\n",
    "#### Læringsmål:\n",
    "* Bruk av numeriske metoder for å løse en praktisk (og vanskelig) ligning\n",
    "* Sekantmetoden\n",
    "\n",
    "\n",
    "\n",
    "### Introduksjon\n",
    "Vi har en kanon som står på bakken. Kanonen skyter prosjektil med utgangshastighet $v_0$ m/s.\n",
    "Vi ønsker å treffe en blink som er plassert $x_b$ meter unna med en høydeforskjell på $y_b$ meter. Hvilken utgangsvinkel må vi stille kanonen inn på? Prøv deg frem med ulike vinkler på den interaktive animasjonen nedenfor for å bli kjent med problemet."
   ]
  },
  {
   "cell_type": "code",
   "execution_count": null,
   "id": "170ac928",
   "metadata": {
    "deletable": false,
    "editable": true,
    "execution": {
     "iopub.execute_input": "2025-10-08T11:32:23.039433Z",
     "iopub.status.busy": "2025-10-08T11:32:23.039291Z",
     "iopub.status.idle": "2025-10-08T11:32:23.044420Z",
     "shell.execute_reply": "2025-10-08T11:32:23.044047Z"
    },
    "hide_input": false,
    "slideshow": {
     "slide_type": ""
    },
    "tags": []
   },
   "outputs": [],
   "source": [
    "%%html\n",
    "<iframe src=\"https://folk.ntnu.no/jonajh/jsx/kast.html\" height=800 width=800></iframe> "
   ]
  },
  {
   "cell_type": "markdown",
   "id": "a462d57f-f013-46bd-9a85-4e94c8091ee7",
   "metadata": {
    "deletable": false
   },
   "source": [
    "### 2D-kinematikk\n",
    "Dersom dere har gått forkurset, eller tatt F2 på videregående kjenner dere nok til \n",
    "hvordan man regner på bevegelse i 2 dimensjoner. Hvis ikke er ikke detaljene her så farlig - dere vil løse\n",
    "liknende problemer et par uker inn i fysikken etter jul :)\n",
    "\n",
    "For et såkalt skrått kast som problemet over beskriver, kan man se på x- og y- posisjonen til prosjektilet\n",
    "uavhengig av hverandre:\n",
    "\n",
    "\\begin{align*}\n",
    "x(t) &= v_0\\cos{\\theta}\\cdot t \\\\\n",
    "y(t) &= v_0\\sin{\\theta}\\cdot t-\\frac{1}{2}gt^2\n",
    "\\end{align*}\n",
    "\n",
    "Her er $x(t)$ og $y(t)$ x- og y-posisjonen ved tiden $t$, $v_0$ er den faste utgangsfarten og $g$ er tyngdeakselerasjonen.\n",
    "\n",
    "Vi vet at på et eller annet tidpunkt $t$, så må prosjektilet treffe blinken - den må innom koordinatene  $(x_b,y_b)$.\n",
    "Vi vet ikke når dette skjer (når prosjektilet lander), eller hvilken utgangvinkel vi trenger. Vi får da to ligninger med disse to ukjente:\n",
    "\n",
    "\n",
    "\\begin{align*}\n",
    "x_b &= v_0\\cos{\\theta}\\cdot t \\\\\n",
    "y_b &= v_0\\sin{\\theta}\\cdot t-\\frac{1}{2}gt^2\n",
    "\\end{align*}\n",
    "\n",
    "Her kan vi for eksempel løse den første ligningen for tiden $t$ og sette dette inn i ligning 2, og vi får etter\n",
    "litt algebraisk massasje:\n",
    "\n",
    "$$\n",
    "\\Large y_b = x_b\\tan{\\theta}-\\frac{1}{2}g \\cdot \\left(\\frac{x_b}{v_0\\cos{\\theta}}\\right)^2 \\tag{7.1}\n",
    "$$\n",
    "\n",
    "Gitt en bestemt verdi for $x_b$, $y_b$ og $v_0$, kan vi løse ligning $7.1$ for å finne en utgangsvinkel $\\theta$ som sørger for at vi treffer blink. Dersom vi for eksempel tar for oss et scenario med flølgende parametre:\n",
    "\n",
    "\\begin{align*}\n",
    "x_b &= 30 \\text{m} \\\\\n",
    "y_b &= 7 \\text{m} \\\\\n",
    "v_0 &= 20 \\text{m/s} \n",
    "\\end{align*}\n",
    "\n",
    "Dersom vi plotter kurven til $f(\\theta)$ ser vi at ligningen har to mulige løsninger, slik illustrert i figuren nedenfor:\n",
    "\n",
    "<img\n",
    "  src=\"Figurer/oppg7_gl.svg\"\n",
    "  alt=\"Plot av f(x).\"\n",
    "  style=\"display:block; width:600px; height:auto; border-radius:8px; margin-left:50px\"\n",
    "/>\n",
    "\n",
    "Parametrene for oppgaven er definert i kodecellen nedenfor:\n",
    "\n",
    "<!--Her er\n",
    "$$\n",
    "\\begin{align}\n",
    "y_b&= -7,00\\ \\text{m} \\\\\n",
    "v_0 &= 15\\ \\text{m/s} \\\\\n",
    "x_b &= 28,0\\ \\text{m}\n",
    "\\end{align}\n",
    "$$\n",
    "Siste steg er å løse følgende liking for $\\theta$\n",
    "$$\n",
    "-7 = 28\\tan{\\theta}-4.905\\left(\\frac{28}{15\\cos{\\theta}}\\right)^2\n",
    "$$\n",
    "\n",
    "Denne likningen er ikke så lett å løse, selv om vi kan leke litt med figuren under og se at den *har* 2 løsninger. Det er ikke så lett å disse løsningene analytisk, men ligningen er en god kandidat til å løses *numerisk*. Andre likninger kan det være *umulig* å finne en analytisk løsning til, feks $x+\\sin{x} = 1$\n",
    "-->"
   ]
  },
  {
   "cell_type": "code",
   "execution_count": null,
   "id": "621c756d-74f3-43c4-8b0c-436e6589c032",
   "metadata": {
    "deletable": false,
    "editable": false,
    "execution": {
     "iopub.execute_input": "2025-10-08T11:32:23.046024Z",
     "iopub.status.busy": "2025-10-08T11:32:23.045845Z",
     "iopub.status.idle": "2025-10-08T11:32:23.048272Z",
     "shell.execute_reply": "2025-10-08T11:32:23.047820Z"
    },
    "slideshow": {
     "slide_type": ""
    },
    "tags": []
   },
   "outputs": [],
   "source": [
    "x_b = 30 # meter\n",
    "y_b = 7 # meter\n",
    "v_0 = 20 # meter per sekund\n",
    "g = 9.81 # m/s^2"
   ]
  },
  {
   "cell_type": "markdown",
   "id": "979dc98a-b26b-4fcc-91a4-2f97bf82db73",
   "metadata": {
    "deletable": false,
    "editable": true,
    "slideshow": {
     "slide_type": ""
    },
    "tags": []
   },
   "source": [
    "## a)\n",
    "\n",
    "Vi skal nå bruke Newton's metode til å finne ligningens løsninger med større nøyaktighet. For å bruke Newton's metode trenger vi å vite den deriverte av formel $7.1$. Det blir:\n",
    "\n",
    "$$\n",
    "f'(\\theta) =\\frac{x_b}{\\cos^2{\\theta}}-g\\sin(\\theta) \\left( \\frac{x_b}{v_0} \\right)^2 \\cos^{-3}(\\theta) \n",
    "$$\n",
    "\n",
    "\n",
    "Bruk Newtons metode for å regne ut mer presise løsninger for ligningen $f(\\theta) = 0$. Du må her bruke to ulike startverdier, som vil konvergere mot hvert sitt nullpunkt. Pass på å lagre resultatet til variablene `theta_1` og `theta_2`. Løsningen skal oppgis i grader med to desimalers nøyaktighet.\n",
    "\n",
    "*Tips: Bruk kurven fra figuren over til å kontrollere løsningen*"
   ]
  },
  {
   "cell_type": "code",
   "execution_count": null,
   "id": "9cd5b11b-62e8-4b94-9f4a-22e6ed05f641",
   "metadata": {
    "deletable": false,
    "execution": {
     "iopub.execute_input": "2025-10-08T11:32:23.049822Z",
     "iopub.status.busy": "2025-10-08T11:32:23.049663Z",
     "iopub.status.idle": "2025-10-08T11:32:23.191190Z",
     "shell.execute_reply": "2025-10-08T11:32:23.190420Z"
    },
    "nbgrader": {
     "cell_type": "code",
     "checksum": "84c33b0aecef7632b42a91d83ff1cfc7",
     "grade": false,
     "grade_id": "cell-3ae663e7e4c516e1",
     "locked": false,
     "schema_version": 3,
     "solution": true,
     "task": false
    }
   },
   "outputs": [],
   "source": [
    "import numpy as np\n",
    "\n",
    "# Funksjonen f(theta) fra oppgave a)\n",
    "def f(thet):\n",
    "    #-------------------------------------\n",
    "    # SKRIV DIN KODE HER!\n",
    "    #-------------------------------------\n",
    "    \n",
    "# Den deriverte til funksjonen f(theta)\n",
    "def df(theta):\n",
    "    #-------------------------------------\n",
    "    # SKRIV DIN KODE HER!\n",
    "    #-------------------------------------\n",
    "\n",
    "theta_a = \"???\" # Første løsning\n",
    "theta_b = \"???\" # Andre løsning\n",
    "\n",
    "# Bruk funksjonene f(theta) og df(theta) til å utføre newtons metode for to startpunkt\n",
    "#-------------------------------------\n",
    "# SKRIV DIN KODE HER!\n",
    "#-------------------------------------"
   ]
  },
  {
   "cell_type": "markdown",
   "id": "b56d10af-db44-4598-9fd4-394f1d866867",
   "metadata": {
    "deletable": false
   },
   "source": [
    "Kjør kodecellen nedenfor for å skrive ut løsningene:"
   ]
  },
  {
   "cell_type": "code",
   "execution_count": null,
   "id": "84676ade-19c1-4869-9c5e-894cd5ce92ad",
   "metadata": {
    "autofeedback": {
     "test_code": "ZGVmIHRlc3Rfcm91dGluZSgpOgogICAgZnJvbSBhdXRvZmVlZGJhY2sgaW1wb3J0IEN1c3RvbVRlc3RzCiAgICBpbXBvcnQgbnVtcHkgYXMgbnAKCiAgICB0aGV0YTFfc29sID0gNDEuOTExMTQ3ODA5MDY5NjEKICAgIHRoZXRhMl9zb2wgPSA2MS4yMjI4NzQ0OTYxMDcyNjYKCiAgICB0ZXN0X3Jlc3VsdHMgPSBDdXN0b21UZXN0cygpCiAgICB0ZXN0X3Jlc3VsdHMudGVzdChucC5taW4obnAuYWJzKG5wLmFycmF5KFt0aGV0YV9hLCB0aGV0YV9iXSkgLSB0aGV0YTFfc29sKSkgIDwgMWUtMiwKICAgICAgICAgICAgICAgICAgICAgIGYiYSBzb2x1dGlvbiBpbiB7dGhldGExX3NvbDouMmZ9IHdhcyBjb3JyZWN0bHkgaWRlbnRpZmllZCIsCiAgICAgICAgICAgICAgICAgICAgICBmImxvd2VyIHNvbHV0aW9uIG5vdCBmb3VuZCIpCiAgICAKICAgIHRlc3RfcmVzdWx0cy50ZXN0KG5wLm1pbihucC5hYnMobnAuYXJyYXkoW3RoZXRhX2EsIHRoZXRhX2JdKSAtIHRoZXRhMl9zb2wpKSAgPCAxZS0yLAogICAgICAgICAgICAgICAgICAgICAgZiJhIHNvbHV0aW9uIGluIHt0aGV0YTJfc29sOi4yZn0gd2FzIGNvcnJlY3RseSBpZGVudGlmaWVkIiwKICAgICAgICAgICAgICAgICAgICAgIGYidXBwZXIgc29sdXRpb24gbm90IGZvdW5kIikKICAgIAogICAgcmV0dXJuIHJvdW5kKHRlc3RfcmVzdWx0cy5nZXRfcmVzdWx0cygpKjUsIDIpCnRlc3Rfcm91dGluZSgp"
    },
    "deletable": false,
    "editable": false,
    "execution": {
     "iopub.execute_input": "2025-10-08T11:32:23.193319Z",
     "iopub.status.busy": "2025-10-08T11:32:23.193119Z",
     "iopub.status.idle": "2025-10-08T11:32:25.013103Z",
     "shell.execute_reply": "2025-10-08T11:32:25.012541Z"
    },
    "nbgrader": {
     "cell_type": "code",
     "checksum": "a77ad4a82ac592ed23a2dd54e75297c8",
     "grade": true,
     "grade_id": "cell-78e4410b45701d6b",
     "locked": true,
     "points": 5,
     "schema_version": 3,
     "solution": false,
     "task": false
    }
   },
   "outputs": [],
   "source": [
    "print(f\"Vi treffer blink dersom utgangsvinkelen er {theta_a = :.2f} grader eller {theta_b = :.2f} grader.\")"
   ]
  },
  {
   "cell_type": "markdown",
   "id": "de499f14-b7df-4d79-b145-c2a733d74080",
   "metadata": {
    "deletable": false,
    "editable": true,
    "slideshow": {
     "slide_type": ""
    },
    "tags": []
   },
   "source": [
    "### Sekantmetoden\n",
    "\n",
    "\n",
    "Ofte kan funksjonen vi skal finne røttene til være ganske fæl å derivere. I slike tilfeller kan vi bruke *numerisk derivasjon* til å finne sånn ca. hva den deriverte til f.eks. funksjonen $f(\\theta)$ er for vinkelen $\\theta_n$. Utregningen blir:\n",
    "\n",
    "$$\\large f'(\\theta_n) \\approx \\frac{\\Delta f(\\theta_n)}{\\Delta \\theta_n} = \\frac{ f(\\theta_n) - f(\\theta_{n-1})}{\\theta_n - \\theta_{n-1}}$$\n",
    "\n",
    "Denne tilnærmede verdien kan vi sette inn i Newton's metode, og la algoritmen konvergere på en løsning. Men, én vesentlig forskjell er at vi må nå definere *to* startverdier $\\theta_0$ og $\\theta_1$ før vi kan utføre numerisk derivasjon. Et forslag er å plassere definere $\\theta_0$ slik som i deloppgave **a)**, og plassere $\\theta_1$ tett inntil $\\theta_0$ som følger:\n",
    "\n",
    "$$\\theta_1 = \\theta_0 + h, \\ \\ \\ h = 2^{-10}$$\n",
    "\n",
    "Da vil vi ha en kort skrittlengde i utregningen av den deriverte for det første steget, og få et tilnærming som er veldig nære den faktiske deriverte i $f'(\\theta_1)$."
   ]
  },
  {
   "cell_type": "markdown",
   "id": "07f78ce2",
   "metadata": {
    "deletable": false,
    "editable": true,
    "slideshow": {
     "slide_type": ""
    },
    "tags": []
   },
   "source": [
    "## b)\n",
    "\n",
    "Bruk nå sekantmetoden til å finne løsningene på ligning $7.1$ med de samme parametrene som før. "
   ]
  },
  {
   "cell_type": "code",
   "execution_count": null,
   "id": "3c8c1c3b-954b-4186-ba2c-5152b487544e",
   "metadata": {
    "autofeedback": {
     "plot_task": true
    },
    "deletable": false,
    "execution": {
     "iopub.execute_input": "2025-10-08T11:32:25.015007Z",
     "iopub.status.busy": "2025-10-08T11:32:25.014701Z",
     "iopub.status.idle": "2025-10-08T11:32:25.177158Z",
     "shell.execute_reply": "2025-10-08T11:32:25.176643Z"
    },
    "nbgrader": {
     "cell_type": "code",
     "checksum": "156c0ad63eb1dca88563aff13aeb9bd1",
     "grade": false,
     "grade_id": "cell-e7103a2cef243c22",
     "locked": false,
     "schema_version": 3,
     "solution": true,
     "task": false
    }
   },
   "outputs": [],
   "source": [
    "import numpy as np\n",
    "import matplotlib.pyplot as plt\n",
    "\n",
    "\n",
    "# Funksjonen f(theta) fra oppgave a)\n",
    "def f(thet):\n",
    "    #-------------------------------------\n",
    "    # SKRIV DIN KODE HER!\n",
    "    #-------------------------------------\n",
    "\n",
    "theta_a = \"???\"\n",
    "theta_b = \"???\"\n",
    "# Bruk funksjonen f(theta) til å utføre sekantmetoden for to startpunkt\n",
    "#-------------------------------------\n",
    "# SKRIV DIN KODE HER!\n",
    "#-------------------------------------"
   ]
  },
  {
   "cell_type": "code",
   "execution_count": null,
   "id": "8c5b2874-1ed3-4c86-893f-8684c7f03918",
   "metadata": {
    "autofeedback": {
     "test_code": "ZGVmIHRlc3Rfcm91dGluZSgpOgogICAgZnJvbSBhdXRvZmVlZGJhY2sgaW1wb3J0IEN1c3RvbVRlc3RzCiAgICBpbXBvcnQgbnVtcHkgYXMgbnAKCiAgICB0aGV0YTFfc29sID0gNDEuOTExMTQ3ODA5MDY5NjEKICAgIHRoZXRhMl9zb2wgPSA2MS4yMjI4NzQ0OTYxMDcyNjYKCiAgICB0ZXN0X3Jlc3VsdHMgPSBDdXN0b21UZXN0cygpCiAgICB0ZXN0X3Jlc3VsdHMudGVzdChucC5taW4obnAuYWJzKG5wLmFycmF5KFt0aGV0YV9hLCB0aGV0YV9iXSkgLSB0aGV0YTFfc29sKSkgIDwgMWUtMiwKICAgICAgICAgICAgICAgICAgICAgIGYiYSBzb2x1dGlvbiBpbiB7dGhldGExX3NvbDouMmZ9IHdhcyBjb3JyZWN0bHkgaWRlbnRpZmllZCIsCiAgICAgICAgICAgICAgICAgICAgICBmImxvd2VyIHNvbHV0aW9uIG5vdCBmb3VuZCIpCiAgICAKICAgIHRlc3RfcmVzdWx0cy50ZXN0KG5wLm1pbihucC5hYnMobnAuYXJyYXkoW3RoZXRhX2EsIHRoZXRhX2JdKSAtIHRoZXRhMl9zb2wpKSAgPCAxZS0yLAogICAgICAgICAgICAgICAgICAgICAgZiJhIHNvbHV0aW9uIGluIHt0aGV0YTJfc29sOi4yZn0gd2FzIGNvcnJlY3RseSBpZGVudGlmaWVkIiwKICAgICAgICAgICAgICAgICAgICAgIGYidXBwZXIgc29sdXRpb24gbm90IGZvdW5kIikKICAgIAogICAgcmV0dXJuIHJvdW5kKHRlc3RfcmVzdWx0cy5nZXRfcmVzdWx0cygpKjUsIDIpCnRlc3Rfcm91dGluZSgp"
    },
    "deletable": false,
    "editable": false,
    "execution": {
     "iopub.execute_input": "2025-10-08T11:32:25.179056Z",
     "iopub.status.busy": "2025-10-08T11:32:25.178894Z",
     "iopub.status.idle": "2025-10-08T11:32:25.184635Z",
     "shell.execute_reply": "2025-10-08T11:32:25.184194Z"
    },
    "nbgrader": {
     "cell_type": "code",
     "checksum": "8cf797555410cdc8d6822b311d3ea2b1",
     "grade": true,
     "grade_id": "cell-25f9896ab90adbea",
     "locked": true,
     "points": 5,
     "schema_version": 3,
     "solution": false,
     "task": false
    }
   },
   "outputs": [],
   "source": [
    "print(f\"Vi treffer blink dersom utgangsvinkelen er {theta_a = :.2f} grader eller {theta_b = :.2f} grader.\")"
   ]
  },
  {
   "cell_type": "markdown",
   "id": "e25a55b7-4012-411c-85d5-980ddb02d60d",
   "metadata": {
    "deletable": false,
    "editable": true,
    "slideshow": {
     "slide_type": ""
    },
    "tags": []
   },
   "source": [
    "<br>\n",
    "<nav class=\"navbar navbar-default\">\n",
    "        <div class=\"container-fluid\">\n",
    "            <div class=\"navbar-header\" style=\"float: left\">\n",
    "                <a class=\"navbar-brand\" href=\"6_regneoperasjoner_matriser.ipynb\" target=\"_self\">&lt; Forrige side: <i>regneoperasjoner med matriser</i></a>\n",
    "                </div>\n",
    "            <div class=\"navbar-header\" style=\"float: right\">\n",
    "                <a class=\"navbar-brand\" href=\"8_naiv_gauss.ipynb\" target=\"_self\">Neste side: <i>naiv Gauss-eliminasjon med Python</i> &gt;</a>\n",
    "            </div>\n",
    "        </div>\n",
    "</nav>"
   ]
  }
 ],
 "metadata": {
  "kernelspec": {
   "display_name": "Python 3 (ipykernel)",
   "language": "python",
   "name": "python3"
  },
  "language_info": {
   "codemirror_mode": {
    "name": "ipython",
    "version": 3
   },
   "file_extension": ".py",
   "mimetype": "text/x-python",
   "name": "python",
   "nbconvert_exporter": "python",
   "pygments_lexer": "ipython3",
   "version": "3.12.11"
  }
 },
 "nbformat": 4,
 "nbformat_minor": 5
}
