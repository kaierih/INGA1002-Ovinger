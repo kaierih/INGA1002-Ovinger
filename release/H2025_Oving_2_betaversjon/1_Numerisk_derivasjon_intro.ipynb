{
 "cells": [
  {
   "cell_type": "markdown",
   "id": "15b4e97b-5a75-4210-bb1e-2de410d5e5fb",
   "metadata": {
    "deletable": false,
    "slideshow": {
     "slide_type": ""
    },
    "tags": []
   },
   "source": [
    "\n",
    "<nav class=\"navbar navbar-default\">\n",
    "  <div class=\"container-fluid\">\n",
    "    <div class=\"navbar-header\" style=\"float: left\">\n",
    "        <a class=\"navbar-brand\" href=\"0_Forside.ipynb\" target=\"_self\"> <h2> &uarr; Tilbake til forsiden</h2></a>\n",
    "    </div>\n",
    "  </div>\n",
    "</nav>"
   ]
  },
  {
   "cell_type": "markdown",
   "id": "9f055b13-022e-492a-87b5-cfcbb24a12ac",
   "metadata": {
    "deletable": false
   },
   "source": [
    "# Introduksjon til numerisk derivasjon\n",
    "\n",
    "**Læringsmål:**\n",
    "\n",
    "* Funksjoner og matematiske utregninger i python\n",
    "* Numerisk derivasjon som konsept\n",
    "* Forskjellen mellom ulike differansemetoder: foroverdifferanse, bakoverdifferanse og senterdifferanse\n",
    "\n",
    "\n",
    "**Oversikt:**\n",
    "* [Oppgave a) matematiske funksjoner i Python, repetisjon](#oppg_1a)\n",
    "* [Oppgave b) foroverdifferanse](#oppg_1b)\n",
    "* [Oppgave c) bakoverdifferanse](#oppg_1c)\n",
    "* [Oppgave d) senterdifferanse](#oppg_1d)\n",
    "* [Oppgave e) mer om klassisk fysikk](#oppg_1e)"
   ]
  },
  {
   "cell_type": "markdown",
   "id": "30ed3878-a57b-49fa-bef0-11a7c102e84d",
   "metadata": {
    "deletable": false
   },
   "source": [
    "### Hva er numerisk derivasjon?\n"
   ]
  },
  {
   "cell_type": "markdown",
   "id": "5979c3dd-90dc-4492-a51d-1a76be664b1e",
   "metadata": {
    "deletable": false
   },
   "source": [
    "\n",
    "Numerisk derivasjon er en metode for å finne en *tilnærmet verdi* til den deriverte av en funksjon $f(x)$ for en bestemt verdi av $x$ uten at det er nødvendig å kjenne til et funksjonsuttryk for $f'(x)$. Kort oppsummert velger man to nærliggende verdier for variabelen $x$, og regner ut den *gjennomsnittslige endringsraten* til funksjonen $f(x)$ mellom disse to punktene. Dette kan sammenlignes med hvordan to fotobokser brukes til å finne gjennomsnittshastigheten til en bil på veistrekningen mellom de to fotoboksene. I dette kurset lærer vi om tre ulike metoder for numerisk derivasjon, der forskjellen mellom de handler om hvordan man velger de to verdiene av $x$ man tar utgangspunkt i.\n",
    "\n",
    "#### Foroverdifferanse\n",
    "Formel:\n",
    "$$ f'(x) \\approx \\frac{f(x+h)-f(x)}{h} \\tag{2.1}$$\n",
    "\n",
    "Regner ut differansen mellom to funksjonsverdier i punktet $x$, og et punkt som ligger en distanse $h$ lengre *forover* langs x-aksen.\n",
    "\n",
    "#### Bakoverdifferanse\n",
    "Formel:\n",
    "$$ f'(x) \\approx \\frac{f(x)-f(x-h)}{h} \\tag{2.2}$$\n",
    "\n",
    "Regner ut differansen mellom to funksjonsverdier i punktet $x$, og et punkt som ligger en distanse $h$ lengre *bakover* langs x-aksen.\n",
    "\n",
    "#### Senterdifferanse\n",
    "Formel:\n",
    "$$ f'(x) \\approx \\frac{f(x+h)-f(x-h)}{2h} \\tag{2.3}$$\n",
    "\n",
    "Gjennomsnittet av foroverdifferanse og bakoverdifferanse. \n",
    "\n",
    "Trenger du mer oppklaring i hvordan numerisk derivasjon fungerer, kan du finne en mer omfattende forklaring i pensumlitteraturen [HER!]"
   ]
  },
  {
   "cell_type": "markdown",
   "id": "5360c031-df17-4f4b-9756-7ace8e2b7d23",
   "metadata": {
    "deletable": false
   },
   "source": [
    "<a id=\"oppg_1a\"></a>\n",
    "## a) \n",
    "\n",
    "I denne oppgaven skal vi arbeide med funksjonen $f(x) = 3x^2$ + 1. Fullfør funksjonsbeskrivelsen for python-funksjonen `f(x)` nedenfor slik at returverdien vil være lik $x^2$ for alle input-verdier $x$."
   ]
  },
  {
   "cell_type": "code",
   "execution_count": null,
   "id": "c91662b6-28f5-4a96-a3c6-7795eaaefa71",
   "metadata": {
    "deletable": false,
    "execution": {
     "iopub.execute_input": "2025-08-19T14:31:30.451563Z",
     "iopub.status.busy": "2025-08-19T14:31:30.450930Z",
     "iopub.status.idle": "2025-08-19T14:31:30.817580Z",
     "shell.execute_reply": "2025-08-19T14:31:30.815766Z"
    },
    "nbgrader": {
     "cell_type": "code",
     "checksum": "2f05bd0f81c5036497193adf4d2d706d",
     "grade": false,
     "grade_id": "cell-42a430c53550fde5",
     "locked": false,
     "schema_version": 3,
     "solution": true,
     "task": false
    }
   },
   "outputs": [],
   "source": [
    "import numpy as np\n",
    "def f(x):\n",
    "    #-------------------------------------\n",
    "    # SKRIV DIN KODE HER!\n",
    "    #-------------------------------------\n",
    "    return y"
   ]
  },
  {
   "cell_type": "code",
   "execution_count": null,
   "id": "17e129a3-bc08-4f79-b3aa-596f12beb008",
   "metadata": {
    "autofeedback": {
     "test_code": "ZnJvbSByYW5kb20gaW1wb3J0IHNhbXBsZQpmcm9tIGF1dG9mZWVkYmFjayBpbXBvcnQgRnVuY3Rpb25UZXN0cwppbXBvcnQgbnVtcHkgYXMgbnAKCmRlZiBmX3NvbCh4KToKICAgIHJldHVybiAzKngqKjIrMQoKZ3JhZGluZ19yZXN1bHRzID0gRnVuY3Rpb25UZXN0cyhmX3NvbCkKCnRyeToKICAgIGdyYWRpbmdfcmVzdWx0cy5hZGRfdGVzdF9mdW5jKGYpCmV4Y2VwdCBFeGNlcHRpb24gYXMgZToKICAgIGdyYWRpbmdfcmVzdWx0cy5sb2cuYXBwZW5kKCJDb3VsZCBub3QgcnVuIHRlc3RzLCAiK2UuYXJnc1swXSkKZWxzZToKICAgIHhfdmFscyA9IHNhbXBsZShsaXN0KHJhbmdlKDEsIDEwKSksIDMpCiAgICBmb3IgeCBpbiB4X3ZhbHM6CiAgICAgICAgZ3JhZGluZ19yZXN1bHRzLnRlc3RfcmV0dXJuX3ZhbHVlKHgpCnJvdW5kKGdyYWRpbmdfcmVzdWx0cy5nZXRfcmVzdWx0cygpKjIsIDIp"
    },
    "deletable": false,
    "editable": false,
    "execution": {
     "iopub.execute_input": "2025-08-19T14:31:30.823783Z",
     "iopub.status.busy": "2025-08-19T14:31:30.823415Z",
     "iopub.status.idle": "2025-08-19T14:31:33.379368Z",
     "shell.execute_reply": "2025-08-19T14:31:33.377820Z"
    },
    "nbgrader": {
     "cell_type": "code",
     "checksum": "54822fc4a59a0b932a9bdbe9b9e90054",
     "grade": true,
     "grade_id": "cell-c16b26a323bde02b",
     "locked": true,
     "points": 2,
     "schema_version": 3,
     "solution": false,
     "task": false
    }
   },
   "outputs": [],
   "source": []
  },
  {
   "cell_type": "markdown",
   "id": "b4973478-b1a9-479e-887d-28ed5efecbb8",
   "metadata": {
    "deletable": false
   },
   "source": [
    "<a id=\"oppg_1b\"></a>\n",
    "## b)\n",
    "Bruk python til å finne en tilnærmet verdi for $f'(0)$ med foroverdifferanse gitt en skrittlengde $h=0.2$. Resultatene skal skrives ut med bruk av `print()`, og to desimalers nøyaktighet.\n",
    "\n",
    "**Eksempel på utskrift med alternative verdier for `x` og `h`:** <br>\n",
    "`Resultat foroverdifferanse med h=0.2: f'(0) ≈ 0.0`"
   ]
  },
  {
   "cell_type": "code",
   "execution_count": null,
   "id": "3627ecca-3ad9-4fa8-822f-aabbe8d6460f",
   "metadata": {
    "deletable": false,
    "execution": {
     "iopub.execute_input": "2025-08-19T14:31:33.386467Z",
     "iopub.status.busy": "2025-08-19T14:31:33.385935Z",
     "iopub.status.idle": "2025-08-19T14:31:33.393014Z",
     "shell.execute_reply": "2025-08-19T14:31:33.391376Z"
    },
    "nbgrader": {
     "cell_type": "code",
     "checksum": "3420cd29f93fcbc759522300402eee83",
     "grade": false,
     "grade_id": "cell-b7f88e91b068a49a",
     "locked": false,
     "schema_version": 3,
     "solution": true,
     "task": false
    }
   },
   "outputs": [],
   "source": [
    "# Bruk følgende verdier for 'x' og 'h':\n",
    "x = 0 \n",
    "h = 0.2\n",
    "\n",
    "#-------------------------------------\n",
    "# SKRIV DIN KODE HER!\n",
    "#-------------------------------------"
   ]
  },
  {
   "cell_type": "code",
   "execution_count": null,
   "id": "dcb1bece-dcb1-41a6-b42a-87dc2d0b029f",
   "metadata": {
    "autofeedback": {
     "test_code": "ZnJvbSBhdXRvZmVlZGJhY2sgaW1wb3J0IENvZGVDZWxsVGVzdHMKCmFuc3dlcl9jZWxsX2NvbnRlbnRzID0gSW5bLTJdCgpncmFkaW5nX3Jlc3VsdHMgPSBDb2RlQ2VsbFRlc3RzKGFuc3dlcl9jZWxsX2NvbnRlbnRzLCBnbG9iYWxzPWdsb2JhbHMoKSwgbG9jYWxzPWxvY2FscygpKQojZ3JhZGluZ19yZXN1bHRzLnRlc3Rfb3V0cHV0KHIiNiIpCmdyYWRpbmdfcmVzdWx0cy50ZXN0X291dHB1dChyIjBbLl02Iiwgc2FtcGxlPSIwLjYwIiwgaWdub3JlX2NvZGVfbWF0Y2g9RmFsc2UpCmdyYWRpbmdfcmVzdWx0cy5yZXBsYWNlKHIiaFxzPz1ccz8wWy5dMlxzIiwgImggPSAwLjMgIikKZ3JhZGluZ19yZXN1bHRzLnRlc3Rfb3V0cHV0KHIiMFsuXTkiLCBzYW1wbGU9IjAuOTAiLCBpZ25vcmVfY29kZV9tYXRjaD1GYWxzZSkKcm91bmQoZ3JhZGluZ19yZXN1bHRzLmdldF9yZXN1bHRzKCkqMiwgMik="
    },
    "deletable": false,
    "editable": false,
    "execution": {
     "iopub.execute_input": "2025-08-19T14:31:33.397768Z",
     "iopub.status.busy": "2025-08-19T14:31:33.397478Z",
     "iopub.status.idle": "2025-08-19T14:31:33.412519Z",
     "shell.execute_reply": "2025-08-19T14:31:33.410587Z"
    },
    "nbgrader": {
     "cell_type": "code",
     "checksum": "a91b99fdbb64abd06e3617d00d8c608a",
     "grade": true,
     "grade_id": "cell-62ce9acb93b61279",
     "locked": true,
     "points": 2,
     "schema_version": 3,
     "solution": false,
     "task": false
    }
   },
   "outputs": [],
   "source": []
  },
  {
   "cell_type": "markdown",
   "id": "ca43425c-a5dc-4462-bdce-290c7208b1e2",
   "metadata": {
    "deletable": false
   },
   "source": [
    "<a id=\"oppg_1c\"></a>\n",
    "## c)\n",
    "\n",
    "Bruk python til å finne en tilnærmet verdi for den tidsderiverte $y'(0)$ med bakoverdifferanse gitt en skrittlengde $h=0.2$. Resultatene skal skrives ut med bruk av `print()`.\n",
    "\n",
    "**Eksempel på utskrift:** <br>\n",
    "`Resultat bakoverdifferanse med h=0.2: f'(0) ≈ _.__`"
   ]
  },
  {
   "cell_type": "code",
   "execution_count": null,
   "id": "607f5162-e727-4c01-9704-9efc6cfc1963",
   "metadata": {
    "deletable": false,
    "execution": {
     "iopub.execute_input": "2025-08-19T14:31:33.419045Z",
     "iopub.status.busy": "2025-08-19T14:31:33.418376Z",
     "iopub.status.idle": "2025-08-19T14:31:33.428228Z",
     "shell.execute_reply": "2025-08-19T14:31:33.426329Z"
    },
    "nbgrader": {
     "cell_type": "code",
     "checksum": "0853a10e89ea925c237ce3c823589fe7",
     "grade": false,
     "grade_id": "cell-593a38185a117cc7",
     "locked": false,
     "schema_version": 3,
     "solution": true,
     "task": false
    }
   },
   "outputs": [],
   "source": [
    "x = 0\n",
    "h = 0.2\n",
    "\n",
    "#-------------------------------------\n",
    "# SKRIV DIN KODE HER!\n",
    "#-------------------------------------"
   ]
  },
  {
   "cell_type": "code",
   "execution_count": null,
   "id": "e648de2d-e3ae-4741-b127-e02d47e2db55",
   "metadata": {
    "autofeedback": {
     "test_code": "ZnJvbSBhdXRvZmVlZGJhY2sgaW1wb3J0IENvZGVDZWxsVGVzdHMKCmFuc3dlcl9jZWxsX2luZGV4ID0gbGVuKEluKS0yCmFuc3dlcl9jZWxsX2NvbnRlbnRzID0gSW5bYW5zd2VyX2NlbGxfaW5kZXhdCgpncmFkaW5nX3Jlc3VsdHMgPSBDb2RlQ2VsbFRlc3RzKGFuc3dlcl9jZWxsX2NvbnRlbnRzLCBnbG9iYWxzPWdsb2JhbHMoKSwgbG9jYWxzPWxvY2FscygpKQpncmFkaW5nX3Jlc3VsdHMudGVzdF9vdXRwdXQociItMFsuXTYiLCBzYW1wbGU9Ii0wLjYwIiwgaWdub3JlX2NvZGVfbWF0Y2g9RmFsc2UpCmdyYWRpbmdfcmVzdWx0cy5yZXBsYWNlKHIiaFxzPz1ccz8wWy5dMlxzIiwgImggPSAwLjMgIikKZ3JhZGluZ19yZXN1bHRzLnRlc3Rfb3V0cHV0KHIiLTBbLl05Iiwgc2FtcGxlPSItMC45MCIsIGlnbm9yZV9jb2RlX21hdGNoPUZhbHNlKQpyb3VuZChncmFkaW5nX3Jlc3VsdHMuZ2V0X3Jlc3VsdHMoKSoyLCAyKQ=="
    },
    "deletable": false,
    "editable": false,
    "execution": {
     "iopub.execute_input": "2025-08-19T14:31:33.435533Z",
     "iopub.status.busy": "2025-08-19T14:31:33.434858Z",
     "iopub.status.idle": "2025-08-19T14:31:33.480854Z",
     "shell.execute_reply": "2025-08-19T14:31:33.479647Z"
    },
    "nbgrader": {
     "cell_type": "code",
     "checksum": "095307e9889182a5e68c581bb2f37a7b",
     "grade": true,
     "grade_id": "cell-78e48079be8a2911",
     "locked": true,
     "points": 2,
     "schema_version": 3,
     "solution": false,
     "task": false
    }
   },
   "outputs": [],
   "source": []
  },
  {
   "cell_type": "markdown",
   "id": "816663af-2067-4105-940f-b6d9501bc978",
   "metadata": {
    "deletable": false
   },
   "source": [
    "Vi vet at funksjonen $f(x) = x^2$ har et bunnpunkt i $x=0$, og at den eksakte deriverte er $f'(0)=0$. Det vi ser fra deloppgave **b)** og **c)** er at foroverdifferanse gir en tilnærming som i dette tilfellet ligger over den eksakte verdien, og bakoverdifferanse gir en tilnærming som ligger litt under den eksakte verdien. Med den siste metoden for numerisk derivasjon, altså senterdifferanse, regner mat i praksis ut gjennomsnittet av foroverdifferanse og bakoverdifferanse, noe som i de aller fleste tilfeller gir en mer presis tilnærming."
   ]
  },
  {
   "cell_type": "markdown",
   "id": "7ecf88ba-db52-4c7d-85e8-be8742899c75",
   "metadata": {
    "deletable": false
   },
   "source": [
    "<a id=\"oppg_1d\"></a>\n",
    "## d)\n",
    "\n",
    "Bruk python til å finne en tilnærmet verdi for den tidsderiverte $y'(0)$ med senterdifferanse gitt en skrittlengde $h=0.2$. Resultatene skal skrives ut med bruk av `print()`.\n",
    "\n",
    "**Eksempel på utskrift:** <br>\n",
    "`Resultat senterdifferanse med h=0.2: f'(0) ≈ _.__`"
   ]
  },
  {
   "cell_type": "code",
   "execution_count": null,
   "id": "3cd71e21-374a-4add-96b3-b469c2651931",
   "metadata": {
    "deletable": false,
    "execution": {
     "iopub.execute_input": "2025-08-19T14:31:33.489016Z",
     "iopub.status.busy": "2025-08-19T14:31:33.488204Z",
     "iopub.status.idle": "2025-08-19T14:31:33.496715Z",
     "shell.execute_reply": "2025-08-19T14:31:33.495465Z"
    },
    "nbgrader": {
     "cell_type": "code",
     "checksum": "06661dcd4d54a6b3d8af29397d10e90d",
     "grade": false,
     "grade_id": "cell-82c11c3c4d357299",
     "locked": false,
     "schema_version": 3,
     "solution": true,
     "task": false
    }
   },
   "outputs": [],
   "source": [
    "x = 0\n",
    "h = 0.2\n",
    "\n",
    "#-------------------------------------\n",
    "# SKRIV DIN KODE HER!\n",
    "#-------------------------------------"
   ]
  },
  {
   "cell_type": "code",
   "execution_count": null,
   "id": "56deddbd-f52f-4c6d-bbc2-9b79b3bdc998",
   "metadata": {
    "autofeedback": {
     "test_code": "ZnJvbSBhdXRvZmVlZGJhY2sgaW1wb3J0IENvZGVDZWxsVGVzdHMKCmFuc3dlcl9jZWxsX2luZGV4ID0gbGVuKEluKS0yCmFuc3dlcl9jZWxsX2NvbnRlbnRzID0gSW5bYW5zd2VyX2NlbGxfaW5kZXhdCgpncmFkaW5nX3Jlc3VsdHMgPSBDb2RlQ2VsbFRlc3RzKGFuc3dlcl9jZWxsX2NvbnRlbnRzLCBnbG9iYWxzPWdsb2JhbHMoKSwgbG9jYWxzPWxvY2FscygpKQpncmFkaW5nX3Jlc3VsdHMudGVzdF9vdXRwdXQociIwWy5dMCIsIHNhbXBsZT0iMC42MCIsIGlnbm9yZV9jb2RlX21hdGNoPUZhbHNlKQpncmFkaW5nX3Jlc3VsdHMucmVwbGFjZShyInhccz89XHM/MFsuXT8wPyIsICJ4ID0gMS4yICIpCmdyYWRpbmdfcmVzdWx0cy50ZXN0X291dHB1dChyIjdbLl0yIiwgc2FtcGxlPSI3LjIwIiwgaWdub3JlX2NvZGVfbWF0Y2g9RmFsc2UpCnJvdW5kKGdyYWRpbmdfcmVzdWx0cy5nZXRfcmVzdWx0cygpKjIsIDIp"
    },
    "deletable": false,
    "editable": false,
    "execution": {
     "iopub.execute_input": "2025-08-19T14:31:33.503618Z",
     "iopub.status.busy": "2025-08-19T14:31:33.502962Z",
     "iopub.status.idle": "2025-08-19T14:31:33.525083Z",
     "shell.execute_reply": "2025-08-19T14:31:33.523247Z"
    },
    "nbgrader": {
     "cell_type": "code",
     "checksum": "fbe40c406e0954756524366a47d766be",
     "grade": true,
     "grade_id": "cell-f39afea249651779",
     "locked": true,
     "points": 2,
     "schema_version": 3,
     "solution": false,
     "task": false
    }
   },
   "outputs": [],
   "source": []
  },
  {
   "cell_type": "markdown",
   "id": "ef946275-9397-471f-aacd-214bf2f007f2",
   "metadata": {
    "deletable": false
   },
   "source": [
    "### Mer om klassisk fysikk\n",
    "\n",
    "<img src=\"Figurer/Shelf.png\"  style=\"width: 400px; margin-left: 10%\" />\n",
    "\n",
    "\n",
    "En kule faller ned fra en hylle med høyde $10$ meter over bakken. Gitt en tyngdekraftsakselerajson $g=9.81\\ ^m/s^2$ og at det ikke er noe luftmotstand, kan kulens vertikale posisjon $y(t)$ frem til den treffer bakken beskrives som en kvadratisk funksjon av tid: \n",
    "\n",
    "$$y(t) = 10 - \\frac{g}{2} \\cdot t^2 $$\n",
    "\n",
    "\n"
   ]
  },
  {
   "cell_type": "markdown",
   "id": "7d51a1b9-768f-483a-aab9-0e7cf948a7b8",
   "metadata": {
    "deletable": false
   },
   "source": [
    "<a id=\"oppg_1e\"></a>\n",
    "## e)\n",
    "Bruk python til å finne en tilnærmet verdi for den tidsderiverte $y'(1)$, dvs. hastigheten til kulen etter $1$ sekund, med senterdifferanse gitt en skrittlengde $h=0.5$. Resultatene skal skrives ut med bruk av `print()` og to desimalers nøyaktighet.\n",
    "\n",
    "**Eksempel på utskrift:** <br>\n",
    "`Resultat senterdifferanse med h=0.5: y'(1.00) ≈ ____m/s^2`"
   ]
  },
  {
   "cell_type": "code",
   "execution_count": null,
   "id": "0fa016a4-6476-42a8-8c8d-3aa74b2fe1d1",
   "metadata": {
    "deletable": false,
    "execution": {
     "iopub.execute_input": "2025-08-19T14:31:33.531596Z",
     "iopub.status.busy": "2025-08-19T14:31:33.531131Z",
     "iopub.status.idle": "2025-08-19T14:31:33.571715Z",
     "shell.execute_reply": "2025-08-19T14:31:33.538421Z"
    },
    "nbgrader": {
     "cell_type": "code",
     "checksum": "98786032ca5e5fe353a8331dfe2896d0",
     "grade": false,
     "grade_id": "cell-ca394cba400e7956",
     "locked": false,
     "schema_version": 3,
     "solution": true,
     "task": false
    }
   },
   "outputs": [],
   "source": [
    "t = 1\n",
    "h = 0.5\n",
    "\n",
    "def y(t):\n",
    "    g = 9.81\n",
    "    return 10 - g/2*t**2\n",
    "\n",
    "#-------------------------------------\n",
    "# SKRIV DIN KODE HER!\n",
    "#-------------------------------------"
   ]
  },
  {
   "cell_type": "code",
   "execution_count": null,
   "id": "a5e72e8a-d04e-44a5-8098-c78b3d37cca5",
   "metadata": {
    "autofeedback": {
     "test_code": "ZnJvbSBhdXRvZmVlZGJhY2sgaW1wb3J0IENvZGVDZWxsVGVzdHMKCmFuc3dlcl9jZWxsX2luZGV4ID0gbGVuKEluKS0yCmFuc3dlcl9jZWxsX2NvbnRlbnRzID0gSW5bYW5zd2VyX2NlbGxfaW5kZXhdCgpncmFkaW5nX3Jlc3VsdHMgPSBDb2RlQ2VsbFRlc3RzKGFuc3dlcl9jZWxsX2NvbnRlbnRzLCBnbG9iYWxzPWdsb2JhbHMoKSwgbG9jYWxzPWxvY2FscygpKQpncmFkaW5nX3Jlc3VsdHMudGVzdF9vdXRwdXQociItOVsuXTgxIiwgc2FtcGxlPSItOS44MSIsIGlnbm9yZV9jb2RlX21hdGNoPUZhbHNlKQpncmFkaW5nX3Jlc3VsdHMucmVwbGFjZShyInRccz89XHM/MVsuXT8wPyIsICJ0ID0gMiAiKQpncmFkaW5nX3Jlc3VsdHMudGVzdF9vdXRwdXQociItMTlbLl02Iiwgc2FtcGxlPSItMTkuNiIsIGlnbm9yZV9jb2RlX21hdGNoPUZhbHNlKQpyb3VuZChncmFkaW5nX3Jlc3VsdHMuZ2V0X3Jlc3VsdHMoKSoyLCAyKQ=="
    },
    "deletable": false,
    "editable": false,
    "execution": {
     "iopub.execute_input": "2025-08-19T14:31:33.579312Z",
     "iopub.status.busy": "2025-08-19T14:31:33.578611Z",
     "iopub.status.idle": "2025-08-19T14:31:33.602344Z",
     "shell.execute_reply": "2025-08-19T14:31:33.600592Z"
    },
    "nbgrader": {
     "cell_type": "code",
     "checksum": "bfe94bb2d7c0d01ae95107aed608e648",
     "grade": true,
     "grade_id": "cell-a3ea7229b8457381",
     "locked": true,
     "points": 2,
     "schema_version": 3,
     "solution": false,
     "task": false
    }
   },
   "outputs": [],
   "source": []
  },
  {
   "cell_type": "markdown",
   "id": "9cd4e7b7-04dd-45eb-9f28-9b1ee8579270",
   "metadata": {
    "deletable": false
   },
   "source": [
    "\n",
    "Vi har nå sett på hvordan man enkelt kan finne en tilnærmet verdi til den deriverte til en funksjon $f(x)$ gitt én bestemt verdi for $x$. Men, noe som kan være mer aktuelt er å kunne utføre numerisk derivasjon på for mange verdier av $x$ samtidig, og det er her nytten av Python virkelig kommer til syne. For å klare dette, må vi lære mer om hvordan en variabel kan inneholde mange ulike tallverdier istedenfor bare én. Et eksempel på en slik variabel er en `liste`, som vi skal se nærmere på i neste oppgave.\n",
    "\n"
   ]
  },
  {
   "cell_type": "markdown",
   "id": "9cf3df2c-36e8-45aa-ad52-179cf7b1d0cf",
   "metadata": {
    "deletable": false,
    "editable": false
   },
   "source": [
    "<br>\n",
    "<nav class=\"navbar navbar-default\">\n",
    "    <div class=\"container-fluid\">\n",
    "        <div class=\"navbar-header\" style=\"float: right\">\n",
    "            <a class=\"navbar-brand\" href=\"2_Intro_til_lister.ipynb\" target=\"_self\">Neste side: <i>intro til lister</i> &gt;</a>\n",
    "        </div>\n",
    "    </div>\n",
    "</nav>"
   ]
  }
 ],
 "metadata": {
  "kernelspec": {
   "display_name": "Python 3 (ipykernel)",
   "language": "python",
   "name": "python3"
  },
  "language_info": {
   "codemirror_mode": {
    "name": "ipython",
    "version": 3
   },
   "file_extension": ".py",
   "mimetype": "text/x-python",
   "name": "python",
   "nbconvert_exporter": "python",
   "pygments_lexer": "ipython3",
   "version": "3.12.11"
  }
 },
 "nbformat": 4,
 "nbformat_minor": 5
}
