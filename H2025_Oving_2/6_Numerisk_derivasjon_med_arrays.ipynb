{
 "cells": [
  {
   "cell_type": "markdown",
   "id": "efcb4682-f1e0-49d8-a4a1-92d34e8f61c0",
   "metadata": {
    "deletable": false,
    "slideshow": {
     "slide_type": ""
    },
    "tags": []
   },
   "source": [
    "\n",
    "<nav class=\"navbar navbar-default\">\n",
    "  <div class=\"container-fluid\">\n",
    "    <div class=\"navbar-header\" style=\"float: left\">\n",
    "        <a class=\"navbar-brand\" href=\"0_Forside.ipynb\" target=\"_self\"> <h2> &uarr; Tilbake til forsiden</h2></a>\n",
    "    </div>\n",
    "  </div>\n",
    "</nav>"
   ]
  },
  {
   "cell_type": "markdown",
   "id": "d1bf0c68-d944-46f0-a853-2a984f3f45b0",
   "metadata": {
    "deletable": false
   },
   "source": [
    "# Numerisk derivasjon med `arrays`\n",
    "\n",
    "**Læringsmål:**\n",
    "* Erfare hvordan vi kan bruke `numpy` til å utføre numeriske beregninger på større datasett\n",
    "* Få forståelse for konseptene **absolutt feil** og **relativ feil**\n",
    "\n",
    "**Oversikt:**\n",
    "* [Oppgave a) numerisk derivasjon med arrays](#oppg_6a)\n",
    "* [Oppgave b) absolutt feil](#oppg_6b)\n",
    "* [Oppgave c) relativ feil](#oppg_6c)\n",
    "\n",
    "\n",
    "\n",
    "I deloppgave 1 lærte vi hvordan man kunne bruke numeriske derivasjonsmetoder for å finne en tilnærmet verdi til den deriverte av en funksjon $f(x)$ for en bestemt verdi av $x$. I denne oppgaven skal vi ta i bruk det vi har lært om `arrays` til å utføre numerisk derivasjon for mange verdier av $x$ samtidig, og bruke plotting til å representere resultatet fra de numeriske beregningene grafisk.\n",
    "\n",
    "Vi skal ta for oss følgende funksjonsyttrykk for funksjonen $f(x)$ og dens deriverte $f'(x)$:\n",
    "\n",
    "$$f(x) = e^{x} + e^{-x}$$\n",
    "\n",
    "$$f'(x) = e^{x} - e^{-x}$$\n",
    "\n",
    "Kodecellen nedenfor vil generere et plot som viser både $f(x)$ og $f'(x)$ i samme figur."
   ]
  },
  {
   "cell_type": "code",
   "execution_count": null,
   "id": "c06b12aa-80b1-4a0c-91b9-2110760bfdba",
   "metadata": {
    "deletable": false,
    "execution": {
     "iopub.execute_input": "2025-08-27T09:15:12.379637Z",
     "iopub.status.busy": "2025-08-27T09:15:12.379100Z",
     "iopub.status.idle": "2025-08-27T09:15:13.153177Z",
     "shell.execute_reply": "2025-08-27T09:15:13.151845Z"
    }
   },
   "outputs": [],
   "source": [
    "import numpy as np\n",
    "import matplotlib.pyplot as plt\n",
    "\n",
    "x = np.linspace(0, 2, 101)\n",
    "\n",
    "def f(x):\n",
    "    return np.exp(x) + np.exp(-x)\n",
    "\n",
    "def df_dx(x):\n",
    "    return np.exp(x) - np.exp(-x)\n",
    "    \n",
    "plt.figure()\n",
    "plt.plot(x, f(x), label=\"f(x)\")\n",
    "plt.plot(x, df_dx(x), label=\"f´(x)\")\n",
    "plt.legend()"
   ]
  },
  {
   "cell_type": "markdown",
   "id": "8d0e3768-c173-4590-9017-976204deedb3",
   "metadata": {
    "deletable": false
   },
   "source": [
    "Noe som kommer godt med i denne oppgaven er muligheten til å bruke `arrays` i matematiske uttrykk på nøyaktig samme måte som vanlige tallvariabler. Dette betyr at pythonkoden for å utføre numerisk derivasjon vil være nøyaktig den samme som i oppgave **1)**. \n",
    "\n"
   ]
  },
  {
   "cell_type": "markdown",
   "id": "c26538bd-24f3-4008-bf8c-abaa54eba778",
   "metadata": {
    "deletable": false
   },
   "source": [
    "<a id=\"oppg_6a\"></a>\n",
    "## a) \n",
    "\n",
    "I kodecellen nedenfor bruker vi python til å plotte den eksakte verdien til $f'(x)$ for $x \\in (0, 2)$ som en striplet linje (dere vil lære mer om hvordan man kan tilpasse linjestil osv. i et plott i neste oppgave).  Bruk nå foroverdifferanse, bakoverdifferanse og senterdifferanse til å finne en numerisk tilnærming av $f'(x)$ for de samme verdiene av $x$. Skrittlengden skal være $h = 0.2$, og kurvene til de tre forskjellige tilnærmingene til $f'(x)$ skal vises i samme figur."
   ]
  },
  {
   "cell_type": "code",
   "execution_count": null,
   "id": "4ace576e-67ef-473d-877c-8c863c828a0d",
   "metadata": {
    "autofeedback": {
     "plot_task": true
    },
    "deletable": false,
    "execution": {
     "iopub.execute_input": "2025-08-27T09:15:13.159444Z",
     "iopub.status.busy": "2025-08-27T09:15:13.158998Z",
     "iopub.status.idle": "2025-08-27T09:15:13.391203Z",
     "shell.execute_reply": "2025-08-27T09:15:13.389800Z"
    },
    "nbgrader": {
     "cell_type": "code",
     "checksum": "0d5b9549f6d1054938769a205f98b463",
     "grade": false,
     "grade_id": "cell-88e5ba28ee3ab52c",
     "locked": false,
     "schema_version": 3,
     "solution": true,
     "task": false
    }
   },
   "outputs": [],
   "source": [
    "import numpy as np\n",
    "import matplotlib.pyplot as plt\n",
    "\n",
    "x = np.linspace(0, 2, 101)\n",
    "\n",
    "plt.figure()\n",
    "plt.plot(x, df_dx(x), \":\", label = \"f´(x)\") # Plotter den eksakte kurven til f´(x) som en striplet linje.\n",
    "\n",
    "h = 0.2 # Skrittlengde for numerisk derivasjon\n",
    "#-------------------------------------\n",
    "# SKRIV DIN KODE HER!\n",
    "#-------------------------------------\n",
    "\n",
    "plt.legend()"
   ]
  },
  {
   "cell_type": "markdown",
   "id": "19500735-6cee-4576-99ee-03cd61c265e7",
   "metadata": {
    "deletable": false
   },
   "source": [
    "Har du løst oppgaven riktig så skal det ferdige plottet se noe [slik](Figurer/oppg6a_LF.png) ut. "
   ]
  },
  {
   "cell_type": "code",
   "execution_count": null,
   "id": "512d1bce-eaba-4430-ab58-593b4d48d5b7",
   "metadata": {
    "autofeedback": {
     "test_code": "ZnJvbSBhdXRvZmVlZGJhY2sgaW1wb3J0IFRlc3RDbGFzcywgUGxvdENoZWNrZXIKaW1wb3J0IG51bXB5IGFzIG5wCmRlZiB0ZXN0X3JvdXRpbmUoKToKICAgIGg9MC4yCiAgICB0ZXN0X3Jlc3VsdHMgPSBQbG90Q2hlY2tlcihmaWc9ZmlnKQogICAgaWYgdGVzdF9yZXN1bHRzLmNoZWNrX251bV9saW5lcyhleHBlY3RlZF9udW1fbGluZXM9NCwgd2d0PTEuMCk6CiAgICAgICAgZGVmIGYoeCk6CiAgICAgICAgICAgIHJldHVybiBucC5leHAoeCkgKyBucC5leHAoLXgpCiAgICAgICAgZGVmIGRmX2R4KHgpOgogICAgICAgICAgICByZXR1cm4gbnAuZXhwKHgpIC0gbnAuZXhwKC14KQogICAgICAgIGRlZiBjbnRyX2RpZmYoeCwgaD1oKToKICAgICAgICAgICAgcmV0dXJuIChmKHgraCkgLSBmKHgtaCkpIC8gKDIqaCkKICAgICAgICBkZWYgZndkX2RpZmYoeCwgaD1oKToKICAgICAgICAgICAgcmV0dXJuIChmKHgraCkgLSBmKHgpKSAvIGgKICAgICAgICBkZWYgYmNrX2RpZmYoeCwgaD1oKToKICAgICAgICAgICAgcmV0dXJuIChmKHgpIC0gZih4LWgpKSAvIGgKICAgICAgICB0ZXN0X3Jlc3VsdHMudGVzdF9mdW5jdGlvbl9zZXQoW2NudHJfZGlmZiwgZndkX2RpZmYsIGJja19kaWZmXSwgCiAgICAgICAgICAgICAgICAgICAgICAgICAgICAgICAgICAgICAgICBbIlNlbnRlcmRpZmZlcmFuc2UiLCAiRm9yb3ZlcmRpZmZlcmFuc2UiLCAiQmFrb3ZlcmRpZmZlcmFuc2UiXSwKICAgICAgICAgICAgICAgICAgICAgICAgICAgICAgICAgICAgICAgIGF0b2w9MWUtNiwgcnRvbD0xZS0zLCB3Z3Q9Mi4wKQoKICAgIHJldHVybiByb3VuZCh0ZXN0X3Jlc3VsdHMuZ2V0X3Jlc3VsdHMoKSozLCAyKQp0ZXN0X3JvdXRpbmUoKQo="
    },
    "deletable": false,
    "editable": false,
    "execution": {
     "iopub.execute_input": "2025-08-27T09:15:13.396450Z",
     "iopub.status.busy": "2025-08-27T09:15:13.396077Z",
     "iopub.status.idle": "2025-08-27T09:15:15.615157Z",
     "shell.execute_reply": "2025-08-27T09:15:15.613367Z"
    },
    "nbgrader": {
     "cell_type": "code",
     "checksum": "a1607581ad3f6c644c476e550fbc5aec",
     "grade": true,
     "grade_id": "cell-33459fd61498f04c",
     "locked": true,
     "points": 3,
     "schema_version": 3,
     "solution": false,
     "task": false
    }
   },
   "outputs": [],
   "source": []
  },
  {
   "cell_type": "markdown",
   "id": "edc8a629-a40c-497c-b842-362afeaad5ae",
   "metadata": {
    "deletable": false
   },
   "source": [
    "\n",
    "\n",
    "Som vi ser, så gir de tre forskjellige numeriske derivasjonsmetodene litt ulike kurver. Foroverdifferanse gir et resultat som er litt for høyt, bakoverdifferanse gir et resultat som er litt for lavt, og senterdifferanse gir tilsynelatende *nesten* riktig resultat. \n",
    "\n",
    "### Absolutt feil\n",
    "\n",
    "Absolutt feil er et mål på hvor stort avviket er mellom mellom tilnærmet verdi og eksakt verdi. Gitt to tall $x$ og $y$, vil $|x-y|$ gi den totale \"avstanden\" mellom de to tallene. I vårt tilfelle kan vi si at numerisk derivasjon har produsert et *estimat* $\\hat{f'}(x)$ av hva den eksakte deriverte $f'(x)$ (trekanthatten $\\large \\hat{ }$ representerer at det er en estimert verdi) er for en gitt verdi av $x$. Den absolutte feilen blir da:\n",
    "\n",
    "$$\\text{absolutt feil} = \\bigg| \\hat{f'}(x) - f'(x) \\bigg|$$"
   ]
  },
  {
   "cell_type": "markdown",
   "id": "104e0b38-16a5-481b-946e-2585980211f2",
   "metadata": {
    "deletable": false
   },
   "source": [
    "<a id=\"oppg_6b\"></a>\n",
    "## b)\n",
    "\n",
    "Lag et plot som viser den absolutte feilen ved numerisk derivasjon av $f(x) = e^x + e^-x$ for $x \\in (0, 2)$ for foroverdifferanse, bakoverdifferanse og senterdifferanse. Skrittlengden er fortsatt $h=0.2$."
   ]
  },
  {
   "cell_type": "code",
   "execution_count": null,
   "id": "0e072463-0210-4ad6-b23d-119cd4d16e7d",
   "metadata": {
    "autofeedback": {
     "plot_task": true
    },
    "deletable": false,
    "execution": {
     "iopub.execute_input": "2025-08-27T09:15:15.621846Z",
     "iopub.status.busy": "2025-08-27T09:15:15.621349Z",
     "iopub.status.idle": "2025-08-27T09:15:15.796591Z",
     "shell.execute_reply": "2025-08-27T09:15:15.794942Z"
    },
    "nbgrader": {
     "cell_type": "code",
     "checksum": "fe218c2171178dd1aee450c3a05a8ee3",
     "grade": false,
     "grade_id": "cell-c64456bcfbd70bc9",
     "locked": false,
     "schema_version": 3,
     "solution": true,
     "task": false
    }
   },
   "outputs": [],
   "source": [
    "import numpy as np\n",
    "import matplotlib.pyplot as plt\n",
    "\n",
    "x = np.linspace(1, 2, 101)\n",
    "h = 0.2\n",
    "\n",
    "#-------------------------------------\n",
    "# SKRIV DIN KODE HER!\n",
    "#-------------------------------------"
   ]
  },
  {
   "cell_type": "markdown",
   "id": "1718470b-10f8-4c10-98ac-04ff90d4d24a",
   "metadata": {
    "deletable": false
   },
   "source": [
    "Har du løst oppgaven riktig så skal det ferdige plottet se noe [slik](Figurer/oppg6b_LF.png) ut."
   ]
  },
  {
   "cell_type": "code",
   "execution_count": null,
   "id": "294e62e9",
   "metadata": {
    "autofeedback": {
     "test_code": "ZnJvbSBhdXRvZmVlZGJhY2sgaW1wb3J0IFRlc3RDbGFzcywgUGxvdENoZWNrZXIKaW1wb3J0IG51bXB5IGFzIG5wCmRlZiB0ZXN0X3JvdXRpbmUoKToKICAgIGg9MC4yCiAgICB0ZXN0X3Jlc3VsdHMgPSBQbG90Q2hlY2tlcihmaWc9ZmlnKQogICAgaWYgdGVzdF9yZXN1bHRzLmNoZWNrX251bV9saW5lcyhleHBlY3RlZF9udW1fbGluZXM9Mywgd2d0PTEuMCk6CiAgICAgICAgZGVmIGYoeCk6CiAgICAgICAgICAgIHJldHVybiBucC5leHAoeCkgKyBucC5leHAoLXgpCiAgICAgICAgZGVmIGRmX2R4KHgpOgogICAgICAgICAgICByZXR1cm4gbnAuZXhwKHgpIC0gbnAuZXhwKC14KQogICAgICAgIGRlZiBjbnRyX2RpZmYoeCwgaD1oKToKICAgICAgICAgICAgcmV0dXJuIChmKHgraCkgLSBmKHgtaCkpIC8gKDIqaCkKICAgICAgICBkZWYgZndkX2RpZmYoeCwgaD1oKToKICAgICAgICAgICAgcmV0dXJuIChmKHgraCkgLSBmKHgpKSAvIGgKICAgICAgICBkZWYgYmNrX2RpZmYoeCwgaD1oKToKICAgICAgICAgICAgcmV0dXJuIChmKHgpIC0gZih4LWgpKSAvIGgKICAgICAgICAKICAgICAgICBkZWYgYWJzX2Vycl9md2QoeCwgaD1oKToKICAgICAgICAgICAgcmV0dXJuIG5wLmFicyhmd2RfZGlmZih4LCBoKSAtIGRmX2R4KHgpKQogICAgICAgIGRlZiBhYnNfZXJyX2Jjayh4LCBoPWgpOiAKICAgICAgICAgICAgcmV0dXJuIG5wLmFicyhiY2tfZGlmZih4LCBoKSAtIGRmX2R4KHgpKQogICAgICAgIGRlZiBhYnNfZXJyX2NudHIoeCwgaD1oKToKICAgICAgICAgICAgcmV0dXJuIG5wLmFicyhjbnRyX2RpZmYoeCwgaCkgLSBkZl9keCh4KSkKICAgICAgICAKICAgICAgICAKICAgICAgICB0ZXN0X3Jlc3VsdHMudGVzdF9mdW5jdGlvbl9zZXQoW2Fic19lcnJfZndkLCBhYnNfZXJyX2JjaywgYWJzX2Vycl9jbnRyXSwKICAgICAgICAgICAgICAgICAgICAgICAgICAgICAgICAgICAgICAgIFsiRm9yb3ZlcmRpZmZlcmFuc2UiLCAiQmFrb3ZlcmRpZmZlcmFuc2UiLCAiU2VudGVyZGlmZmVyYW5zZSJdLAogICAgICAgICAgICAgICAgICAgICAgICAgICAgICAgICAgICAgICAgYXRvbD0xZS02LCBydG9sPTFlLTMsIHdndD0yLjApCgogICAgcmV0dXJuIHJvdW5kKHRlc3RfcmVzdWx0cy5nZXRfcmVzdWx0cygpKjMsIDIpCnRlc3Rfcm91dGluZSgpCg=="
    },
    "deletable": false,
    "editable": false,
    "execution": {
     "iopub.execute_input": "2025-08-27T09:15:15.802628Z",
     "iopub.status.busy": "2025-08-27T09:15:15.802350Z",
     "iopub.status.idle": "2025-08-27T09:15:15.817383Z",
     "shell.execute_reply": "2025-08-27T09:15:15.815301Z"
    },
    "nbgrader": {
     "cell_type": "code",
     "checksum": "a334e8f4dc4a084aeb5408b3e6edffbf",
     "grade": true,
     "grade_id": "cell-fb3a74a006997fad",
     "locked": true,
     "points": 3,
     "schema_version": 3,
     "solution": false,
     "task": false
    }
   },
   "outputs": [],
   "source": []
  },
  {
   "cell_type": "markdown",
   "id": "07bfde98-9e96-4775-a531-dce1198bbe46",
   "metadata": {
    "deletable": false
   },
   "source": [
    "\n",
    "\n",
    "Som vi ser fra figuren, så er den absolutte feilen generelt mye lavere for senterdifferanse enn det vi ser i både foroverdifferanse og bakoverdifferanse. Noe som kjennetegner alle tre metodene er at den absolutte feilen vokser i takt med funksjonverdien $f(x)$. Dette betyr at absolutt feil ikke nødvendigvis er så nyttig til å fortelle hvor nøyaktig en tilnermet verdi er, fordi man trenger funksjonverdien $f(x)$ som kontekst. \n",
    "\n",
    "Dette er det samme som å si at $1\\ 000\\ 000\\ \\text{NOK}$ vil være en enorm feilmargin dersom man vil estimere prisen på en bil, men ubetydelig i kontekst av f.eks. Brutto Nasjonalprodukt for et industrialisert land.\n",
    "\n",
    "### Relativ feil\n",
    "Relativ feil er et mål på hvor stort avviket er mellom mellom tilnærmet verdi og eksakt verdi *relativ til den eksakte verdien*. Relativ feil er med andre ord lik absolutt feil delt på eksakt verdi. For vårt tilfelle der vi har en numerisk tilnærming til den deriverte av en funksjon $\\hat{f'}(x)$ og en eksakt verdi $f'(x)$, så er uttrykket for relativ feil følgende:\n",
    "\n",
    "\n",
    "$$\\text{relativ feil} = \\left|\\frac{\\hat{f'}(x) - f'(x)}{f'(x)} \\right|$$"
   ]
  },
  {
   "cell_type": "markdown",
   "id": "b6f583e7-8b93-46cc-9f0a-905e65354be1",
   "metadata": {
    "deletable": false
   },
   "source": [
    "<a id=\"oppg_6c\"></a>\n",
    "## c)\n",
    "\n",
    "Lag et plot som viser den relative feilen ved numerisk derivasjon av $f(x) = e^x + e^-x$ for $x \\in (0, 2)$ for foroverdifferanse, bakoverdifferanse og senterdifferanse. Skrittlengden er fortsatt $h=0.2$."
   ]
  },
  {
   "cell_type": "code",
   "execution_count": null,
   "id": "b61cca56-6664-438e-b8c3-84abe0c99144",
   "metadata": {
    "autofeedback": {
     "plot_task": true
    },
    "deletable": false,
    "execution": {
     "iopub.execute_input": "2025-08-27T09:15:15.823445Z",
     "iopub.status.busy": "2025-08-27T09:15:15.823154Z",
     "iopub.status.idle": "2025-08-27T09:15:16.026367Z",
     "shell.execute_reply": "2025-08-27T09:15:16.025127Z"
    },
    "nbgrader": {
     "cell_type": "code",
     "checksum": "4138788e2a1af0dc2a5373b230e5e527",
     "grade": false,
     "grade_id": "cell-cb5f8dd2916e0e0b",
     "locked": false,
     "schema_version": 3,
     "solution": true,
     "task": false
    }
   },
   "outputs": [],
   "source": [
    "import numpy as np\n",
    "import matplotlib.pyplot as plt\n",
    "\n",
    "x = np.linspace(0.00, 2, 101)\n",
    "h = 0.2\n",
    "\n",
    "#-------------------------------------\n",
    "# SKRIV DIN KODE HER!\n",
    "#-------------------------------------"
   ]
  },
  {
   "cell_type": "markdown",
   "id": "23a09dbb-62c5-4471-bff1-5224efde4f56",
   "metadata": {
    "deletable": false
   },
   "source": [
    "Har du løst oppgaven riktig så skal det ferdige plottet se noe [slik](Figurer/oppg6c_LF.png) ut. "
   ]
  },
  {
   "cell_type": "code",
   "execution_count": null,
   "id": "3671ea90-ed87-47c3-851f-343412858f3d",
   "metadata": {
    "autofeedback": {
     "test_code": "ZnJvbSBhdXRvZmVlZGJhY2sgaW1wb3J0IFRlc3RDbGFzcywgUGxvdENoZWNrZXIKaW1wb3J0IG51bXB5IGFzIG5wCmRlZiB0ZXN0X3JvdXRpbmUoKToKICAgIGg9MC4yCiAgICB0ZXN0X3Jlc3VsdHMgPSBQbG90Q2hlY2tlcihmaWc9ZmlnKQogICAgaWYgdGVzdF9yZXN1bHRzLmNoZWNrX251bV9saW5lcyhleHBlY3RlZF9udW1fbGluZXM9Mywgd2d0PTEuMCk6CiAgICAgICAgZGVmIGYoeCk6CiAgICAgICAgICAgIHJldHVybiBucC5leHAoeCkgKyBucC5leHAoLXgpCiAgICAgICAgZGVmIGRmX2R4KHgpOgogICAgICAgICAgICByZXR1cm4gbnAuZXhwKHgpIC0gbnAuZXhwKC14KQogICAgICAgIGRlZiBjbnRyX2RpZmYoeCwgaD1oKToKICAgICAgICAgICAgcmV0dXJuIChmKHgraCkgLSBmKHgtaCkpIC8gKDIqaCkKICAgICAgICBkZWYgZndkX2RpZmYoeCwgaD1oKToKICAgICAgICAgICAgcmV0dXJuIChmKHgraCkgLSBmKHgpKSAvIGgKICAgICAgICBkZWYgYmNrX2RpZmYoeCwgaD1oKToKICAgICAgICAgICAgcmV0dXJuIChmKHgpIC0gZih4LWgpKSAvIGgKICAgICAgICAKICAgICAgICBkZWYgcmVsX2Vycl9md2QoeCwgaD1oKToKICAgICAgICAgICAgd2l0aCBucC5lcnJzdGF0ZShkaXZpZGU9J2lnbm9yZScpOgogICAgICAgICAgICAgICAgcmV0dXJuIG5wLmFicygoZndkX2RpZmYoeCwgaCkgLSBkZl9keCh4KSkvZGZfZHgoeCkpIAogICAgICAgIGRlZiByZWxfZXJyX2Jjayh4LCBoPWgpOiAKICAgICAgICAgICAgd2l0aCBucC5lcnJzdGF0ZShkaXZpZGU9J2lnbm9yZScpOgogICAgICAgICAgICAgICAgcmV0dXJuIG5wLmFicygoYmNrX2RpZmYoeCwgaCkgLSBkZl9keCh4KSkvZGZfZHgoeCkpCiAgICAgICAgZGVmIHJlbF9lcnJfY250cih4LCBoPWgpOgogICAgICAgICAgICB3aXRoIG5wLmVycnN0YXRlKGRpdmlkZT0naWdub3JlJywgaW52YWxpZD0naWdub3JlJyk6CiAgICAgICAgICAgICAgICByZXR1cm4gbnAuYWJzKChjbnRyX2RpZmYoeCwgaCkgLSBkZl9keCh4KSkvZGZfZHgoeCkpCiAgICAgICAgd2l0aCBucC5lcnJzdGF0ZShpbnZhbGlkPSdpZ25vcmUnKToKICAgICAgICAgICAgdGVzdF9yZXN1bHRzLnRlc3RfZnVuY3Rpb25fc2V0KFtyZWxfZXJyX2Z3ZCwgcmVsX2Vycl9iY2ssIHJlbF9lcnJfY250cl0sCiAgICAgICAgICAgICAgICAgICAgICAgICAgICAgICAgICAgICAgICAgICAgWyJGb3JvdmVyZGlmZmVyYW5zZSIsICJCYWtvdmVyZGlmZmVyYW5zZSIsICJTZW50ZXJkaWZmZXJhbnNlIl0sCiAgICAgICAgICAgICAgICAgICAgICAgICAgICAgICAgICAgICAgICAgICAgYXRvbD0xZS02LCBydG9sPTFlLTMsIHdndD0yLjApCgogICAgcmV0dXJuIHJvdW5kKHRlc3RfcmVzdWx0cy5nZXRfcmVzdWx0cygpKjQsIDIpCnRlc3Rfcm91dGluZSgpCg=="
    },
    "deletable": false,
    "editable": false,
    "execution": {
     "iopub.execute_input": "2025-08-27T09:15:16.032995Z",
     "iopub.status.busy": "2025-08-27T09:15:16.032681Z",
     "iopub.status.idle": "2025-08-27T09:15:16.049795Z",
     "shell.execute_reply": "2025-08-27T09:15:16.048106Z"
    },
    "nbgrader": {
     "cell_type": "code",
     "checksum": "43fada67be70b16d7fe08c81a78cd2f8",
     "grade": true,
     "grade_id": "cell-9e1a2d603b391a9e",
     "locked": true,
     "points": 4,
     "schema_version": 3,
     "solution": false,
     "task": false
    }
   },
   "outputs": [],
   "source": []
  },
  {
   "cell_type": "markdown",
   "id": "e8e72476-2fc6-47f6-b0e5-fb1452b98e8c",
   "metadata": {
    "deletable": false
   },
   "source": [
    "Har du løst oppgaven riktig så skal det ferdige plottet se noe [slik](Figurer/oppg6c_LF.png) ut. Legg merke til at relativ feil holder seg konstant når den eksakte verdien $f'(x)$ vokser, men at vi får problemer når $f'(x)$ nærmer seg $0$ i punktet $x=0$. Formelen for relativ feil medfører da at vi deler absolutt feil på $0$, og får en udefinert verdi for relativ feil."
   ]
  },
  {
   "cell_type": "markdown",
   "id": "84d28478-d747-4e1c-8428-a5b79c0c0b47",
   "metadata": {
    "deletable": false,
    "editable": true
   },
   "source": [
    "<br>\n",
    "<nav class=\"navbar navbar-default\">\n",
    "    <div class=\"container-fluid\">\n",
    "        <div class=\"navbar-header\" style=\"float: left\">\n",
    "            <a class=\"navbar-brand\" href=\"5_Plotting_1.ipynb\" target=\"_self\">Neste side: <i>plotting intro</i></a>\n",
    "            </div>\n",
    "        <div class=\"navbar-header\" style=\"float: right\">\n",
    "            <a class=\"navbar-brand\" href=\"7_Plotting_2.ipynb\" target=\"_self\">Neste side: <i>viderekommen plotting</i> &gt;</a>\n",
    "        </div>\n",
    "    </div>\n",
    "</nav>"
   ]
  }
 ],
 "metadata": {
  "kernelspec": {
   "display_name": "Python 3 (ipykernel)",
   "language": "python",
   "name": "python3"
  },
  "language_info": {
   "codemirror_mode": {
    "name": "ipython",
    "version": 3
   },
   "file_extension": ".py",
   "mimetype": "text/x-python",
   "name": "python",
   "nbconvert_exporter": "python",
   "pygments_lexer": "ipython3",
   "version": "3.12.11"
  }
 },
 "nbformat": 4,
 "nbformat_minor": 5
}
