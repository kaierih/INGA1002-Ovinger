{
 "cells": [
  {
   "cell_type": "markdown",
   "id": "90a83b5d",
   "metadata": {
    "deletable": false,
    "editable": false
   },
   "source": [
    "\n",
    "<nav class=\"navbar navbar-default\">\n",
    "  <div class=\"container-fluid\">\n",
    "    <div class=\"navbar-header\" style=\"float: left\">\n",
    "        <a class=\"navbar-brand\" href=\"0_Forside.ipynb\" target=\"_self\"> <h2> &uarr; Tilbake til forsiden</h2></a>\n",
    "    </div>\n",
    "  </div>\n",
    "</nav>"
   ]
  },
  {
   "cell_type": "markdown",
   "id": "89ad0fe4-5c54-4e90-a341-ba562a7aa6a3",
   "metadata": {
    "deletable": false
   },
   "source": [
    "# Plotting med bruk av matplotlib\n",
    "\n",
    "**Læringsmål:**\n",
    "* Bli kjent med funksjoner for å generere basis-arrays\n",
    "* Forståelse for når de forskjellige basis-arrayene er aktuelle\n",
    "\n",
    "**Oversikt:**\n",
    "* [Oppgave a) `plot()`-funksjonen](#oppg_6a)\n",
    "* [Oppgave b) oppløsning i grafer](#oppg_6b)\n",
    "* [Oppgave c) tilleggsinformasjon i grafer](#oppg_6c)\n",
    "\n",
    "### Introduksjon til matplotlib\n",
    "\n",
    "Når vi jobber numerisk i python kan det være veldig nyttig å plotte verdier. Et av de beste verktøyene for dette i python er matplotlib. Dette biblioteket er veldig lavterskel å bruke, samtidig som at det åpner opp for mye mer komplekse plot.\n",
    "\n",
    "Først må vi starte med å importere biblioteket, dette har vi gått gjennom tidligere men her er det en liten variasjon. Vi ønsker nemlig ikke hele biblioteket (ihvertfall ikke enda), vi skal derform importere bare en del av det. Nedenfor ser dere hvordan dere importerer deler av bibliotek. Disse også kan få navn av oss, og standard navngiving for matplotlib er `plt`"
   ]
  },
  {
   "cell_type": "code",
   "execution_count": null,
   "id": "396fef04-3abf-4142-95ae-fcc6fabbcd9a",
   "metadata": {
    "deletable": false,
    "execution": {
     "iopub.execute_input": "2025-08-19T14:31:58.518117Z",
     "iopub.status.busy": "2025-08-19T14:31:58.517306Z",
     "iopub.status.idle": "2025-08-19T14:31:59.224789Z",
     "shell.execute_reply": "2025-08-19T14:31:59.222713Z"
    }
   },
   "outputs": [],
   "source": [
    "import matplotlib.pyplot as plt"
   ]
  },
  {
   "cell_type": "markdown",
   "id": "49ef0924-ce8e-4250-9fdc-3400647490ce",
   "metadata": {
    "deletable": false
   },
   "source": [
    "Med dette kan vi plotte det meste, og nedenfor kan dere se et enkelt eksempel."
   ]
  },
  {
   "cell_type": "code",
   "execution_count": null,
   "id": "089248d6-c65e-45be-b127-dca12423a360",
   "metadata": {
    "deletable": false,
    "execution": {
     "iopub.execute_input": "2025-08-19T14:31:59.231408Z",
     "iopub.status.busy": "2025-08-19T14:31:59.230993Z",
     "iopub.status.idle": "2025-08-19T14:31:59.411737Z",
     "shell.execute_reply": "2025-08-19T14:31:59.410142Z"
    }
   },
   "outputs": [],
   "source": [
    "import numpy as np\n",
    "\n",
    "x_axis = np.array([1, 2, 3, 4, 5, 6, 7, 8, 9])\n",
    "plt.plot(x_axis)"
   ]
  },
  {
   "cell_type": "markdown",
   "id": "e48d11ff-45d9-453b-acc5-e2a190f7e8cb",
   "metadata": {
    "deletable": false
   },
   "source": [
    "Det virker kanskje som om `plt.plot` ikke er så nyttig, siden alle punktene kun har 1 mellom seg på x-aksen. Dette er feil. Funksjonen har faktisk et hav av muligheter! Vi kan for eksempel spesifisere punkter både på x-aksen og y-aksen ved å gi inn to lister til funksjonen.\n",
    "\n",
    "**Kjør koden under og prøv å endre verdiene for å se hva som skjer!** Prøv gjerne også å se hva som skjer hvis man har x-verdier som ikke er i stigende rekkefølge som nå."
   ]
  },
  {
   "cell_type": "code",
   "execution_count": null,
   "id": "70aed4af-58e4-41e8-b71d-1b9baa67b9af",
   "metadata": {
    "deletable": false,
    "execution": {
     "iopub.execute_input": "2025-08-19T14:31:59.417316Z",
     "iopub.status.busy": "2025-08-19T14:31:59.416997Z",
     "iopub.status.idle": "2025-08-19T14:31:59.541405Z",
     "shell.execute_reply": "2025-08-19T14:31:59.539748Z"
    }
   },
   "outputs": [],
   "source": [
    "import matplotlib.pyplot as plt\n",
    "import numpy as np \n",
    "\n",
    "x_verdier = np.array([2, 4, 8, 16])\n",
    "y_verdier = np.array([2, 4, 6, 8])\n",
    "plt.plot(x_verdier, y_verdier)"
   ]
  },
  {
   "cell_type": "markdown",
   "id": "b0f40020-13c0-4d2a-838d-eb3648dbdc7d",
   "metadata": {
    "deletable": false
   },
   "source": [
    "Det er også viktig å bli oppmerksom på hva som skjer om akse-argumentene vi sender inn har ulike lengde. Kjør kodecellen under og se at du får en feilmelding. Du trenger ikke å lese feilmeldingen."
   ]
  },
  {
   "cell_type": "code",
   "execution_count": null,
   "id": "c886043d-71a1-4764-b998-7125a95bff19",
   "metadata": {
    "deletable": false,
    "execution": {
     "iopub.execute_input": "2025-08-19T14:31:59.546941Z",
     "iopub.status.busy": "2025-08-19T14:31:59.546640Z",
     "iopub.status.idle": "2025-08-19T14:32:00.515813Z",
     "shell.execute_reply": "2025-08-19T14:32:00.513531Z"
    }
   },
   "outputs": [],
   "source": [
    "import matplotlib.pyplot as plt\n",
    "import numpy as np \n",
    "\n",
    "x_verdier = np.array([1, 2, 3])\n",
    "y_verdier = np.array([1, 2, 3, 4])\n",
    "plt.plot(x_verdier, y_verdier)"
   ]
  },
  {
   "cell_type": "markdown",
   "id": "0de5e62a-3099-4aff-aa13-b619bca6fd35",
   "metadata": {
    "deletable": false
   },
   "source": [
    "Du trenger ikke lese feilmeldingen, men du ser at den er veldig lang og kompleks. Etterhvert som man får flere og flere feilmeldinger vil man lære seg å skjønne hva de betyr, og hvordan man løser dem. Feilmeldingen over for eksempel har en kort setning helt nederst hvor det står `ValueError: x and y must have same first dimension, but have shapes (3,) and (4,)`. Denne linjen er egentlig alt man trenger i dette eksempelet for å skjønne at `x` og `y` må ha like mange elementer.\n",
    "\n",
    "### Plotting av funksjoner\n",
    "\n",
    "Vi kan også plotte funksjoner med hjelp av matplotlib. "
   ]
  },
  {
   "cell_type": "code",
   "execution_count": null,
   "id": "599bf994-dad4-4f3c-b7c9-27adb8752583",
   "metadata": {
    "deletable": false,
    "execution": {
     "iopub.execute_input": "2025-08-19T14:32:00.522603Z",
     "iopub.status.busy": "2025-08-19T14:32:00.522224Z",
     "iopub.status.idle": "2025-08-19T14:32:00.528516Z",
     "shell.execute_reply": "2025-08-19T14:32:00.527128Z"
    }
   },
   "outputs": [],
   "source": [
    "def f(x):\n",
    "    return x**2"
   ]
  },
  {
   "cell_type": "markdown",
   "id": "ef769184-50f1-41fa-bb10-b2dcc1124bcd",
   "metadata": {
    "deletable": false
   },
   "source": [
    "Når vi så har funksjonen vår, trenger vi x-verdier. Da kan vi bruke `numpy.linspace` for å lage x-verdiene våre, samt plotte funksjonen $f(x) = x^2$ i et gitt x-intervall. Etter vi har laget oss disse x-verdiene, kan vi lage y-verdier som er x-verdiene kjørt igjennom funksjonen `f(x)`. Deretter kan vi plotte resultatet.\n",
    "\n",
    "**Kjør koden nedenfor og se hva som skjer!**. Prøv også å endre både `f(x)` over, `start`, `stop` og `intervaller` for å se hvordan grafen endrer seg. Legg spesielt merke til hvordan grafen blir \"hakkete\" jo mindre `intervaller` vi har."
   ]
  },
  {
   "cell_type": "code",
   "execution_count": null,
   "id": "22eff4b5-dac1-4669-9906-523cfb3126c4",
   "metadata": {
    "deletable": false,
    "execution": {
     "iopub.execute_input": "2025-08-19T14:32:00.534018Z",
     "iopub.status.busy": "2025-08-19T14:32:00.533660Z",
     "iopub.status.idle": "2025-08-19T14:32:00.714505Z",
     "shell.execute_reply": "2025-08-19T14:32:00.713044Z"
    }
   },
   "outputs": [],
   "source": [
    "import matplotlib.pyplot as plt\n",
    "import numpy as np\n",
    "\n",
    "start = -10\n",
    "stop = 10\n",
    "intervaller = 5\n",
    "\n",
    "x_verdier = np.linspace(start, stop, intervaller)\n",
    "y_verdier = f(x_verdier) # Her kjører vi alle x-verdiene våre gjennom funksjonen f(x)\n",
    "\n",
    "plt.plot(x_verdier, y_verdier)"
   ]
  },
  {
   "cell_type": "markdown",
   "id": "25132258-086d-4846-a398-2257c5f843fe",
   "metadata": {
    "deletable": false
   },
   "source": [
    "<a id=\"oppg_6a\"></a>\n",
    "## a)\n",
    "\n",
    "Bruk de opgitte verdiene for `x` til å plotte funksjonen  $f(x) = x^2 - 3x + 2$\n",
    "\n",
    "\n",
    "i Python, og plotte disse i _samme_ plot. Bruk de oppgitte x-verdiene. Husk å importere **matplotlib** :)\n",
    "\n",
    "***Skriv koden din i kodeblokken under***"
   ]
  },
  {
   "cell_type": "code",
   "execution_count": null,
   "id": "fb917f97-35d2-4dc9-b332-e5ff25d7ea80",
   "metadata": {
    "autofeedback": {
     "plot_task": true
    },
    "deletable": false,
    "execution": {
     "iopub.execute_input": "2025-08-19T14:32:00.720962Z",
     "iopub.status.busy": "2025-08-19T14:32:00.720584Z",
     "iopub.status.idle": "2025-08-19T14:32:00.904055Z",
     "shell.execute_reply": "2025-08-19T14:32:00.903063Z"
    },
    "nbgrader": {
     "cell_type": "code",
     "checksum": "877f2a5cc61b6c6c03b075b0abf60424",
     "grade": false,
     "grade_id": "cell-0b7404225866802a",
     "locked": false,
     "schema_version": 3,
     "solution": true,
     "task": false
    }
   },
   "outputs": [],
   "source": [
    "import numpy as np\n",
    "x_verdier = np.array([-3, -1, 1, 3, 5])\n",
    "#-------------------------------------\n",
    "# SKRIV DIN KODE HER!\n",
    "#-------------------------------------"
   ]
  },
  {
   "cell_type": "markdown",
   "id": "54b0a7c1-4ef1-4b62-99c2-847a9e8e62fa",
   "metadata": {
    "deletable": false
   },
   "source": [
    "Har du løst oppgaven riktig skal du se en figur som ser noe [slik](Figurer/oppg5a_LF.png) ut."
   ]
  },
  {
   "cell_type": "code",
   "execution_count": null,
   "id": "31c10068-40b5-4e9f-a7bd-159a3e8c8f86",
   "metadata": {
    "autofeedback": {
     "test_code": "ZnJvbSBhdXRvZmVlZGJhY2sgaW1wb3J0IFZhcmlhYmxlVGVzdHMKaW1wb3J0IG51bXB5IGFzIG5wCgpmX3NvbCA9IGxhbWJkYSB4OiB4KioyLTMqeCsyCgp0ZXN0X3Jlc3VsdHMgPSBWYXJpYWJsZVRlc3RzKCkKCmlmIGxlbihmaWcuYXhlcykgPCAxOgogICAgdGVzdF9yZXN1bHRzLmFkZF9yZXN1bHQoRmFsc2UsICJObyBwbG90IGRldGVjdGVkLiIpCmVsc2U6CiAgICB0cnk6CiAgICAgICAgbGluZSA9IGZpZy5heGVzWy0xXS5saW5lc1stMV0KICAgIGV4Y2VwdCBFeGNlcHRpb24gYXMgZToKICAgICAgICB0ZXN0X3Jlc3VsdHMubG9nLmFwcGVuZCgiQ291bGQgbm90IHJ1biB0ZXN0cywgIitlLmFyZ3NbMF0pCiAgICBlbHNlOgogICAgICAgIHRlc3RfcmVzdWx0cy5jb21wYXJlX3ZhbHVlcyhsaW5lLmdldF95ZGF0YSgpLCBmX3NvbChsaW5lLmdldF94ZGF0YSgpKSwgbmFtZT0iJ3lkYXRhJyB3aGljaCB3YXMgZXh0cmFjdGVkIGZyb20gcGxvdCIpCnJvdW5kKHRlc3RfcmVzdWx0cy5nZXRfcmVzdWx0cygpKjIsIDIp"
    },
    "deletable": false,
    "editable": false,
    "execution": {
     "iopub.execute_input": "2025-08-19T14:32:00.910792Z",
     "iopub.status.busy": "2025-08-19T14:32:00.910471Z",
     "iopub.status.idle": "2025-08-19T14:32:03.431962Z",
     "shell.execute_reply": "2025-08-19T14:32:03.429927Z"
    },
    "nbgrader": {
     "cell_type": "code",
     "checksum": "44f861ee963962bb90ecfdaac0ea89d7",
     "grade": true,
     "grade_id": "cell-0b2c34b95270ff59",
     "locked": true,
     "points": 2,
     "schema_version": 3,
     "solution": false,
     "task": false
    },
    "slideshow": {
     "slide_type": ""
    },
    "tags": []
   },
   "outputs": [],
   "source": []
  },
  {
   "cell_type": "markdown",
   "id": "aaf54f3b-c850-4dd8-bc21-8d1541393ffc",
   "metadata": {
    "deletable": false
   },
   "source": [
    "<a id=\"oppg_6b\"></a>\n",
    "### b) \n",
    "Ser du at plottene i oppgave **a)** er \"hakkete\"? I denne oppgaven skal du fikse opp i det. Bruk de samme funksjonene som du lagde i oppgave **a)**, men denne gangen, skriv om koden slik at plottene blir \"glattere\" og ligner mer på en annengradskurve. \n",
    "\n",
    "***Skriv koden din i kodeblokken nedenfor***"
   ]
  },
  {
   "cell_type": "code",
   "execution_count": null,
   "id": "a3959821-c4b3-4089-8662-976684ced9c1",
   "metadata": {
    "autofeedback": {
     "plot_task": true
    },
    "deletable": false,
    "execution": {
     "iopub.execute_input": "2025-08-19T14:32:03.437917Z",
     "iopub.status.busy": "2025-08-19T14:32:03.437455Z",
     "iopub.status.idle": "2025-08-19T14:32:03.707008Z",
     "shell.execute_reply": "2025-08-19T14:32:03.704440Z"
    },
    "nbgrader": {
     "cell_type": "code",
     "checksum": "b69d38aa2c407f7b2fa6af5685ceaa22",
     "grade": false,
     "grade_id": "cell-2bedff5857e25ba1",
     "locked": false,
     "schema_version": 3,
     "solution": true,
     "task": false
    }
   },
   "outputs": [],
   "source": [
    "#-------------------------------------\n",
    "# SKRIV DIN KODE HER!\n",
    "#-------------------------------------"
   ]
  },
  {
   "cell_type": "markdown",
   "id": "4b177cae-4ecd-4b0e-af52-1376dbe0dedb",
   "metadata": {
    "deletable": false
   },
   "source": [
    "Har du løst oppgaven riktig skal du se en figur som ser noe [slik](Figurer/oppg5b_LF.png) ut."
   ]
  },
  {
   "cell_type": "code",
   "execution_count": null,
   "id": "7ababa28-46ea-4027-8428-b717557d3f50",
   "metadata": {
    "autofeedback": {
     "test_code": "ZnJvbSBhdXRvZmVlZGJhY2sgaW1wb3J0IFZhcmlhYmxlVGVzdHMKaW1wb3J0IG51bXB5IGFzIG5wCgpmX3NvbCA9IGxhbWJkYSB4OiB4KioyLTMqeCsyCgp0ZXN0X3Jlc3VsdHMgPSBWYXJpYWJsZVRlc3RzKCkKCmlmIGxlbihmaWcuYXhlcykgPCAxOgogICAgdGVzdF9yZXN1bHRzLmFkZF9yZXN1bHQoRmFsc2UsICJObyBwbG90IGRldGVjdGVkLiIpCmVsc2U6CiAgICB0cnk6CiAgICAgICAgbGluZSA9IGZpZy5heGVzWy0xXS5saW5lc1stMV0KICAgIGV4Y2VwdCBFeGNlcHRpb24gYXMgZToKICAgICAgICB0ZXN0X3Jlc3VsdHMubG9nLmFwcGVuZCgiQ291bGQgbm90IHJ1biB0ZXN0cywgIitlLmFyZ3NbMF0pCiAgICBlbHNlOgogICAgICAgIHRlc3RfcmVzdWx0cy5jb21wYXJlX3ZhbHVlcyhsaW5lLmdldF95ZGF0YSgpLCBmX3NvbChsaW5lLmdldF94ZGF0YSgpKSwgbmFtZT0iJ3lkYXRhJyB3aGljaCB3YXMgZXh0cmFjdGVkIGZyb20gcGxvdCIpCiAgICAgICAgdGVzdF9yZXN1bHRzLmFkZF9yZXN1bHQobGVuKGxpbmUuZ2V0X3hkYXRhKCkpID4gMTAsCiAgICAgICAgICAgICAgICAgICAgICAgICAgICAgICAgIlN1ZmZpY2llbnQgbnVtYmVyIG9mIGRhdGEgcG9pbnRzIGluIHBsb3QiIGlmIGxlbihsaW5lLmdldF94ZGF0YSgpKT4xMCBlbHNlICJub3QgZW5vdWdoIGRhdGEgcG9pbnRzIGluIHBsb3QiKQoKcm91bmQodGVzdF9yZXN1bHRzLmdldF9yZXN1bHRzKCkqMywgMik="
    },
    "deletable": false,
    "editable": false,
    "execution": {
     "iopub.execute_input": "2025-08-19T14:32:03.712544Z",
     "iopub.status.busy": "2025-08-19T14:32:03.711894Z",
     "iopub.status.idle": "2025-08-19T14:32:03.735033Z",
     "shell.execute_reply": "2025-08-19T14:32:03.732239Z"
    },
    "nbgrader": {
     "cell_type": "code",
     "checksum": "7a073905fe53c908c6074252eb8acfd4",
     "grade": true,
     "grade_id": "cell-d5f0a4ad047ea826",
     "locked": true,
     "points": 3,
     "schema_version": 3,
     "solution": false,
     "task": false
    }
   },
   "outputs": [],
   "source": []
  },
  {
   "cell_type": "markdown",
   "id": "951191e6-8215-4f63-8bbd-6740f1c4e74c",
   "metadata": {
    "deletable": false
   },
   "source": [
    "### Merkelapper\n",
    "\n",
    "Om man bruker plot-funksjonen flere ganger i samme celle vil man tegne to kurver i samme figur. Med flere kurver i samme figur kan det være nyttig med en merkelapp for å differensiere mellom kurvene. Dette gjøres i to steg:\n",
    "1. Angi teksten i en merkelapp ved å bruke optional parameter `label`\n",
    "2. La merkelappene vises i plottet ved å kalle funksjonen [`plt.legend()`](https://matplotlib.org/stable/api/_as_gen/matplotlib.pyplot.legend.html)\n",
    "    * PS: Det er også mulig å spesifisere hvorf merkelappene skal vises ved skrive posisjonen som et optional argument til funksjonen `plt.legend()`. Eksempel: `plt.legend(loc=\"upper center\")`\n",
    "\n",
    "**Eksempel:**"
   ]
  },
  {
   "cell_type": "code",
   "execution_count": null,
   "id": "8abb326c-74a3-47c6-ba58-613007c41909",
   "metadata": {
    "deletable": false,
    "execution": {
     "iopub.execute_input": "2025-08-19T14:32:03.742333Z",
     "iopub.status.busy": "2025-08-19T14:32:03.741530Z",
     "iopub.status.idle": "2025-08-19T14:32:03.939254Z",
     "shell.execute_reply": "2025-08-19T14:32:03.937265Z"
    }
   },
   "outputs": [],
   "source": [
    "x = np.linspace(-3, 3)\n",
    "y1 = x**2\n",
    "y2 = 0.2*x**3\n",
    "plt.plot(x, y1, label=\"f(x) = x^2\")\n",
    "plt.plot(x, y2, label=\"f(x) = 0.2*x^3\")\n",
    "plt.legend()"
   ]
  },
  {
   "cell_type": "markdown",
   "id": "a06ea996-6c5f-4c03-8981-580b2d0c07f0",
   "metadata": {
    "deletable": false
   },
   "source": [
    "## c)\n",
    "\n",
    "Du skal nå lage et plot der det er lett å sammenligne kurvene fra deloppgave **a)** og deloppgave **b)** Lag et plot som viser de to kurvene i samme figur, med merkelapper som antyder hvor mange punkt som brukes til å trekke kurven."
   ]
  },
  {
   "cell_type": "code",
   "execution_count": null,
   "id": "2859d847-3fc5-4368-bf82-0e80aefb6217",
   "metadata": {
    "autofeedback": {
     "plot_task": true
    },
    "deletable": false,
    "execution": {
     "iopub.execute_input": "2025-08-19T14:32:03.945728Z",
     "iopub.status.busy": "2025-08-19T14:32:03.945432Z",
     "iopub.status.idle": "2025-08-19T14:32:04.132806Z",
     "shell.execute_reply": "2025-08-19T14:32:04.131194Z"
    },
    "nbgrader": {
     "cell_type": "code",
     "checksum": "bfd6c2c9d5f83b2dbd3a6accd8a7e7d2",
     "grade": false,
     "grade_id": "cell-d1a216e846f090da",
     "locked": false,
     "schema_version": 3,
     "solution": true,
     "task": false
    }
   },
   "outputs": [],
   "source": [
    "#-------------------------------------\n",
    "# SKRIV DIN KODE HER!\n",
    "#-------------------------------------"
   ]
  },
  {
   "cell_type": "markdown",
   "id": "b0d66673-b1d8-4513-a1b9-8cb92572d4c3",
   "metadata": {
    "deletable": false
   },
   "source": [
    "Har du løst oppgaven riktig skal du se en figur som ser noe [slik](Figurer/oppg5c_LF.png) ut."
   ]
  },
  {
   "cell_type": "code",
   "execution_count": null,
   "id": "9513a1b0-1127-41f6-bd3e-cc0f16049a96",
   "metadata": {
    "autofeedback": {
     "test_code": "ZnJvbSBhdXRvZmVlZGJhY2sgaW1wb3J0IEN1c3RvbVRlc3RzCmltcG9ydCByZQoKZ3JhZGluZ19yZXN1bHRzID0gQ3VzdG9tVGVzdHMoKQoKdHJ5OgogICAgbGluZXMgPSBmaWcuYXhlc1stMV0ubGluZXMKICAgIG5fb2ZfbGluZXMgPSBsZW4obGluZXMpCiAgICBoYXNfbGVnZW5kID0gZmlnLmF4ZXNbLTFdLmdldF9sZWdlbmQoKSBpcyBub3QgTm9uZQogICAgcGxvdHNfd2l0aF9sYWJlbCA9IHN1bShbcmUuc2VhcmNoKHIiX2NoaWxkXGQiLCB4LmdldF9sYWJlbCgpKSBpcyBOb25lIGZvciB4IGluIGxpbmVzXSkKZXhjZXB0IEV4Y2VwdGlvbiBhcyBlOgogICAgZ3JhZGluZ19yZXN1bHRzLmFkZF9yZXN1bHQoRmFsc2UsICJDb3VsZCBub3QgZXh0cmFjdCBsYWJlbCBpbmZvcm1hdGlvbiBmb3IgcGxvdDogIisgZS5hcmdzWzBdKQplbHNlOgogICAgZ3JhZGluZ19yZXN1bHRzLnRlc3Qobl9vZl9saW5lcyA9PSAyLAogICAgICAgICAgICAgICAgICAgICAgICAgIjMgZGF0YXNldHMgcGxvdHRlZCBpbiBmaWd1cmUiLAogICAgICAgICAgICAgICAgICAgICAgICAgZiJGaWd1cmUgY29udGFpbnMgcGxvdHMgZm9yIHtuX29mX2xpbmVzfSBkYXRhc2V0cyBhbmQgbm90IDMiKQogICAgZ3JhZGluZ19yZXN1bHRzLnRlc3QoaGFzX2xlZ2VuZCwKICAgICAgICAgICAgICAgICAgICAgICAgICJMZWdlbmQgZGV0ZWN0ZWQgaW4gZmlndXJlIiwKICAgICAgICAgICAgICAgICAgICAgICAgICJObyBsZWdlbmQgZm91bmQgaW4gZmlndXJlIiwKICAgICAgICAgICAgICAgICAgICAgICAgIHdndD0yKQogICAgZ3JhZGluZ19yZXN1bHRzLnRlc3QocGxvdHNfd2l0aF9sYWJlbCA9PSAyLCAKICAgICAgICAgICAgICAgICAgICAgICAgICIzIGxhYmVsZWQgcGxvdHMgaW4gcGljdHVyZSIsIAogICAgICAgICAgICAgICAgICAgICAgICAgZiJGaWd1cmUgY29udGFpbnMgbGFiZWxzIGZvciB7cGxvdHNfd2l0aF9sYWJlbH0gZGF0YXNldHMgYW5kIG5vdCAzIiwKICAgICAgICAgICAgICAgICAgICAgICAgIHdndD02KQoKcm91bmQoZ3JhZGluZ19yZXN1bHRzLmdldF9yZXN1bHRzKCkqMywgMik="
    },
    "deletable": false,
    "editable": false,
    "execution": {
     "iopub.execute_input": "2025-08-19T14:32:04.139318Z",
     "iopub.status.busy": "2025-08-19T14:32:04.139028Z",
     "iopub.status.idle": "2025-08-19T14:32:04.151009Z",
     "shell.execute_reply": "2025-08-19T14:32:04.149648Z"
    },
    "nbgrader": {
     "cell_type": "code",
     "checksum": "bdb8a8a2f435a3ed901b9d0ceb8cf823",
     "grade": true,
     "grade_id": "cell-aa51b5df0fe6804c",
     "locked": true,
     "points": 3,
     "schema_version": 3,
     "solution": false,
     "task": false
    }
   },
   "outputs": [],
   "source": []
  },
  {
   "cell_type": "markdown",
   "id": "4449039d-61b4-468e-ae92-0fa047dc9658",
   "metadata": {
    "deletable": false
   },
   "source": [
    "<a id=\"oppg_6c\"></a>\n",
    "## d) \n",
    "\n",
    "\n",
    "I denne oppgaven skal du tilføre plottet fra **c)** litt kontekst. Typisk når man lager plot er det nødvenig med en tittel, og merking av aksene for at leseren skal skjønne hva kurven representerer. Kopier koden fra **c)** og legg til følgende informasjon i plottet.\n",
    "\n",
    "* En tittel til plottet med funksjonen `title`, f.eks. \"Plot av fuksjonen f(x) med ulike oppløsninger\".\n",
    "* Merkelapper på aksene med funksjonene `xlabel` og `ylabel`, f.eks \"x\" og \"y.\"\n",
    "\n",
    "Det er bare å være kreativ når du bestemmer *hva* plottet og aksene skal hete ;)\n",
    "\n",
    "**Valgfritt**\n",
    "* Legg til et rutenett i plottet (se `grid`)\n",
    "\n",
    "Vi oppfordrer til å lese [dokumentasjonen til matplotlib](https://matplotlib.org/3.5.2/api/index.html) for å løse denne oppgaven.\n",
    "\n",
    "***Kopier koden din fra oppgave b) og gjør modifikasjoner:***"
   ]
  },
  {
   "cell_type": "code",
   "execution_count": null,
   "id": "3cbb90c9-103e-4997-b26a-6ecbfa802c43",
   "metadata": {
    "autofeedback": {
     "plot_task": true
    },
    "deletable": false,
    "execution": {
     "iopub.execute_input": "2025-08-19T14:32:04.156767Z",
     "iopub.status.busy": "2025-08-19T14:32:04.156486Z",
     "iopub.status.idle": "2025-08-19T14:32:04.712419Z",
     "shell.execute_reply": "2025-08-19T14:32:04.710170Z"
    },
    "nbgrader": {
     "cell_type": "code",
     "checksum": "e01b3c1804f13ff96f7997cdeb38ce41",
     "grade": false,
     "grade_id": "cell-90b55d8116becf4b",
     "locked": false,
     "schema_version": 3,
     "solution": true,
     "task": false
    }
   },
   "outputs": [],
   "source": [
    "#-------------------------------------\n",
    "# SKRIV DIN KODE HER!\n",
    "#-------------------------------------"
   ]
  },
  {
   "cell_type": "markdown",
   "id": "83f1dfcd-edf2-470b-be77-cbbaaa265e62",
   "metadata": {
    "deletable": false
   },
   "source": [
    "Har du løst oppgaven riktig skal du se en figur som ser noe [slik](Figurer/oppg5d_LF.png) ut."
   ]
  },
  {
   "cell_type": "code",
   "execution_count": null,
   "id": "9f8477fe-bd47-4dee-bb04-244da45ad26e",
   "metadata": {
    "autofeedback": {
     "test_code": "ZnJvbSBhdXRvZmVlZGJhY2sgaW1wb3J0IEN1c3RvbVRlc3RzCmltcG9ydCBudW1weSBhcyBucApmX3NvbCA9IGxhbWJkYSB4OiB4KioyLTMqeCsyCgp0ZXN0X3Jlc3VsdHMgPSBDdXN0b21UZXN0cygpCgppZiBsZW4oZmlnLmF4ZXMpIDwgMToKICAgIHRlc3RfcmVzdWx0cy5hZGRfcmVzdWx0KEZhbHNlLCAiTm8gcGxvdCBkZXRlY3RlZC4iKQplbHNlOgogICAgdHJ5OgogICAgICAgIHN0dWRlbnRfYW5zd2VyX2F4ZXMgPSBmaWcuYXhlc1stMV0KICAgIGV4Y2VwdCBFeGNlcHRpb24gYXMgZToKICAgICAgICB0ZXN0X3Jlc3VsdHMuYWRkX3Jlc3VsdChGYWxzZSwgIk5vIHBsb3QgZGV0ZWN0ZWQiKQogICAgZWxzZToKICAgICAgICB0ZXN0X3Jlc3VsdHMudGVzdChzdHVkZW50X2Fuc3dlcl9heGVzLmdldF90aXRsZSgpICE9ICIiLAogICAgICAgICAgICAgICAgICAgICAgICAgICAgICAgICJQbG90IHRpdGxlIHByZXNlbnQiLAogICAgICAgICAgICAgICAgICAgICAgICAgICAgICAgICJObyB0aXRsZSBkZXRlY3RlZCBmb3IgcGxvdCIpCiAgICAgICAgdGVzdF9yZXN1bHRzLnRlc3Qoc3R1ZGVudF9hbnN3ZXJfYXhlcy5nZXRfeGxhYmVsKCkgIT0gIiIsCiAgICAgICAgICAgICAgICAgICAgICAgICAgICAgICAgIkxhYmVsIGRlZmluZWQgZm9yIHgtYXhpcyIsCiAgICAgICAgICAgICAgICAgICAgICAgICAgICAgICAgIk5vIGxhYmVsIGZvdW5kIGZvciB4LWF4aXMiKQogICAgICAgIHRlc3RfcmVzdWx0cy50ZXN0KHN0dWRlbnRfYW5zd2VyX2F4ZXMuZ2V0X3lsYWJlbCgpICE9ICIiLAogICAgICAgICAgICAgICAgICAgICAgICAgICAgICAgICJMYWJlbCBkZWZpbmVkIGZvciB5LWF4aXMiLAogICAgICAgICAgICAgICAgICAgICAgICAgICAgICAgICJObyBsYWJlbCBmb3VuZCBmb3IgeS1heGlzIikKICAgICAgICAKcm91bmQodGVzdF9yZXN1bHRzLmdldF9yZXN1bHRzKCkqMiwgMik="
    },
    "deletable": false,
    "editable": false,
    "execution": {
     "iopub.execute_input": "2025-08-19T14:32:04.717980Z",
     "iopub.status.busy": "2025-08-19T14:32:04.717683Z",
     "iopub.status.idle": "2025-08-19T14:32:04.730236Z",
     "shell.execute_reply": "2025-08-19T14:32:04.728484Z"
    },
    "nbgrader": {
     "cell_type": "code",
     "checksum": "2b4de92c626979f702917263b9b12240",
     "grade": true,
     "grade_id": "cell-9fab1764cafbbe56",
     "locked": true,
     "points": 2,
     "schema_version": 3,
     "solution": false,
     "task": false
    }
   },
   "outputs": [],
   "source": []
  },
  {
   "cell_type": "markdown",
   "id": "7a34da7a",
   "metadata": {
    "deletable": false,
    "editable": true
   },
   "source": [
    "<br>\n",
    "<nav class=\"navbar navbar-default\">\n",
    "    <div class=\"container-fluid\">\n",
    "        <div class=\"navbar-header\" style=\"float: left\">\n",
    "            <a class=\"navbar-brand\" href=\"4_Ofte_brukte_arrays.ipynb\" target=\"_self\">&lt; Forrige side: <i>ofte brukte arrays</i></a>\n",
    "            </div>\n",
    "        <div class=\"navbar-header\" style=\"float: right\">\n",
    "            <a class=\"navbar-brand\" href=\"6_Numerisk_derivasjon_med_arrays.ipynb\" target=\"_self\">Neste side: <i>numerisk derivasjon med arrays</i> &gt;</a>\n",
    "        </div>\n",
    "    </div>\n",
    "</nav>"
   ]
  }
 ],
 "metadata": {
  "kernelspec": {
   "display_name": "Python 3 (ipykernel)",
   "language": "python",
   "name": "python3"
  },
  "language_info": {
   "codemirror_mode": {
    "name": "ipython",
    "version": 3
   },
   "file_extension": ".py",
   "mimetype": "text/x-python",
   "name": "python",
   "nbconvert_exporter": "python",
   "pygments_lexer": "ipython3",
   "version": "3.12.11"
  },
  "toc": {
   "base_numbering": 1
  }
 },
 "nbformat": 4,
 "nbformat_minor": 5
}
