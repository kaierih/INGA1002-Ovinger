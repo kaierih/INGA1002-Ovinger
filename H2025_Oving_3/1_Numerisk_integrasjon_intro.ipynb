{
 "cells": [
  {
   "cell_type": "markdown",
   "id": "577bfa2a-708b-484b-8de0-ec77acc3947a",
   "metadata": {
    "deletable": false,
    "editable": true,
    "slideshow": {
     "slide_type": ""
    },
    "tags": []
   },
   "source": [
    "# Introduksjon til numerisk integrasjon\n",
    "\n",
    "**Læringsmål:**\n",
    "\n",
    "* Numerisk integrasjon som konsept\n",
    "* Forskjellen mellom ulike integrasjonsmetodene: *Trapesmetoden* og *Simpson's Metode*\n",
    "* Relativ feil\n",
    "\n",
    "\n",
    "**Oversikt:**\n",
    "* [Oppgave a) Trapesmetoden](#oppg_1a)\n",
    "* [Oppgave b) Simpson's Metode](#oppg_1b)\n",
    "* [Oppgave c) Relativ Feil](#oppg_1c)"
   ]
  },
  {
   "cell_type": "markdown",
   "id": "cd1b5fb4-45c7-486b-8868-cfe4ddca82f8",
   "metadata": {
    "deletable": false
   },
   "source": [
    "## Hva er numerisk integrasjon?\n",
    "Numerisk integrasjon er en metode som kan benyttes for å finne en *tilnærmet verdi* for et bundet integral $\\int_a^b f(x) dx$ ved hjelp av programmering istedenfor å bruke integrasjonsregler for å løse på penn og papir. Når vi løser et bundet integral $\\int_a^b f(x) dx$ finner vi i praksis arealet under kurven $f(x)$ mellom punktene $x=a$ og $x=b$.\n",
    "\n",
    "![](figurer/bounded_integral.svg)\n",
    "\n",
    "Som vi ser i figuren så har kurven til $f(x)$ en noe komplisert form, men nøkkelen til numerisk integrasjon er å finne en geometrisk form som har *sånn ca* samme areal, men er mye enklere å beskrive matematisk. I praksis deler man ofte opp intervallet $x \\in (a, b)$ i mange små delintervall, men til å begynne med så skal vi se på en forenklet utgave der vi kun bruker *ett* delintervall.\n",
    "\n",
    "\n",
    "#### Trapesintegrasjon\n",
    "Med trapesintegrasjon beregner man som navnet tilsier arealet til en trapes. Denne trapesen lager man ved å trekke en rett strek fra punktet $(a, f(a))$ til $(b, f(b))$ og beregne arealet til trapesen som oppstår.\n",
    "\n",
    "![](figurer/trapezoid.svg)\n",
    "\n",
    "formelen for arealet av denne trapesen blir:\n",
    "\n",
    "\n",
    "$$\\int_a^b f(x) dx \\approx h \\cdot \\frac{f(a) + f(b)}{2}, \\ \\ \\ h = (b-a)$$\n",
    "\n",
    "#### Simpsons metode\n",
    "Med Simpson's Metode så trekker man en buet strek mellom ytterpunktene $(a, f(a))$ og $(b, f(b))$. For å kunne velge riktig kurve på buen trenger man dele opp intervallet $x \\in (a, b)$ i **to** like store *delintervall* som er separert i midtpunktet $m$ slik som vist i figuren. Da kan man finne en andregradsfunksjon som passerer mellom de resulterende tre grensepunktene, og gir en mer eksakt tilnærming til det bestemte integralet $\\int_a^b f(x)dx$ enn trapesmetoden.\n",
    "\n",
    "![](figurer/parabolic.svg)\n",
    "\n",
    "Formelen for arealet av denne geometriske formen blir:\n",
    "$$\\int_a^b f(x) dx \\approx \\frac{h}{3} \\cdot \\left(f(a) + 4\\cdot f(m) + f(b) \\right), \\ \\ \\ h=\\frac{b-a}{2}, \\ \\ \\  m = \\frac{a + b}{2}$$\n",
    "\n",
    "Trenger du mer oppklaring i hvordan numerisk integrasjon fungerer, kan du finne en mer omfattende forklaring i pensumlitteraturen [her](https://github.com/imfdrift/INGX1002H24/blob/main/0_innholdsfortegnelse.ipynb).\n",
    "\n",
    "## Oppgaveintroduksjon\n",
    "\n",
    "I denne oppgaven skal vi ta utgangspunkt i funksjonen $f(x)$ nedenfor, og bruke numeriske metoder til å beregne en tilnærming til det bundne arealet $\\int_a^b f(x) dx$.\n",
    "\n",
    "$$\\large f(x) = (x-1)^3+2$$\n",
    "\n",
    "Kodecellen nedenfor definerer python-funksjonen vi kaller for å beregne funksjonsverdiene $f(x)$:"
   ]
  },
  {
   "cell_type": "code",
   "execution_count": null,
   "id": "e910d12c-1587-4798-be22-34f87bd42ffb",
   "metadata": {
    "autofeedback": {
     "test_code": "aW1wb3J0IG51bXB5IGFzIG5wCmZyb20gSVB5dGhvbi5kaXNwbGF5IGltcG9ydCBIVE1MCmRlZiBmKHgpOgogICAgcmV0dXJuIG5wLmV4cCh4KQoKSFRNTChmIiIiPGRpdiBjbGFzcyA9ICJhbGVydCBhbGVydC1pbmZvIj4KUmVwbGFjaW5nIGZ1bmN0aW9uIGRlZmluaXRpb24gZih4KSBmb3IgdGVzdGluZy4gTmV3IGZ1bmN0aW9uIGRlZmluaXRpb246PGJyPgo8YnI+CmRlZiBmKHgpOjxicj4KPGRpdiBzdHlsZT0ibWFyZ2luLWxlZnQ6NDBweCI+cmV0dXJuIG5wLmV4cCh4KTwvZGl2Pjxicj4KU3Vic2VxdWVudCB0ZXN0cyB3aWxsIGZhaWwgaWYgY29kZSBzb2x1dGlvbnMgYXJlIG5vdCBiYXNlZCBvbiB0aGlzIGZ1bmN0aW9uLgo8L2Rpdj4iIiIp"
    },
    "deletable": false,
    "editable": false,
    "execution": {
     "iopub.execute_input": "2025-09-09T08:28:47.803567Z",
     "iopub.status.busy": "2025-09-09T08:28:47.802664Z",
     "iopub.status.idle": "2025-09-09T08:28:48.039113Z",
     "shell.execute_reply": "2025-09-09T08:28:48.037221Z"
    },
    "nbgrader": {
     "cell_type": "code",
     "checksum": "f4efd778ee93b665f0a4b18df58a0f38",
     "grade": true,
     "grade_id": "cell-967fc9ff6a6247f1",
     "locked": true,
     "points": 0,
     "schema_version": 3,
     "solution": false,
     "task": false
    },
    "slideshow": {
     "slide_type": ""
    },
    "tags": []
   },
   "outputs": [],
   "source": [
    "def f(x):\n",
    "    return (x-1)**3 + 2"
   ]
  },
  {
   "cell_type": "markdown",
   "id": "26084b87-ee42-427a-a2a9-bdcedfee7607",
   "metadata": {
    "deletable": false
   },
   "source": [
    "<a id=\"oppg_1a\"></a>\n",
    "## a)\n",
    "\n",
    "\n",
    "Gitt funksjonen $f(x)$ definert ovenfor, la grenseverdiene $a=0$ og $b=1.8$. Bruk Trapesmetoden slik beskrevet i introduksjonsteksten til å regne ut både skrittlengden $h$ og en tilnærmet verdi av det bestemte integralet $\\int_a^b f(x) dx $. Svarene skal lagres i variablene `h` og `T`. \n",
    "\n",
    "*PS: Det kan være en god øvelse å skrive ut verdien til  `T`, og sammenligne med den analytiske løsningen på det bundne integralet. Svarene vil ikke være like, men de vil være i samme omtrentlige nabolag*"
   ]
  },
  {
   "cell_type": "code",
   "execution_count": null,
   "id": "058a4011-9d30-4fdc-8031-c1785284eef9",
   "metadata": {
    "deletable": false,
    "execution": {
     "iopub.execute_input": "2025-09-09T08:28:48.045091Z",
     "iopub.status.busy": "2025-09-09T08:28:48.044708Z",
     "iopub.status.idle": "2025-09-09T08:28:48.053068Z",
     "shell.execute_reply": "2025-09-09T08:28:48.051172Z"
    },
    "nbgrader": {
     "cell_type": "code",
     "checksum": "dbe49679e868cf60554a93c67d72f6cb",
     "grade": false,
     "grade_id": "cell-867b3ff7f3796ede",
     "locked": false,
     "schema_version": 3,
     "solution": true,
     "task": false
    }
   },
   "outputs": [],
   "source": [
    "a = 0.0\n",
    "b = 1.8\n",
    "# Erstatt med riktig tallverdi basert på beregninger i Python\n",
    "h = \"???\" # Skrittlengde\n",
    "T = \"???\" # Areal av trapes\n",
    "#-------------------------------------\n",
    "# SKRIV DIN KODE HER!\n",
    "#-------------------------------------"
   ]
  },
  {
   "cell_type": "markdown",
   "id": "1a2cf939-5e2d-4fdb-bd96-c4b6812b1ace",
   "metadata": {
    "deletable": false
   },
   "source": [
    "*NB! Pass på at du ikke overskriver funksjonen `f(x)`. Dette vil skape problemer under retting.*"
   ]
  },
  {
   "cell_type": "code",
   "execution_count": null,
   "id": "4c617423-feab-480c-8892-ed4076e1c004",
   "metadata": {
    "autofeedback": {
     "test_code": "ZnJvbSBhdXRvZmVlZGJhY2sgaW1wb3J0IFZhcmlhYmxlVGVzdHMKCmRlZiB0ZXN0X3JvdXRpbmUoKToKICAgIGhfc29sID0gMS44CiAgICBUX3NvbCA9IDYuMzQ0NjgyNzE3OTcxNjUxNjE5ODUKICAgICNwcmludChmIntoID0gfSIpCiAgICAjcHJpbnQoZiJ7VCA9IDouMjBmfSIpCgogICAgdGVzdF9yZXN1bHRzID0gVmFyaWFibGVUZXN0cygpCiAgICB0ZXN0X3Jlc3VsdHMuY29tcGFyZV92YWx1ZXMoaCwgaF9zb2wsIG5hbWU9ImgiLCBydG9sPTFlLTMpCiAgICB0ZXN0X3Jlc3VsdHMuY29tcGFyZV92YWx1ZXMoVCwgVF9zb2wsIG5hbWU9IlQiLCBydG9sPTFlLTMpCiAgICAKICAgIHJldHVybiByb3VuZCh0ZXN0X3Jlc3VsdHMuZ2V0X3Jlc3VsdHMoKSozLCAyKQp0ZXN0X3JvdXRpbmUoKQ=="
    },
    "deletable": false,
    "editable": false,
    "execution": {
     "iopub.execute_input": "2025-09-09T08:28:48.058329Z",
     "iopub.status.busy": "2025-09-09T08:28:48.058032Z",
     "iopub.status.idle": "2025-09-09T08:28:50.749129Z",
     "shell.execute_reply": "2025-09-09T08:28:50.747867Z"
    },
    "nbgrader": {
     "cell_type": "code",
     "checksum": "f2d83ef8314dde066a7a64db2bf2d270",
     "grade": true,
     "grade_id": "cell-a31cc1552922cc75",
     "locked": true,
     "points": 3,
     "schema_version": 3,
     "solution": false,
     "task": false
    }
   },
   "outputs": [],
   "source": [
    "# Denne cellen brukes under retting. La Stå!"
   ]
  },
  {
   "cell_type": "markdown",
   "id": "a300d27e-db13-4f44-8589-4f56d394e6b4",
   "metadata": {
    "deletable": false
   },
   "source": [
    "<a id=\"oppg_1b\"></a>\n",
    "## b)\n",
    "\n",
    "Vi fortsetter med funksjonen \n",
    "$$f(x) = (x-1)^3+2$$ \n",
    "Bruk Simpson's Metode slik som beskrevet i oppgaveintroduksjonen til å regne ut en tilnærmet verdi av det bestemte integralet $\\int_a^b f(x) dx$ for $a = 0$ og $b = 1.8$. Pass på å lagre svaret i variabelen `S`.\n",
    "\n",
    "*Husk at vi nå må ta i bruk et ekstra punkt midt mellom $a$ og $b$ når vi tar i bruk Simpson's Metode*"
   ]
  },
  {
   "cell_type": "code",
   "execution_count": null,
   "id": "226026f1-dc76-4df9-88f6-722a557c3b3d",
   "metadata": {
    "deletable": false,
    "execution": {
     "iopub.execute_input": "2025-09-09T08:28:50.755279Z",
     "iopub.status.busy": "2025-09-09T08:28:50.754684Z",
     "iopub.status.idle": "2025-09-09T08:28:50.762848Z",
     "shell.execute_reply": "2025-09-09T08:28:50.761138Z"
    },
    "nbgrader": {
     "cell_type": "code",
     "checksum": "7c9c1eb332c755c8a461c95512942611",
     "grade": false,
     "grade_id": "cell-8e75e38b4ced1396",
     "locked": false,
     "schema_version": 3,
     "solution": true,
     "task": false
    }
   },
   "outputs": [],
   "source": [
    "a = 0.0\n",
    "b = 1.8\n",
    "# Erstatt med riktig tallverdi basert på beregninger i Python\n",
    "h = \"???\" # Skrittlengde\n",
    "S = \"???\" # Areal under andreordens funksjonskurve\n",
    "#-------------------------------------\n",
    "# SKRIV DIN KODE HER!\n",
    "#-------------------------------------"
   ]
  },
  {
   "cell_type": "markdown",
   "id": "9847b030-6493-434d-9bfa-e2a1aa38be2c",
   "metadata": {
    "deletable": false
   },
   "source": [
    "*NB! Pass på at du ikke overskriver funksjonen `f(x)`. Dette vil skape problemer under retting.*"
   ]
  },
  {
   "cell_type": "code",
   "execution_count": null,
   "id": "b9ded4e4-599c-4148-9538-860485420037",
   "metadata": {
    "autofeedback": {
     "test_code": "ZnJvbSBhdXRvZmVlZGJhY2sgaW1wb3J0IFZhcmlhYmxlVGVzdHMKCmRlZiB0ZXN0X3JvdXRpbmUoKToKICAgIGhfc29sID0gMC45CiAgICBTX3NvbCA9IDUuMDY2NDE3OTcyNzEyMjIzMTYxMTIKICAgICNwcmludChmIntoID0gfSIpCiAgICAjcHJpbnQoZiJ7UyA9IDouMjBmfSIpCgogICAgdGVzdF9yZXN1bHRzID0gVmFyaWFibGVUZXN0cygpCiAgICB0ZXN0X3Jlc3VsdHMuY29tcGFyZV92YWx1ZXMoaCwgaF9zb2wsIG5hbWU9ImgiLCBydG9sPTFlLTMpCiAgICB0ZXN0X3Jlc3VsdHMuY29tcGFyZV92YWx1ZXMoUywgU19zb2wsIG5hbWU9IlMiLCBydG9sPTFlLTMpCiAgICAKICAgIHJldHVybiByb3VuZCh0ZXN0X3Jlc3VsdHMuZ2V0X3Jlc3VsdHMoKSozLCAyKQp0ZXN0X3JvdXRpbmUoKQ=="
    },
    "deletable": false,
    "editable": false,
    "execution": {
     "iopub.execute_input": "2025-09-09T08:28:50.770927Z",
     "iopub.status.busy": "2025-09-09T08:28:50.770627Z",
     "iopub.status.idle": "2025-09-09T08:28:50.782997Z",
     "shell.execute_reply": "2025-09-09T08:28:50.781005Z"
    },
    "nbgrader": {
     "cell_type": "code",
     "checksum": "3c534f16392ac7294807e2a29b19159d",
     "grade": true,
     "grade_id": "cell-3acda8f7a117d86f",
     "locked": true,
     "points": 3,
     "schema_version": 3,
     "solution": false,
     "task": false
    }
   },
   "outputs": [],
   "source": [
    "# Denne cellen brukes under retting. La Stå!"
   ]
  },
  {
   "cell_type": "markdown",
   "id": "4fa29e68-2cf5-4f93-8eaf-0846beb7258b",
   "metadata": {
    "deletable": false
   },
   "source": [
    "<a id=\"oppg_1c\"></a>\n",
    "## c)\n",
    "\n",
    "Den eksakte løsningen på integralet $\\int_a^b f(x) dx$ er: \n",
    "$$\n",
    "\\begin{align}\n",
    "\\int_a^b f(x) dx &= \\int_0^{1.8} (x-1)^3 + 2 dx \\\\\n",
    "&= \\left[\\frac{x^4}{4} - x^3 + \\frac{3x^2}{2} + x\\right]_0^{1.8} \\\\\n",
    "&= 3.4524\n",
    "\\end{align}\n",
    "$$\n"
   ]
  },
  {
   "cell_type": "code",
   "execution_count": null,
   "id": "af414c11-b69b-4dfb-9261-fc78d3ea34c9",
   "metadata": {
    "autofeedback": {
     "test_code": "ZnJvbSBJUHl0aG9uLmRpc3BsYXkgaW1wb3J0IEhUTUwKCklfZWtzYWt0ID0gNS4wNDk2NDc0NjQ0MTI5NDY1NDAzNAoKSFRNTChmIiIiPGRpdiBjbGFzcyA9ICJhbGVydCBhbGVydC1pbmZvIj4KUmVwbGFjaW5nICJJX2Vrc2FrdCIgdmFsdWUgZm9yIHRlc3RpbmcuIE5ldyB2YWx1ZTo8YnI+Cjxicj4KPGRpdiBzdHlsZT0ibWFyZ2luLWxlZnQ6NDBweCI+SV9la3Nha3QgPSA1LjA0OTY0NzQ2NDQxMjk0NjU0MDM0PC9kaXY+PGJyPgpTdWJzZXF1ZW50IHRlc3RzIHdpbGwgZmFpbCBpZiB2YXJpYWJsZSAnSV9la3Nha3QnIGlzIHJlZGVmaW5lZAo8L2Rpdj4iIiIp"
    },
    "deletable": false,
    "editable": false,
    "execution": {
     "iopub.execute_input": "2025-09-09T08:28:50.788764Z",
     "iopub.status.busy": "2025-09-09T08:28:50.788422Z",
     "iopub.status.idle": "2025-09-09T08:28:50.797879Z",
     "shell.execute_reply": "2025-09-09T08:28:50.796126Z"
    },
    "nbgrader": {
     "cell_type": "code",
     "checksum": "15756a8942b05668d31e29c50452cf73",
     "grade": true,
     "grade_id": "cell-1163e8516322375a",
     "locked": true,
     "points": 0,
     "schema_version": 3,
     "solution": false,
     "task": false
    }
   },
   "outputs": [],
   "source": [
    "I_eksakt = 3.4524 # Eksakt løsning for integral"
   ]
  },
  {
   "cell_type": "markdown",
   "id": "055cc1a5-ccb2-4e04-b53a-65bde70f0560",
   "metadata": {
    "deletable": false
   },
   "source": [
    "\n",
    "Relativ feil kan defineres som \n",
    "$$\\left| \\frac{\\text{tilnermet verdi} - \\text{eksakt verdi}}{\\text{eksakt verdi}} \\right|$$\n",
    "\n",
    "og er et godt mål på hvor presis den numeriske metoden er. Beregn den *relative feilen* for både trapesmetoden og simpson's metode, og lagre svaret i variablene `rel_feil_trapes` og `rel_feil_simpson` nedenfor:"
   ]
  },
  {
   "cell_type": "code",
   "execution_count": null,
   "id": "3b7fb294-ef9a-4cf4-b5a3-fcbc639606e3",
   "metadata": {
    "deletable": false,
    "execution": {
     "iopub.execute_input": "2025-09-09T08:28:50.801997Z",
     "iopub.status.busy": "2025-09-09T08:28:50.801641Z",
     "iopub.status.idle": "2025-09-09T08:28:50.810566Z",
     "shell.execute_reply": "2025-09-09T08:28:50.808410Z"
    },
    "nbgrader": {
     "cell_type": "code",
     "checksum": "e30bd52f3f869fe55cf16bc0989312d5",
     "grade": false,
     "grade_id": "cell-00f884089ffd724b",
     "locked": false,
     "schema_version": 3,
     "solution": true,
     "task": false
    }
   },
   "outputs": [],
   "source": [
    "rel_feil_trapes = \"???\" # Hva er den relative feilen for trapesmetoden?\n",
    "rel_feil_simpson = \"???\" # Hva er den relative feilen for simpsons metode?\n",
    "#-------------------------------------\n",
    "# SKRIV DIN KODE HER!\n",
    "#-------------------------------------"
   ]
  },
  {
   "cell_type": "code",
   "execution_count": null,
   "id": "e2243219-2e9d-4532-b1fd-c6199c5e91fb",
   "metadata": {
    "autofeedback": {
     "test_code": "ZnJvbSBhdXRvZmVlZGJhY2sgaW1wb3J0IFZhcmlhYmxlVGVzdHMKCmRlZiB0ZXN0X3JvdXRpbmUoKToKICAgIHRyYXBlc19zb2wgPSAwLjI1NjQ2MDUyNzcyNzAxMDYKICAgIHNpbXBzb25fc29sID0gMC4wMDMzMjExMjQ1NzcwMDU4CiAgICAjcHJpbnQoZiJ7cmVsX2ZlaWxfdHJhcGVzID0gfSIpCiAgICAjcHJpbnQoZiJ7cmVsX2ZlaWxfc2ltcHNvbiA9IH0iKQoKICAgIHRlc3RfcmVzdWx0cyA9IFZhcmlhYmxlVGVzdHMoKQogICAgdGVzdF9yZXN1bHRzLmNvbXBhcmVfdmFsdWVzKHJlbF9mZWlsX3RyYXBlcywgdHJhcGVzX3NvbCwgbmFtZT0icmVsX2ZlaWxfdHJhcGVzIiwgcnRvbD0xZS0zKQogICAgdGVzdF9yZXN1bHRzLmNvbXBhcmVfdmFsdWVzKHJlbF9mZWlsX3NpbXBzb24sIHNpbXBzb25fc29sLCBuYW1lPSJyZWxfZmVpbF9zaW1wc29uIiwgcnRvbD0xZS0zKQogICAgCiAgICByZXR1cm4gcm91bmQodGVzdF9yZXN1bHRzLmdldF9yZXN1bHRzKCkqNCwgMikKdGVzdF9yb3V0aW5lKCk="
    },
    "deletable": false,
    "editable": false,
    "execution": {
     "iopub.execute_input": "2025-09-09T08:28:50.816127Z",
     "iopub.status.busy": "2025-09-09T08:28:50.815556Z",
     "iopub.status.idle": "2025-09-09T08:28:50.831385Z",
     "shell.execute_reply": "2025-09-09T08:28:50.829331Z"
    },
    "nbgrader": {
     "cell_type": "code",
     "checksum": "73c6f5508b0175c2ec895273ce54875f",
     "grade": true,
     "grade_id": "cell-5e5f26ddb51f09c6",
     "locked": true,
     "points": 4,
     "schema_version": 3,
     "solution": false,
     "task": false
    },
    "slideshow": {
     "slide_type": ""
    },
    "tags": []
   },
   "outputs": [],
   "source": [
    "# Denne cellen brukes under retting. La Stå!"
   ]
  },
  {
   "cell_type": "markdown",
   "id": "364b35d2-ac34-4c78-94c4-00b119cb33a6",
   "metadata": {
    "deletable": false,
    "editable": false,
    "slideshow": {
     "slide_type": ""
    },
    "tags": []
   },
   "source": [
    "<br>\n",
    "<nav class=\"navbar navbar-default\">\n",
    "    <div class=\"container-fluid\">\n",
    "        <div class=\"navbar-header\" style=\"float: right\">\n",
    "            <a class=\"navbar-brand\" href=\"2_Slicing.ipynb\" target=\"_self\">Neste side: <i>liste-slicing</i> &gt;</a>\n",
    "        </div>\n",
    "    </div>\n",
    "</nav>"
   ]
  }
 ],
 "metadata": {
  "kernelspec": {
   "display_name": "Python 3 (ipykernel)",
   "language": "python",
   "name": "python3"
  },
  "language_info": {
   "codemirror_mode": {
    "name": "ipython",
    "version": 3
   },
   "file_extension": ".py",
   "mimetype": "text/x-python",
   "name": "python",
   "nbconvert_exporter": "python",
   "pygments_lexer": "ipython3",
   "version": "3.12.11"
  }
 },
 "nbformat": 4,
 "nbformat_minor": 5
}
