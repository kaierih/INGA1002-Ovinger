{
 "cells": [
  {
   "cell_type": "markdown",
   "id": "7b4ae599-3884-4e43-b95c-fff7c01a5f83",
   "metadata": {
    "deletable": false,
    "editable": true,
    "slideshow": {
     "slide_type": ""
    },
    "tags": []
   },
   "source": [
    "\n",
    "<nav class=\"navbar navbar-default\">\n",
    "  <div class=\"container-fluid\">\n",
    "    <div class=\"navbar-header\" style=\"float: left\">\n",
    "        <a class=\"navbar-brand\" href=\"0_Forside.ipynb\" target=\"_self\"> <h2> &uarr; Tilbake til forsiden</h2></a>\n",
    "    </div>\n",
    "  </div>\n",
    "</nav>"
   ]
  },
  {
   "cell_type": "markdown",
   "id": "2eb0544d-4107-4bef-b56f-9229b2d3aaaa",
   "metadata": {
    "deletable": false,
    "editable": true,
    "slideshow": {
     "slide_type": ""
    },
    "tags": []
   },
   "source": [
    "# Rekkesum med numpy\n",
    "\n",
    "**Læringsmål:**\n",
    "* Bli kjent med $\\sum$-notasjon for summering av tallsekvenser\n",
    "* Kunne utføre en summerings-operasjon slik beskrevet i en matteformel med Python\n"
   ]
  },
  {
   "cell_type": "markdown",
   "id": "27f23bb8-c43b-40e8-8832-13f29e866308",
   "metadata": {
    "deletable": false,
    "editable": true,
    "slideshow": {
     "slide_type": ""
    },
    "tags": []
   },
   "source": [
    "### Tallsekvenser / Tallfølger\n",
    "\n",
    "I matematikk (og spesielt numerikk) vil du møte på *[tallsekvenser/tallfølger](https://snl.no/f%C3%B8lge)*, som består av en bestemt mengde tall i en gitt rekkeføgle. Disse fungerer akkurat som arrays i numpy, hvor en tallfølge $n$ med alle heltall fra $0$ til $9$ kan defineres slik:\n",
    "\n",
    "$$n \\in \\{0, 1, 2, 3, 4, 5, 6, 7, 8, 9\\} \\tag{3.1}$$\n",
    "\n",
    "Ut ifra tallfølgen $n$, kan vi beskrive en ny tallfølge $x_n$, for eksempel:\n",
    "\n",
    "\\begin{align}\n",
    "x_n &= (-0.8)^n \\\\\n",
    "&= \\{1.0, -0.8, 0.64, \\ldots , -0.8^{9} \\}\\tag{3.2}\n",
    "\\end{align}\n",
    "\n",
    "En slik tallfølge som i formel $3.2$ kan enkelt genereres med `numpy` på følgende måte:\n",
    "\n"
   ]
  },
  {
   "cell_type": "code",
   "execution_count": null,
   "id": "b1c4f98f-bd0d-4f8d-ab20-30af023a9c2a",
   "metadata": {
    "deletable": false,
    "execution": {
     "iopub.execute_input": "2025-09-09T08:29:02.757124Z",
     "iopub.status.busy": "2025-09-09T08:29:02.756422Z",
     "iopub.status.idle": "2025-09-09T08:29:03.041337Z",
     "shell.execute_reply": "2025-09-09T08:29:03.039448Z"
    }
   },
   "outputs": [],
   "source": [
    "import numpy as np\n",
    "\n",
    "n = np.arange(0, 10) # fom. 0 tom. 9\n",
    "x_n = (-0.8)**n\n",
    "print(f\"{x_n = }\")"
   ]
  },
  {
   "cell_type": "markdown",
   "id": "c8eba1f4-20d6-4168-9925-6294832e3e34",
   "metadata": {
    "deletable": false
   },
   "source": [
    "### Rekker\n",
    "\n",
    "Rekker er matematiske uttrykk der man summerer sammen et bestemt antall elementer i en tallfølge. Disse bruker ofte $\\Sigma$-notasjon, som generelt kan anses som matematisk notasjon for \"summer sammen en tallfølge\". Et eksempel på sigma-notasjon er vist nedenfor:\n",
    "\n",
    "$$ y_k = \\large \\sum_{n=0}^{k-1} x_n$$\n",
    "\n",
    "Denne matteformelen forteller definerer en ny tallfølge $y_k$ der hver verdi i tallfølgen vil være lik summen av de $k$ første elementene i tallfølgen $x_k$. Nedenfor ser du hvordan dette kan utledes for $k=5$:\n",
    "\n",
    "\\begin{align}\n",
    "y_5 &= \\large \\sum_{n=0}^{5-1} x_n \\\\\n",
    " &= x_0 + x_1 + x_2 + x_3 + x_4 \\\\\n",
    " &= (-0.8)^0 + (-0.8)^1 + (-0.8)^2 + (-0.8)^3 + (-0.8)^4\\\\\n",
    " &= 0.7376\n",
    "\\end{align}\n",
    "\n",
    "I Python kan vi finne verier i en slik rekke ved å kombinere [slicing](https://www.w3schools.com/python/numpy/numpy_array_slicing.asp) med funksjonen [`numpy.sum`](https://numpy.org/doc/stable/reference/generated/numpy.sum.html). Nedenfor ser du hvordan vi kan regne ut tallfølge-elementet `y_5` på denne måten:"
   ]
  },
  {
   "cell_type": "code",
   "execution_count": null,
   "id": "d3828858-0a8f-4ce0-b33e-9ca9a9934186",
   "metadata": {
    "deletable": false,
    "execution": {
     "iopub.execute_input": "2025-09-09T08:29:03.046612Z",
     "iopub.status.busy": "2025-09-09T08:29:03.046300Z",
     "iopub.status.idle": "2025-09-09T08:29:03.052547Z",
     "shell.execute_reply": "2025-09-09T08:29:03.051114Z"
    }
   },
   "outputs": [],
   "source": [
    "y_5 = np.sum(x_n[0:5]) # Regn ut verdien til y_5\n",
    "print(f\"{y_5 = :.6f}\") # Skriv ut y_5 med seks desimaler"
   ]
  },
  {
   "cell_type": "markdown",
   "id": "072617c2-8f60-44d9-b052-7ddbd5e7030b",
   "metadata": {
    "deletable": false
   },
   "source": [
    "I denne oppgaven skal vi lage *funksjoner* i python, som kan beregne ulike typer rekkesummer."
   ]
  },
  {
   "cell_type": "markdown",
   "id": "76f63324-daf3-47cf-8c0a-959dbb5ab366",
   "metadata": {
    "deletable": false
   },
   "source": [
    "## a)\n",
    "Fullfør funksjonen `sum_0_til_k(x_n, k)` som regner ut følgende sum\n",
    "\n",
    "$$\\sum_{n=0}^{k-1} x_n $$\n",
    "\n",
    "gitt at den tar imot en array `x_n` og en heltallsverdi `k`. Inngangsvariabelen *kan* være arrayen `x_k` som er definert i eksempelet over, men funksjonen skal kunne gjøre samme summasjon for hvilken som helst array (så lenge den består av minst `k` element). Det er anbefalt å bruke *slicing* til å løse oppgaven."
   ]
  },
  {
   "cell_type": "code",
   "execution_count": null,
   "id": "a318b690-ee6b-4abd-b188-955126b3b98f",
   "metadata": {
    "deletable": false,
    "execution": {
     "iopub.execute_input": "2025-09-09T08:29:03.057597Z",
     "iopub.status.busy": "2025-09-09T08:29:03.057336Z",
     "iopub.status.idle": "2025-09-09T08:29:03.063865Z",
     "shell.execute_reply": "2025-09-09T08:29:03.062817Z"
    },
    "nbgrader": {
     "cell_type": "code",
     "checksum": "c860c340a9bdc5f67a475fade20bcb9d",
     "grade": false,
     "grade_id": "cell-97e864052d703e38",
     "locked": false,
     "schema_version": 3,
     "solution": true,
     "task": false
    }
   },
   "outputs": [],
   "source": [
    "def sum_0_til_k(x_n, k):\n",
    "    #-------------------------------------\n",
    "    # SKRIV DIN KODE HER!\n",
    "    #-------------------------------------\n",
    "\n",
    "# Du kan bruke følgende funksjonskall og utskrift for å sjekke om funksjonen returnerer riktig verdi:\n",
    "x_n = (-0.8)**np.arange(20) # x_n = 0.5^n\n",
    "print(f\"{sum_0_til_k(x_n, 5) = :.4f}\") # k = 8"
   ]
  },
  {
   "cell_type": "code",
   "execution_count": null,
   "id": "76fa1324-8854-4a9e-aa2d-965bafca9d4d",
   "metadata": {
    "autofeedback": {
     "test_code": "ZGVmIHRlc3Rfcm91dGluZSgpOgogICAgZnJvbSBhdXRvZmVlZGJhY2sgaW1wb3J0IEZ1bmN0aW9uVGVzdHMKICAgIGltcG9ydCBudW1weSBhcyBucAogICAgZnJvbSByYW5kb20gaW1wb3J0IHNhbXBsZSwgcmFuZGludAogICAgCiAgICBkZWYgc3VtXzBfdGlsX2tfc29sdXRpb24oeF9uLCBrKToKICAgICAgICByZXR1cm4gbnAuc3VtKHhfbls6a10pCgogICAgZ3JhZGluZ19yZXN1bHRzID0gRnVuY3Rpb25UZXN0cyhzdW1fMF90aWxfa19zb2x1dGlvbikKICAgIHRyeToKICAgICAgICBncmFkaW5nX3Jlc3VsdHMuYWRkX3Rlc3RfZnVuYyhzdW1fMF90aWxfaykKICAgIGV4Y2VwdCBFeGNlcHRpb24gYXMgZToKICAgICAgICBncmFkaW5nX3Jlc3VsdHMubG9nLmFwcGVuZCgiQ291bGQgbm90IHJ1biB0ZXN0cywgIitlLmFyZ3NbMF0pCiAgICBlbHNlOgogICAgICAgIE4gPSAzCiAgICAgICAga192YWx1ZXMgPSBzYW1wbGUobGlzdChyYW5nZSgyLCAxMCkpLCBOKQogICAgICAgIGZvciBrIGluIGtfdmFsdWVzOgogICAgICAgICAgICBzZXF1ZW5jZSA9IG5wLmludDMyKG5wLnJvdW5kKG5wLmxpbnNwYWNlKHJhbmRpbnQoLTEwMCwgMTAwKSwgcmFuZGludCgtMTAwLCAxMDApLCBrICsgcmFuZGludCgxLCA4KSkpKQogICAgICAgICAgICBncmFkaW5nX3Jlc3VsdHMudGVzdF9yZXR1cm5fdmFsdWUoc2VxdWVuY2UsIGspCiAgICAKICAgIHJldHVybiByb3VuZChncmFkaW5nX3Jlc3VsdHMuZ2V0X3Jlc3VsdHMoKSozLCAyKQp0ZXN0X3JvdXRpbmUoKQ=="
    },
    "deletable": false,
    "editable": false,
    "execution": {
     "iopub.execute_input": "2025-09-09T08:29:03.069422Z",
     "iopub.status.busy": "2025-09-09T08:29:03.069070Z",
     "iopub.status.idle": "2025-09-09T08:29:05.661058Z",
     "shell.execute_reply": "2025-09-09T08:29:05.658798Z"
    },
    "nbgrader": {
     "cell_type": "code",
     "checksum": "31dd7d4b68fc84dcd4251b025edf8496",
     "grade": true,
     "grade_id": "cell-fc12908f82cf3645",
     "locked": true,
     "points": 3,
     "schema_version": 3,
     "solution": false,
     "task": false
    }
   },
   "outputs": [],
   "source": [
    "# Denne cellen brukes under retting. La stå!"
   ]
  },
  {
   "cell_type": "markdown",
   "id": "a7ebb52a-fe3a-4d16-a0f2-a9cdded784fa",
   "metadata": {
    "deletable": false
   },
   "source": [
    "## b) \n",
    "Fullfør funksjonen `sum_annenhver(x_n)` som regner ut følgende sum:\n",
    "\n",
    "$$\\sum_{i} x_{2\\cdot i}$$\n",
    "\n",
    "Dette tilsvarer summen av annenhvert element i *hele* tallfølgen $x_n$"
   ]
  },
  {
   "cell_type": "code",
   "execution_count": null,
   "id": "3bd7be5e-6afa-4ac3-bbdf-ed26e8d7edcf",
   "metadata": {
    "deletable": false,
    "execution": {
     "iopub.execute_input": "2025-09-09T08:29:05.669490Z",
     "iopub.status.busy": "2025-09-09T08:29:05.668332Z",
     "iopub.status.idle": "2025-09-09T08:29:05.680673Z",
     "shell.execute_reply": "2025-09-09T08:29:05.677956Z"
    },
    "nbgrader": {
     "cell_type": "code",
     "checksum": "9953ec4a83a04aa252bb448496f5a106",
     "grade": false,
     "grade_id": "cell-17f618bc327f4cad",
     "locked": false,
     "schema_version": 3,
     "solution": true,
     "task": false
    }
   },
   "outputs": [],
   "source": [
    "def sum_annenhver(x_n):\n",
    "    #-------------------------------------\n",
    "    # SKRIV DIN KODE HER!\n",
    "    #-------------------------------------\n",
    "\n",
    "# Du kan bruke følgende funksjonskall og utskrift for å sjekke om funksjonen returnerer riktig verdi:\n",
    "x_n = (-0.8)**np.arange(20) # x_n = 0.5^n\n",
    "print(f\"{sum_annenhver(x_n) = :.4f}\")"
   ]
  },
  {
   "cell_type": "code",
   "execution_count": null,
   "id": "9fa8cb3c-3d0b-4177-9ccf-f3da15f9e748",
   "metadata": {
    "autofeedback": {
     "test_code": "ZGVmIHRlc3Rfcm91dGluZSgpOgogICAgZnJvbSBhdXRvZmVlZGJhY2sgaW1wb3J0IEZ1bmN0aW9uVGVzdHMKICAgIGltcG9ydCBudW1weSBhcyBucAogICAgZnJvbSByYW5kb20gaW1wb3J0IHNhbXBsZSwgcmFuZGludAogICAgCiAgICBkZWYgc3VtX2FubmVuaHZlcl9zb2x1dGlvbih4X24pOgogICAgICAgIHJldHVybiBucC5zdW0oeF9uWzo6Ml0pCgogICAgZ3JhZGluZ19yZXN1bHRzID0gRnVuY3Rpb25UZXN0cyhzdW1fYW5uZW5odmVyX3NvbHV0aW9uKQogICAgdHJ5OgogICAgICAgIGdyYWRpbmdfcmVzdWx0cy5hZGRfdGVzdF9mdW5jKHN1bV9hbm5lbmh2ZXIpCiAgICBleGNlcHQgRXhjZXB0aW9uIGFzIGU6CiAgICAgICAgZ3JhZGluZ19yZXN1bHRzLmxvZy5hcHBlbmQoIkNvdWxkIG5vdCBydW4gdGVzdHMsICIrZS5hcmdzWzBdKQogICAgZWxzZToKICAgICAgICBOID0gMwogICAgICAgIGZvciBrIGluIHJhbmdlKE4pOgogICAgICAgICAgICBzZXF1ZW5jZSA9IG5wLmludDMyKG5wLnJvdW5kKG5wLmxpbnNwYWNlKHJhbmRpbnQoLTk5LCA5OSksIHJhbmRpbnQoLTk5LCA5OSksIHJhbmRpbnQoNiwgMTApKSkpCiAgICAgICAgICAgIGdyYWRpbmdfcmVzdWx0cy50ZXN0X3JldHVybl92YWx1ZShzZXF1ZW5jZSkKICAgIAogICAgcmV0dXJuIHJvdW5kKGdyYWRpbmdfcmVzdWx0cy5nZXRfcmVzdWx0cygpKjMsIDIpCnRlc3Rfcm91dGluZSgp"
    },
    "deletable": false,
    "editable": false,
    "execution": {
     "iopub.execute_input": "2025-09-09T08:29:05.687969Z",
     "iopub.status.busy": "2025-09-09T08:29:05.687162Z",
     "iopub.status.idle": "2025-09-09T08:29:05.712717Z",
     "shell.execute_reply": "2025-09-09T08:29:05.710798Z"
    },
    "nbgrader": {
     "cell_type": "code",
     "checksum": "8edee31e8f857b8e334aec1233bd8d24",
     "grade": true,
     "grade_id": "cell-d41d707a2e7c5329",
     "locked": true,
     "points": 3,
     "schema_version": 3,
     "solution": false,
     "task": false
    }
   },
   "outputs": [],
   "source": [
    "# Denne cellen brukes under retting. La stå!"
   ]
  },
  {
   "cell_type": "markdown",
   "id": "03bc5eb4-edff-4d44-a70b-a484727df8b2",
   "metadata": {
    "deletable": false
   },
   "source": [
    "## c)\n",
    "\n",
    "En geometrisk rekke er en sum som kan skrives på formen under: \n",
    "\n",
    "$$\\sum_{i=0}^{n}r^{i}=r^{0}+r^{1}+r^{2}+r^{3}+\\cdot \\cdot \\cdot +r^{n}$$\n",
    "der $r \\in (-1,1)$. Fullfør funksjonen `geometrisk_rekke` nedenfor slik at den returnerer riktig tallverdi gitt parametrene $r$ og $n$:"
   ]
  },
  {
   "cell_type": "code",
   "execution_count": null,
   "id": "8912e1c8-4f90-4087-85f9-27929fbb4756",
   "metadata": {
    "deletable": false,
    "execution": {
     "iopub.execute_input": "2025-09-09T08:29:05.720756Z",
     "iopub.status.busy": "2025-09-09T08:29:05.720187Z",
     "iopub.status.idle": "2025-09-09T08:29:05.729279Z",
     "shell.execute_reply": "2025-09-09T08:29:05.727346Z"
    },
    "nbgrader": {
     "cell_type": "code",
     "checksum": "4271c1b2459d9bfd849882384c9c4048",
     "grade": false,
     "grade_id": "cell-c84dd4058112dc36",
     "locked": false,
     "schema_version": 3,
     "solution": true,
     "task": false
    }
   },
   "outputs": [],
   "source": [
    "def geometrisk_rekke(r, n):\n",
    "    #-------------------------------------\n",
    "    # SKRIV DIN KODE HER!\n",
    "    #-------------------------------------\n",
    "\n",
    "\n",
    "print(f\"{geometrisk_rekke(-0.8, 5) = :.3f}\")"
   ]
  },
  {
   "cell_type": "code",
   "execution_count": null,
   "id": "eab2c792-9a58-4a28-a212-69b9c5f0c854",
   "metadata": {
    "autofeedback": {
     "test_code": "ZGVmIHRlc3Rfcm91dGluZSgpOgogICAgZnJvbSBhdXRvZmVlZGJhY2sgaW1wb3J0IEZ1bmN0aW9uVGVzdHMKICAgIGltcG9ydCBudW1weSBhcyBucAogICAgZnJvbSByYW5kb20gaW1wb3J0IHNhbXBsZSwgcmFuZGludAogICAgCiAgICBkZWYgZ2VvbWV0cmlza19yZWtrZV9zb2x1dGlvbihyLCBuKToKICAgICAgICBpID0gbnAuYXJhbmdlKDAsIG4gKyAxKQogICAgICAgIHJldHVybiBucC5zdW0ocioqaSkKCgogICAgZ3JhZGluZ19yZXN1bHRzID0gRnVuY3Rpb25UZXN0cyhnZW9tZXRyaXNrX3Jla2tlX3NvbHV0aW9uKQogICAgdHJ5OgogICAgICAgIGdyYWRpbmdfcmVzdWx0cy5hZGRfdGVzdF9mdW5jKGdlb21ldHJpc2tfcmVra2UpCiAgICBleGNlcHQgRXhjZXB0aW9uIGFzIGU6CiAgICAgICAgZ3JhZGluZ19yZXN1bHRzLmxvZy5hcHBlbmQoIkNvdWxkIG5vdCBydW4gdGVzdHMsICIrZS5hcmdzWzBdKQogICAgZWxzZToKICAgICAgICBOID0gMwogICAgICAgIG5fdmFsdWVzID0gc2FtcGxlKGxpc3QocmFuZ2UoMCwgMTApKSwgTikKICAgICAgICAKICAgICAgICByX3ZhbHVlcyA9IHNhbXBsZShbaS8xMCBmb3IgaSBpbiByYW5nZSg0LCAxMCldK1tpLzEwIGZvciBpIGluIHJhbmdlKC00LCAtMTAsIC0xKV0sIE4pCiAgICAgICAgZm9yIHIsIG4gaW4gemlwKHJfdmFsdWVzLCBuX3ZhbHVlcyk6CiAgICAgICAgICAgIGdyYWRpbmdfcmVzdWx0cy50ZXN0X3JldHVybl92YWx1ZShyLCBuKQogICAgICAgICAgICAKICAgIHJldHVybiByb3VuZChncmFkaW5nX3Jlc3VsdHMuZ2V0X3Jlc3VsdHMoKSo0LCAyKQp0ZXN0X3JvdXRpbmUoKQ=="
    },
    "deletable": false,
    "editable": false,
    "execution": {
     "iopub.execute_input": "2025-09-09T08:29:05.736606Z",
     "iopub.status.busy": "2025-09-09T08:29:05.735899Z",
     "iopub.status.idle": "2025-09-09T08:29:05.763289Z",
     "shell.execute_reply": "2025-09-09T08:29:05.761412Z"
    },
    "nbgrader": {
     "cell_type": "code",
     "checksum": "5a1fc35b4cf6511dc6523c2afbcb5835",
     "grade": true,
     "grade_id": "cell-aa0df2e0a1c857bd",
     "locked": true,
     "points": 4,
     "schema_version": 3,
     "solution": false,
     "task": false
    },
    "slideshow": {
     "slide_type": ""
    },
    "tags": []
   },
   "outputs": [],
   "source": [
    "# Denne cellen brukes under retting. La stå!"
   ]
  },
  {
   "cell_type": "markdown",
   "id": "4bd623d8-ad17-4a2e-a6a6-dc4c74038ce0",
   "metadata": {
    "deletable": false,
    "editable": false,
    "slideshow": {
     "slide_type": ""
    },
    "tags": []
   },
   "source": [
    "<br>\n",
    "<nav class=\"navbar navbar-default\">\n",
    "    <div class=\"container-fluid\">\n",
    "        <div class=\"navbar-header\" style=\"float: left\">\n",
    "            <a class=\"navbar-brand\" href=\"2_Slicing.ipynb\" target=\"_self\">&lt; Forrige side: <i>liste-slicing</i></a>\n",
    "            </div>\n",
    "        <div class=\"navbar-header\" style=\"float: right\">\n",
    "            <a class=\"navbar-brand\" href=\"4_Numerisk_integrasjon_arrays.ipynb\" target=\"_self\">Neste side: <i>mer om numerisk integrasjon</i> &gt;</a>\n",
    "        </div>\n",
    "    </div>\n",
    "</nav>"
   ]
  }
 ],
 "metadata": {
  "kernelspec": {
   "display_name": "Python 3 (ipykernel)",
   "language": "python",
   "name": "python3"
  },
  "language_info": {
   "codemirror_mode": {
    "name": "ipython",
    "version": 3
   },
   "file_extension": ".py",
   "mimetype": "text/x-python",
   "name": "python",
   "nbconvert_exporter": "python",
   "pygments_lexer": "ipython3",
   "version": "3.12.11"
  }
 },
 "nbformat": 4,
 "nbformat_minor": 5
}
