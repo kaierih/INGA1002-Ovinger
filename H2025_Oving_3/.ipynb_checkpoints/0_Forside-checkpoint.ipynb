{
 "cells": [
  {
   "cell_type": "markdown",
   "metadata": {
    "deletable": false
   },
   "source": [
    "# Øving 3\n",
    "\n",
    "Hei og velkommen til tredje øving i INGA1002 - Programmering, numerikk og sikkerhet. Et overordnet tema for denne øvingen er ***numerisk integrasjon***, som man bruker til å integrere funksjoner, datasett o.l. i Python. Av praktisk programmeringskunnskap skal vi jobbe mer med **lister** og **arrays** fra øving 2, samt lære å bruke **slicing** for å få tilgang til mange elementer i en liste/array samtidig.\n",
    "\n",
    "I dette emnet er det to viktige metoder for numerisk integrasjon som vi skal lære: [trapesmetoden og simpsons metode](https://github.com/imfdrift/INGX1002H24/blob/01d7838a7c89b45b0fe2686cb70275ddab1b9bc9//1_diffint/1_diffint_trapesSimpson.ipynb). Kjører du kodecellen nedenfor, vil du se en interaktiv demo som illustrerer hvordan de ulike metodene for å finne en tilnærmet verdi av det bundne integralet $\\int_0^2 f(x)\\ dx$ fungerer for funksjonen $f(x) = e^x + 2\\sin(2\\pi \\cdot x)$.\n"
   ]
  },
  {
   "cell_type": "code",
   "execution_count": null,
   "metadata": {
    "deletable": false,
    "execution": {
     "iopub.execute_input": "2025-09-09T08:28:40.495144Z",
     "iopub.status.busy": "2025-09-09T08:28:40.494383Z",
     "iopub.status.idle": "2025-09-09T08:28:41.627045Z",
     "shell.execute_reply": "2025-09-09T08:28:41.624800Z"
    }
   },
   "outputs": [],
   "source": [
    "from numerikk_demoer import NumIntDemo\n",
    "import numpy as np\n",
    "%matplotlib ipympl\n",
    "\n",
    "def f(x):\n",
    "    return np.exp(x) + 2*np.sin(2*np.pi*x)\n",
    "\n",
    "NumIntDemo(f, [0, 2]);"
   ]
  },
  {
   "cell_type": "markdown",
   "metadata": {
    "deletable": false
   },
   "source": [
    "## Læringsmål\n",
    "### Numerikk\n",
    "- Forstå konseptet numerisk integrasjon\n",
    "- Bli kjent med de ulike metodene for numerisk integrasjon: Trapesmetoden og Simpsons Metode\n",
    "- Grunnleggende om nøyaktighet i numeriske beregninger.\n",
    "### Programmering \n",
    "- Bli kjent med sekvenstyper som `list` og `np.array`, og hva forskjellene på disse er.\n",
    "- Forstå hvordan å bruke numpy-arrays i vanlige funksjoner, for å utføre beregninger på flere verdier samtidig.\n",
    "- Plotting og visualisere funksjoner/datasett."
   ]
  },
  {
   "cell_type": "markdown",
   "metadata": {
    "deletable": false,
    "editable": true,
    "slideshow": {
     "slide_type": ""
    },
    "tags": []
   },
   "source": [
    "## Om oppgavene\n",
    "\n",
    "Oppgaver markert som \"grunnleggende\" dekker tema som er regnet som kjernepensum, og er nødvendig å beherske for å gå videre med de senere øvingene. Andre oppgaver vil absolutt styrke forståelsen for faget, og kan ofte være mer spennende å jobbe med, men er i større grad frivillig å arbeide med. Er du ny til programmering, er det anbefalt å begynne med de grunnleggende oppgavene, men om du har programmert litt før, kan det være mer spennende å arbeide med de øvrige oppgavene.\n",
    "\n",
    "Alle oppgavene til sammen kan gi inntil 80 poeng. Kravet for godkjenning er 40 poeng eller mer."
   ]
  },
  {
   "cell_type": "markdown",
   "metadata": {
    "deletable": false,
    "editable": true,
    "run_control": {
     "frozen": true
    },
    "slideshow": {
     "slide_type": ""
    },
    "tags": []
   },
   "source": [
    "Oppgave | Tema | Merknad |Poeng\n",
    "--- | --- | --- | ---\n",
    "[Intro til Numerisk Integrasjon](1_Numerisk_integrasjon_intro.ipynb) | Numerisk integrasjon med ett delintervall | Grunnleggende | 10\n",
    "[Slicing av Lister](2_Slicing.ipynb) | Uthenting av flere elementer i en liste | Grunnleggende | 10\n",
    "[Rekkesum med numpy](3_Array_sum.ipynb) | Tallfølger og rekker med numpy | Grunnleggende | 10\n",
    "[Mer om Numerisk Integrasjon](4_Numerisk_integrasjon_arrays.ipynb) | Numerisk integrasjon med flere delintervall | Grunnleggende | 10\n",
    "[Peregn pi](5_Beregn_pi.ipynb) | Bruk av numerisk integrasjon for å takle et velkjent problem | Grunnleggende | 10\n",
    "[Mer om lister og strenger](6_Mer_lister_strenger.ipynb) | Nyttige detaljer om strenger og lister | Grunnleggende men litt innviklet | 10\n",
    "[Hastighetsberegning](7_Hastighetsberegning.ipynb) | Numerisk derivasjon med praktiske datasett | Litt innviklet | 10\n",
    "[Spill en melodi](8_spill_en_melodi.ipynb) | Bruk av numpy-arrays til å lage lydsignal (vanskelig) | Artig men vanskelig | 10\n"
   ]
  },
  {
   "cell_type": "markdown",
   "metadata": {
    "deletable": false
   },
   "source": [
    "### For å generere tilbakemelding på oppgavesvar, kjør kodecellen nedenfor:\n",
    "\n",
    "*NB! Husk å lagre alle oppgavefilene før du kjører retting*"
   ]
  },
  {
   "cell_type": "code",
   "execution_count": null,
   "metadata": {
    "deletable": false,
    "editable": true,
    "execution": {
     "iopub.execute_input": "2025-09-09T08:28:41.639956Z",
     "iopub.status.busy": "2025-09-09T08:28:41.638733Z",
     "iopub.status.idle": "2025-09-09T08:28:44.545274Z",
     "shell.execute_reply": "2025-09-09T08:28:44.542626Z"
    },
    "slideshow": {
     "slide_type": ""
    },
    "tags": []
   },
   "outputs": [],
   "source": [
    "# Make sure autofeedback package is installed\n",
    "try:\n",
    "    from autofeedback import autograde_notebooks\n",
    "except ModuleNotFoundError:\n",
    "    print(\"Installing autofeedback. Please Wait...\")\n",
    "    output = !pip install git+https://github.com/kaierih/autofeedback.git\n",
    "    from autofeedback import autograde_notebooks\n",
    "    print(\"Autofeedback installed.\")\n",
    "\n",
    "# Generate feedback from grading tests\n",
    "task_files = [\"1_Numerisk_integrasjon_intro.ipynb\",\n",
    "              \"2_Slicing.ipynb\",\n",
    "              \"3_Array_sum.ipynb\",\n",
    "              \"4_Numerisk_integrasjon_arrays.ipynb\",\n",
    "              \"5_Beregn_pi.ipynb\",\n",
    "              \"6_Mer_lister_strenger.ipynb\",\n",
    "              \"7_Hastighetsberegning.ipynb\",\n",
    "              \"8_spill_en_melodi.ipynb\"]\n",
    "autograde_notebooks(task_files)"
   ]
  }
 ],
 "metadata": {
  "kernelspec": {
   "display_name": "Python 3 (ipykernel)",
   "language": "python",
   "name": "python3"
  },
  "language_info": {
   "codemirror_mode": {
    "name": "ipython",
    "version": 3
   },
   "file_extension": ".py",
   "mimetype": "text/x-python",
   "name": "python",
   "nbconvert_exporter": "python",
   "pygments_lexer": "ipython3",
   "version": "3.12.11"
  },
  "scenes_data": {
   "active_scene": "Default Scene",
   "init_scene": "",
   "scenes": [
    "Default Scene"
   ]
  },
  "toc": {
   "base_numbering": 1,
   "nav_menu": {},
   "number_sections": false,
   "sideBar": true,
   "skip_h1_title": false,
   "title_cell": "Table of Contents",
   "title_sidebar": "Contents",
   "toc_cell": false,
   "toc_position": {},
   "toc_section_display": true,
   "toc_window_display": false
  },
  "widgets": {
   "application/vnd.jupyter.widget-state+json": {
    "state": {
     "07702c39f8334bfcaa98966e46646d71": {
      "model_module": "@jupyter-widgets/controls",
      "model_module_version": "2.0.0",
      "model_name": "HBoxModel",
      "state": {
       "_dom_classes": [],
       "_model_module": "@jupyter-widgets/controls",
       "_model_module_version": "2.0.0",
       "_model_name": "HBoxModel",
       "_view_count": null,
       "_view_module": "@jupyter-widgets/controls",
       "_view_module_version": "2.0.0",
       "_view_name": "HBoxView",
       "box_style": "",
       "children": [
        "IPY_MODEL_5213fb16eb0d4b5d9803dd55f58900f5",
        "IPY_MODEL_3d319825c08a4ac8839d1d4841b03de8"
       ],
       "layout": "IPY_MODEL_5c234a9574054935847347c5a1c70256",
       "tabbable": null,
       "tooltip": null
      }
     },
     "07d2eea53a49417391e05fe9851e8ca5": {
      "model_module": "jupyter-matplotlib",
      "model_module_version": "^0.11",
      "model_name": "MPLCanvasModel",
      "state": {
       "_cursor": "pointer",
       "_data_url": "data:image/png;base64,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",
       "_dom_classes": [],
       "_figure_label": "Figure",
       "_image_mode": "full",
       "_message": "",
       "_model_module": "jupyter-matplotlib",
       "_model_module_version": "^0.11",
       "_model_name": "MPLCanvasModel",
       "_rubberband_height": 0,
       "_rubberband_width": 0,
       "_rubberband_x": 0,
       "_rubberband_y": 0,
       "_size": [
        800.0,
        600.0
       ],
       "_view_count": null,
       "_view_module": "jupyter-matplotlib",
       "_view_module_version": "^0.11",
       "_view_name": "MPLCanvasView",
       "capture_scroll": false,
       "footer_visible": true,
       "header_visible": true,
       "layout": "IPY_MODEL_7b940b192c8440ff8e22f1aee9e60778",
       "pan_zoom_throttle": 33.0,
       "resizable": true,
       "tabbable": null,
       "toolbar": "IPY_MODEL_c67e791eee9b4309b4e80c25708fef4e",
       "toolbar_position": "left",
       "toolbar_visible": "fade-in-fade-out",
       "tooltip": null
      }
     },
     "2753cf808aa444ecb56b70dd8ccb3400": {
      "model_module": "@jupyter-widgets/base",
      "model_module_version": "2.0.0",
      "model_name": "LayoutModel",
      "state": {
       "_model_module": "@jupyter-widgets/base",
       "_model_module_version": "2.0.0",
       "_model_name": "LayoutModel",
       "_view_count": null,
       "_view_module": "@jupyter-widgets/base",
       "_view_module_version": "2.0.0",
       "_view_name": "LayoutView",
       "align_content": null,
       "align_items": null,
       "align_self": null,
       "border_bottom": null,
       "border_left": null,
       "border_right": null,
       "border_top": null,
       "bottom": null,
       "display": null,
       "flex": null,
       "flex_flow": null,
       "grid_area": null,
       "grid_auto_columns": null,
       "grid_auto_flow": null,
       "grid_auto_rows": null,
       "grid_column": null,
       "grid_gap": null,
       "grid_row": null,
       "grid_template_areas": null,
       "grid_template_columns": null,
       "grid_template_rows": null,
       "height": null,
       "justify_content": null,
       "justify_items": null,
       "left": null,
       "margin": null,
       "max_height": null,
       "max_width": null,
       "min_height": null,
       "min_width": null,
       "object_fit": null,
       "object_position": null,
       "order": null,
       "overflow": null,
       "padding": null,
       "right": null,
       "top": null,
       "visibility": null,
       "width": "30%"
      }
     },
     "3d319825c08a4ac8839d1d4841b03de8": {
      "model_module": "@jupyter-widgets/controls",
      "model_module_version": "2.0.0",
      "model_name": "DropdownModel",
      "state": {
       "_dom_classes": [],
       "_model_module": "@jupyter-widgets/controls",
       "_model_module_version": "2.0.0",
       "_model_name": "DropdownModel",
       "_options_labels": [
        "trapezoidal",
        "simpson's"
       ],
       "_view_count": null,
       "_view_module": "@jupyter-widgets/controls",
       "_view_module_version": "2.0.0",
       "_view_name": "DropdownView",
       "description": "Integrasjonsmetode:",
       "description_allow_html": false,
       "disabled": false,
       "index": 0,
       "layout": "IPY_MODEL_2753cf808aa444ecb56b70dd8ccb3400",
       "style": "IPY_MODEL_5e46a1b9dc7e4cacb14cc7df407b00d1",
       "tabbable": null,
       "tooltip": null
      }
     },
     "5213fb16eb0d4b5d9803dd55f58900f5": {
      "model_module": "@jupyter-widgets/controls",
      "model_module_version": "2.0.0",
      "model_name": "BoundedIntTextModel",
      "state": {
       "_dom_classes": [],
       "_model_module": "@jupyter-widgets/controls",
       "_model_module_version": "2.0.0",
       "_model_name": "BoundedIntTextModel",
       "_view_count": null,
       "_view_module": "@jupyter-widgets/controls",
       "_view_module_version": "2.0.0",
       "_view_name": "IntTextView",
       "continuous_update": true,
       "description": "Antall delintervall N",
       "description_allow_html": false,
       "disabled": false,
       "layout": "IPY_MODEL_756f31d61a2c4162b7b65ee4cc160119",
       "max": 20,
       "min": 1,
       "step": 1,
       "style": "IPY_MODEL_a3c7f53bbb8047b9ade5f26eb5528ed9",
       "tabbable": null,
       "tooltip": null,
       "value": 5
      }
     },
     "5c234a9574054935847347c5a1c70256": {
      "model_module": "@jupyter-widgets/base",
      "model_module_version": "2.0.0",
      "model_name": "LayoutModel",
      "state": {
       "_model_module": "@jupyter-widgets/base",
       "_model_module_version": "2.0.0",
       "_model_name": "LayoutModel",
       "_view_count": null,
       "_view_module": "@jupyter-widgets/base",
       "_view_module_version": "2.0.0",
       "_view_name": "LayoutView",
       "align_content": null,
       "align_items": null,
       "align_self": null,
       "border_bottom": null,
       "border_left": null,
       "border_right": null,
       "border_top": null,
       "bottom": null,
       "display": null,
       "flex": null,
       "flex_flow": null,
       "grid_area": null,
       "grid_auto_columns": null,
       "grid_auto_flow": null,
       "grid_auto_rows": null,
       "grid_column": null,
       "grid_gap": null,
       "grid_row": null,
       "grid_template_areas": null,
       "grid_template_columns": null,
       "grid_template_rows": null,
       "height": null,
       "justify_content": null,
       "justify_items": null,
       "left": null,
       "margin": null,
       "max_height": null,
       "max_width": null,
       "min_height": null,
       "min_width": null,
       "object_fit": null,
       "object_position": null,
       "order": null,
       "overflow": null,
       "padding": null,
       "right": null,
       "top": null,
       "visibility": null,
       "width": null
      }
     },
     "5e46a1b9dc7e4cacb14cc7df407b00d1": {
      "model_module": "@jupyter-widgets/controls",
      "model_module_version": "2.0.0",
      "model_name": "DescriptionStyleModel",
      "state": {
       "_model_module": "@jupyter-widgets/controls",
       "_model_module_version": "2.0.0",
       "_model_name": "DescriptionStyleModel",
       "_view_count": null,
       "_view_module": "@jupyter-widgets/base",
       "_view_module_version": "2.0.0",
       "_view_name": "StyleView",
       "description_width": "initial"
      }
     },
     "756f31d61a2c4162b7b65ee4cc160119": {
      "model_module": "@jupyter-widgets/base",
      "model_module_version": "2.0.0",
      "model_name": "LayoutModel",
      "state": {
       "_model_module": "@jupyter-widgets/base",
       "_model_module_version": "2.0.0",
       "_model_name": "LayoutModel",
       "_view_count": null,
       "_view_module": "@jupyter-widgets/base",
       "_view_module_version": "2.0.0",
       "_view_name": "LayoutView",
       "align_content": null,
       "align_items": null,
       "align_self": null,
       "border_bottom": null,
       "border_left": null,
       "border_right": null,
       "border_top": null,
       "bottom": null,
       "display": null,
       "flex": null,
       "flex_flow": null,
       "grid_area": null,
       "grid_auto_columns": null,
       "grid_auto_flow": null,
       "grid_auto_rows": null,
       "grid_column": null,
       "grid_gap": null,
       "grid_row": null,
       "grid_template_areas": null,
       "grid_template_columns": null,
       "grid_template_rows": null,
       "height": null,
       "justify_content": null,
       "justify_items": null,
       "left": null,
       "margin": null,
       "max_height": null,
       "max_width": null,
       "min_height": null,
       "min_width": null,
       "object_fit": null,
       "object_position": null,
       "order": null,
       "overflow": null,
       "padding": null,
       "right": null,
       "top": null,
       "visibility": null,
       "width": "30%"
      }
     },
     "7b940b192c8440ff8e22f1aee9e60778": {
      "model_module": "@jupyter-widgets/base",
      "model_module_version": "2.0.0",
      "model_name": "LayoutModel",
      "state": {
       "_model_module": "@jupyter-widgets/base",
       "_model_module_version": "2.0.0",
       "_model_name": "LayoutModel",
       "_view_count": null,
       "_view_module": "@jupyter-widgets/base",
       "_view_module_version": "2.0.0",
       "_view_name": "LayoutView",
       "align_content": null,
       "align_items": null,
       "align_self": null,
       "border_bottom": null,
       "border_left": null,
       "border_right": null,
       "border_top": null,
       "bottom": null,
       "display": null,
       "flex": null,
       "flex_flow": null,
       "grid_area": null,
       "grid_auto_columns": null,
       "grid_auto_flow": null,
       "grid_auto_rows": null,
       "grid_column": null,
       "grid_gap": null,
       "grid_row": null,
       "grid_template_areas": null,
       "grid_template_columns": null,
       "grid_template_rows": null,
       "height": null,
       "justify_content": null,
       "justify_items": null,
       "left": null,
       "margin": null,
       "max_height": null,
       "max_width": null,
       "min_height": null,
       "min_width": null,
       "object_fit": null,
       "object_position": null,
       "order": null,
       "overflow": null,
       "padding": null,
       "right": null,
       "top": null,
       "visibility": null,
       "width": null
      }
     },
     "a3c7f53bbb8047b9ade5f26eb5528ed9": {
      "model_module": "@jupyter-widgets/controls",
      "model_module_version": "2.0.0",
      "model_name": "DescriptionStyleModel",
      "state": {
       "_model_module": "@jupyter-widgets/controls",
       "_model_module_version": "2.0.0",
       "_model_name": "DescriptionStyleModel",
       "_view_count": null,
       "_view_module": "@jupyter-widgets/base",
       "_view_module_version": "2.0.0",
       "_view_name": "StyleView",
       "description_width": "initial"
      }
     },
     "b5222ad7057c4abca79bd1db1613be8b": {
      "model_module": "@jupyter-widgets/output",
      "model_module_version": "1.0.0",
      "model_name": "OutputModel",
      "state": {
       "_dom_classes": [],
       "_model_module": "@jupyter-widgets/output",
       "_model_module_version": "1.0.0",
       "_model_name": "OutputModel",
       "_view_count": null,
       "_view_module": "@jupyter-widgets/output",
       "_view_module_version": "1.0.0",
       "_view_name": "OutputView",
       "layout": "IPY_MODEL_e5e51a8b659b4601a532ed96a79f872a",
       "msg_id": "",
       "outputs": [],
       "tabbable": null,
       "tooltip": null
      }
     },
     "c67e791eee9b4309b4e80c25708fef4e": {
      "model_module": "jupyter-matplotlib",
      "model_module_version": "^0.11",
      "model_name": "ToolbarModel",
      "state": {
       "_current_action": "",
       "_dom_classes": [],
       "_model_module": "jupyter-matplotlib",
       "_model_module_version": "^0.11",
       "_model_name": "ToolbarModel",
       "_view_count": null,
       "_view_module": "jupyter-matplotlib",
       "_view_module_version": "^0.11",
       "_view_name": "ToolbarView",
       "button_style": "",
       "collapsed": true,
       "layout": "IPY_MODEL_d86765c4ed634ea485a3ab1a500cb9d9",
       "orientation": "vertical",
       "tabbable": null,
       "toolitems": [
        [
         "Home",
         "Reset original view",
         "home",
         "home"
        ],
        [
         "Back",
         "Back to previous view",
         "arrow-left",
         "back"
        ],
        [
         "Forward",
         "Forward to next view",
         "arrow-right",
         "forward"
        ],
        [
         "Pan",
         "Left button pans, Right button zooms\nx/y fixes axis, CTRL fixes aspect",
         "arrows",
         "pan"
        ],
        [
         "Zoom",
         "Zoom to rectangle\nx/y fixes axis",
         "square-o",
         "zoom"
        ],
        [
         "Download",
         "Download plot",
         "floppy-o",
         "save_figure"
        ]
       ],
       "tooltip": null
      }
     },
     "d86765c4ed634ea485a3ab1a500cb9d9": {
      "model_module": "@jupyter-widgets/base",
      "model_module_version": "2.0.0",
      "model_name": "LayoutModel",
      "state": {
       "_model_module": "@jupyter-widgets/base",
       "_model_module_version": "2.0.0",
       "_model_name": "LayoutModel",
       "_view_count": null,
       "_view_module": "@jupyter-widgets/base",
       "_view_module_version": "2.0.0",
       "_view_name": "LayoutView",
       "align_content": null,
       "align_items": null,
       "align_self": null,
       "border_bottom": null,
       "border_left": null,
       "border_right": null,
       "border_top": null,
       "bottom": null,
       "display": null,
       "flex": null,
       "flex_flow": null,
       "grid_area": null,
       "grid_auto_columns": null,
       "grid_auto_flow": null,
       "grid_auto_rows": null,
       "grid_column": null,
       "grid_gap": null,
       "grid_row": null,
       "grid_template_areas": null,
       "grid_template_columns": null,
       "grid_template_rows": null,
       "height": null,
       "justify_content": null,
       "justify_items": null,
       "left": null,
       "margin": null,
       "max_height": null,
       "max_width": null,
       "min_height": null,
       "min_width": null,
       "object_fit": null,
       "object_position": null,
       "order": null,
       "overflow": null,
       "padding": null,
       "right": null,
       "top": null,
       "visibility": null,
       "width": null
      }
     },
     "e5e51a8b659b4601a532ed96a79f872a": {
      "model_module": "@jupyter-widgets/base",
      "model_module_version": "2.0.0",
      "model_name": "LayoutModel",
      "state": {
       "_model_module": "@jupyter-widgets/base",
       "_model_module_version": "2.0.0",
       "_model_name": "LayoutModel",
       "_view_count": null,
       "_view_module": "@jupyter-widgets/base",
       "_view_module_version": "2.0.0",
       "_view_name": "LayoutView",
       "align_content": null,
       "align_items": null,
       "align_self": null,
       "border_bottom": null,
       "border_left": null,
       "border_right": null,
       "border_top": null,
       "bottom": null,
       "display": null,
       "flex": null,
       "flex_flow": null,
       "grid_area": null,
       "grid_auto_columns": null,
       "grid_auto_flow": null,
       "grid_auto_rows": null,
       "grid_column": null,
       "grid_gap": null,
       "grid_row": null,
       "grid_template_areas": null,
       "grid_template_columns": null,
       "grid_template_rows": null,
       "height": null,
       "justify_content": null,
       "justify_items": null,
       "left": null,
       "margin": null,
       "max_height": null,
       "max_width": null,
       "min_height": null,
       "min_width": null,
       "object_fit": null,
       "object_position": null,
       "order": null,
       "overflow": null,
       "padding": null,
       "right": null,
       "top": null,
       "visibility": null,
       "width": null
      }
     }
    },
    "version_major": 2,
    "version_minor": 0
   }
  }
 },
 "nbformat": 4,
 "nbformat_minor": 4
}
