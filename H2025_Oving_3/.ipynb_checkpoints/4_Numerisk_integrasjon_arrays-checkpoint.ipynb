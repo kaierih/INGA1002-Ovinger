{
 "cells": [
  {
   "cell_type": "markdown",
   "id": "7fc1c64f-d75a-4b23-b5ee-bafbadfe1ead",
   "metadata": {
    "deletable": false,
    "editable": false,
    "slideshow": {
     "slide_type": ""
    },
    "tags": []
   },
   "source": [
    "\n",
    "<nav class=\"navbar navbar-default\">\n",
    "  <div class=\"container-fluid\">\n",
    "    <div class=\"navbar-header\" style=\"float: left\">\n",
    "        <a class=\"navbar-brand\" href=\"0_Forside.ipynb\" target=\"_self\"> <h2> &uarr; Tilbake til forsiden</h2></a>\n",
    "    </div>\n",
    "  </div>\n",
    "</nav>"
   ]
  },
  {
   "cell_type": "markdown",
   "id": "36b87e0b-3857-45a7-b4cc-3b266745fda9",
   "metadata": {
    "deletable": false,
    "editable": true,
    "slideshow": {
     "slide_type": ""
    },
    "tags": []
   },
   "source": [
    "# Mer om numerisk integrasjon\n",
    "\n",
    "\n",
    "**Læringsmål:**\n",
    "* Numerisk integrasjon med flere delintevall\n",
    "* Bruk av slicing og `sum`\n",
    "\n",
    "\n",
    "## Numerisk integrasjon med flere delintervall\n",
    "\n",
    "I oppgave $1$ lærte vi om hvordan vi kunne finne en tilnærmet løsning på et bundet integral $\\int_a^b f(x) dx$ ved å forenkle den geometriske formen man effektivt finner arealet til. Med trapesmetoden regnet vi ut arealet av en trapes, og med simpson's metode regnet vi ut arealet under en andregradsfunksjon.\n",
    "\n",
    "Men, å kun forholde seg til én geometrisk form som dekker hele intervallet $x \\in (a, b)$ kan medføre ganske unøyaktige svar. En mer nøyaktig løsning er å dele opp intervallet $x \\in (a, b)$ i $n$ like store *delintervall*, og gjenta arealberegningen for alle de $n$ delintervallene. Uansett hvilken metode vi bruker, vil vi nå ha en *skrittlengde* $h$ som er gitt ved grenseverdiene $a$ og $b$, samt antall delintervall $n$:\n",
    "\n",
    "$$\\Large h = \\frac{b-a}{n} \\tag{4.1}$$\n",
    "\n",
    "Videre definerer vi da en tallrekke $x_i$ som inneholder grensepunktene for de $n$ intervallene. \n",
    "\n",
    "$$\\Large x_k = a + k\\cdot h, \\ \\ \\ k \\in \\{0, 1, 2, \\ldots n\\} \\tag{4.2}$$\n",
    "\n",
    "### Trapesmetoden\n",
    "Resultatet av trapesmetoden med $n$ delintervall vil nå være summen av arealet til $n$ trapeser, hvor alle trapesene har en bredde på $h$. Et eksempel på dette er vist i figuren nedenfor med $n=5$ delintervall.\n",
    "\n",
    "![](figurer/T_5.png)\n",
    "\n",
    "Formelen for det sammensatte arealet blir da:\n",
    "\n",
    "$$\n",
    "\\tag{4.3}\n",
    "\\begin{align}\n",
    "T_n &= \\frac{h}{2} \\cdot \\left(f(x_0) + 2\\cdot f(x_1) + 2\\cdot f(x_2) + \\ldots + 2\\cdot f(x_{n-1}) + f(x_n)\\right) \\\\ \\\\\n",
    "&= \\frac{h}{2} \\cdot \\left( f(x_0) + 2\\cdot \\sum_{k=1}^{n-1} f(x_k) + f(x_n) \\right)\n",
    "\\end{align}\n",
    "$$\n",
    "\n",
    "### Simpson's Metode\n",
    "Simpson's metode derimot er litt mer innviklet. Her må vi håndtere to og to delintervall av gangen, så det er med andre ord ikke mulig å bruke simpson's metode for et oddetall antall delintervall. Resultatet vil være summen av arealet under kurven til $m=\\frac{n}{2}$ ulike andregradsfunksjoner, slik illustrert i figuren nedenfor. \n",
    "\n",
    "![](figurer/S_6.png)\n",
    "\n",
    "\n",
    "Formelen for det sammensatte arealet blir da:\n",
    "\n",
    "$$\n",
    "\\tag{4.4}\n",
    "\\begin{align}\n",
    "S_n &= \\frac{h}{3} \\cdot \\left(f(x_0) + 4\\cdot f(x_1) + 2\\cdot f(x_2) + \\ldots + 2\\cdot f(x_3) + 4\\cdot f(x_{n-1}) + f(x_n)\\right) \\\\ \\\\\n",
    "&= \\frac{h}{3} \\cdot \\left( f(x_0) + 4\\cdot \\sum_{k=0}^{m-1} f(x_{2k+1}) + 2\\cdot \\sum_{k=1}^{m-1} f(x_{2k}) + f(x_n) \\right), \\ \\ \\ \\ \\ m = \\frac{n}{2}\n",
    "\\end{align}\n",
    "$$\n",
    "\n",
    "## Oppgaveintroduksjon\n",
    "\n",
    "I denne oppgaven skal vi ta utgangspunkt i funksjonen $f(x)$ nedenfor, og bruke numeriske metoder til å beregne en tilnærming til det bundne arealet $\\int_a^b f(x) dx$.\n",
    "\n",
    "$$\\large f(x) = 1 + \\frac{x}{2} - \\sin(\\pi \\cdot x)$$\n",
    "\n",
    "Kodecellen nedenfor definerer python-funksjonen vi kaller for å beregne funksjonsverdiene $f(x)$, samt tegner et plott som viser grafen til $f(x)$. (plottet er kun der for å illustrere)"
   ]
  },
  {
   "cell_type": "code",
   "execution_count": null,
   "id": "d0de0228-b280-415b-b44a-299fb8fb3f77",
   "metadata": {
    "autofeedback": {
     "test_code": "ZnJvbSBJUHl0aG9uLmRpc3BsYXkgaW1wb3J0IEhUTUwKCmRlZiBmKHgpOgogICAgeSA9IDIgKyB4LzMgLSBucC5jb3MoeCkKICAgIHJldHVybiB5CgoKSFRNTChmIiIiPGRpdiBjbGFzcyA9ICJhbGVydCBhbGVydC1pbmZvIj4KUmVwbGFjaW5nIGZ1bmN0aW9uIGRlZmluaXRpb24gZih4KSBmb3IgdGVzdGluZyBwdXJwb3Nlcy4gTmV3IGZ1bmN0aW9uIGRlZmluaXRpb246PGJyPgo8YnI+CmRlZiBmKHgpOjxicj4KPGRpdiBzdHlsZT0ibWFyZ2luLWxlZnQ6NDBweCI+cmV0dXJuIDIgKyB4LzMgLSBucC5jb3MoeCk8L2Rpdj48YnI+ClN1YnNlcXVlbnQgdGVzdHMgd2lsbCBmYWlsIGlmIGNvZGUgc29sdXRpb25zIGFyZSBub3QgYmFzZWQgb24gdGhpcyBmdW5jdGlvbi4KPC9kaXY+IiIiKQ=="
    },
    "deletable": false,
    "editable": false,
    "execution": {
     "iopub.execute_input": "2025-09-09T08:29:10.791716Z",
     "iopub.status.busy": "2025-09-09T08:29:10.791058Z",
     "iopub.status.idle": "2025-09-09T08:29:11.579147Z",
     "shell.execute_reply": "2025-09-09T08:29:11.577715Z"
    },
    "nbgrader": {
     "cell_type": "code",
     "checksum": "27c4b94962c3f8fa50bf36254f5ad54e",
     "grade": true,
     "grade_id": "cell-8a706f00fd265766",
     "locked": true,
     "points": 0,
     "schema_version": 3,
     "solution": false,
     "task": false
    }
   },
   "outputs": [],
   "source": [
    "import numpy as np\n",
    "import matplotlib.pyplot as plt\n",
    "\n",
    "def f(x):\n",
    "    y = 1 + x/2 - np.sin(np.pi*x)\n",
    "    return y\n",
    "    \n",
    "x = np.linspace(-1, 7, 201)\n",
    "plt.plot(x, f(x))\n"
   ]
  },
  {
   "cell_type": "markdown",
   "id": "f36b844a-504a-469f-bf15-024ad8574f1f",
   "metadata": {
    "deletable": false
   },
   "source": [
    "## a)\n",
    "\n",
    "Gitt følgende parametre:\n",
    "\n",
    "* $a = 0$\n",
    "* $b = 5$\n",
    "* $n = 20$\n",
    "\n",
    "Beregn skrittlengden $h$, og lag en array `x_i` som representerer tallrekken $x_i$ fra formel $4.2$.\n",
    "\n",
    "_NB! Pass på at du bruker funksjonen `f(x)` slik den er deklarert ovenfor, og unngår å re-deklarere den._"
   ]
  },
  {
   "cell_type": "code",
   "execution_count": null,
   "id": "852b8455-0e10-462e-8c49-7bbbff10523b",
   "metadata": {
    "deletable": false,
    "editable": true,
    "execution": {
     "iopub.execute_input": "2025-09-09T08:29:11.585784Z",
     "iopub.status.busy": "2025-09-09T08:29:11.585334Z",
     "iopub.status.idle": "2025-09-09T08:29:11.591760Z",
     "shell.execute_reply": "2025-09-09T08:29:11.590160Z"
    },
    "nbgrader": {
     "cell_type": "code",
     "checksum": "7e40a9e2b7f9b4188de35203eb05d216",
     "grade": false,
     "grade_id": "cell-0934f2a2076fbb46",
     "locked": false,
     "schema_version": 3,
     "solution": true,
     "task": false
    },
    "slideshow": {
     "slide_type": ""
    },
    "tags": []
   },
   "outputs": [],
   "source": [
    "import numpy as np\n",
    "a = 0\n",
    "b = 5\n",
    "n = 20\n",
    "\n",
    "h = (b-a)/n\n",
    "x_i = np.linspace(a, b, n)"
   ]
  },
  {
   "cell_type": "code",
   "execution_count": null,
   "id": "40ce529d-3084-40b0-b752-362a18fe7a99",
   "metadata": {
    "autofeedback": {
     "test_code": "ZnJvbSBhdXRvZmVlZGJhY2sgaW1wb3J0IFZhcmlhYmxlVGVzdHMKCmRlZiB0ZXN0X3JvdXRpbmUoKToKICAgIGEsIGIsIG4gPSAwLCA1LCAyMAogICAgaF9zb2wgPSAoYi1hKS9uCiAgICB4X2lfc29sID0gbnAubGluc3BhY2UoYSwgYiwgbisxKQoKICAgIHRlc3RfcmVzdWx0cyA9IFZhcmlhYmxlVGVzdHMoKQogICAgdGVzdF9yZXN1bHRzLmNvbXBhcmVfdmFsdWVzKGgsIGhfc29sLCBuYW1lPSJoIiwgcnRvbD0xZS0zKQogICAgdGVzdF9yZXN1bHRzLmNvbXBhcmVfdmFsdWVzKHhfaSwgeF9pX3NvbCwgbmFtZT0ieF9pIiwgcnRvbD0xZS0zKQogICAgCiAgICByZXR1cm4gcm91bmQodGVzdF9yZXN1bHRzLmdldF9yZXN1bHRzKCkqMywgMikKdGVzdF9yb3V0aW5lKCk="
    },
    "deletable": false,
    "editable": false,
    "execution": {
     "iopub.execute_input": "2025-09-09T08:29:11.597875Z",
     "iopub.status.busy": "2025-09-09T08:29:11.597612Z",
     "iopub.status.idle": "2025-09-09T08:29:13.965439Z",
     "shell.execute_reply": "2025-09-09T08:29:13.962718Z"
    },
    "nbgrader": {
     "cell_type": "code",
     "checksum": "cd3f33299aca6639b2bcb913565f7c53",
     "grade": true,
     "grade_id": "cell-c18e1ad0c8c6a2f2",
     "locked": true,
     "points": 3,
     "schema_version": 3,
     "solution": false,
     "task": false
    }
   },
   "outputs": [],
   "source": [
    "# Denne cellen brukes under retting. La Stå!"
   ]
  },
  {
   "cell_type": "markdown",
   "id": "b88b3eb5-0694-49aa-ac19-1ae9be06d4a0",
   "metadata": {
    "deletable": false,
    "editable": true,
    "slideshow": {
     "slide_type": ""
    },
    "tags": []
   },
   "source": [
    "## b)\n",
    "Bruk trapesmetoden slik beskrevet i formel $4.3$ til å finne en tilnærmet verdi til $\\int_a^b f(x) dx$, gitt de samme parametrene som i deloppgave **a)**. Svaret skal lagres i variabelen `T_20`."
   ]
  },
  {
   "cell_type": "code",
   "execution_count": null,
   "id": "3b718fbf-1642-4f41-8649-06c651f6c5c9",
   "metadata": {
    "deletable": false,
    "execution": {
     "iopub.execute_input": "2025-09-09T08:29:13.971417Z",
     "iopub.status.busy": "2025-09-09T08:29:13.970294Z",
     "iopub.status.idle": "2025-09-09T08:29:13.978993Z",
     "shell.execute_reply": "2025-09-09T08:29:13.977085Z"
    },
    "nbgrader": {
     "cell_type": "code",
     "checksum": "53039702b1b463ec8e1e6922eb2ba48b",
     "grade": false,
     "grade_id": "cell-ce15d6874939dadd",
     "locked": false,
     "schema_version": 3,
     "solution": true,
     "task": false
    }
   },
   "outputs": [],
   "source": [
    "T_20 = \"???\"\n",
    "#-------------------------------------\n",
    "# SKRIV DIN KODE HER!\n",
    "#-------------------------------------"
   ]
  },
  {
   "cell_type": "code",
   "execution_count": null,
   "id": "386596dc-fe58-4155-b811-6d1793758946",
   "metadata": {
    "autofeedback": {
     "test_code": "ZnJvbSBhdXRvZmVlZGJhY2sgaW1wb3J0IFZhcmlhYmxlVGVzdHMKCmRlZiB0ZXN0X3JvdXRpbmUoKToKICAgIFRfMjBfc29sID0gMTUuMTIwNTkxMzMzOAoKICAgIHRlc3RfcmVzdWx0cyA9IFZhcmlhYmxlVGVzdHMoKQogICAgdGVzdF9yZXN1bHRzLmNvbXBhcmVfdmFsdWVzKFRfMjAsIFRfMjBfc29sLCBuYW1lPSJUXzIwIiwgcnRvbD0xZS0zKQogICAgCiAgICByZXR1cm4gcm91bmQodGVzdF9yZXN1bHRzLmdldF9yZXN1bHRzKCkqMywgMikKdGVzdF9yb3V0aW5lKCk="
    },
    "deletable": false,
    "editable": false,
    "execution": {
     "iopub.execute_input": "2025-09-09T08:29:13.983953Z",
     "iopub.status.busy": "2025-09-09T08:29:13.983624Z",
     "iopub.status.idle": "2025-09-09T08:29:14.001348Z",
     "shell.execute_reply": "2025-09-09T08:29:13.998791Z"
    },
    "nbgrader": {
     "cell_type": "code",
     "checksum": "c4a06fb63d94d9211bd8c3bff2fcc00c",
     "grade": true,
     "grade_id": "cell-c32f87c5846e5b97",
     "locked": true,
     "points": 3,
     "schema_version": 3,
     "solution": false,
     "task": false
    },
    "slideshow": {
     "slide_type": ""
    },
    "tags": []
   },
   "outputs": [],
   "source": [
    "print(f\"{T_20 = :.3f}\") # Skriv ut resultatet fra trapesmetoden\n",
    "# Denne cellen brukes under retting. La Stå!"
   ]
  },
  {
   "cell_type": "markdown",
   "id": "db850496-8c8a-4240-955b-dbd8016638c9",
   "metadata": {
    "deletable": false,
    "editable": true,
    "slideshow": {
     "slide_type": ""
    },
    "tags": []
   },
   "source": [
    "## c)\n",
    "Bruk simpson's metode slik beskrevet i formel $4.4$ til å finne en tilnærmet verdi til $\\int_a^b f(x) dx$, gitt de samme parametrene som i deloppgave **a)**. Svaret skal lagres i variabelen `S_20`."
   ]
  },
  {
   "cell_type": "code",
   "execution_count": null,
   "id": "8cf75250-5487-4b2f-ae8b-b1726966c7f5",
   "metadata": {
    "deletable": false,
    "execution": {
     "iopub.execute_input": "2025-09-09T08:29:14.006829Z",
     "iopub.status.busy": "2025-09-09T08:29:14.006131Z",
     "iopub.status.idle": "2025-09-09T08:29:14.016030Z",
     "shell.execute_reply": "2025-09-09T08:29:14.014120Z"
    },
    "nbgrader": {
     "cell_type": "code",
     "checksum": "d90af02a6f990ff5066b6082714580c6",
     "grade": false,
     "grade_id": "cell-058f541d64128273",
     "locked": false,
     "schema_version": 3,
     "solution": true,
     "task": false
    }
   },
   "outputs": [],
   "source": [
    "S_20 = \"???\"\n",
    "#-------------------------------------\n",
    "# SKRIV DIN KODE HER!\n",
    "#-------------------------------------"
   ]
  },
  {
   "cell_type": "code",
   "execution_count": null,
   "id": "d10e9926-70ed-4714-bb3f-4124f7694071",
   "metadata": {
    "autofeedback": {
     "test_code": "ZnJvbSBhdXRvZmVlZGJhY2sgaW1wb3J0IFZhcmlhYmxlVGVzdHMKCmRlZiB0ZXN0X3JvdXRpbmUoKToKICAgIFNfMjBfc29sID0gMTUuMTI1NjExOTA3MgoKICAgIHRlc3RfcmVzdWx0cyA9IFZhcmlhYmxlVGVzdHMoKQogICAgdGVzdF9yZXN1bHRzLmNvbXBhcmVfdmFsdWVzKFNfMjAsIFNfMjBfc29sLCBuYW1lPSJTXzIwIiwgcnRvbD0xZS0zKQogICAgCiAgICByZXR1cm4gcm91bmQodGVzdF9yZXN1bHRzLmdldF9yZXN1bHRzKCkqNCwgMikKdGVzdF9yb3V0aW5lKCk="
    },
    "deletable": false,
    "editable": false,
    "execution": {
     "iopub.execute_input": "2025-09-09T08:29:14.022804Z",
     "iopub.status.busy": "2025-09-09T08:29:14.022132Z",
     "iopub.status.idle": "2025-09-09T08:29:14.042796Z",
     "shell.execute_reply": "2025-09-09T08:29:14.040277Z"
    },
    "nbgrader": {
     "cell_type": "code",
     "checksum": "4ee75d60ba2e9e0ae064da9511ad618a",
     "grade": true,
     "grade_id": "cell-df5eee22b96efd92",
     "locked": true,
     "points": 4,
     "schema_version": 3,
     "solution": false,
     "task": false
    },
    "slideshow": {
     "slide_type": ""
    },
    "tags": []
   },
   "outputs": [],
   "source": [
    "print(f\"{S_20 = :.3f}\") # Skriv ut resultatet fra simpson's metode\n",
    "# Denne cellen brukes under retting. La Stå!"
   ]
  },
  {
   "cell_type": "markdown",
   "id": "02aa51ba-2829-499f-9a05-42e2abef816e",
   "metadata": {
    "deletable": false,
    "editable": false,
    "slideshow": {
     "slide_type": ""
    },
    "tags": []
   },
   "source": [
    "<br>\n",
    "<nav class=\"navbar navbar-default\">\n",
    "    <div class=\"container-fluid\">\n",
    "        <div class=\"navbar-header\" style=\"float: left\">\n",
    "            <a class=\"navbar-brand\" href=\"3_Array_sum.ipynb\" target=\"_self\">&lt; Forrige side: <i>rekkesum med numpy</i></a>\n",
    "            </div>\n",
    "        <div class=\"navbar-header\" style=\"float: right\">\n",
    "            <a class=\"navbar-brand\" href=\"5_Beregn_pi.ipynb\" target=\"_self\">Neste side: <i>rekkesum med numpy</i> &gt;</a>\n",
    "        </div>\n",
    "    </div>\n",
    "</nav>"
   ]
  }
 ],
 "metadata": {
  "kernelspec": {
   "display_name": "Python 3 (ipykernel)",
   "language": "python",
   "name": "python3"
  },
  "language_info": {
   "codemirror_mode": {
    "name": "ipython",
    "version": 3
   },
   "file_extension": ".py",
   "mimetype": "text/x-python",
   "name": "python",
   "nbconvert_exporter": "python",
   "pygments_lexer": "ipython3",
   "version": "3.12.11"
  }
 },
 "nbformat": 4,
 "nbformat_minor": 5
}
