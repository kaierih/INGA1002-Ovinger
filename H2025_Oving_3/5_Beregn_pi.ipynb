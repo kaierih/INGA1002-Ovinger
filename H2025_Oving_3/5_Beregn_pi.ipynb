{
 "cells": [
  {
   "cell_type": "markdown",
   "id": "a846c5c5-00dc-463b-84b9-1f177d79b7fb",
   "metadata": {
    "deletable": false,
    "editable": false,
    "slideshow": {
     "slide_type": ""
    },
    "tags": []
   },
   "source": [
    "\n",
    "<nav class=\"navbar navbar-default\">\n",
    "  <div class=\"container-fluid\">\n",
    "    <div class=\"navbar-header\" style=\"float: left\">\n",
    "        <a class=\"navbar-brand\" href=\"0_Forside.ipynb\" target=\"_self\"> <h2> &uarr; Tilbake til forsiden</h2></a>\n",
    "    </div>\n",
    "  </div>\n",
    "</nav>"
   ]
  },
  {
   "cell_type": "markdown",
   "id": "72cb79a6-fd17-4919-9623-3874c2af7ff4",
   "metadata": {
    "deletable": false,
    "editable": true,
    "slideshow": {
     "slide_type": ""
    },
    "tags": []
   },
   "source": [
    "# Numerisk beregning av $\\pi$\n",
    "\n",
    "**Læringsmål:**\n",
    "* Erfare anvendelse av numerisk integrasjon på en håndfast problemstilling\n",
    "\n",
    "### Introduksjon\n",
    "\n",
    "Ett av de eldste matteproblemene som har blitt arbeidet med gjennom tidene er å finne en nøyaktig verdi for Pi ($\\pi$). Det finnes [flere ulike måter](https://en.wikipedia.org/wiki/Approximations_of_%CF%80) å regne seg frem til $\\pi$ på, men i denne oppgaven skal vi benytte numerisk integrasjon for å prøve å finne en tilnærmet verdi for $\\pi$.\n",
    "\n",
    "$\\pi$ er altså definert som forholdet mellom omkretsen til en sirkel og dets diameter, men den har også en tett knytning til areal slik at en enhetssirkel med radius $r=1$ vil ha et areal lik $A=\\pi$. Fra matematikken vet vi at en sirkel kan beskrives algebraisk med formelen $r^2 = x^2 + y^2$, noe vi kan omskrive til $y=\\sqrt{r^2-x^2}$. Setter vi radiusen til $r=1$, og tegner kurven til funksjonen $f(x) = \\sqrt{1-x^2}$ får vi altså en halvsirkel med radius $r=1$. Arealet til halvsirkelen vil altså være lik $\\frac{\\pi}{2}$, noe som betyr at vi kan regne oss frem til en verdi av $\\pi$ om vi kan løse det bundne integralet $\\int_{-1}^{1} f(x) dx$. Med andre ord blir vår formelen for $\\pi$:\n",
    "\n",
    "\n",
    "$$\\Large \\pi = 2 \\cdot \\int_{-1}^{1} \\sqrt{1-x^2} dx \\tag{5.1}$$\n",
    "\n",
    "\n",
    "Dette er illustrert i figuren nedenfor:\n",
    "\n",
    "![](figurer/circle_func.svg)\n"
   ]
  },
  {
   "cell_type": "markdown",
   "id": "94dd4d92-1d8e-49e8-8753-46e32ad7f407",
   "metadata": {
    "deletable": false,
    "editable": true,
    "slideshow": {
     "slide_type": ""
    },
    "tags": []
   },
   "source": [
    "Kodecellen nedenfor definerer funksjonen `sirkel(x)` som vil følger kurven til en halvsirkel med radius $r=1$ så lenge `x` er i intervallet $x \\in [-1, 1]$ (verdier av `x` utenfor dette intervallet vil gi ugyldig tallsvar)"
   ]
  },
  {
   "cell_type": "code",
   "execution_count": null,
   "id": "bc58126c-1875-4a15-98b4-794971f21ee7",
   "metadata": {
    "deletable": false,
    "execution": {
     "iopub.execute_input": "2025-09-09T08:29:17.592492Z",
     "iopub.status.busy": "2025-09-09T08:29:17.591818Z",
     "iopub.status.idle": "2025-09-09T08:29:17.834933Z",
     "shell.execute_reply": "2025-09-09T08:29:17.832484Z"
    }
   },
   "outputs": [],
   "source": [
    "import numpy as np\n",
    "def sirkel(x):\n",
    "    y = np.sqrt(1-x**2)\n",
    "    return y"
   ]
  },
  {
   "cell_type": "markdown",
   "id": "b5c1702e-c112-4d4b-892b-37f58a5c7fde",
   "metadata": {
    "deletable": false,
    "editable": true,
    "slideshow": {
     "slide_type": ""
    },
    "tags": []
   },
   "source": [
    "## a)\n",
    "\n",
    "Finn tilnærmet verdi for $\\pi$ ved å finne en tilnærmet løsning til integralet $\\int_{-1}^{1}\\sqrt{1-x^2}dx$ med simpsons metode, gitt at vi bruker $n=100$ delintervall."
   ]
  },
  {
   "cell_type": "code",
   "execution_count": null,
   "id": "547a66a1-c4ba-4769-8034-c2eff2a3ced0",
   "metadata": {
    "deletable": false,
    "execution": {
     "iopub.execute_input": "2025-09-09T08:29:17.840902Z",
     "iopub.status.busy": "2025-09-09T08:29:17.840527Z",
     "iopub.status.idle": "2025-09-09T08:29:17.848172Z",
     "shell.execute_reply": "2025-09-09T08:29:17.846438Z"
    },
    "nbgrader": {
     "cell_type": "code",
     "checksum": "e989107a4da665d95a4fcb041a97c445",
     "grade": false,
     "grade_id": "cell-2d65ca0979e90bdf",
     "locked": false,
     "schema_version": 3,
     "solution": true,
     "task": false
    }
   },
   "outputs": [],
   "source": [
    "n = 100 # Antall delintervall\n",
    "\n",
    "pi_n = \"???\" # Den beregnede tilnærmingen til Pi\n",
    "#-------------------------------------\n",
    "# SKRIV DIN KODE HER!\n",
    "#-------------------------------------"
   ]
  },
  {
   "cell_type": "code",
   "execution_count": null,
   "id": "0f29078a-4a0f-4707-a6ce-488d7cd1488f",
   "metadata": {
    "autofeedback": {
     "test_code": "ZnJvbSBhdXRvZmVlZGJhY2sgaW1wb3J0IFZhcmlhYmxlVGVzdHMKCmFuc3dlcl9jZWxsX2luZGV4ID0gbGVuKEluKS0yCmFuc3dlcl9jZWxsX2NvbnRlbnRzID0gSW5bYW5zd2VyX2NlbGxfaW5kZXhdCgpncmFkaW5nX3Jlc3VsdHMgPSBWYXJpYWJsZVRlc3RzKCkKZ3JhZGluZ19yZXN1bHRzLmNvbXBhcmVfdmFsdWVzKHBpX24sIDMuMTQwMjkyNTc3ODMwMzM0MywgbmFtZT0icGlfbiIsIHJ0b2w9MWUtNSkKcm91bmQoZ3JhZGluZ19yZXN1bHRzLmdldF9yZXN1bHRzKCkqNSwgMik="
    },
    "deletable": false,
    "editable": false,
    "execution": {
     "iopub.execute_input": "2025-09-09T08:29:17.853875Z",
     "iopub.status.busy": "2025-09-09T08:29:17.853543Z",
     "iopub.status.idle": "2025-09-09T08:29:20.655409Z",
     "shell.execute_reply": "2025-09-09T08:29:20.653577Z"
    },
    "nbgrader": {
     "cell_type": "code",
     "checksum": "4a7d11d29157eb8f07318ec69709a4e6",
     "grade": true,
     "grade_id": "cell-bbf995bbc30d5509",
     "locked": true,
     "points": 5,
     "schema_version": 3,
     "solution": false,
     "task": false
    }
   },
   "outputs": [],
   "source": [
    "print(f\"pi_{n} = {pi_n}\")\n",
    "# Denne cellen brukes under retting. La stå!"
   ]
  },
  {
   "cell_type": "markdown",
   "id": "e162fbdd-524f-418e-88af-1523e8a1d096",
   "metadata": {
    "deletable": false
   },
   "source": [
    "## b) \n",
    "Lag nå en funksjon `finn_pi(n)` som tar inn antall delintervall $n$ som argument, og returnerer tilnærming til pi."
   ]
  },
  {
   "cell_type": "code",
   "execution_count": null,
   "id": "9dcc0551-e0a5-4cad-ad7f-05cca1c54283",
   "metadata": {
    "deletable": false,
    "execution": {
     "iopub.execute_input": "2025-09-09T08:29:20.662029Z",
     "iopub.status.busy": "2025-09-09T08:29:20.661446Z",
     "iopub.status.idle": "2025-09-09T08:29:20.698052Z",
     "shell.execute_reply": "2025-09-09T08:29:20.696413Z"
    },
    "nbgrader": {
     "cell_type": "code",
     "checksum": "749116a8a6771ee17b2df8efb718769a",
     "grade": false,
     "grade_id": "cell-e85c764f4e2f8242",
     "locked": false,
     "schema_version": 3,
     "solution": true,
     "task": false
    }
   },
   "outputs": [],
   "source": [
    "def finn_pi(n):\n",
    "    #-------------------------------------\n",
    "    # SKRIV DIN KODE HER!\n",
    "    #-------------------------------------\n",
    "\n",
    "# Forslag til funksjonstest som skriver ut resultatet med 6 desimaler:\n",
    "print(f\"{finn_pi(2**20) - np.pi = :.20f}\")"
   ]
  },
  {
   "cell_type": "code",
   "execution_count": null,
   "id": "b45e2b74-9444-48e4-9680-768d7135f8ce",
   "metadata": {
    "autofeedback": {
     "test_code": "ZGVmIHRlc3Rfcm91dGluZSgpOgogICAgZnJvbSBhdXRvZmVlZGJhY2sgaW1wb3J0IEZ1bmN0aW9uVGVzdHMKICAgIGltcG9ydCBudW1weSBhcyBucAogICAgZnJvbSByYW5kb20gaW1wb3J0IHNhbXBsZSwgcmFuZGludAoKICAgIGRlZiBzaXJrZWwoeCk6CiAgICAgICAgeSA9IG5wLnNxcnQoMS14KioyKQogICAgICAgIHJldHVybiB5CiAgICAKICAgIGRlZiBmaW5uX3BpX3NvbHV0aW9uKG4pOgogICAgICAgIGggPSAyL24KICAgICAgICB4X2kgPSBucC5saW5zcGFjZSgtMSwgMSwgbisxKQogICAgICAgIEkgPSBzaXJrZWwoLTEpICsgc2lya2VsKDEpCiAgICAgICAgSSArPSBucC5zdW0oc2lya2VsKHhfaVsxOi0xOjJdKSo0KQogICAgICAgIEkgKz0gbnAuc3VtKHNpcmtlbCh4X2lbMjotMjoyXSkqMikKICAgICAgICBJICo9IGgvMwogICAgICAgIHJldHVybiAyKkkKCgogICAgZ3JhZGluZ19yZXN1bHRzID0gRnVuY3Rpb25UZXN0cyhmaW5uX3BpX3NvbHV0aW9uLCBydG9sPTFlLTYpCiAgICB0cnk6CiAgICAgICAgZ3JhZGluZ19yZXN1bHRzLmFkZF90ZXN0X2Z1bmMoZmlubl9waSkKICAgIGV4Y2VwdCBFeGNlcHRpb24gYXMgZToKICAgICAgICBncmFkaW5nX3Jlc3VsdHMubG9nLmFwcGVuZCgiQ291bGQgbm90IHJ1biB0ZXN0cywgIitlLmFyZ3NbMF0pCiAgICBlbHNlOgogICAgICAgIE4gPSAzCiAgICAgICAgbl92YWx1ZXMgPSBzYW1wbGUobGlzdChyYW5nZSgyLCA1MCkpLCBOKQogICAgICAgIAogICAgICAgIGZvciBuIGluICBuX3ZhbHVlczoKICAgICAgICAgICAgZ3JhZGluZ19yZXN1bHRzLnRlc3RfcmV0dXJuX3ZhbHVlKG4pCiAgICAgICAgICAgIAogICAgcmV0dXJuIHJvdW5kKGdyYWRpbmdfcmVzdWx0cy5nZXRfcmVzdWx0cygpKjUsIDIpCnRlc3Rfcm91dGluZSgp"
    },
    "deletable": false,
    "editable": false,
    "execution": {
     "iopub.execute_input": "2025-09-09T08:29:20.703609Z",
     "iopub.status.busy": "2025-09-09T08:29:20.703325Z",
     "iopub.status.idle": "2025-09-09T08:29:20.719596Z",
     "shell.execute_reply": "2025-09-09T08:29:20.718348Z"
    },
    "nbgrader": {
     "cell_type": "code",
     "checksum": "c734db715625852c7a5461a3826fe424",
     "grade": true,
     "grade_id": "cell-840ad09316c0e0d9",
     "locked": true,
     "points": 5,
     "schema_version": 3,
     "solution": false,
     "task": false
    },
    "slideshow": {
     "slide_type": ""
    },
    "tags": []
   },
   "outputs": [],
   "source": [
    "# Denne cellen brukes under retting. La stå!"
   ]
  },
  {
   "cell_type": "markdown",
   "id": "b62f2cd3-194c-4bd6-b07e-665550760bbe",
   "metadata": {
    "deletable": false,
    "editable": false,
    "slideshow": {
     "slide_type": ""
    },
    "tags": []
   },
   "source": [
    "<br>\n",
    "<nav class=\"navbar navbar-default\">\n",
    "    <div class=\"container-fluid\">\n",
    "        <div class=\"navbar-header\" style=\"float: left\">\n",
    "            <a class=\"navbar-brand\" href=\"4_Numerisk_integrasjon_arrays.ipynb\" target=\"_self\">&lt; Forrige side: <i>mer om numerisk integrasjon</i></a>\n",
    "            </div>\n",
    "        <div class=\"navbar-header\" style=\"float: right\">\n",
    "            <a class=\"navbar-brand\" href=\"6_Mer_lister_strenger.ipynb\" target=\"_self\">Neste side: <i>mer om lister og tekststrenger</i> &gt;</a>\n",
    "        </div>\n",
    "    </div>\n",
    "</nav>"
   ]
  }
 ],
 "metadata": {
  "kernelspec": {
   "display_name": "Python 3 (ipykernel)",
   "language": "python",
   "name": "python3"
  },
  "language_info": {
   "codemirror_mode": {
    "name": "ipython",
    "version": 3
   },
   "file_extension": ".py",
   "mimetype": "text/x-python",
   "name": "python",
   "nbconvert_exporter": "python",
   "pygments_lexer": "ipython3",
   "version": "3.12.11"
  }
 },
 "nbformat": 4,
 "nbformat_minor": 5
}
